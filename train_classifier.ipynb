{
 "cells": [
  {
   "cell_type": "code",
   "execution_count": 1,
   "metadata": {},
   "outputs": [],
   "source": [
    "import pandas as pd\n",
    "import numpy as np"
   ]
  },
  {
   "cell_type": "code",
   "execution_count": 2,
   "metadata": {},
   "outputs": [],
   "source": [
    "from category_encoders import OneHotEncoder\n",
    "from sklearn.preprocessing import StandardScaler"
   ]
  },
  {
   "cell_type": "code",
   "execution_count": 3,
   "metadata": {},
   "outputs": [],
   "source": [
    "data = pd.read_csv('../KivaLoans_data/model_data.csv')"
   ]
  },
  {
   "cell_type": "code",
   "execution_count": 4,
   "metadata": {},
   "outputs": [
    {
     "name": "stdout",
     "output_type": "stream",
     "text": [
      "<class 'pandas.core.frame.DataFrame'>\n",
      "RangeIndex: 671205 entries, 0 to 671204\n",
      "Data columns (total 19 columns):\n",
      " #   Column                Non-Null Count   Dtype  \n",
      "---  ------                --------------   -----  \n",
      " 0   Unnamed: 0            671205 non-null  int64  \n",
      " 1   loan_amount           671205 non-null  float64\n",
      " 2   activity              671205 non-null  object \n",
      " 3   sector                671205 non-null  object \n",
      " 4   country               671205 non-null  object \n",
      " 5   currency              671205 non-null  object \n",
      " 6   term_in_months        671205 non-null  float64\n",
      " 7   lender_count          671205 non-null  float64\n",
      " 8   repayment_interval    671205 non-null  object \n",
      " 9   time_til_funded_mins  671205 non-null  int64  \n",
      " 10  loan_funded           671205 non-null  int64  \n",
      " 11  partner_on_loan       671205 non-null  int64  \n",
      " 12  posted_hour           671205 non-null  int64  \n",
      " 13  posted_day            671205 non-null  object \n",
      " 14  num_of_borrowers      671205 non-null  int64  \n",
      " 15  female_pct            671205 non-null  float64\n",
      " 16  words_in_use          671205 non-null  int64  \n",
      " 17  num_of_tags           671205 non-null  int64  \n",
      " 18  pct_funded            671205 non-null  float64\n",
      "dtypes: float64(5), int64(8), object(6)\n",
      "memory usage: 97.3+ MB\n"
     ]
    }
   ],
   "source": [
    "data.info()"
   ]
  },
  {
   "cell_type": "code",
   "execution_count": 5,
   "metadata": {},
   "outputs": [],
   "source": [
    "orig_index = data.iloc[:, 0]"
   ]
  },
  {
   "cell_type": "code",
   "execution_count": 6,
   "metadata": {},
   "outputs": [
    {
     "name": "stdout",
     "output_type": "stream",
     "text": [
      "<class 'pandas.core.frame.DataFrame'>\n",
      "RangeIndex: 671205 entries, 0 to 671204\n",
      "Data columns (total 18 columns):\n",
      " #   Column                Non-Null Count   Dtype  \n",
      "---  ------                --------------   -----  \n",
      " 0   loan_amount           671205 non-null  float64\n",
      " 1   activity              671205 non-null  object \n",
      " 2   sector                671205 non-null  object \n",
      " 3   country               671205 non-null  object \n",
      " 4   currency              671205 non-null  object \n",
      " 5   term_in_months        671205 non-null  float64\n",
      " 6   lender_count          671205 non-null  float64\n",
      " 7   repayment_interval    671205 non-null  object \n",
      " 8   time_til_funded_mins  671205 non-null  int64  \n",
      " 9   loan_funded           671205 non-null  int64  \n",
      " 10  partner_on_loan       671205 non-null  int64  \n",
      " 11  posted_hour           671205 non-null  int64  \n",
      " 12  posted_day            671205 non-null  object \n",
      " 13  num_of_borrowers      671205 non-null  int64  \n",
      " 14  female_pct            671205 non-null  float64\n",
      " 15  words_in_use          671205 non-null  int64  \n",
      " 16  num_of_tags           671205 non-null  int64  \n",
      " 17  pct_funded            671205 non-null  float64\n",
      "dtypes: float64(5), int64(7), object(6)\n",
      "memory usage: 92.2+ MB\n"
     ]
    }
   ],
   "source": [
    "X = data.iloc[:, 1:].copy()\n",
    "X.info()"
   ]
  },
  {
   "cell_type": "code",
   "execution_count": 7,
   "metadata": {},
   "outputs": [],
   "source": [
    "class_target = X['loan_funded'].copy()"
   ]
  },
  {
   "cell_type": "code",
   "execution_count": 8,
   "metadata": {},
   "outputs": [],
   "source": [
    "non_funded_target = X['pct_funded'].copy()"
   ]
  },
  {
   "cell_type": "code",
   "execution_count": 9,
   "metadata": {},
   "outputs": [],
   "source": [
    "funded_target = X['time_til_funded_mins'].copy()"
   ]
  },
  {
   "cell_type": "code",
   "execution_count": 10,
   "metadata": {},
   "outputs": [],
   "source": [
    "X.drop(['loan_funded', 'pct_funded', 'time_til_funded_mins'], axis=1, inplace=True)"
   ]
  },
  {
   "cell_type": "code",
   "execution_count": 21,
   "metadata": {},
   "outputs": [],
   "source": [
    "X.to_csv('../KivaLoans_data/X_matrix.csv')"
   ]
  },
  {
   "cell_type": "code",
   "execution_count": 23,
   "metadata": {},
   "outputs": [],
   "source": [
    "y_mat = pd.concat([class_target, non_funded_target, funded_target], axis=1)\n",
    "y_mat.to_csv('../KivaLoans_data/y_matrix.csv')"
   ]
  },
  {
   "cell_type": "code",
   "execution_count": 12,
   "metadata": {},
   "outputs": [
    {
     "name": "stdout",
     "output_type": "stream",
     "text": [
      "<class 'pandas.core.frame.DataFrame'>\n",
      "RangeIndex: 671205 entries, 0 to 671204\n",
      "Data columns (total 15 columns):\n",
      " #   Column              Non-Null Count   Dtype  \n",
      "---  ------              --------------   -----  \n",
      " 0   loan_amount         671205 non-null  float64\n",
      " 1   activity            671205 non-null  object \n",
      " 2   sector              671205 non-null  object \n",
      " 3   country             671205 non-null  object \n",
      " 4   currency            671205 non-null  object \n",
      " 5   term_in_months      671205 non-null  float64\n",
      " 6   lender_count        671205 non-null  float64\n",
      " 7   repayment_interval  671205 non-null  object \n",
      " 8   partner_on_loan     671205 non-null  int64  \n",
      " 9   posted_hour         671205 non-null  int64  \n",
      " 10  posted_day          671205 non-null  object \n",
      " 11  num_of_borrowers    671205 non-null  int64  \n",
      " 12  female_pct          671205 non-null  float64\n",
      " 13  words_in_use        671205 non-null  int64  \n",
      " 14  num_of_tags         671205 non-null  int64  \n",
      "dtypes: float64(4), int64(5), object(6)\n",
      "memory usage: 76.8+ MB\n"
     ]
    }
   ],
   "source": [
    "X.info()"
   ]
  },
  {
   "cell_type": "code",
   "execution_count": 13,
   "metadata": {},
   "outputs": [],
   "source": [
    "from sklearn.model_selection import train_test_split\n",
    "\n",
    "X_train, X_test, y_train, y_test = train_test_split(X, class_target, test_size=0.3)"
   ]
  },
  {
   "cell_type": "code",
   "execution_count": 14,
   "metadata": {},
   "outputs": [
    {
     "data": {
      "text/plain": [
       "(469843, 15)"
      ]
     },
     "execution_count": 14,
     "metadata": {},
     "output_type": "execute_result"
    }
   ],
   "source": [
    "X_train.shape"
   ]
  },
  {
   "cell_type": "code",
   "execution_count": 16,
   "metadata": {},
   "outputs": [],
   "source": [
    "import xgboost as xgb\n",
    "\n",
    "xgb1 = xgb.XGBClassifier()"
   ]
  },
  {
   "cell_type": "code",
   "execution_count": 17,
   "metadata": {},
   "outputs": [],
   "source": [
    "from utils import fit_xgbmodel"
   ]
  },
  {
   "cell_type": "code",
   "execution_count": 18,
   "metadata": {},
   "outputs": [],
   "source": [
    "from sklearn.pipeline import Pipeline\n",
    "ohe = OneHotEncoder()\n",
    "X_train = ohe.fit_transform(X_train)\n",
    "X_test =ohe.transform(X_test)"
   ]
  },
  {
   "cell_type": "code",
   "execution_count": 20,
   "metadata": {},
   "outputs": [
    {
     "name": "stderr",
     "output_type": "stream",
     "text": [
      "ERROR:root:Internal Python error in the inspect module.\n",
      "Below is the traceback from this internal error.\n",
      "\n"
     ]
    },
    {
     "name": "stdout",
     "output_type": "stream",
     "text": [
      "Traceback (most recent call last):\n",
      "  File \"C:\\Anaconda3\\lib\\site-packages\\IPython\\core\\interactiveshell.py\", line 3331, in run_code\n",
      "    exec(code_obj, self.user_global_ns, self.user_ns)\n",
      "  File \"<ipython-input-20-da9bcdb3961a>\", line 1, in <module>\n",
      "    fit_xgbmodel(xgb1, X_train, y_train, X_test, y_test)\n",
      "  File \"C:\\Users\\afs95\\MyPython\\KivaLoans\\utils.py\", line 16, in fit_xgbmodel\n",
      "    cvresult = xgb.cv(xgb_params, xgtrain, num_boost_round=model.get_params()['n_estimators'], metrics=scoring, early_stopping_rounds=early_stopping_rounds)\n",
      "  File \"C:\\Anaconda3\\lib\\site-packages\\xgboost\\training.py\", line 445, in cv\n",
      "    fold.update(i, obj)\n",
      "  File \"C:\\Anaconda3\\lib\\site-packages\\xgboost\\training.py\", line 230, in update\n",
      "    self.bst.update(self.dtrain, iteration, fobj)\n",
      "  File \"C:\\Anaconda3\\lib\\site-packages\\xgboost\\core.py\", line 1109, in update\n",
      "    dtrain.handle))\n",
      "KeyboardInterrupt\n",
      "\n",
      "During handling of the above exception, another exception occurred:\n",
      "\n",
      "Traceback (most recent call last):\n",
      "  File \"C:\\Anaconda3\\lib\\site-packages\\IPython\\core\\interactiveshell.py\", line 2044, in showtraceback\n",
      "    stb = value._render_traceback_()\n",
      "AttributeError: 'KeyboardInterrupt' object has no attribute '_render_traceback_'\n",
      "\n",
      "During handling of the above exception, another exception occurred:\n",
      "\n",
      "Traceback (most recent call last):\n",
      "  File \"C:\\Anaconda3\\lib\\site-packages\\IPython\\core\\ultratb.py\", line 1151, in get_records\n",
      "    return _fixed_getinnerframes(etb, number_of_lines_of_context, tb_offset)\n",
      "  File \"C:\\Anaconda3\\lib\\site-packages\\IPython\\core\\ultratb.py\", line 319, in wrapped\n",
      "    return f(*args, **kwargs)\n",
      "  File \"C:\\Anaconda3\\lib\\site-packages\\IPython\\core\\ultratb.py\", line 353, in _fixed_getinnerframes\n",
      "    records = fix_frame_records_filenames(inspect.getinnerframes(etb, context))\n",
      "  File \"C:\\Anaconda3\\lib\\inspect.py\", line 1483, in getinnerframes\n",
      "    frameinfo = (tb.tb_frame,) + getframeinfo(tb, context)\n",
      "  File \"C:\\Anaconda3\\lib\\inspect.py\", line 1441, in getframeinfo\n",
      "    filename = getsourcefile(frame) or getfile(frame)\n",
      "  File \"C:\\Anaconda3\\lib\\inspect.py\", line 696, in getsourcefile\n",
      "    if getattr(getmodule(object, filename), '__loader__', None) is not None:\n",
      "  File \"C:\\Anaconda3\\lib\\inspect.py\", line 739, in getmodule\n",
      "    f = getabsfile(module)\n",
      "  File \"C:\\Anaconda3\\lib\\inspect.py\", line 708, in getabsfile\n",
      "    _filename = getsourcefile(object) or getfile(object)\n",
      "  File \"C:\\Anaconda3\\lib\\inspect.py\", line 693, in getsourcefile\n",
      "    if os.path.exists(filename):\n",
      "  File \"C:\\Anaconda3\\lib\\genericpath.py\", line 19, in exists\n",
      "    os.stat(path)\n",
      "KeyboardInterrupt\n"
     ]
    },
    {
     "ename": "KeyboardInterrupt",
     "evalue": "",
     "output_type": "error",
     "traceback": [
      "\u001b[1;31m---------------------------------------------------------------------------\u001b[0m"
     ]
    }
   ],
   "source": [
    "# fit_xgbmodel(xgb1, X_train, y_train, X_test, y_test)"
   ]
  },
  {
   "cell_type": "code",
   "execution_count": null,
   "metadata": {},
   "outputs": [],
   "source": []
  },
  {
   "cell_type": "code",
   "execution_count": null,
   "metadata": {},
   "outputs": [],
   "source": []
  }
 ],
 "metadata": {
  "kernelspec": {
   "display_name": "Python 3",
   "language": "python",
   "name": "python3"
  },
  "language_info": {
   "codemirror_mode": {
    "name": "ipython",
    "version": 3
   },
   "file_extension": ".py",
   "mimetype": "text/x-python",
   "name": "python",
   "nbconvert_exporter": "python",
   "pygments_lexer": "ipython3",
   "version": "3.6.5"
  }
 },
 "nbformat": 4,
 "nbformat_minor": 4
}
