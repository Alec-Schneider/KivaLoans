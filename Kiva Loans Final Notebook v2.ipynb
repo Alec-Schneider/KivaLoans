{
 "cells": [
  {
   "cell_type": "markdown",
   "metadata": {},
   "source": [
    "## This notebook uses the Kiva data set which is part of the \"Data Science for Good: Kiva Crowdfunding\" Kaggle competition which can be found here: https://www.kaggle.com/kiva/data-science-for-good-kiva-crowdfunding.\n",
    "### Authors: Aoife Duna (https://github.com/aoifeduna) and Alec Schneider (https://github.com/Alec-Schneider)\n",
    "### General Assembly Data Science 1-21-2020\n",
    "\n",
    "### Using three different models, we attempt to predict:\n",
    "1. Whether or not the loan was fully funded\n",
    "2. If the loan was fully funded, how quickly it was funded\n",
    "    - We will use this model for all loans that are predicted to be fully funded\n",
    "3. If the loan was not fully funded, what percentage of the loan was funded\n",
    "    - If the loan is not fully funded, we will try to predict what percent of the loan will get funded\n",
    "\n",
    "### Columns in the Kiva Loan dataset\n",
    "- id: Unique ID for loan\n",
    "- funded_amount: The amount disbursed by Kiva to the field agent(USD)\n",
    "- loan_amount: The amount disbursed by the field agent to the borrower(USD)\n",
    "- activity: More granular category\n",
    "- sector: High level category\n",
    "- use: Exact usage of loan amount\n",
    "- country_code: ISO country code of country in which loan was disbursed\n",
    "- country: Full country name of country in which loan was disbursed\n",
    "- region: Full region name within the country\n",
    "- currency: The currency in which the loan was disbursed\n",
    "- partner_id: ID of partner organization\n",
    "- posted_time: The time at which the loan is posted on Kiva by the field agent\n",
    "- disbursed_time: The time at which the loan is disbursed by the field agent to the borrower\n",
    "- funded_time: The time at which the loan posted to Kiva gets funded by lenders completely\n",
    "- term_in_months: The duration for which the loan was disbursed in months\n",
    "- lender_count: The total number of lenders that contributed to this loan\n",
    "- tags: Hashtags added to the funding request\n",
    "- borrower_genders: Comma separated M,F letters, where each instance represents a single male/female in the group\n",
    "- repayment_interval: Interval at which the loan is expected to be repayed\n",
    "- date"
   ]
  },
  {
   "cell_type": "code",
   "execution_count": 89,
   "metadata": {},
   "outputs": [],
   "source": [
    "import pandas as pd\n",
    "import numpy as np"
   ]
  },
  {
   "cell_type": "code",
   "execution_count": 90,
   "metadata": {},
   "outputs": [],
   "source": [
    "kiva = pd.read_csv('/Users/aoifeduna/AoifeRepo/kiva_loans.csv')"
   ]
  },
  {
   "cell_type": "code",
   "execution_count": 91,
   "metadata": {},
   "outputs": [
    {
     "data": {
      "text/html": [
       "<div>\n",
       "<style scoped>\n",
       "    .dataframe tbody tr th:only-of-type {\n",
       "        vertical-align: middle;\n",
       "    }\n",
       "\n",
       "    .dataframe tbody tr th {\n",
       "        vertical-align: top;\n",
       "    }\n",
       "\n",
       "    .dataframe thead th {\n",
       "        text-align: right;\n",
       "    }\n",
       "</style>\n",
       "<table border=\"1\" class=\"dataframe\">\n",
       "  <thead>\n",
       "    <tr style=\"text-align: right;\">\n",
       "      <th></th>\n",
       "      <th>id</th>\n",
       "      <th>funded_amount</th>\n",
       "      <th>loan_amount</th>\n",
       "      <th>activity</th>\n",
       "      <th>sector</th>\n",
       "      <th>use</th>\n",
       "      <th>country_code</th>\n",
       "      <th>country</th>\n",
       "      <th>region</th>\n",
       "      <th>currency</th>\n",
       "      <th>partner_id</th>\n",
       "      <th>posted_time</th>\n",
       "      <th>disbursed_time</th>\n",
       "      <th>funded_time</th>\n",
       "      <th>term_in_months</th>\n",
       "      <th>lender_count</th>\n",
       "      <th>tags</th>\n",
       "      <th>borrower_genders</th>\n",
       "      <th>repayment_interval</th>\n",
       "      <th>date</th>\n",
       "    </tr>\n",
       "  </thead>\n",
       "  <tbody>\n",
       "    <tr>\n",
       "      <td>0</td>\n",
       "      <td>653051</td>\n",
       "      <td>300.0</td>\n",
       "      <td>300.0</td>\n",
       "      <td>Fruits &amp; Vegetables</td>\n",
       "      <td>Food</td>\n",
       "      <td>To buy seasonal, fresh fruits to sell.</td>\n",
       "      <td>PK</td>\n",
       "      <td>Pakistan</td>\n",
       "      <td>Lahore</td>\n",
       "      <td>PKR</td>\n",
       "      <td>247.0</td>\n",
       "      <td>2014-01-01 06:12:39+00:00</td>\n",
       "      <td>2013-12-17 08:00:00+00:00</td>\n",
       "      <td>2014-01-02 10:06:32+00:00</td>\n",
       "      <td>12.0</td>\n",
       "      <td>12</td>\n",
       "      <td>NaN</td>\n",
       "      <td>female</td>\n",
       "      <td>irregular</td>\n",
       "      <td>2014-01-01</td>\n",
       "    </tr>\n",
       "    <tr>\n",
       "      <td>1</td>\n",
       "      <td>653053</td>\n",
       "      <td>575.0</td>\n",
       "      <td>575.0</td>\n",
       "      <td>Rickshaw</td>\n",
       "      <td>Transportation</td>\n",
       "      <td>to repair and maintain the auto rickshaw used ...</td>\n",
       "      <td>PK</td>\n",
       "      <td>Pakistan</td>\n",
       "      <td>Lahore</td>\n",
       "      <td>PKR</td>\n",
       "      <td>247.0</td>\n",
       "      <td>2014-01-01 06:51:08+00:00</td>\n",
       "      <td>2013-12-17 08:00:00+00:00</td>\n",
       "      <td>2014-01-02 09:17:23+00:00</td>\n",
       "      <td>11.0</td>\n",
       "      <td>14</td>\n",
       "      <td>NaN</td>\n",
       "      <td>female, female</td>\n",
       "      <td>irregular</td>\n",
       "      <td>2014-01-01</td>\n",
       "    </tr>\n",
       "    <tr>\n",
       "      <td>2</td>\n",
       "      <td>653068</td>\n",
       "      <td>150.0</td>\n",
       "      <td>150.0</td>\n",
       "      <td>Transportation</td>\n",
       "      <td>Transportation</td>\n",
       "      <td>To repair their old cycle-van and buy another ...</td>\n",
       "      <td>IN</td>\n",
       "      <td>India</td>\n",
       "      <td>Maynaguri</td>\n",
       "      <td>INR</td>\n",
       "      <td>334.0</td>\n",
       "      <td>2014-01-01 09:58:07+00:00</td>\n",
       "      <td>2013-12-17 08:00:00+00:00</td>\n",
       "      <td>2014-01-01 16:01:36+00:00</td>\n",
       "      <td>43.0</td>\n",
       "      <td>6</td>\n",
       "      <td>user_favorite, user_favorite</td>\n",
       "      <td>female</td>\n",
       "      <td>bullet</td>\n",
       "      <td>2014-01-01</td>\n",
       "    </tr>\n",
       "    <tr>\n",
       "      <td>3</td>\n",
       "      <td>653063</td>\n",
       "      <td>200.0</td>\n",
       "      <td>200.0</td>\n",
       "      <td>Embroidery</td>\n",
       "      <td>Arts</td>\n",
       "      <td>to purchase an embroidery machine and a variet...</td>\n",
       "      <td>PK</td>\n",
       "      <td>Pakistan</td>\n",
       "      <td>Lahore</td>\n",
       "      <td>PKR</td>\n",
       "      <td>247.0</td>\n",
       "      <td>2014-01-01 08:03:11+00:00</td>\n",
       "      <td>2013-12-24 08:00:00+00:00</td>\n",
       "      <td>2014-01-01 13:00:00+00:00</td>\n",
       "      <td>11.0</td>\n",
       "      <td>8</td>\n",
       "      <td>NaN</td>\n",
       "      <td>female</td>\n",
       "      <td>irregular</td>\n",
       "      <td>2014-01-01</td>\n",
       "    </tr>\n",
       "    <tr>\n",
       "      <td>4</td>\n",
       "      <td>653084</td>\n",
       "      <td>400.0</td>\n",
       "      <td>400.0</td>\n",
       "      <td>Milk Sales</td>\n",
       "      <td>Food</td>\n",
       "      <td>to purchase one buffalo.</td>\n",
       "      <td>PK</td>\n",
       "      <td>Pakistan</td>\n",
       "      <td>Abdul Hakeem</td>\n",
       "      <td>PKR</td>\n",
       "      <td>245.0</td>\n",
       "      <td>2014-01-01 11:53:19+00:00</td>\n",
       "      <td>2013-12-17 08:00:00+00:00</td>\n",
       "      <td>2014-01-01 19:18:51+00:00</td>\n",
       "      <td>14.0</td>\n",
       "      <td>16</td>\n",
       "      <td>NaN</td>\n",
       "      <td>female</td>\n",
       "      <td>monthly</td>\n",
       "      <td>2014-01-01</td>\n",
       "    </tr>\n",
       "  </tbody>\n",
       "</table>\n",
       "</div>"
      ],
      "text/plain": [
       "       id  funded_amount  loan_amount             activity          sector  \\\n",
       "0  653051          300.0        300.0  Fruits & Vegetables            Food   \n",
       "1  653053          575.0        575.0             Rickshaw  Transportation   \n",
       "2  653068          150.0        150.0       Transportation  Transportation   \n",
       "3  653063          200.0        200.0           Embroidery            Arts   \n",
       "4  653084          400.0        400.0           Milk Sales            Food   \n",
       "\n",
       "                                                 use country_code   country  \\\n",
       "0            To buy seasonal, fresh fruits to sell.            PK  Pakistan   \n",
       "1  to repair and maintain the auto rickshaw used ...           PK  Pakistan   \n",
       "2  To repair their old cycle-van and buy another ...           IN     India   \n",
       "3  to purchase an embroidery machine and a variet...           PK  Pakistan   \n",
       "4                           to purchase one buffalo.           PK  Pakistan   \n",
       "\n",
       "         region currency  partner_id                posted_time  \\\n",
       "0        Lahore      PKR       247.0  2014-01-01 06:12:39+00:00   \n",
       "1        Lahore      PKR       247.0  2014-01-01 06:51:08+00:00   \n",
       "2     Maynaguri      INR       334.0  2014-01-01 09:58:07+00:00   \n",
       "3        Lahore      PKR       247.0  2014-01-01 08:03:11+00:00   \n",
       "4  Abdul Hakeem      PKR       245.0  2014-01-01 11:53:19+00:00   \n",
       "\n",
       "              disbursed_time                funded_time  term_in_months  \\\n",
       "0  2013-12-17 08:00:00+00:00  2014-01-02 10:06:32+00:00            12.0   \n",
       "1  2013-12-17 08:00:00+00:00  2014-01-02 09:17:23+00:00            11.0   \n",
       "2  2013-12-17 08:00:00+00:00  2014-01-01 16:01:36+00:00            43.0   \n",
       "3  2013-12-24 08:00:00+00:00  2014-01-01 13:00:00+00:00            11.0   \n",
       "4  2013-12-17 08:00:00+00:00  2014-01-01 19:18:51+00:00            14.0   \n",
       "\n",
       "   lender_count                          tags borrower_genders  \\\n",
       "0            12                           NaN           female   \n",
       "1            14                           NaN   female, female   \n",
       "2             6  user_favorite, user_favorite           female   \n",
       "3             8                           NaN           female   \n",
       "4            16                           NaN           female   \n",
       "\n",
       "  repayment_interval        date  \n",
       "0          irregular  2014-01-01  \n",
       "1          irregular  2014-01-01  \n",
       "2             bullet  2014-01-01  \n",
       "3          irregular  2014-01-01  \n",
       "4            monthly  2014-01-01  "
      ]
     },
     "execution_count": 91,
     "metadata": {},
     "output_type": "execute_result"
    }
   ],
   "source": [
    "kiva.head()"
   ]
  },
  {
   "cell_type": "markdown",
   "metadata": {},
   "source": [
    "## 1. Exploratory Data Analysis\n",
    "#### In this section we change columns to the appropriate data type and engineer new features to create important features out of the original columns"
   ]
  },
  {
   "cell_type": "code",
   "execution_count": 93,
   "metadata": {},
   "outputs": [],
   "source": [
    "# change timestamps that are object types, to datetime variables\n",
    "kiva['funded_time'] = pd.to_datetime(kiva['funded_time'])\n",
    "kiva['posted_time'] = pd.to_datetime(kiva['posted_time'])"
   ]
  },
  {
   "cell_type": "markdown",
   "metadata": {},
   "source": [
    "Let's create one of our target variables, TimetoFundMinutes, so we can model how fast a loan gets funded"
   ]
  },
  {
   "cell_type": "code",
   "execution_count": 95,
   "metadata": {},
   "outputs": [],
   "source": [
    "kiva['TimetoFund'] = kiva['funded_time'] - kiva['posted_time']"
   ]
  },
  {
   "cell_type": "code",
   "execution_count": 1,
   "metadata": {},
   "outputs": [
    {
     "ename": "NameError",
     "evalue": "name 'kiva' is not defined",
     "output_type": "error",
     "traceback": [
      "\u001b[1;31m---------------------------------------------------------------------------\u001b[0m",
      "\u001b[1;31mNameError\u001b[0m                                 Traceback (most recent call last)",
      "\u001b[1;32m<ipython-input-1-5c37bee060ee>\u001b[0m in \u001b[0;36m<module>\u001b[1;34m\u001b[0m\n\u001b[1;32m----> 1\u001b[1;33m \u001b[0mkiva\u001b[0m\u001b[1;33m[\u001b[0m\u001b[1;34m'TimetoFundMinutes'\u001b[0m\u001b[1;33m]\u001b[0m \u001b[1;33m=\u001b[0m \u001b[0mkiva\u001b[0m\u001b[1;33m[\u001b[0m\u001b[1;34m'TimetoFund'\u001b[0m\u001b[1;33m]\u001b[0m \u001b[1;33m/\u001b[0m \u001b[0mnp\u001b[0m\u001b[1;33m.\u001b[0m\u001b[0mtimedelta64\u001b[0m\u001b[1;33m(\u001b[0m\u001b[1;36m1\u001b[0m\u001b[1;33m,\u001b[0m \u001b[1;34m'm'\u001b[0m\u001b[1;33m)\u001b[0m\u001b[1;33m\u001b[0m\u001b[1;33m\u001b[0m\u001b[0m\n\u001b[0m\u001b[0;32m      2\u001b[0m \u001b[0mkiva\u001b[0m\u001b[1;33m[\u001b[0m\u001b[1;34m'TimetoFundMinutes'\u001b[0m\u001b[1;33m]\u001b[0m\u001b[1;33m\u001b[0m\u001b[1;33m\u001b[0m\u001b[0m\n",
      "\u001b[1;31mNameError\u001b[0m: name 'kiva' is not defined"
     ]
    }
   ],
   "source": [
    "kiva['TimetoFundMinutes'] = kiva['TimetoFund'] / np.timedelta64(1, 'm')"
   ]
  },
  {
   "cell_type": "code",
   "execution_count": 2,
   "metadata": {},
   "outputs": [
    {
     "ename": "NameError",
     "evalue": "name 'kiva' is not defined",
     "output_type": "error",
     "traceback": [
      "\u001b[1;31m---------------------------------------------------------------------------\u001b[0m",
      "\u001b[1;31mNameError\u001b[0m                                 Traceback (most recent call last)",
      "\u001b[1;32m<ipython-input-2-804e008e55ff>\u001b[0m in \u001b[0;36m<module>\u001b[1;34m\u001b[0m\n\u001b[1;32m----> 1\u001b[1;33m \u001b[0mkiva\u001b[0m\u001b[1;33m[\u001b[0m\u001b[1;34m'TimetoFundMinutes'\u001b[0m\u001b[1;33m]\u001b[0m\u001b[1;33m.\u001b[0m\u001b[0mfillna\u001b[0m\u001b[1;33m(\u001b[0m\u001b[0mkiva\u001b[0m\u001b[1;33m.\u001b[0m\u001b[0mTimetoFundMinutes\u001b[0m\u001b[1;33m.\u001b[0m\u001b[0mmean\u001b[0m\u001b[1;33m(\u001b[0m\u001b[1;33m)\u001b[0m\u001b[1;33m,\u001b[0m \u001b[0minplace\u001b[0m\u001b[1;33m=\u001b[0m\u001b[1;32mTrue\u001b[0m\u001b[1;33m)\u001b[0m\u001b[1;33m\u001b[0m\u001b[1;33m\u001b[0m\u001b[0m\n\u001b[0m",
      "\u001b[1;31mNameError\u001b[0m: name 'kiva' is not defined"
     ]
    }
   ],
   "source": [
    "kiva['TimetoFundMinutes'].fillna(kiva.TimetoFundMinutes.mean(), inplace=True)"
   ]
  },
  {
   "cell_type": "markdown",
   "metadata": {},
   "source": [
    "Creating target variable LoanFunded to see if the loan reached its full loan_amount"
   ]
  },
  {
   "cell_type": "code",
   "execution_count": 110,
   "metadata": {},
   "outputs": [],
   "source": [
    "kiva['LoanFunded'] = (kiva.funded_amount.values > 0).astype(np.uint8)"
   ]
  },
  {
   "cell_type": "code",
   "execution_count": 111,
   "metadata": {},
   "outputs": [],
   "source": [
    "kiva['LoanFunded'].fillna(0, inplace=True)"
   ]
  },
  {
   "cell_type": "code",
   "execution_count": 108,
   "metadata": {},
   "outputs": [
    {
     "name": "stderr",
     "output_type": "stream",
     "text": [
      "/Users/aoifeduna/opt/anaconda3/lib/python3.7/site-packages/ipykernel_launcher.py:1: RuntimeWarning: invalid value encountered in greater\n",
      "  \"\"\"Entry point for launching an IPython kernel.\n"
     ]
    }
   ],
   "source": [
    "kiva['PartnerPresent'] = (kiva.partner_id.values > 0).astype(np.uint8)"
   ]
  },
  {
   "cell_type": "code",
   "execution_count": 107,
   "metadata": {},
   "outputs": [],
   "source": [
    "kiva['PostedTimeofDay'] = kiva['posted_time'].dt.hour"
   ]
  },
  {
   "cell_type": "code",
   "execution_count": 106,
   "metadata": {},
   "outputs": [],
   "source": [
    "kiva['PostedDayofWeek'] = kiva.posted_time.dt.day_name()"
   ]
  },
  {
   "cell_type": "code",
   "execution_count": 99,
   "metadata": {},
   "outputs": [],
   "source": [
    "# The mode value is a single female; filling these nulls with the mode\n",
    "kiva['borrower_genders'].fillna(\"female\", inplace=True)"
   ]
  },
  {
   "cell_type": "code",
   "execution_count": 100,
   "metadata": {},
   "outputs": [],
   "source": [
    "kiva['NumberofBorrowers'] = kiva['borrower_genders'].str.split().str.len()"
   ]
  },
  {
   "cell_type": "code",
   "execution_count": 101,
   "metadata": {},
   "outputs": [],
   "source": [
    "kiva['NumberofFemaleBorrowers'] = kiva.borrower_genders.str.count(\"female\")"
   ]
  },
  {
   "cell_type": "code",
   "execution_count": 102,
   "metadata": {},
   "outputs": [],
   "source": [
    "kiva['PercentFemaleBorrowers'] = kiva['NumberofFemaleBorrowers'] / kiva['NumberofBorrowers']"
   ]
  },
  {
   "cell_type": "code",
   "execution_count": 105,
   "metadata": {},
   "outputs": [],
   "source": [
    "kiva['CountWordsinDesc'] = kiva['use'].str.split().str.len()"
   ]
  },
  {
   "cell_type": "code",
   "execution_count": 109,
   "metadata": {},
   "outputs": [],
   "source": [
    "kiva['CountWordsinDesc'].fillna(0, inplace=True)"
   ]
  },
  {
   "cell_type": "code",
   "execution_count": 103,
   "metadata": {},
   "outputs": [],
   "source": [
    "kiva['NumberofTags'] = kiva['tags'].str.split().str.len()"
   ]
  },
  {
   "cell_type": "code",
   "execution_count": 104,
   "metadata": {},
   "outputs": [],
   "source": [
    "kiva['NumberofTags'].fillna(0, inplace=True)"
   ]
  },
  {
   "cell_type": "markdown",
   "metadata": {},
   "source": [
    "Our last target variable, PercentFunded, will be used to model how much a loan gets funded if it is not fully funded"
   ]
  },
  {
   "cell_type": "code",
   "execution_count": 97,
   "metadata": {},
   "outputs": [],
   "source": [
    "kiva['PercentFunded'] = kiva['funded_amount'] / kiva['loan_amount']"
   ]
  },
  {
   "cell_type": "markdown",
   "metadata": {},
   "source": [
    "Dropping all of the variables that we decided would cause multicollinearity in our models or were not relevant to the loan data, and the target variables"
   ]
  },
  {
   "cell_type": "code",
   "execution_count": 118,
   "metadata": {},
   "outputs": [],
   "source": [
    "# Creating data sets for us to easily call later\n",
    "X_matrix = kiva.drop(['use','country_code','region', 'currency', 'date', 'TimetoFund', 'tags', \n",
    "               'posted_time', 'disbursed_time', 'funded_time', 'NumberofFemaleBorrowers',\n",
    "               'borrower_genders', 'partner_id', 'TimetoFundMinutes', 'id', 'PercentFunded', 'LoanFunded'], axis=1)\n",
    "# Dropped these because they are either not additive to the data set or are represented elsewhere"
   ]
  },
  {
   "cell_type": "code",
   "execution_count": 120,
   "metadata": {},
   "outputs": [
    {
     "data": {
      "text/html": [
       "<div>\n",
       "<style scoped>\n",
       "    .dataframe tbody tr th:only-of-type {\n",
       "        vertical-align: middle;\n",
       "    }\n",
       "\n",
       "    .dataframe tbody tr th {\n",
       "        vertical-align: top;\n",
       "    }\n",
       "\n",
       "    .dataframe thead th {\n",
       "        text-align: right;\n",
       "    }\n",
       "</style>\n",
       "<table border=\"1\" class=\"dataframe\">\n",
       "  <thead>\n",
       "    <tr style=\"text-align: right;\">\n",
       "      <th></th>\n",
       "      <th>funded_amount</th>\n",
       "      <th>loan_amount</th>\n",
       "      <th>activity</th>\n",
       "      <th>sector</th>\n",
       "      <th>country</th>\n",
       "      <th>term_in_months</th>\n",
       "      <th>lender_count</th>\n",
       "      <th>repayment_interval</th>\n",
       "      <th>NumberofBorrowers</th>\n",
       "      <th>PercentFemaleBorrowers</th>\n",
       "      <th>NumberofTags</th>\n",
       "      <th>CountWordsinDesc</th>\n",
       "      <th>PostedDayofWeek</th>\n",
       "      <th>PostedTimeofDay</th>\n",
       "      <th>PartnerPresent</th>\n",
       "    </tr>\n",
       "  </thead>\n",
       "  <tbody>\n",
       "    <tr>\n",
       "      <td>0</td>\n",
       "      <td>300.0</td>\n",
       "      <td>300.0</td>\n",
       "      <td>Fruits &amp; Vegetables</td>\n",
       "      <td>Food</td>\n",
       "      <td>Pakistan</td>\n",
       "      <td>12.0</td>\n",
       "      <td>12</td>\n",
       "      <td>irregular</td>\n",
       "      <td>1</td>\n",
       "      <td>1.0</td>\n",
       "      <td>0.0</td>\n",
       "      <td>7.0</td>\n",
       "      <td>Wednesday</td>\n",
       "      <td>6</td>\n",
       "      <td>1</td>\n",
       "    </tr>\n",
       "    <tr>\n",
       "      <td>1</td>\n",
       "      <td>575.0</td>\n",
       "      <td>575.0</td>\n",
       "      <td>Rickshaw</td>\n",
       "      <td>Transportation</td>\n",
       "      <td>Pakistan</td>\n",
       "      <td>11.0</td>\n",
       "      <td>14</td>\n",
       "      <td>irregular</td>\n",
       "      <td>2</td>\n",
       "      <td>1.0</td>\n",
       "      <td>0.0</td>\n",
       "      <td>11.0</td>\n",
       "      <td>Wednesday</td>\n",
       "      <td>6</td>\n",
       "      <td>1</td>\n",
       "    </tr>\n",
       "    <tr>\n",
       "      <td>2</td>\n",
       "      <td>150.0</td>\n",
       "      <td>150.0</td>\n",
       "      <td>Transportation</td>\n",
       "      <td>Transportation</td>\n",
       "      <td>India</td>\n",
       "      <td>43.0</td>\n",
       "      <td>6</td>\n",
       "      <td>bullet</td>\n",
       "      <td>1</td>\n",
       "      <td>1.0</td>\n",
       "      <td>2.0</td>\n",
       "      <td>17.0</td>\n",
       "      <td>Wednesday</td>\n",
       "      <td>9</td>\n",
       "      <td>1</td>\n",
       "    </tr>\n",
       "    <tr>\n",
       "      <td>3</td>\n",
       "      <td>200.0</td>\n",
       "      <td>200.0</td>\n",
       "      <td>Embroidery</td>\n",
       "      <td>Arts</td>\n",
       "      <td>Pakistan</td>\n",
       "      <td>11.0</td>\n",
       "      <td>8</td>\n",
       "      <td>irregular</td>\n",
       "      <td>1</td>\n",
       "      <td>1.0</td>\n",
       "      <td>0.0</td>\n",
       "      <td>12.0</td>\n",
       "      <td>Wednesday</td>\n",
       "      <td>8</td>\n",
       "      <td>1</td>\n",
       "    </tr>\n",
       "    <tr>\n",
       "      <td>4</td>\n",
       "      <td>400.0</td>\n",
       "      <td>400.0</td>\n",
       "      <td>Milk Sales</td>\n",
       "      <td>Food</td>\n",
       "      <td>Pakistan</td>\n",
       "      <td>14.0</td>\n",
       "      <td>16</td>\n",
       "      <td>monthly</td>\n",
       "      <td>1</td>\n",
       "      <td>1.0</td>\n",
       "      <td>0.0</td>\n",
       "      <td>4.0</td>\n",
       "      <td>Wednesday</td>\n",
       "      <td>11</td>\n",
       "      <td>1</td>\n",
       "    </tr>\n",
       "  </tbody>\n",
       "</table>\n",
       "</div>"
      ],
      "text/plain": [
       "   funded_amount  loan_amount             activity          sector   country  \\\n",
       "0          300.0        300.0  Fruits & Vegetables            Food  Pakistan   \n",
       "1          575.0        575.0             Rickshaw  Transportation  Pakistan   \n",
       "2          150.0        150.0       Transportation  Transportation     India   \n",
       "3          200.0        200.0           Embroidery            Arts  Pakistan   \n",
       "4          400.0        400.0           Milk Sales            Food  Pakistan   \n",
       "\n",
       "   term_in_months  lender_count repayment_interval  NumberofBorrowers  \\\n",
       "0            12.0            12          irregular                  1   \n",
       "1            11.0            14          irregular                  2   \n",
       "2            43.0             6             bullet                  1   \n",
       "3            11.0             8          irregular                  1   \n",
       "4            14.0            16            monthly                  1   \n",
       "\n",
       "   PercentFemaleBorrowers  NumberofTags  CountWordsinDesc PostedDayofWeek  \\\n",
       "0                     1.0           0.0               7.0       Wednesday   \n",
       "1                     1.0           0.0              11.0       Wednesday   \n",
       "2                     1.0           2.0              17.0       Wednesday   \n",
       "3                     1.0           0.0              12.0       Wednesday   \n",
       "4                     1.0           0.0               4.0       Wednesday   \n",
       "\n",
       "   PostedTimeofDay  PartnerPresent  \n",
       "0                6               1  \n",
       "1                6               1  \n",
       "2                9               1  \n",
       "3                8               1  \n",
       "4               11               1  "
      ]
     },
     "execution_count": 120,
     "metadata": {},
     "output_type": "execute_result"
    }
   ],
   "source": [
    "X_matrix.head()"
   ]
  },
  {
   "cell_type": "code",
   "execution_count": 122,
   "metadata": {},
   "outputs": [
    {
     "data": {
      "text/plain": [
       "Index(['funded_amount', 'loan_amount', 'activity', 'sector', 'country',\n",
       "       'term_in_months', 'lender_count', 'repayment_interval',\n",
       "       'NumberofBorrowers', 'PercentFemaleBorrowers', 'NumberofTags',\n",
       "       'CountWordsinDesc', 'PostedDayofWeek', 'PostedTimeofDay',\n",
       "       'PartnerPresent'],\n",
       "      dtype='object')"
      ]
     },
     "execution_count": 122,
     "metadata": {},
     "output_type": "execute_result"
    }
   ],
   "source": [
    "X_matrix.columns"
   ]
  },
  {
   "cell_type": "markdown",
   "metadata": {},
   "source": [
    "Creating a DataFrame of all the target variables for later use"
   ]
  },
  {
   "cell_type": "code",
   "execution_count": 119,
   "metadata": {},
   "outputs": [],
   "source": [
    "y_matrix = kiva[['LoanFunded', 'PercentFunded', 'TimetoFundMinutes']]"
   ]
  },
  {
   "cell_type": "markdown",
   "metadata": {},
   "source": [
    "## 2. Training LoanFunded Classifier"
   ]
  },
  {
   "cell_type": "code",
   "execution_count": 129,
   "metadata": {},
   "outputs": [],
   "source": [
    "from sklearn.model_selection import train_test_split, cross_val_score, GridSearchCV\n",
    "from sklearn.linear_model import Ridge, Lasso\n",
    "from category_encoders import OneHotEncoder\n",
    "from sklearn.preprocessing import StandardScaler\n",
    "from sklearn.pipeline import make_pipeline, Pipeline\n",
    "from sklearn.ensemble import RandomForestRegressor, RandomForestClassifier\n",
    "import matplotlib.pyplot as plt\n",
    "import seaborn as sns\n",
    "%matplotlib inline"
   ]
  },
  {
   "cell_type": "code",
   "execution_count": 130,
   "metadata": {},
   "outputs": [],
   "source": [
    "X = pd.read_csv('../KivaLoans_data/X_matrix2.csv')"
   ]
  },
  {
   "cell_type": "code",
   "execution_count": 4,
   "metadata": {},
   "outputs": [],
   "source": [
    "y = pd.read_csv('../KivaLoans_data/y_matrix2.csv')\n",
    "\n",
    "y = y['loan_funded']"
   ]
  },
  {
   "cell_type": "code",
   "execution_count": null,
   "metadata": {},
   "outputs": [],
   "source": [
    "X_train, X_test, y_train, y_test = train_test_split(X, y, test_size=0.3)"
   ]
  },
  {
   "cell_type": "code",
   "execution_count": null,
   "metadata": {},
   "outputs": [],
   "source": [
    "ohe = OneHotEncoder()"
   ]
  },
  {
   "cell_type": "code",
   "execution_count": 129,
   "metadata": {},
   "outputs": [],
   "source": [
    "ridge, lasso = Ridge(), Lasso()\n",
    "sc = StandardScaler()"
   ]
  },
  {
   "cell_type": "code",
   "execution_count": 130,
   "metadata": {},
   "outputs": [],
   "source": [
    "ridge_pipe = make_pipeline(ohe, sc, ridge)\n",
    "lasso_pipe = make_pipeline(ohe, sc, lasso)"
   ]
  },
  {
   "cell_type": "code",
   "execution_count": null,
   "metadata": {},
   "outputs": [],
   "source": [
    "rf1 = RandomForestClassifier(n_jobs=-1)"
   ]
  },
  {
   "cell_type": "code",
   "execution_count": null,
   "metadata": {},
   "outputs": [],
   "source": [
    "from sklearn.pipeline import Pipeline\n",
    "rf_pipe = Pipeline([('ohe', ohe), ('rf', rf1)])"
   ]
  },
  {
   "cell_type": "code",
   "execution_count": 16,
   "metadata": {},
   "outputs": [
    {
     "data": {
      "text/plain": [
       "Pipeline(memory=None,\n",
       "         steps=[('ohe',\n",
       "                 OneHotEncoder(cols=['activity', 'sector', 'country',\n",
       "                                     'repayment_interval', 'PostedDayofWeek'],\n",
       "                               drop_invariant=False, handle_missing='value',\n",
       "                               handle_unknown='value', return_df=True,\n",
       "                               use_cat_names=False, verbose=0)),\n",
       "                ('rf',\n",
       "                 RandomForestClassifier(bootstrap=True, ccp_alpha=0.0,\n",
       "                                        class_weight=None, criterion='gini',\n",
       "                                        max_depth=None, max_features='auto',\n",
       "                                        max_leaf_nodes=None, max_samples=None,\n",
       "                                        min_impurity_decrease=0.0,\n",
       "                                        min_impurity_split=None,\n",
       "                                        min_samples_leaf=1, min_samples_split=2,\n",
       "                                        min_weight_fraction_leaf=0.0,\n",
       "                                        n_estimators=100, n_jobs=-1,\n",
       "                                        oob_score=False, random_state=None,\n",
       "                                        verbose=0, warm_start=False))],\n",
       "         verbose=False)"
      ]
     },
     "execution_count": 16,
     "metadata": {},
     "output_type": "execute_result"
    }
   ],
   "source": [
    "rf_pipe.fit(X_train, y_train)"
   ]
  },
  {
   "cell_type": "code",
   "execution_count": 17,
   "metadata": {},
   "outputs": [
    {
     "data": {
      "text/plain": [
       "0.9615816291057896"
      ]
     },
     "execution_count": 17,
     "metadata": {},
     "output_type": "execute_result"
    }
   ],
   "source": [
    "rf_pipe.score(X_test, y_test)"
   ]
  },
  {
   "cell_type": "code",
   "execution_count": 23,
   "metadata": {},
   "outputs": [],
   "source": [
    "feat_imp1 = pd.Series(rf_pipe.steps[1][1].feature_importances_, index=feats1).sort_values(ascending=False)"
   ]
  },
  {
   "cell_type": "code",
   "execution_count": 24,
   "metadata": {},
   "outputs": [
    {
     "data": {
      "text/plain": [
       "Text(0.5, 0, 'Feature')"
      ]
     },
     "execution_count": 24,
     "metadata": {},
     "output_type": "execute_result"
    },
    {
     "data": {
      "image/png": "[encoded data removed]",
      "text/plain": [
       "<Figure size 720x720 with 1 Axes>"
      ]
     },
     "metadata": {
      "needs_background": "light"
     },
     "output_type": "display_data"
    }
   ],
   "source": [
    "plt.figure(figsize=(10, 10))\n",
    "feat_imp1[:50].plot(kind='bar', title='Feature Importances')\n",
    "plt.ylabel('Feature Importance Score')\n",
    "plt.xlabel('Feature')"
   ]
  },
  {
   "cell_type": "code",
   "execution_count": 6,
   "metadata": {},
   "outputs": [],
   "source": [
    "import xgboost as xgb\n",
    "\n",
    "xgb1 = xgb.XGBClassifier(n_jobs=-1)"
   ]
  },
  {
   "cell_type": "code",
   "execution_count": 11,
   "metadata": {},
   "outputs": [],
   "source": [
    "boost_pipe = Pipeline([('ohe', ohe), ('xgbc', xgb1)])"
   ]
  },
  {
   "cell_type": "code",
   "execution_count": 12,
   "metadata": {},
   "outputs": [
    {
     "data": {
      "text/plain": [
       "Pipeline(memory=None,\n",
       "         steps=[('ohe',\n",
       "                 OneHotEncoder(cols=['activity', 'sector', 'country',\n",
       "                                     'repayment_interval', 'PostedDayofWeek'],\n",
       "                               drop_invariant=False, handle_missing='value',\n",
       "                               handle_unknown='value', return_df=True,\n",
       "                               use_cat_names=False, verbose=0)),\n",
       "                ('xgbc',\n",
       "                 XGBClassifier(base_score=0.5, booster='gbtree',\n",
       "                               colsample_bylevel=1, colsample_bynode=1,\n",
       "                               colsample_bytree=1, gamma=0, learning_rate=0.1,\n",
       "                               max_delta_step=0, max_depth=3,\n",
       "                               min_child_weight=1, missing=None,\n",
       "                               n_estimators=100, n_jobs=-1, nthread=None,\n",
       "                               objective='binary:logistic', random_state=0,\n",
       "                               reg_alpha=0, reg_lambda=1, scale_pos_weight=1,\n",
       "                               seed=None, silent=None, subsample=1,\n",
       "                               verbosity=1))],\n",
       "         verbose=False)"
      ]
     },
     "execution_count": 12,
     "metadata": {},
     "output_type": "execute_result"
    }
   ],
   "source": [
    "boost_pipe.fit(X_train, y_train)"
   ]
  },
  {
   "cell_type": "code",
   "execution_count": null,
   "metadata": {},
   "outputs": [],
   "source": [
    "predicts1 = boost_pipe.predict(X_test)"
   ]
  },
  {
   "cell_type": "code",
   "execution_count": 17,
   "metadata": {},
   "outputs": [
    {
     "data": {
      "text/plain": [
       "0.39192012897982187"
      ]
     },
     "execution_count": 17,
     "metadata": {},
     "output_type": "execute_result"
    }
   ],
   "source": [
    "r2_score(y_test, predicts1)"
   ]
  },
  {
   "cell_type": "code",
   "execution_count": 19,
   "metadata": {},
   "outputs": [],
   "source": [
    "import matplotlib.pyplot as plt\n",
    "import seaborn as sns\n",
    "%matplotlib inline"
   ]
  },
  {
   "cell_type": "code",
   "execution_count": 20,
   "metadata": {},
   "outputs": [
    {
     "data": {
      "text/plain": [
       "Text(0.5, 0, 'Feature')"
      ]
     },
     "execution_count": 20,
     "metadata": {},
     "output_type": "execute_result"
    },
    {
     "data": {
      "image/png": "[encoded data removed]",
      "text/plain": [
       "<Figure size 720x720 with 1 Axes>"
      ]
     },
     "metadata": {
      "needs_background": "light"
     },
     "output_type": "display_data"
    }
   ],
   "source": [
    "plt.figure(figsize=(10, 10))\n",
    "feat_imp1[:50].plot(kind='bar', title='Feature Importances')\n",
    "plt.ylabel('Feature Importance Score')\n",
    "plt.xlabel('Feature')"
   ]
  },
  {
   "cell_type": "code",
   "execution_count": 21,
   "metadata": {},
   "outputs": [],
   "source": [
    "xgb2 = xgb.XGBClassifier(n_estimators=500, n_jobs=-1)\n",
    "\n",
    "boost_pipe2= Pipeline([('ohe', ohe), ('xgbc', xgb2)])"
   ]
  },
  {
   "cell_type": "code",
   "execution_count": 22,
   "metadata": {},
   "outputs": [
    {
     "data": {
      "text/plain": [
       "Pipeline(memory=None,\n",
       "         steps=[('ohe',\n",
       "                 OneHotEncoder(cols=['activity', 'sector', 'country',\n",
       "                                     'repayment_interval', 'PostedDayofWeek'],\n",
       "                               drop_invariant=False, handle_missing='value',\n",
       "                               handle_unknown='value', return_df=True,\n",
       "                               use_cat_names=False, verbose=0)),\n",
       "                ('xgbc',\n",
       "                 XGBClassifier(base_score=0.5, booster='gbtree',\n",
       "                               colsample_bylevel=1, colsample_bynode=1,\n",
       "                               colsample_bytree=1, gamma=0, learning_rate=0.1,\n",
       "                               max_delta_step=0, max_depth=3,\n",
       "                               min_child_weight=1, missing=None,\n",
       "                               n_estimators=500, n_jobs=-1, nthread=None,\n",
       "                               objective='binary:logistic', random_state=0,\n",
       "                               reg_alpha=0, reg_lambda=1, scale_pos_weight=1,\n",
       "                               seed=None, silent=None, subsample=1,\n",
       "                               verbosity=1))],\n",
       "         verbose=False)"
      ]
     },
     "execution_count": 22,
     "metadata": {},
     "output_type": "execute_result"
    }
   ],
   "source": [
    "boost_pipe2.fit(X_train, y_train)"
   ]
  },
  {
   "cell_type": "code",
   "execution_count": 27,
   "metadata": {},
   "outputs": [
    {
     "data": {
      "text/plain": [
       "0.9644818784080412"
      ]
     },
     "execution_count": 27,
     "metadata": {},
     "output_type": "execute_result"
    }
   ],
   "source": [
    "boost_pipe2.score(X_test, y_test)"
   ]
  },
  {
   "cell_type": "code",
   "execution_count": 23,
   "metadata": {},
   "outputs": [],
   "source": [
    "predicts2 = boost_pipe2.predict(X_test)"
   ]
  },
  {
   "cell_type": "code",
   "execution_count": null,
   "metadata": {},
   "outputs": [],
   "source": [
    "import utils"
   ]
  },
  {
   "cell_type": "code",
   "execution_count": 36,
   "metadata": {},
   "outputs": [
    {
     "data": {
      "image/png": "[encoded data removed]",
      "text/plain": [
       "<Figure size 576x576 with 2 Axes>"
      ]
     },
     "metadata": {
      "needs_background": "light"
     },
     "output_type": "display_data"
    }
   ],
   "source": [
    "utils.plot_confusion_matrix(y_test, predicts2, cmap='Spectral', title='XGBClassifier with 500 estimatiors')"
   ]
  },
  {
   "cell_type": "code",
   "execution_count": 13,
   "metadata": {},
   "outputs": [],
   "source": [
    "import pickle\n",
    "with open('xgbc_pipe2.pickle', 'wb') as f:\n",
    "    pickle.dump(boost_pipe2, f)"
   ]
  },
  {
   "cell_type": "markdown",
   "metadata": {},
   "source": [
    "## 3. Training TimetoFund Model"
   ]
  },
  {
   "cell_type": "code",
   "execution_count": null,
   "metadata": {},
   "outputs": [],
   "source": [
    "y = pd.read_csv('../KivaLoans_data/y_matrix2.csv')"
   ]
  },
  {
   "cell_type": "code",
   "execution_count": null,
   "metadata": {},
   "outputs": [],
   "source": [
    "funded_index = y[y['loan_funded'] == 1].index"
   ]
  },
  {
   "cell_type": "code",
   "execution_count": null,
   "metadata": {},
   "outputs": [],
   "source": [
    "X = X.iloc[funded_index]"
   ]
  },
  {
   "cell_type": "code",
   "execution_count": null,
   "metadata": {},
   "outputs": [],
   "source": [
    "y = y.iloc[funded_index]['TimetoFundMinutes']"
   ]
  },
  {
   "cell_type": "code",
   "execution_count": 203,
   "metadata": {},
   "outputs": [],
   "source": [
    "X_train, X_test, y_train, y_test = train_test_split(Xtime, ytime, test_size = .2, random_state=2020)"
   ]
  },
  {
   "cell_type": "code",
   "execution_count": 129,
   "metadata": {},
   "outputs": [],
   "source": [
    "rf = RandomForestRegressor()"
   ]
  },
  {
   "cell_type": "code",
   "execution_count": 130,
   "metadata": {},
   "outputs": [],
   "source": [
    "rf_pipe = make_pipeline(ohe, rf)"
   ]
  },
  {
   "cell_type": "code",
   "execution_count": 204,
   "metadata": {},
   "outputs": [
    {
     "data": {
      "text/plain": [
       "Pipeline(memory=None,\n",
       "         steps=[('ordinalencoder',\n",
       "                 OrdinalEncoder(cols=[], drop_invariant=False,\n",
       "                                handle_missing='value', handle_unknown='value',\n",
       "                                mapping=[], return_df=True, verbose=0)),\n",
       "                ('onehotencoder',\n",
       "                 OneHotEncoder(cols=[], drop_invariant=False,\n",
       "                               handle_missing='value', handle_unknown='value',\n",
       "                               return_df=True, use_cat_names=False,\n",
       "                               verbose=0)),\n",
       "                ('randomforestregressor',\n",
       "                 RandomForestRegressor(bootstrap=True, criterion='mse',\n",
       "                                       max_depth=None, max_features='auto',\n",
       "                                       max_leaf_nodes=None,\n",
       "                                       min_impurity_decrease=0.0,\n",
       "                                       min_impurity_split=None,\n",
       "                                       min_samples_leaf=1, min_samples_split=2,\n",
       "                                       min_weight_fraction_leaf=0.0,\n",
       "                                       n_estimators=10, n_jobs=-1,\n",
       "                                       oob_score=False, random_state=None,\n",
       "                                       verbose=0, warm_start=False))],\n",
       "         verbose=False)"
      ]
     },
     "execution_count": 204,
     "metadata": {},
     "output_type": "execute_result"
    }
   ],
   "source": [
    "rf_pipe.fit(Xtime_train, ytime_train)"
   ]
  },
  {
   "cell_type": "code",
   "execution_count": 205,
   "metadata": {},
   "outputs": [],
   "source": [
    "leaf_samples = [1, 5, 10, 15, 20]\n",
    "rf_scores = []\n",
    "\n",
    "for sample in leaf_samples:\n",
    "    # Not saying for alpha in alphas, but same concept\n",
    "    rf_pipe.steps[-1][1].set_params(min_samples_leaf = sample)\n",
    "    scores = cross_val_score(estimator=rf_pipe, X=Xtime_train, y=ytime_train, cv=10)\n",
    "    rf_scores.append((np.mean(scores), sample))"
   ]
  },
  {
   "cell_type": "code",
   "execution_count": 210,
   "metadata": {},
   "outputs": [
    {
     "data": {
      "text/plain": [
       "[(0.48050303815550216, 1),\n",
       " (0.5177407571553895, 5),\n",
       " (0.5166642901683819, 10),\n",
       " (0.5162360897110821, 15),\n",
       " (0.513926105060135, 20)]"
      ]
     },
     "execution_count": 210,
     "metadata": {},
     "output_type": "execute_result"
    }
   ],
   "source": [
    "rf_scores"
   ]
  },
  {
   "cell_type": "code",
   "execution_count": null,
   "metadata": {},
   "outputs": [],
   "source": [
    "rf2 = RandomForestRegressor(n_estimators=20, min_samples_leaf = 5,random_state=2020, n_jobs = -1)\n",
    "rf_pipe2 = make_pipeline(ore, ohe, rf)"
   ]
  },
  {
   "cell_type": "code",
   "execution_count": 221,
   "metadata": {},
   "outputs": [
    {
     "data": {
      "text/plain": [
       "Pipeline(memory=None,\n",
       "         steps=[('ordinalencoder',\n",
       "                 OrdinalEncoder(cols=[], drop_invariant=False,\n",
       "                                handle_missing='value', handle_unknown='value',\n",
       "                                mapping=[], return_df=True, verbose=0)),\n",
       "                ('onehotencoder',\n",
       "                 OneHotEncoder(cols=[], drop_invariant=False,\n",
       "                               handle_missing='value', handle_unknown='value',\n",
       "                               return_df=True, use_cat_names=False,\n",
       "                               verbose=0)),\n",
       "                ('randomforestregressor',\n",
       "                 RandomForestRegressor(bootstrap=True, criterion='mse',\n",
       "                                       max_depth=None, max_features='auto',\n",
       "                                       max_leaf_nodes=None,\n",
       "                                       min_impurity_decrease=0.0,\n",
       "                                       min_impurity_split=None,\n",
       "                                       min_samples_leaf=20, min_samples_split=2,\n",
       "                                       min_weight_fraction_leaf=0.0,\n",
       "                                       n_estimators=10, n_jobs=-1,\n",
       "                                       oob_score=False, random_state=None,\n",
       "                                       verbose=0, warm_start=False))],\n",
       "         verbose=False)"
      ]
     },
     "execution_count": 221,
     "metadata": {},
     "output_type": "execute_result"
    }
   ],
   "source": [
    "rf_pipe2.fit(Xtime_train, ytime_train)"
   ]
  },
  {
   "cell_type": "code",
   "execution_count": 222,
   "metadata": {},
   "outputs": [
    {
     "data": {
      "text/plain": [
       "0.5118221664221869"
      ]
     },
     "execution_count": 222,
     "metadata": {},
     "output_type": "execute_result"
    }
   ],
   "source": [
    "rf_pipe2.score(Xtime_test, ytime_test)"
   ]
  },
  {
   "cell_type": "code",
   "execution_count": null,
   "metadata": {},
   "outputs": [],
   "source": [
    "xgb1 = XGBRegressor(objective='reg:squarederror', n_jobs=2)\n",
    "ohe = OneHotEncoder(use_cat_names=True)"
   ]
  },
  {
   "cell_type": "code",
   "execution_count": null,
   "metadata": {},
   "outputs": [],
   "source": [
    "pipe1 = Pipeline([('ohe', ohe), ('xgb', xgb1)])"
   ]
  },
  {
   "cell_type": "code",
   "execution_count": null,
   "metadata": {},
   "outputs": [],
   "source": [
    "pipe1.fit(X_train, y_train)"
   ]
  },
  {
   "cell_type": "code",
   "execution_count": null,
   "metadata": {},
   "outputs": [],
   "source": [
    "pipe1.score(X_test, y_test)"
   ]
  },
  {
   "cell_type": "code",
   "execution_count": 17,
   "metadata": {},
   "outputs": [
    {
     "data": {
      "text/plain": [
       "<matplotlib.collections.PathCollection at 0x239be495108>"
      ]
     },
     "execution_count": 17,
     "metadata": {},
     "output_type": "execute_result"
    },
    {
     "data": {
      "image/png": "[encoded data removed]",
      "text/plain": [
       "<Figure size 432x288 with 1 Axes>"
      ]
     },
     "metadata": {
      "needs_background": "light"
     },
     "output_type": "display_data"
    }
   ],
   "source": [
    "plt.scatter(preds1, y_test)"
   ]
  },
  {
   "cell_type": "code",
   "execution_count": 18,
   "metadata": {},
   "outputs": [],
   "source": [
    "params1 = {\n",
    "    'xgb__max_depth': [3, 5, 7]\n",
    "} "
   ]
  },
  {
   "cell_type": "code",
   "execution_count": 20,
   "metadata": {},
   "outputs": [
    {
     "name": "stdout",
     "output_type": "stream",
     "text": [
      "Fitting 3 folds for each of 3 candidates, totalling 9 fits\n"
     ]
    },
    {
     "name": "stderr",
     "output_type": "stream",
     "text": [
      "[Parallel(n_jobs=2)]: Using backend LokyBackend with 2 concurrent workers.\n",
      "[Parallel(n_jobs=2)]: Done   9 out of   9 | elapsed: 14.3min remaining:    0.0s\n",
      "[Parallel(n_jobs=2)]: Done   9 out of   9 | elapsed: 14.3min finished\n"
     ]
    },
    {
     "data": {
      "text/plain": [
       "GridSearchCV(cv=3, error_score=nan,\n",
       "             estimator=Pipeline(memory=None,\n",
       "                                steps=[('ohe',\n",
       "                                        OneHotEncoder(cols=['activity',\n",
       "                                                            'sector', 'country',\n",
       "                                                            'repayment_interval',\n",
       "                                                            'PostedDayofWeek'],\n",
       "                                                      drop_invariant=False,\n",
       "                                                      handle_missing='value',\n",
       "                                                      handle_unknown='value',\n",
       "                                                      return_df=True,\n",
       "                                                      use_cat_names=True,\n",
       "                                                      verbose=0)),\n",
       "                                       ('xgb',\n",
       "                                        XGBRegressor(base_score=0.5,\n",
       "                                                     booster='gbtree',\n",
       "                                                     colsample_byleve...\n",
       "                                                     missing=None,\n",
       "                                                     n_estimators=100, n_jobs=2,\n",
       "                                                     nthread=None,\n",
       "                                                     objective='reg:squarederror',\n",
       "                                                     random_state=0,\n",
       "                                                     reg_alpha=0, reg_lambda=1,\n",
       "                                                     scale_pos_weight=1,\n",
       "                                                     seed=None, silent=None,\n",
       "                                                     subsample=1,\n",
       "                                                     verbosity=1))],\n",
       "                                verbose=False),\n",
       "             iid='deprecated', n_jobs=2,\n",
       "             param_grid={'xgb__max_depth': [3, 5, 7]}, pre_dispatch='2*n_jobs',\n",
       "             refit=True, return_train_score=False, scoring='r2', verbose=4)"
      ]
     },
     "execution_count": 20,
     "metadata": {},
     "output_type": "execute_result"
    }
   ],
   "source": [
    "gsearch1 = GridSearchCV(pipe1, params1, scoring='r2', n_jobs=2, cv=3, verbose=4)\n",
    "gsearch1.fit(X_train, y_train)"
   ]
  },
  {
   "cell_type": "code",
   "execution_count": 21,
   "metadata": {},
   "outputs": [
    {
     "data": {
      "text/plain": [
       "0.505991701741332"
      ]
     },
     "execution_count": 21,
     "metadata": {},
     "output_type": "execute_result"
    }
   ],
   "source": [
    "gsearch1.score(X_test, y_test)"
   ]
  },
  {
   "cell_type": "code",
   "execution_count": 22,
   "metadata": {},
   "outputs": [
    {
     "data": {
      "text/plain": [
       "({'xgb__max_depth': 7}, 0.5044714273915619)"
      ]
     },
     "execution_count": 22,
     "metadata": {},
     "output_type": "execute_result"
    }
   ],
   "source": [
    "gsearch1.best_params_, gsearch1.best_score_"
   ]
  },
  {
   "cell_type": "code",
   "execution_count": 12,
   "metadata": {},
   "outputs": [
    {
     "data": {
      "text/plain": [
       "XGBRegressor(base_score=0.5, booster='gbtree', colsample_bylevel=1,\n",
       "             colsample_bynode=1, colsample_bytree=1, gamma=0,\n",
       "             importance_type='gain', learning_rate=0.1, max_delta_step=0,\n",
       "             max_depth=7, min_child_weight=1, missing=None, n_estimators=100,\n",
       "             n_jobs=2, nthread=None, objective='reg:squarederror',\n",
       "             random_state=0, reg_alpha=0, reg_lambda=1, scale_pos_weight=1,\n",
       "             seed=None, silent=None, subsample=1, verbosity=1)"
      ]
     },
     "execution_count": 12,
     "metadata": {},
     "output_type": "execute_result"
    }
   ],
   "source": [
    "pipe1.steps[-1][1].set_params(max_depth=7)"
   ]
  },
  {
   "cell_type": "code",
   "execution_count": 24,
   "metadata": {},
   "outputs": [
    {
     "data": {
      "text/plain": [
       "Pipeline(memory=None,\n",
       "         steps=[('ohe',\n",
       "                 OneHotEncoder(cols=['activity', 'sector', 'country',\n",
       "                                     'repayment_interval', 'PostedDayofWeek'],\n",
       "                               drop_invariant=False, handle_missing='value',\n",
       "                               handle_unknown='value', return_df=True,\n",
       "                               use_cat_names=True, verbose=0)),\n",
       "                ('xgb',\n",
       "                 XGBRegressor(base_score=0.5, booster='gbtree',\n",
       "                              colsample_bylevel=1, colsample_bynode=1,\n",
       "                              colsample_bytree=1, gamma=0,\n",
       "                              importance_type='gain', learning_rate=0.1,\n",
       "                              max_delta_step=0, max_depth=7, min_child_weight=1,\n",
       "                              missing=None, n_estimators=100, n_jobs=2,\n",
       "                              nthread=None, objective='reg:squarederror',\n",
       "                              random_state=0, reg_alpha=0, reg_lambda=1,\n",
       "                              scale_pos_weight=1, seed=None, silent=None,\n",
       "                              subsample=1, verbosity=1))],\n",
       "         verbose=False)"
      ]
     },
     "execution_count": 24,
     "metadata": {},
     "output_type": "execute_result"
    }
   ],
   "source": [
    "pipe1.fit(X_train, y_train)"
   ]
  },
  {
   "cell_type": "code",
   "execution_count": 27,
   "metadata": {},
   "outputs": [
    {
     "data": {
      "text/plain": [
       "0.505991701741332"
      ]
     },
     "execution_count": 27,
     "metadata": {},
     "output_type": "execute_result"
    }
   ],
   "source": [
    "pipe1.score(X_test, y_test)"
   ]
  },
  {
   "cell_type": "code",
   "execution_count": 25,
   "metadata": {},
   "outputs": [],
   "source": [
    "with open('xgbr_timefund1.pickle', 'wb') as f:\n",
    "    pickle.dump(pipe1, f)"
   ]
  },
  {
   "cell_type": "code",
   "execution_count": 13,
   "metadata": {},
   "outputs": [],
   "source": [
    "params2 = {\n",
    "    'xgb__n_estimators': [300, 500]\n",
    "} "
   ]
  },
  {
   "cell_type": "code",
   "execution_count": 14,
   "metadata": {},
   "outputs": [
    {
     "name": "stdout",
     "output_type": "stream",
     "text": [
      "Fitting 3 folds for each of 2 candidates, totalling 6 fits\n"
     ]
    },
    {
     "name": "stderr",
     "output_type": "stream",
     "text": [
      "[Parallel(n_jobs=3)]: Using backend LokyBackend with 3 concurrent workers.\n",
      "[Parallel(n_jobs=3)]: Done   1 tasks      | elapsed: 11.4min\n",
      "[Parallel(n_jobs=3)]: Done   2 out of   6 | elapsed: 11.4min remaining: 22.7min\n",
      "[Parallel(n_jobs=3)]: Done   3 out of   6 | elapsed: 11.4min remaining: 11.4min\n",
      "[Parallel(n_jobs=3)]: Done   4 out of   6 | elapsed: 29.5min remaining: 14.8min\n",
      "[Parallel(n_jobs=3)]: Done   6 out of   6 | elapsed: 29.5min remaining:    0.0s\n",
      "[Parallel(n_jobs=3)]: Done   6 out of   6 | elapsed: 29.5min finished\n"
     ]
    },
    {
     "data": {
      "text/plain": [
       "GridSearchCV(cv=3, error_score=nan,\n",
       "             estimator=Pipeline(memory=None,\n",
       "                                steps=[('ohe',\n",
       "                                        OneHotEncoder(cols=None,\n",
       "                                                      drop_invariant=False,\n",
       "                                                      handle_missing='value',\n",
       "                                                      handle_unknown='value',\n",
       "                                                      return_df=True,\n",
       "                                                      use_cat_names=True,\n",
       "                                                      verbose=0)),\n",
       "                                       ('xgb',\n",
       "                                        XGBRegressor(base_score=0.5,\n",
       "                                                     booster='gbtree',\n",
       "                                                     colsample_bylevel=1,\n",
       "                                                     colsample_bynode=1,\n",
       "                                                     colsample_bytree=1,\n",
       "                                                     gamma=0,\n",
       "                                                     importance_type=...\n",
       "                                                     missing=None,\n",
       "                                                     n_estimators=100, n_jobs=2,\n",
       "                                                     nthread=None,\n",
       "                                                     objective='reg:squarederror',\n",
       "                                                     random_state=0,\n",
       "                                                     reg_alpha=0, reg_lambda=1,\n",
       "                                                     scale_pos_weight=1,\n",
       "                                                     seed=None, silent=None,\n",
       "                                                     subsample=1,\n",
       "                                                     verbosity=1))],\n",
       "                                verbose=False),\n",
       "             iid='deprecated', n_jobs=3,\n",
       "             param_grid={'xgb__n_estimators': [300, 500]},\n",
       "             pre_dispatch='2*n_jobs', refit=True, return_train_score=False,\n",
       "             scoring='r2', verbose=25)"
      ]
     },
     "execution_count": 14,
     "metadata": {},
     "output_type": "execute_result"
    }
   ],
   "source": [
    "gsearch2 = GridSearchCV(pipe1, params2, scoring='r2',n_jobs=3, cv=3, verbose=25)\n",
    "gsearch2.fit(X_train, y_train)"
   ]
  },
  {
   "cell_type": "code",
   "execution_count": 15,
   "metadata": {},
   "outputs": [
    {
     "data": {
      "text/plain": [
       "({'xgb__n_estimators': 500}, 0.5250962186212741)"
      ]
     },
     "execution_count": 15,
     "metadata": {},
     "output_type": "execute_result"
    }
   ],
   "source": [
    "gsearch2.best_params_, gsearch2.best_score_"
   ]
  },
  {
   "cell_type": "code",
   "execution_count": 16,
   "metadata": {},
   "outputs": [
    {
     "data": {
      "text/plain": [
       "0.5384523272879211"
      ]
     },
     "execution_count": 16,
     "metadata": {},
     "output_type": "execute_result"
    }
   ],
   "source": [
    "gsearch2.score(X_test, y_test)"
   ]
  },
  {
   "cell_type": "code",
   "execution_count": 17,
   "metadata": {},
   "outputs": [
    {
     "data": {
      "text/plain": [
       "Pipeline(memory=None,\n",
       "         steps=[('ohe',\n",
       "                 OneHotEncoder(cols=None, drop_invariant=False,\n",
       "                               handle_missing='value', handle_unknown='value',\n",
       "                               return_df=True, use_cat_names=True, verbose=0)),\n",
       "                ('xgb',\n",
       "                 XGBRegressor(base_score=0.5, booster='gbtree',\n",
       "                              colsample_bylevel=1, colsample_bynode=1,\n",
       "                              colsample_bytree=1, gamma=0,\n",
       "                              importance_type='gain', learning_rate=0.1,\n",
       "                              max_delta_step=0, max_depth=7, min_child_weight=1,\n",
       "                              missing=None, n_estimators=500, n_jobs=2,\n",
       "                              nthread=None, objective='reg:squarederror',\n",
       "                              random_state=0, reg_alpha=0, reg_lambda=1,\n",
       "                              scale_pos_weight=1, seed=None, silent=None,\n",
       "                              subsample=1, verbosity=1))],\n",
       "         verbose=False)"
      ]
     },
     "execution_count": 17,
     "metadata": {},
     "output_type": "execute_result"
    }
   ],
   "source": [
    "pipe1.set_params(**gsearch2.best_params_)"
   ]
  },
  {
   "cell_type": "code",
   "execution_count": 18,
   "metadata": {},
   "outputs": [
    {
     "data": {
      "text/plain": [
       "Pipeline(memory=None,\n",
       "         steps=[('ohe',\n",
       "                 OneHotEncoder(cols=['activity', 'sector', 'country',\n",
       "                                     'repayment_interval', 'PostedDayofWeek'],\n",
       "                               drop_invariant=False, handle_missing='value',\n",
       "                               handle_unknown='value', return_df=True,\n",
       "                               use_cat_names=True, verbose=0)),\n",
       "                ('xgb',\n",
       "                 XGBRegressor(base_score=0.5, booster='gbtree',\n",
       "                              colsample_bylevel=1, colsample_bynode=1,\n",
       "                              colsample_bytree=1, gamma=0,\n",
       "                              importance_type='gain', learning_rate=0.1,\n",
       "                              max_delta_step=0, max_depth=7, min_child_weight=1,\n",
       "                              missing=None, n_estimators=500, n_jobs=2,\n",
       "                              nthread=None, objective='reg:squarederror',\n",
       "                              random_state=0, reg_alpha=0, reg_lambda=1,\n",
       "                              scale_pos_weight=1, seed=None, silent=None,\n",
       "                              subsample=1, verbosity=1))],\n",
       "         verbose=False)"
      ]
     },
     "execution_count": 18,
     "metadata": {},
     "output_type": "execute_result"
    }
   ],
   "source": [
    "pipe1.fit(X_train, y_train)"
   ]
  },
  {
   "cell_type": "code",
   "execution_count": 20,
   "metadata": {},
   "outputs": [],
   "source": [
    "import pickle\n",
    "with open('xgbr_timefund2.pickle', 'wb') as f:\n",
    "    pickle.dump(pipe1, f)"
   ]
  },
  {
   "cell_type": "code",
   "execution_count": 21,
   "metadata": {},
   "outputs": [],
   "source": [
    "preds_g2 = pipe1.predict(X_test)"
   ]
  },
  {
   "cell_type": "code",
   "execution_count": 50,
   "metadata": {},
   "outputs": [],
   "source": [
    "preds_g2 = np.maximum(0, preds_g2)"
   ]
  },
  {
   "cell_type": "code",
   "execution_count": 23,
   "metadata": {},
   "outputs": [],
   "source": [
    "from sklearn.metrics import r2_score, mean_squared_log_error"
   ]
  },
  {
   "cell_type": "code",
   "execution_count": 51,
   "metadata": {},
   "outputs": [
    {
     "data": {
      "text/plain": [
       "0.5384734018188746"
      ]
     },
     "execution_count": 51,
     "metadata": {},
     "output_type": "execute_result"
    }
   ],
   "source": [
    "r2_score(y_test, preds_g2)"
   ]
  },
  {
   "cell_type": "code",
   "execution_count": 52,
   "metadata": {},
   "outputs": [
    {
     "data": {
      "text/plain": [
       "0.7845940819921131"
      ]
     },
     "execution_count": 52,
     "metadata": {},
     "output_type": "execute_result"
    }
   ],
   "source": [
    "mean_squared_log_error(y_test, preds_g2)"
   ]
  },
  {
   "cell_type": "code",
   "execution_count": 48,
   "metadata": {},
   "outputs": [
    {
     "data": {
      "image/png": "[encoded data removed]",
      "text/plain": [
       "<Figure size 864x864 with 1 Axes>"
      ]
     },
     "metadata": {
      "needs_background": "light"
     },
     "output_type": "display_data"
    }
   ],
   "source": [
    "utils.plot_predictions(y_test, preds_g2, title='XGBRegressor with %d estimators and max_depth of 7' % gsearch2.best_params_['xgb__n_estimators'], \n",
    "                       figsize=(12,12), save_to='timefunded_predsXgboost1.png')"
   ]
  },
  {
   "cell_type": "code",
   "execution_count": 31,
   "metadata": {},
   "outputs": [],
   "source": [
    "params3 = {\n",
    "    'xgb__min_child_weight': [3, 6],\n",
    "    'xgb__subsample': [0.6, 0.8]\n",
    "} "
   ]
  },
  {
   "cell_type": "code",
   "execution_count": 32,
   "metadata": {},
   "outputs": [
    {
     "name": "stdout",
     "output_type": "stream",
     "text": [
      "Fitting 3 folds for each of 4 candidates, totalling 12 fits\n",
      "[Parallel(n_jobs=4)]: Using backend LokyBackend with 4 concurrent workers.\n",
      "[Parallel(n_jobs=4)]: Done   1 tasks      | elapsed: 19.1min\n",
      "[Parallel(n_jobs=4)]: Done   2 tasks      | elapsed: 22.1min\n",
      "[Parallel(n_jobs=4)]: Done   3 tasks      | elapsed: 22.1min\n",
      "[Parallel(n_jobs=4)]: Done   4 tasks      | elapsed: 22.2min\n",
      "[Parallel(n_jobs=4)]: Done   5 tasks      | elapsed: 38.5min\n",
      "[Parallel(n_jobs=4)]: Done   6 out of  12 | elapsed: 41.2min remaining: 41.2min\n",
      "[Parallel(n_jobs=4)]: Done   7 out of  12 | elapsed: 43.8min remaining: 31.3min\n",
      "[Parallel(n_jobs=4)]: Done   8 out of  12 | elapsed: 44.0min remaining: 22.0min\n",
      "[Parallel(n_jobs=4)]: Done   9 out of  12 | elapsed: 60.3min remaining: 20.1min\n",
      "[Parallel(n_jobs=4)]: Done  10 out of  12 | elapsed: 60.4min remaining: 12.1min\n",
      "[Parallel(n_jobs=4)]: Done  12 out of  12 | elapsed: 62.4min remaining:    0.0s\n",
      "[Parallel(n_jobs=4)]: Done  12 out of  12 | elapsed: 62.4min finished\n"
     ]
    },
    {
     "data": {
      "text/plain": [
       "GridSearchCV(cv=3, error_score=nan,\n",
       "             estimator=Pipeline(memory=None,\n",
       "                                steps=[('ohe',\n",
       "                                        OneHotEncoder(cols=['activity',\n",
       "                                                            'sector', 'country',\n",
       "                                                            'repayment_interval',\n",
       "                                                            'PostedDayofWeek'],\n",
       "                                                      drop_invariant=False,\n",
       "                                                      handle_missing='value',\n",
       "                                                      handle_unknown='value',\n",
       "                                                      return_df=True,\n",
       "                                                      use_cat_names=True,\n",
       "                                                      verbose=0)),\n",
       "                                       ('xgb',\n",
       "                                        XGBRegressor(base_score=0.5,\n",
       "                                                     booster='gbtree',\n",
       "                                                     colsample_byleve...\n",
       "                                                     n_estimators=500, n_jobs=2,\n",
       "                                                     nthread=None,\n",
       "                                                     objective='reg:squarederror',\n",
       "                                                     random_state=0,\n",
       "                                                     reg_alpha=0, reg_lambda=1,\n",
       "                                                     scale_pos_weight=1,\n",
       "                                                     seed=None, silent=None,\n",
       "                                                     subsample=1,\n",
       "                                                     verbosity=1))],\n",
       "                                verbose=False),\n",
       "             iid='deprecated', n_jobs=4,\n",
       "             param_grid={'xgb__min_child_weight': [3, 6],\n",
       "                         'xgb__subsample': [0.6, 0.8]},\n",
       "             pre_dispatch='2*n_jobs', refit=True, return_train_score=False,\n",
       "             scoring='r2', verbose=50)"
      ]
     },
     "execution_count": 32,
     "metadata": {},
     "output_type": "execute_result"
    }
   ],
   "source": [
    "gsearch3 = GridSearchCV(pipe1, params3, scoring='r2', n_jobs=4, cv=3, verbose=50)\n",
    "gsearch3.fit(X_train, y_train)"
   ]
  },
  {
   "cell_type": "code",
   "execution_count": 33,
   "metadata": {},
   "outputs": [
    {
     "data": {
      "text/plain": [
       "({'xgb__min_child_weight': 3, 'xgb__subsample': 0.8}, 0.5196704230391548)"
      ]
     },
     "execution_count": 33,
     "metadata": {},
     "output_type": "execute_result"
    }
   ],
   "source": [
    "gsearch3.best_params_, gsearch3.best_score_"
   ]
  },
  {
   "cell_type": "code",
   "execution_count": 34,
   "metadata": {},
   "outputs": [
    {
     "data": {
      "text/plain": [
       "Pipeline(memory=None,\n",
       "         steps=[('ohe',\n",
       "                 OneHotEncoder(cols=['activity', 'sector', 'country',\n",
       "                                     'repayment_interval', 'PostedDayofWeek'],\n",
       "                               drop_invariant=False, handle_missing='value',\n",
       "                               handle_unknown='value', return_df=True,\n",
       "                               use_cat_names=True, verbose=0)),\n",
       "                ('xgb',\n",
       "                 XGBRegressor(base_score=0.5, booster='gbtree',\n",
       "                              colsample_bylevel=1, colsample_bynode=1,\n",
       "                              colsample_bytree=1, gamma=0,\n",
       "                              importance_type='gain', learning_rate=0.1,\n",
       "                              max_delta_step=0, max_depth=7, min_child_weight=3,\n",
       "                              missing=None, n_estimators=500, n_jobs=2,\n",
       "                              nthread=None, objective='reg:squarederror',\n",
       "                              random_state=0, reg_alpha=0, reg_lambda=1,\n",
       "                              scale_pos_weight=1, seed=None, silent=None,\n",
       "                              subsample=0.8, verbosity=1))],\n",
       "         verbose=False)"
      ]
     },
     "execution_count": 34,
     "metadata": {},
     "output_type": "execute_result"
    }
   ],
   "source": [
    "pipe1.set_params(**gsearch3.best_params_).fit(X_train, y_train)"
   ]
  },
  {
   "cell_type": "code",
   "execution_count": 35,
   "metadata": {},
   "outputs": [],
   "source": [
    "with open('xgbr_timefund3.pickle', 'wb') as f:\n",
    "    pickle.dump(pipe1, f)"
   ]
  },
  {
   "cell_type": "code",
   "execution_count": 42,
   "metadata": {},
   "outputs": [],
   "source": [
    "preds_g3 = pipe1.predict(X_test)\n",
    "preds_g3 = np.maximum(0, preds_g3)"
   ]
  },
  {
   "cell_type": "code",
   "execution_count": 43,
   "metadata": {},
   "outputs": [
    {
     "data": {
      "text/plain": [
       "0.5443485814350504"
      ]
     },
     "execution_count": 43,
     "metadata": {},
     "output_type": "execute_result"
    }
   ],
   "source": [
    "r2_score(y_test, preds_g3)"
   ]
  },
  {
   "cell_type": "code",
   "execution_count": 44,
   "metadata": {},
   "outputs": [
    {
     "data": {
      "text/plain": [
       "0.7975728775485428"
      ]
     },
     "execution_count": 44,
     "metadata": {},
     "output_type": "execute_result"
    }
   ],
   "source": [
    "mean_squared_log_error(y_test, preds_g3)"
   ]
  },
  {
   "cell_type": "code",
   "execution_count": 49,
   "metadata": {},
   "outputs": [
    {
     "data": {
      "image/png": "[encoded data removed]",
      "text/plain": [
       "<Figure size 864x864 with 1 Axes>"
      ]
     },
     "metadata": {
      "needs_background": "light"
     },
     "output_type": "display_data"
    }
   ],
   "source": [
    "utils.plot_predictions(y_test, preds_g3, title='XGBRegressor with 500 estimators, max_depth of 7,\\nmin_child_weight of %d, and subsample of %.1f' % (gsearch3.best_params_['xgb__min_child_weight'], gsearch3.best_params_['xgb__subsample']), \n",
    "                       figsize=(12,12), save_to='timefunded_predsXgboost2.png')"
   ]
  },
  {
   "cell_type": "markdown",
   "metadata": {},
   "source": [
    "## 4. Training PercentFunded Model"
   ]
  },
  {
   "cell_type": "code",
   "execution_count": 2,
   "metadata": {},
   "outputs": [],
   "source": [
    "X = pd.read_csv('../KivaLoans_data/X_matrix2.csv')"
   ]
  },
  {
   "cell_type": "code",
   "execution_count": 3,
   "metadata": {},
   "outputs": [],
   "source": [
    "y = pd.read_csv('../KivaLoans_data/y_matrix2.csv')"
   ]
  },
  {
   "cell_type": "code",
   "execution_count": 4,
   "metadata": {},
   "outputs": [],
   "source": [
    "y = y['PercentFunded']"
   ]
  },
  {
   "cell_type": "code",
   "execution_count": 58,
   "metadata": {},
   "outputs": [],
   "source": [
    "X_train, X_test, y_train, y_test = train_test_split(X, y, test_size = .2, random_state=2020)"
   ]
  },
  {
   "cell_type": "code",
   "execution_count": null,
   "metadata": {},
   "outputs": [],
   "source": [
    "lreg = LinearRegression()"
   ]
  },
  {
   "cell_type": "code",
   "execution_count": 59,
   "metadata": {},
   "outputs": [
    {
     "data": {
      "text/plain": [
       "array([0.51706429, 0.52011791, 0.51468249, 0.51521576, 0.51303315,\n",
       "       0.51427782, 0.53540193, 0.51508248, 0.53013899, 0.52032734])"
      ]
     },
     "execution_count": 59,
     "metadata": {},
     "output_type": "execute_result"
    }
   ],
   "source": [
    "pctscores = cross_val_score(estimator=lreg, X=X_train, y=y_train, cv=10)\n",
    "scores"
   ]
  },
  {
   "cell_type": "code",
   "execution_count": 61,
   "metadata": {},
   "outputs": [],
   "source": [
    "ridge_pipe = make_pipeline(ohe, sc, ridge)"
   ]
  },
  {
   "cell_type": "code",
   "execution_count": 62,
   "metadata": {},
   "outputs": [
    {
     "data": {
      "text/plain": [
       "Pipeline(memory=None,\n",
       "         steps=[('ordinalencoder',\n",
       "                 OrdinalEncoder(cols=[], drop_invariant=False,\n",
       "                                handle_missing='value', handle_unknown='value',\n",
       "                                mapping=[], return_df=True, verbose=0)),\n",
       "                ('onehotencoder',\n",
       "                 OneHotEncoder(cols=[], drop_invariant=False,\n",
       "                               handle_missing='value', handle_unknown='value',\n",
       "                               return_df=True, use_cat_names=False,\n",
       "                               verbose=0)),\n",
       "                ('standardscaler',\n",
       "                 StandardScaler(copy=True, with_mean=True, with_std=True)),\n",
       "                ('ridge',\n",
       "                 Ridge(alpha=1000.0, copy_X=True, fit_intercept=True,\n",
       "                       max_iter=None, normalize=False, random_state=None,\n",
       "                       solver='auto', tol=0.001))],\n",
       "         verbose=False)"
      ]
     },
     "execution_count": 62,
     "metadata": {},
     "output_type": "execute_result"
    }
   ],
   "source": [
    "ridge_pipe.fit(Xpct_train, ypct_train)"
   ]
  },
  {
   "cell_type": "code",
   "execution_count": 63,
   "metadata": {},
   "outputs": [
    {
     "data": {
      "text/plain": [
       "-1.0897998784742269"
      ]
     },
     "execution_count": 63,
     "metadata": {},
     "output_type": "execute_result"
    }
   ],
   "source": [
    "ridge_pipe.score(X_test, y_test)"
   ]
  },
  {
   "cell_type": "code",
   "execution_count": 64,
   "metadata": {},
   "outputs": [],
   "source": [
    "lasso_pipe = make_pipeline(ore, ohe, sc, lasso)"
   ]
  },
  {
   "cell_type": "code",
   "execution_count": 65,
   "metadata": {},
   "outputs": [
    {
     "data": {
      "text/plain": [
       "Pipeline(memory=None,\n",
       "         steps=[('ordinalencoder',\n",
       "                 OrdinalEncoder(cols=[], drop_invariant=False,\n",
       "                                handle_missing='value', handle_unknown='value',\n",
       "                                mapping=[], return_df=True, verbose=0)),\n",
       "                ('onehotencoder',\n",
       "                 OneHotEncoder(cols=[], drop_invariant=False,\n",
       "                               handle_missing='value', handle_unknown='value',\n",
       "                               return_df=True, use_cat_names=False,\n",
       "                               verbose=0)),\n",
       "                ('standardscaler',\n",
       "                 StandardScaler(copy=True, with_mean=True, with_std=True)),\n",
       "                ('lasso',\n",
       "                 Lasso(alpha=1.0, copy_X=True, fit_intercept=True,\n",
       "                       max_iter=1000, normalize=False, positive=False,\n",
       "                       precompute=False, random_state=None, selection='cyclic',\n",
       "                       tol=0.0001, warm_start=False))],\n",
       "         verbose=False)"
      ]
     },
     "execution_count": 65,
     "metadata": {},
     "output_type": "execute_result"
    }
   ],
   "source": [
    "lasso_pipe.fit(Xpct_train, ypct_train)"
   ]
  },
  {
   "cell_type": "code",
   "execution_count": 67,
   "metadata": {},
   "outputs": [
    {
     "data": {
      "text/plain": [
       "-2.5387752302652444e-06"
      ]
     },
     "execution_count": 67,
     "metadata": {},
     "output_type": "execute_result"
    }
   ],
   "source": [
    "lasso_pipe.score(Xpct_test, ypct_test)"
   ]
  },
  {
   "cell_type": "code",
   "execution_count": 69,
   "metadata": {},
   "outputs": [],
   "source": [
    "leaf_samples = [1, 5, 10, 15]\n",
    "pct_rf_scores = []\n",
    "\n",
    "for sample in leaf_samples:\n",
    "    # Not saying for alpha in alphas, but same concept\n",
    "    rf_pipe.steps[-1][1].set_params(min_samples_leaf = sample)\n",
    "    scores = cross_val_score(estimator=rf_pipe, X=Xpct_train, y=ypct_train, cv=10)\n",
    "    rf_scores.append((np.mean(scores), sample))"
   ]
  },
  {
   "cell_type": "code",
   "execution_count": 70,
   "metadata": {},
   "outputs": [
    {
     "data": {
      "text/plain": [
       "[]"
      ]
     },
     "execution_count": 70,
     "metadata": {},
     "output_type": "execute_result"
    }
   ],
   "source": [
    "pct_rf_scores"
   ]
  },
  {
   "cell_type": "code",
   "execution_count": 71,
   "metadata": {},
   "outputs": [
    {
     "data": {
      "text/plain": [
       "<matplotlib.collections.PathCollection at 0x121973650>"
      ]
     },
     "execution_count": 71,
     "metadata": {},
     "output_type": "execute_result"
    },
    {
     "data": {
      "image/png": "[encoded data removed]",
      "text/plain": [
       "<Figure size 432x288 with 1 Axes>"
      ]
     },
     "metadata": {
      "needs_background": "light"
     },
     "output_type": "display_data"
    }
   ],
   "source": [
    "pct_rf_ypred = rf.predict(Xpct_train)\n",
    "plt.scatter(pct_rf_ypred, ypct_train)"
   ]
  },
  {
   "cell_type": "code",
   "execution_count": null,
   "metadata": {},
   "outputs": [],
   "source": [
    "import xgboost as xgb"
   ]
  },
  {
   "cell_type": "code",
   "execution_count": 9,
   "metadata": {},
   "outputs": [],
   "source": [
    "ohe = OneHotEncoder()\n",
    "xgbr1 = xgb.XGBRegressor(n_jobs=2)\n",
    "xgb_pipe1 = Pipeline([('ohe', ohe), ('xgbr', xgbr1)])"
   ]
  },
  {
   "cell_type": "code",
   "execution_count": 11,
   "metadata": {},
   "outputs": [],
   "source": [
    "params1 = {\n",
    "    'xgbr__max_depth': [1, 3, 5],\n",
    "    'xgbr__n_estimators': [100, 300, 500]\n",
    "}"
   ]
  },
  {
   "cell_type": "code",
   "execution_count": 12,
   "metadata": {},
   "outputs": [
    {
     "name": "stdout",
     "output_type": "stream",
     "text": [
      "[21:05:34] WARNING: src/objective/regression_obj.cu:152: reg:linear is now deprecated in favor of reg:squarederror.\n"
     ]
    },
    {
     "data": {
      "text/plain": [
       "GridSearchCV(cv=5, error_score=nan,\n",
       "             estimator=Pipeline(memory=None,\n",
       "                                steps=[('ohe',\n",
       "                                        OneHotEncoder(cols=None,\n",
       "                                                      drop_invariant=False,\n",
       "                                                      handle_missing='value',\n",
       "                                                      handle_unknown='value',\n",
       "                                                      return_df=True,\n",
       "                                                      use_cat_names=False,\n",
       "                                                      verbose=0)),\n",
       "                                       ('xgbr',\n",
       "                                        XGBRegressor(base_score=0.5,\n",
       "                                                     booster='gbtree',\n",
       "                                                     colsample_bylevel=1,\n",
       "                                                     colsample_bynode=1,\n",
       "                                                     colsample_bytree=1,\n",
       "                                                     gamma=0,\n",
       "                                                     importance_typ...\n",
       "                                                     n_estimators=100, n_jobs=2,\n",
       "                                                     nthread=None,\n",
       "                                                     objective='reg:linear',\n",
       "                                                     random_state=0,\n",
       "                                                     reg_alpha=0, reg_lambda=1,\n",
       "                                                     scale_pos_weight=1,\n",
       "                                                     seed=None, silent=None,\n",
       "                                                     subsample=1,\n",
       "                                                     verbosity=1))],\n",
       "                                verbose=False),\n",
       "             iid='deprecated', n_jobs=3,\n",
       "             param_grid={'xgbr__max_depth': [1, 3, 5],\n",
       "                         'xgbr__n_estimators': [100, 300, 500]},\n",
       "             pre_dispatch='2*n_jobs', refit=True, return_train_score=False,\n",
       "             scoring='r2', verbose=0)"
      ]
     },
     "execution_count": 12,
     "metadata": {},
     "output_type": "execute_result"
    }
   ],
   "source": [
    "gsearch1 = GridSearchCV(xgb_pipe1, params1, scoring='r2', cv=5, n_jobs=3)\n",
    "gsearch1.fit(X_train, y_train)"
   ]
  },
  {
   "cell_type": "code",
   "execution_count": 16,
   "metadata": {},
   "outputs": [
    {
     "data": {
      "text/plain": [
       "(0.6950382356128417, {'xgbr__max_depth': 5, 'xgbr__n_estimators': 500})"
      ]
     },
     "execution_count": 16,
     "metadata": {},
     "output_type": "execute_result"
    }
   ],
   "source": [
    "gsearch1.best_score_, gsearch1.best_params_"
   ]
  },
  {
   "cell_type": "code",
   "execution_count": 21,
   "metadata": {},
   "outputs": [
    {
     "data": {
      "text/plain": [
       "XGBRegressor(base_score=0.5, booster='gbtree', colsample_bylevel=1,\n",
       "             colsample_bynode=1, colsample_bytree=1, gamma=0,\n",
       "             importance_type='gain', learning_rate=0.1, max_delta_step=0,\n",
       "             max_depth=5, min_child_weight=1, missing=None, n_estimators=500,\n",
       "             n_jobs=2, nthread=None, objective='reg:linear', random_state=0,\n",
       "             reg_alpha=0, reg_lambda=1, scale_pos_weight=1, seed=None,\n",
       "             silent=None, subsample=1, verbosity=1)"
      ]
     },
     "execution_count": 21,
     "metadata": {},
     "output_type": "execute_result"
    }
   ],
   "source": [
    "xgb_pipe1.steps[-1][1].set_params(max_depth= 5, n_estimators=500)"
   ]
  },
  {
   "cell_type": "code",
   "execution_count": 23,
   "metadata": {},
   "outputs": [
    {
     "name": "stdout",
     "output_type": "stream",
     "text": [
      "[21:23:46] WARNING: src/objective/regression_obj.cu:152: reg:linear is now deprecated in favor of reg:squarederror.\n"
     ]
    },
    {
     "data": {
      "text/plain": [
       "Pipeline(memory=None,\n",
       "         steps=[('ohe',\n",
       "                 OneHotEncoder(cols=['activity', 'sector', 'country',\n",
       "                                     'repayment_interval', 'PostedDayofWeek'],\n",
       "                               drop_invariant=False, handle_missing='value',\n",
       "                               handle_unknown='value', return_df=True,\n",
       "                               use_cat_names=False, verbose=0)),\n",
       "                ('xgbr',\n",
       "                 XGBRegressor(base_score=0.5, booster='gbtree',\n",
       "                              colsample_bylevel=1, colsample_bynode=1,\n",
       "                              colsample_bytree=1, gamma=0,\n",
       "                              importance_type='gain', learning_rate=0.1,\n",
       "                              max_delta_step=0, max_depth=5, min_child_weight=1,\n",
       "                              missing=None, n_estimators=500, n_jobs=2,\n",
       "                              nthread=None, objective='reg:linear',\n",
       "                              random_state=0, reg_alpha=0, reg_lambda=1,\n",
       "                              scale_pos_weight=1, seed=None, silent=None,\n",
       "                              subsample=1, verbosity=1))],\n",
       "         verbose=False)"
      ]
     },
     "execution_count": 23,
     "metadata": {},
     "output_type": "execute_result"
    }
   ],
   "source": [
    "xgb_pipe1.fit(X_train, y_train)"
   ]
  },
  {
   "cell_type": "code",
   "execution_count": 24,
   "metadata": {},
   "outputs": [
    {
     "data": {
      "text/plain": [
       "0.7003245892543108"
      ]
     },
     "execution_count": 24,
     "metadata": {},
     "output_type": "execute_result"
    }
   ],
   "source": [
    "xgb_pipe1.score(X_test, y_test)"
   ]
  },
  {
   "cell_type": "code",
   "execution_count": 25,
   "metadata": {},
   "outputs": [],
   "source": [
    "with open('xgbr_pctfnd.pickle', 'wb') as f:\n",
    "    pickle.dump(xgb_pipe1, f)"
   ]
  },
  {
   "cell_type": "code",
   "execution_count": 7,
   "metadata": {},
   "outputs": [],
   "source": [
    "xgbr2 = xgb.XGBRegressor(max_depth= 5, n_estimators=500, n_jobs=2)"
   ]
  },
  {
   "cell_type": "code",
   "execution_count": 10,
   "metadata": {},
   "outputs": [],
   "source": [
    "xgb_pipe2 = Pipeline([('ohe', ohe), ('xgbr', xgbr2)])"
   ]
  },
  {
   "cell_type": "code",
   "execution_count": null,
   "metadata": {},
   "outputs": [],
   "source": [
    "xgb_pipe2.steps[-1][1].set_params(**gsearch2.best_params_)"
   ]
  },
  {
   "cell_type": "code",
   "execution_count": null,
   "metadata": {},
   "outputs": [],
   "source": [
    "xgb_pipe2.fit(X_train, y_train)"
   ]
  },
  {
   "cell_type": "code",
   "execution_count": null,
   "metadata": {},
   "outputs": [],
   "source": [
    "with open('xgbr_pctfnd2.pickle', 'wb') as f:\n",
    "    pickle.dump(xgb_pipe2, f)"
   ]
  },
  {
   "cell_type": "code",
   "execution_count": 18,
   "metadata": {},
   "outputs": [
    {
     "name": "stdout",
     "output_type": "stream",
     "text": [
      "[07:03:17] WARNING: src/objective/regression_obj.cu:152: reg:linear is now deprecated in favor of reg:squarederror.\n",
      "[07:03:19] WARNING: src/objective/regression_obj.cu:152: reg:linear is now deprecated in favor of reg:squarederror.\n",
      "[07:03:23] WARNING: src/objective/regression_obj.cu:152: reg:linear is now deprecated in favor of reg:squarederror.\n",
      "[07:24:59] WARNING: src/objective/regression_obj.cu:152: reg:linear is now deprecated in favor of reg:squarederror.\n",
      "Training rmse: 0.08458\n",
      "Test rmse: 0.08808\n"
     ]
    },
    {
     "data": {
      "image/png": "[encoded data removed]",
      "text/plain": [
       "<Figure size 864x864 with 1 Axes>"
      ]
     },
     "metadata": {
      "needs_background": "light"
     },
     "output_type": "display_data"
    }
   ],
   "source": [
    "from utils import fit_xgbmodel\n",
    "# prep = Pipeline(xgb_pipe2.steps[:-1])\n",
    "\n",
    "# X_train = prep.fit_transform(X_train)\n",
    "# X_test = prep.transform(X_test)\n",
    "fit_xgbmodel(xgb_pipe2.steps[-1][1], X_train, y_train, X_test, y_test, scoring='rmse')"
   ]
  },
  {
   "cell_type": "code",
   "execution_count": 32,
   "metadata": {},
   "outputs": [
    {
     "data": {
      "text/plain": [
       "0.6935487540099278"
      ]
     },
     "execution_count": 32,
     "metadata": {},
     "output_type": "execute_result"
    }
   ],
   "source": [
    "xgb_pipe2[-1].score(X_test.values, y_test.values)"
   ]
  },
  {
   "cell_type": "code",
   "execution_count": 36,
   "metadata": {},
   "outputs": [],
   "source": [
    "params2 = {\n",
    "    'xgbr__min_child_weight':[6,8,10,12]\n",
    "}"
   ]
  },
  {
   "cell_type": "code",
   "execution_count": 53,
   "metadata": {},
   "outputs": [],
   "source": [
    "prep = Pipeline(xgb_pipe2.steps[:-1])\n",
    "\n",
    "testX = prep.fit_transform(X_train)\n",
    "testy = y_train"
   ]
  },
  {
   "cell_type": "code",
   "execution_count": 54,
   "metadata": {},
   "outputs": [],
   "source": [
    "fit_params = {\n",
    "    \"xgbr__early_stopping_rounds\": 20, \n",
    "    \"xgbr__eval_metric\" : \"rmse\", \n",
    "    \"xgbr__eval_set\" : [[testX, testy]]\n",
    "} "
   ]
  },
  {
   "cell_type": "code",
   "execution_count": 55,
   "metadata": {},
   "outputs": [
    {
     "name": "stdout",
     "output_type": "stream",
     "text": [
      "[09:31:23] WARNING: src/objective/regression_obj.cu:152: reg:linear is now deprecated in favor of reg:squarederror.\n",
      "[0]\tvalidation_0-rmse:0.441219\n",
      "Will train until validation_0-rmse hasn't improved in 20 rounds.\n",
      "[1]\tvalidation_0-rmse:0.399731\n",
      "[2]\tvalidation_0-rmse:0.36303\n",
      "[3]\tvalidation_0-rmse:0.330011\n",
      "[4]\tvalidation_0-rmse:0.300799\n",
      "[5]\tvalidation_0-rmse:0.274681\n",
      "[6]\tvalidation_0-rmse:0.251664\n",
      "[7]\tvalidation_0-rmse:0.231186\n",
      "[8]\tvalidation_0-rmse:0.213059\n",
      "[9]\tvalidation_0-rmse:0.197108\n",
      "[10]\tvalidation_0-rmse:0.18307\n",
      "[11]\tvalidation_0-rmse:0.17085\n",
      "[12]\tvalidation_0-rmse:0.160116\n",
      "[13]\tvalidation_0-rmse:0.150738\n",
      "[14]\tvalidation_0-rmse:0.142456\n",
      "[15]\tvalidation_0-rmse:0.135587\n",
      "[16]\tvalidation_0-rmse:0.129477\n",
      "[17]\tvalidation_0-rmse:0.124395\n",
      "[18]\tvalidation_0-rmse:0.11983\n",
      "[19]\tvalidation_0-rmse:0.116049\n",
      "[20]\tvalidation_0-rmse:0.11293\n",
      "[21]\tvalidation_0-rmse:0.110276\n",
      "[22]\tvalidation_0-rmse:0.107831\n",
      "[23]\tvalidation_0-rmse:0.105842\n",
      "[24]\tvalidation_0-rmse:0.104208\n",
      "[25]\tvalidation_0-rmse:0.102696\n",
      "[26]\tvalidation_0-rmse:0.101401\n",
      "[27]\tvalidation_0-rmse:0.100466\n",
      "[28]\tvalidation_0-rmse:0.099392\n",
      "[29]\tvalidation_0-rmse:0.09851\n",
      "[30]\tvalidation_0-rmse:0.097779\n",
      "[31]\tvalidation_0-rmse:0.09707\n",
      "[32]\tvalidation_0-rmse:0.096512\n",
      "[33]\tvalidation_0-rmse:0.096071\n",
      "[34]\tvalidation_0-rmse:0.095604\n",
      "[35]\tvalidation_0-rmse:0.095228\n",
      "[36]\tvalidation_0-rmse:0.094831\n",
      "[37]\tvalidation_0-rmse:0.094544\n",
      "[38]\tvalidation_0-rmse:0.0943\n",
      "[39]\tvalidation_0-rmse:0.093939\n",
      "[40]\tvalidation_0-rmse:0.093783\n",
      "[41]\tvalidation_0-rmse:0.093515\n",
      "[42]\tvalidation_0-rmse:0.093367\n",
      "[43]\tvalidation_0-rmse:0.09323\n",
      "[44]\tvalidation_0-rmse:0.093013\n",
      "[45]\tvalidation_0-rmse:0.092877\n",
      "[46]\tvalidation_0-rmse:0.092769\n",
      "[47]\tvalidation_0-rmse:0.092661\n",
      "[48]\tvalidation_0-rmse:0.092578\n",
      "[49]\tvalidation_0-rmse:0.092409\n",
      "[50]\tvalidation_0-rmse:0.092332\n",
      "[51]\tvalidation_0-rmse:0.09223\n",
      "[52]\tvalidation_0-rmse:0.092075\n",
      "[53]\tvalidation_0-rmse:0.092\n",
      "[54]\tvalidation_0-rmse:0.091904\n",
      "[55]\tvalidation_0-rmse:0.091872\n",
      "[56]\tvalidation_0-rmse:0.091831\n",
      "[57]\tvalidation_0-rmse:0.091769\n",
      "[58]\tvalidation_0-rmse:0.091682\n",
      "[59]\tvalidation_0-rmse:0.091481\n",
      "[60]\tvalidation_0-rmse:0.091435\n",
      "[61]\tvalidation_0-rmse:0.091361\n",
      "[62]\tvalidation_0-rmse:0.091216\n",
      "[63]\tvalidation_0-rmse:0.091195\n",
      "[64]\tvalidation_0-rmse:0.091174\n",
      "[65]\tvalidation_0-rmse:0.091123\n",
      "[66]\tvalidation_0-rmse:0.091051\n",
      "[67]\tvalidation_0-rmse:0.091012\n",
      "[68]\tvalidation_0-rmse:0.090911\n",
      "[69]\tvalidation_0-rmse:0.090881\n",
      "[70]\tvalidation_0-rmse:0.09085\n",
      "[71]\tvalidation_0-rmse:0.090823\n",
      "[72]\tvalidation_0-rmse:0.090785\n",
      "[73]\tvalidation_0-rmse:0.090663\n",
      "[74]\tvalidation_0-rmse:0.090643\n",
      "[75]\tvalidation_0-rmse:0.090593\n",
      "[76]\tvalidation_0-rmse:0.090554\n",
      "[77]\tvalidation_0-rmse:0.090531\n",
      "[78]\tvalidation_0-rmse:0.090444\n",
      "[79]\tvalidation_0-rmse:0.090416\n",
      "[80]\tvalidation_0-rmse:0.090396\n",
      "[81]\tvalidation_0-rmse:0.090294\n",
      "[82]\tvalidation_0-rmse:0.09025\n",
      "[83]\tvalidation_0-rmse:0.090225\n",
      "[84]\tvalidation_0-rmse:0.090195\n",
      "[85]\tvalidation_0-rmse:0.090162\n",
      "[86]\tvalidation_0-rmse:0.090093\n",
      "[87]\tvalidation_0-rmse:0.090074\n",
      "[88]\tvalidation_0-rmse:0.090026\n",
      "[89]\tvalidation_0-rmse:0.090014\n",
      "[90]\tvalidation_0-rmse:0.089934\n",
      "[91]\tvalidation_0-rmse:0.089904\n",
      "[92]\tvalidation_0-rmse:0.08989\n",
      "[93]\tvalidation_0-rmse:0.089869\n",
      "[94]\tvalidation_0-rmse:0.089821\n",
      "[95]\tvalidation_0-rmse:0.08978\n",
      "[96]\tvalidation_0-rmse:0.089763\n",
      "[97]\tvalidation_0-rmse:0.089722\n",
      "[98]\tvalidation_0-rmse:0.089684\n",
      "[99]\tvalidation_0-rmse:0.089667\n",
      "[100]\tvalidation_0-rmse:0.089645\n",
      "[101]\tvalidation_0-rmse:0.089611\n",
      "[102]\tvalidation_0-rmse:0.089598\n",
      "[103]\tvalidation_0-rmse:0.089576\n",
      "[104]\tvalidation_0-rmse:0.089535\n",
      "[105]\tvalidation_0-rmse:0.08952\n",
      "[106]\tvalidation_0-rmse:0.089437\n",
      "[107]\tvalidation_0-rmse:0.089411\n",
      "[108]\tvalidation_0-rmse:0.089393\n",
      "[109]\tvalidation_0-rmse:0.089365\n",
      "[110]\tvalidation_0-rmse:0.089327\n",
      "[111]\tvalidation_0-rmse:0.089305\n",
      "[112]\tvalidation_0-rmse:0.089234\n",
      "[113]\tvalidation_0-rmse:0.089219\n",
      "[114]\tvalidation_0-rmse:0.0892\n",
      "[115]\tvalidation_0-rmse:0.089183\n",
      "[116]\tvalidation_0-rmse:0.089168\n",
      "[117]\tvalidation_0-rmse:0.089152\n",
      "[118]\tvalidation_0-rmse:0.089136\n",
      "[119]\tvalidation_0-rmse:0.089125\n",
      "[120]\tvalidation_0-rmse:0.08911\n",
      "[121]\tvalidation_0-rmse:0.089098\n",
      "[122]\tvalidation_0-rmse:0.089088\n",
      "[123]\tvalidation_0-rmse:0.089051\n",
      "[124]\tvalidation_0-rmse:0.089015\n",
      "[125]\tvalidation_0-rmse:0.088983\n",
      "[126]\tvalidation_0-rmse:0.088969\n",
      "[127]\tvalidation_0-rmse:0.088959\n",
      "[128]\tvalidation_0-rmse:0.08894\n",
      "[129]\tvalidation_0-rmse:0.088921\n",
      "[130]\tvalidation_0-rmse:0.088876\n",
      "[131]\tvalidation_0-rmse:0.088853\n",
      "[132]\tvalidation_0-rmse:0.088843\n",
      "[133]\tvalidation_0-rmse:0.088831\n",
      "[134]\tvalidation_0-rmse:0.08881\n",
      "[135]\tvalidation_0-rmse:0.08879\n",
      "[136]\tvalidation_0-rmse:0.088775\n",
      "[137]\tvalidation_0-rmse:0.088766\n",
      "[138]\tvalidation_0-rmse:0.088747\n",
      "[139]\tvalidation_0-rmse:0.088728\n",
      "[140]\tvalidation_0-rmse:0.088717\n",
      "[141]\tvalidation_0-rmse:0.088699\n",
      "[142]\tvalidation_0-rmse:0.088689\n",
      "[143]\tvalidation_0-rmse:0.088671\n",
      "[144]\tvalidation_0-rmse:0.088646\n",
      "[145]\tvalidation_0-rmse:0.088632\n",
      "[146]\tvalidation_0-rmse:0.088614\n",
      "[147]\tvalidation_0-rmse:0.088593\n",
      "[148]\tvalidation_0-rmse:0.088543\n",
      "[149]\tvalidation_0-rmse:0.088534\n",
      "[150]\tvalidation_0-rmse:0.088513\n",
      "[151]\tvalidation_0-rmse:0.088496\n",
      "[152]\tvalidation_0-rmse:0.088491\n",
      "[153]\tvalidation_0-rmse:0.088472\n",
      "[154]\tvalidation_0-rmse:0.088466\n",
      "[155]\tvalidation_0-rmse:0.088447\n",
      "[156]\tvalidation_0-rmse:0.088418\n",
      "[157]\tvalidation_0-rmse:0.088404\n",
      "[158]\tvalidation_0-rmse:0.088395\n",
      "[159]\tvalidation_0-rmse:0.088381\n",
      "[160]\tvalidation_0-rmse:0.088362\n",
      "[161]\tvalidation_0-rmse:0.088355\n",
      "[162]\tvalidation_0-rmse:0.088348\n",
      "[163]\tvalidation_0-rmse:0.088307\n",
      "[164]\tvalidation_0-rmse:0.088295\n",
      "[165]\tvalidation_0-rmse:0.088286\n",
      "[166]\tvalidation_0-rmse:0.088276\n",
      "[167]\tvalidation_0-rmse:0.088237\n",
      "[168]\tvalidation_0-rmse:0.088227\n",
      "[169]\tvalidation_0-rmse:0.088208\n",
      "[170]\tvalidation_0-rmse:0.088199\n",
      "[171]\tvalidation_0-rmse:0.088184\n",
      "[172]\tvalidation_0-rmse:0.088181\n",
      "[173]\tvalidation_0-rmse:0.088165\n",
      "[174]\tvalidation_0-rmse:0.088145\n",
      "[175]\tvalidation_0-rmse:0.08813\n",
      "[176]\tvalidation_0-rmse:0.08811\n",
      "[177]\tvalidation_0-rmse:0.088101\n",
      "[178]\tvalidation_0-rmse:0.088085\n",
      "[179]\tvalidation_0-rmse:0.088051\n",
      "[180]\tvalidation_0-rmse:0.088044\n",
      "[181]\tvalidation_0-rmse:0.088024\n",
      "[182]\tvalidation_0-rmse:0.088015\n",
      "[183]\tvalidation_0-rmse:0.088003\n",
      "[184]\tvalidation_0-rmse:0.087989\n",
      "[185]\tvalidation_0-rmse:0.087973\n",
      "[186]\tvalidation_0-rmse:0.087962\n",
      "[187]\tvalidation_0-rmse:0.087933\n",
      "[188]\tvalidation_0-rmse:0.08793\n",
      "[189]\tvalidation_0-rmse:0.087926\n",
      "[190]\tvalidation_0-rmse:0.087911\n",
      "[191]\tvalidation_0-rmse:0.08789\n",
      "[192]\tvalidation_0-rmse:0.087864\n",
      "[193]\tvalidation_0-rmse:0.087846\n",
      "[194]\tvalidation_0-rmse:0.087823\n",
      "[195]\tvalidation_0-rmse:0.087816\n",
      "[196]\tvalidation_0-rmse:0.087806\n",
      "[197]\tvalidation_0-rmse:0.08779\n",
      "[198]\tvalidation_0-rmse:0.087786\n",
      "[199]\tvalidation_0-rmse:0.087768\n",
      "[200]\tvalidation_0-rmse:0.08776\n",
      "[201]\tvalidation_0-rmse:0.087755\n",
      "[202]\tvalidation_0-rmse:0.087729\n",
      "[203]\tvalidation_0-rmse:0.087721\n",
      "[204]\tvalidation_0-rmse:0.087698\n",
      "[205]\tvalidation_0-rmse:0.087692\n",
      "[206]\tvalidation_0-rmse:0.087688\n",
      "[207]\tvalidation_0-rmse:0.087679\n",
      "[208]\tvalidation_0-rmse:0.087674\n",
      "[209]\tvalidation_0-rmse:0.087657\n",
      "[210]\tvalidation_0-rmse:0.087652\n",
      "[211]\tvalidation_0-rmse:0.087648\n",
      "[212]\tvalidation_0-rmse:0.087644\n",
      "[213]\tvalidation_0-rmse:0.087603\n",
      "[214]\tvalidation_0-rmse:0.087593\n",
      "[215]\tvalidation_0-rmse:0.087581\n",
      "[216]\tvalidation_0-rmse:0.087569\n",
      "[217]\tvalidation_0-rmse:0.087566\n",
      "[218]\tvalidation_0-rmse:0.087552\n",
      "[219]\tvalidation_0-rmse:0.087534\n",
      "[220]\tvalidation_0-rmse:0.087526\n",
      "[221]\tvalidation_0-rmse:0.087507\n",
      "[222]\tvalidation_0-rmse:0.087503\n",
      "[223]\tvalidation_0-rmse:0.087495\n",
      "[224]\tvalidation_0-rmse:0.087491\n",
      "[225]\tvalidation_0-rmse:0.087477\n",
      "[226]\tvalidation_0-rmse:0.08746\n",
      "[227]\tvalidation_0-rmse:0.087446\n",
      "[228]\tvalidation_0-rmse:0.087438\n",
      "[229]\tvalidation_0-rmse:0.087426\n",
      "[230]\tvalidation_0-rmse:0.087418\n",
      "[231]\tvalidation_0-rmse:0.08741\n",
      "[232]\tvalidation_0-rmse:0.087401\n",
      "[233]\tvalidation_0-rmse:0.087381\n",
      "[234]\tvalidation_0-rmse:0.087359\n",
      "[235]\tvalidation_0-rmse:0.087341\n",
      "[236]\tvalidation_0-rmse:0.087336\n",
      "[237]\tvalidation_0-rmse:0.087326\n",
      "[238]\tvalidation_0-rmse:0.087317\n",
      "[239]\tvalidation_0-rmse:0.087303\n",
      "[240]\tvalidation_0-rmse:0.0873\n",
      "[241]\tvalidation_0-rmse:0.087294\n",
      "[242]\tvalidation_0-rmse:0.087273\n",
      "[243]\tvalidation_0-rmse:0.087262\n",
      "[244]\tvalidation_0-rmse:0.087256\n",
      "[245]\tvalidation_0-rmse:0.087242\n",
      "[246]\tvalidation_0-rmse:0.08723\n",
      "[247]\tvalidation_0-rmse:0.087225\n",
      "[248]\tvalidation_0-rmse:0.087218\n",
      "[249]\tvalidation_0-rmse:0.087214\n",
      "[250]\tvalidation_0-rmse:0.087206\n",
      "[251]\tvalidation_0-rmse:0.0872\n",
      "[252]\tvalidation_0-rmse:0.087198\n",
      "[253]\tvalidation_0-rmse:0.087191\n",
      "[254]\tvalidation_0-rmse:0.087186\n",
      "[255]\tvalidation_0-rmse:0.08718\n",
      "[256]\tvalidation_0-rmse:0.087177\n",
      "[257]\tvalidation_0-rmse:0.08717\n",
      "[258]\tvalidation_0-rmse:0.087163\n",
      "[259]\tvalidation_0-rmse:0.087159\n",
      "[260]\tvalidation_0-rmse:0.087157\n",
      "[261]\tvalidation_0-rmse:0.087146\n",
      "[262]\tvalidation_0-rmse:0.087138\n",
      "[263]\tvalidation_0-rmse:0.087134\n",
      "[264]\tvalidation_0-rmse:0.08712\n",
      "[265]\tvalidation_0-rmse:0.087107\n",
      "[266]\tvalidation_0-rmse:0.087075\n",
      "[267]\tvalidation_0-rmse:0.087069\n",
      "[268]\tvalidation_0-rmse:0.087062\n",
      "[269]\tvalidation_0-rmse:0.087045\n",
      "[270]\tvalidation_0-rmse:0.087027\n",
      "[271]\tvalidation_0-rmse:0.087023\n",
      "[272]\tvalidation_0-rmse:0.086997\n",
      "[273]\tvalidation_0-rmse:0.086991\n",
      "[274]\tvalidation_0-rmse:0.086986\n",
      "[275]\tvalidation_0-rmse:0.086984\n",
      "[276]\tvalidation_0-rmse:0.086978\n",
      "[277]\tvalidation_0-rmse:0.086969\n",
      "[278]\tvalidation_0-rmse:0.086955\n",
      "[279]\tvalidation_0-rmse:0.086939\n",
      "[280]\tvalidation_0-rmse:0.086937\n",
      "[281]\tvalidation_0-rmse:0.086922\n",
      "[282]\tvalidation_0-rmse:0.086904\n",
      "[283]\tvalidation_0-rmse:0.08689\n",
      "[284]\tvalidation_0-rmse:0.086887\n",
      "[285]\tvalidation_0-rmse:0.086877\n",
      "[286]\tvalidation_0-rmse:0.08687\n",
      "[287]\tvalidation_0-rmse:0.086867\n",
      "[288]\tvalidation_0-rmse:0.08685\n",
      "[289]\tvalidation_0-rmse:0.086844\n",
      "[290]\tvalidation_0-rmse:0.086835\n",
      "[291]\tvalidation_0-rmse:0.086832\n",
      "[292]\tvalidation_0-rmse:0.086824\n",
      "[293]\tvalidation_0-rmse:0.086817\n",
      "[294]\tvalidation_0-rmse:0.086805\n",
      "[295]\tvalidation_0-rmse:0.086801\n",
      "[296]\tvalidation_0-rmse:0.086796\n",
      "[297]\tvalidation_0-rmse:0.086786\n",
      "[298]\tvalidation_0-rmse:0.086783\n",
      "[299]\tvalidation_0-rmse:0.086759\n",
      "[300]\tvalidation_0-rmse:0.086756\n",
      "[301]\tvalidation_0-rmse:0.086753\n",
      "[302]\tvalidation_0-rmse:0.086742\n",
      "[303]\tvalidation_0-rmse:0.086741\n",
      "[304]\tvalidation_0-rmse:0.086738\n",
      "[305]\tvalidation_0-rmse:0.086704\n",
      "[306]\tvalidation_0-rmse:0.086694\n",
      "[307]\tvalidation_0-rmse:0.086675\n",
      "[308]\tvalidation_0-rmse:0.08666\n",
      "[309]\tvalidation_0-rmse:0.086656\n",
      "[310]\tvalidation_0-rmse:0.086651\n",
      "[311]\tvalidation_0-rmse:0.086644\n",
      "[312]\tvalidation_0-rmse:0.086643\n",
      "[313]\tvalidation_0-rmse:0.08664\n",
      "[314]\tvalidation_0-rmse:0.086633\n",
      "[315]\tvalidation_0-rmse:0.086628\n",
      "[316]\tvalidation_0-rmse:0.086618\n",
      "[317]\tvalidation_0-rmse:0.086605\n",
      "[318]\tvalidation_0-rmse:0.086602\n",
      "[319]\tvalidation_0-rmse:0.086582\n",
      "[320]\tvalidation_0-rmse:0.086565\n",
      "[321]\tvalidation_0-rmse:0.086548\n",
      "[322]\tvalidation_0-rmse:0.086543\n",
      "[323]\tvalidation_0-rmse:0.086541\n",
      "[324]\tvalidation_0-rmse:0.086529\n",
      "[325]\tvalidation_0-rmse:0.086526\n",
      "[326]\tvalidation_0-rmse:0.086515\n",
      "[327]\tvalidation_0-rmse:0.086514\n",
      "[328]\tvalidation_0-rmse:0.086511\n",
      "[329]\tvalidation_0-rmse:0.086502\n",
      "[330]\tvalidation_0-rmse:0.086498\n",
      "[331]\tvalidation_0-rmse:0.08649\n",
      "[332]\tvalidation_0-rmse:0.086485\n",
      "[333]\tvalidation_0-rmse:0.086476\n",
      "[334]\tvalidation_0-rmse:0.086473\n",
      "[335]\tvalidation_0-rmse:0.086459\n",
      "[336]\tvalidation_0-rmse:0.086451\n",
      "[337]\tvalidation_0-rmse:0.086442\n",
      "[338]\tvalidation_0-rmse:0.086433\n",
      "[339]\tvalidation_0-rmse:0.086427\n",
      "[340]\tvalidation_0-rmse:0.086415\n",
      "[341]\tvalidation_0-rmse:0.086409\n",
      "[342]\tvalidation_0-rmse:0.086396\n",
      "[343]\tvalidation_0-rmse:0.086389\n",
      "[344]\tvalidation_0-rmse:0.086384\n",
      "[345]\tvalidation_0-rmse:0.086376\n",
      "[346]\tvalidation_0-rmse:0.086373\n",
      "[347]\tvalidation_0-rmse:0.086358\n",
      "[348]\tvalidation_0-rmse:0.086353\n",
      "[349]\tvalidation_0-rmse:0.086349\n",
      "[350]\tvalidation_0-rmse:0.086345\n",
      "[351]\tvalidation_0-rmse:0.086336\n",
      "[352]\tvalidation_0-rmse:0.086333\n",
      "[353]\tvalidation_0-rmse:0.086311\n",
      "[354]\tvalidation_0-rmse:0.086294\n",
      "[355]\tvalidation_0-rmse:0.086274\n",
      "[356]\tvalidation_0-rmse:0.086263\n",
      "[357]\tvalidation_0-rmse:0.08626\n",
      "[358]\tvalidation_0-rmse:0.086249\n",
      "[359]\tvalidation_0-rmse:0.086248\n",
      "[360]\tvalidation_0-rmse:0.086234\n",
      "[361]\tvalidation_0-rmse:0.086233\n",
      "[362]\tvalidation_0-rmse:0.086231\n",
      "[363]\tvalidation_0-rmse:0.086229\n",
      "[364]\tvalidation_0-rmse:0.086225\n",
      "[365]\tvalidation_0-rmse:0.086221\n",
      "[366]\tvalidation_0-rmse:0.086212\n",
      "[367]\tvalidation_0-rmse:0.086201\n",
      "[368]\tvalidation_0-rmse:0.086193\n",
      "[369]\tvalidation_0-rmse:0.08619\n",
      "[370]\tvalidation_0-rmse:0.086184\n",
      "[371]\tvalidation_0-rmse:0.086175\n",
      "[372]\tvalidation_0-rmse:0.086145\n",
      "[373]\tvalidation_0-rmse:0.086136\n",
      "[374]\tvalidation_0-rmse:0.086117\n",
      "[375]\tvalidation_0-rmse:0.086108\n",
      "[376]\tvalidation_0-rmse:0.086102\n",
      "[377]\tvalidation_0-rmse:0.086092\n",
      "[378]\tvalidation_0-rmse:0.086088\n",
      "[379]\tvalidation_0-rmse:0.086086\n",
      "[380]\tvalidation_0-rmse:0.086083\n",
      "[381]\tvalidation_0-rmse:0.086082\n",
      "[382]\tvalidation_0-rmse:0.086076\n",
      "[383]\tvalidation_0-rmse:0.086073\n",
      "[384]\tvalidation_0-rmse:0.08607\n",
      "[385]\tvalidation_0-rmse:0.086059\n",
      "[386]\tvalidation_0-rmse:0.086034\n",
      "[387]\tvalidation_0-rmse:0.086033\n",
      "[388]\tvalidation_0-rmse:0.086027\n",
      "[389]\tvalidation_0-rmse:0.086021\n",
      "[390]\tvalidation_0-rmse:0.086009\n",
      "[391]\tvalidation_0-rmse:0.085981\n",
      "[392]\tvalidation_0-rmse:0.085954\n",
      "[393]\tvalidation_0-rmse:0.085946\n",
      "[394]\tvalidation_0-rmse:0.085943\n",
      "[395]\tvalidation_0-rmse:0.08594\n",
      "[396]\tvalidation_0-rmse:0.085937\n",
      "[397]\tvalidation_0-rmse:0.085929\n",
      "[398]\tvalidation_0-rmse:0.085925\n",
      "[399]\tvalidation_0-rmse:0.08592\n",
      "[400]\tvalidation_0-rmse:0.085904\n",
      "[401]\tvalidation_0-rmse:0.085896\n",
      "[402]\tvalidation_0-rmse:0.085883\n",
      "[403]\tvalidation_0-rmse:0.08586\n",
      "[404]\tvalidation_0-rmse:0.085851\n",
      "[405]\tvalidation_0-rmse:0.085848\n",
      "[406]\tvalidation_0-rmse:0.085846\n",
      "[407]\tvalidation_0-rmse:0.085841\n",
      "[408]\tvalidation_0-rmse:0.08584\n",
      "[409]\tvalidation_0-rmse:0.085837\n",
      "[410]\tvalidation_0-rmse:0.085835\n",
      "[411]\tvalidation_0-rmse:0.085833\n",
      "[412]\tvalidation_0-rmse:0.08583\n",
      "[413]\tvalidation_0-rmse:0.085819\n",
      "[414]\tvalidation_0-rmse:0.085817\n",
      "[415]\tvalidation_0-rmse:0.085808\n",
      "[416]\tvalidation_0-rmse:0.085806\n",
      "[417]\tvalidation_0-rmse:0.0858\n",
      "[418]\tvalidation_0-rmse:0.085796\n",
      "[419]\tvalidation_0-rmse:0.085772\n",
      "[420]\tvalidation_0-rmse:0.085764\n",
      "[421]\tvalidation_0-rmse:0.085753\n",
      "[422]\tvalidation_0-rmse:0.085746\n",
      "[423]\tvalidation_0-rmse:0.085744\n",
      "[424]\tvalidation_0-rmse:0.085741\n",
      "[425]\tvalidation_0-rmse:0.08573\n",
      "[426]\tvalidation_0-rmse:0.085728\n",
      "[427]\tvalidation_0-rmse:0.085719\n",
      "[428]\tvalidation_0-rmse:0.085712\n",
      "[429]\tvalidation_0-rmse:0.085694\n",
      "[430]\tvalidation_0-rmse:0.085675\n",
      "[431]\tvalidation_0-rmse:0.085656\n",
      "[432]\tvalidation_0-rmse:0.085646\n",
      "[433]\tvalidation_0-rmse:0.085638\n",
      "[434]\tvalidation_0-rmse:0.085621\n",
      "[435]\tvalidation_0-rmse:0.085594\n",
      "[436]\tvalidation_0-rmse:0.085575\n",
      "[437]\tvalidation_0-rmse:0.085563\n",
      "[438]\tvalidation_0-rmse:0.085549\n",
      "[439]\tvalidation_0-rmse:0.085538\n",
      "[440]\tvalidation_0-rmse:0.08553\n",
      "[441]\tvalidation_0-rmse:0.085506\n",
      "[442]\tvalidation_0-rmse:0.085489\n",
      "[443]\tvalidation_0-rmse:0.085482\n",
      "[444]\tvalidation_0-rmse:0.085473\n",
      "[445]\tvalidation_0-rmse:0.085466\n",
      "[446]\tvalidation_0-rmse:0.085434\n",
      "[447]\tvalidation_0-rmse:0.08543\n",
      "[448]\tvalidation_0-rmse:0.085423\n",
      "[449]\tvalidation_0-rmse:0.085416\n",
      "[450]\tvalidation_0-rmse:0.085407\n",
      "[451]\tvalidation_0-rmse:0.085397\n",
      "[452]\tvalidation_0-rmse:0.085384\n",
      "[453]\tvalidation_0-rmse:0.085375\n",
      "[454]\tvalidation_0-rmse:0.085373\n",
      "[455]\tvalidation_0-rmse:0.085373\n",
      "[456]\tvalidation_0-rmse:0.085368\n",
      "[457]\tvalidation_0-rmse:0.085366\n",
      "[458]\tvalidation_0-rmse:0.085363\n",
      "[459]\tvalidation_0-rmse:0.085359\n",
      "[460]\tvalidation_0-rmse:0.085356\n",
      "[461]\tvalidation_0-rmse:0.085352\n",
      "[462]\tvalidation_0-rmse:0.085348\n",
      "[463]\tvalidation_0-rmse:0.08534\n",
      "[464]\tvalidation_0-rmse:0.085324\n",
      "[465]\tvalidation_0-rmse:0.085322\n",
      "[466]\tvalidation_0-rmse:0.085319\n",
      "[467]\tvalidation_0-rmse:0.085311\n",
      "[468]\tvalidation_0-rmse:0.085309\n",
      "[469]\tvalidation_0-rmse:0.085307\n",
      "[470]\tvalidation_0-rmse:0.085306\n",
      "[471]\tvalidation_0-rmse:0.085305\n",
      "[472]\tvalidation_0-rmse:0.085298\n",
      "[473]\tvalidation_0-rmse:0.085289\n",
      "[474]\tvalidation_0-rmse:0.085286\n",
      "[475]\tvalidation_0-rmse:0.085281\n",
      "[476]\tvalidation_0-rmse:0.085277\n",
      "[477]\tvalidation_0-rmse:0.085271\n",
      "[478]\tvalidation_0-rmse:0.085263\n",
      "[479]\tvalidation_0-rmse:0.085261\n",
      "[480]\tvalidation_0-rmse:0.085255\n",
      "[481]\tvalidation_0-rmse:0.085254\n",
      "[482]\tvalidation_0-rmse:0.085251\n",
      "[483]\tvalidation_0-rmse:0.085249\n",
      "[484]\tvalidation_0-rmse:0.085247\n",
      "[485]\tvalidation_0-rmse:0.085244\n",
      "[486]\tvalidation_0-rmse:0.085242\n",
      "[487]\tvalidation_0-rmse:0.085241\n",
      "[488]\tvalidation_0-rmse:0.085231\n",
      "[489]\tvalidation_0-rmse:0.085226\n",
      "[490]\tvalidation_0-rmse:0.085223\n",
      "[491]\tvalidation_0-rmse:0.085219\n",
      "[492]\tvalidation_0-rmse:0.085218\n",
      "[493]\tvalidation_0-rmse:0.085213\n",
      "[494]\tvalidation_0-rmse:0.085211\n",
      "[495]\tvalidation_0-rmse:0.085209\n",
      "[496]\tvalidation_0-rmse:0.0852\n",
      "[497]\tvalidation_0-rmse:0.085195\n",
      "[498]\tvalidation_0-rmse:0.085175\n",
      "[499]\tvalidation_0-rmse:0.085159\n"
     ]
    },
    {
     "data": {
      "text/plain": [
       "GridSearchCV(cv=5, error_score=nan,\n",
       "             estimator=Pipeline(memory=None,\n",
       "                                steps=[('ohe',\n",
       "                                        OneHotEncoder(cols=['activity',\n",
       "                                                            'sector', 'country',\n",
       "                                                            'repayment_interval',\n",
       "                                                            'PostedDayofWeek'],\n",
       "                                                      drop_invariant=False,\n",
       "                                                      handle_missing='value',\n",
       "                                                      handle_unknown='value',\n",
       "                                                      return_df=True,\n",
       "                                                      use_cat_names=False,\n",
       "                                                      verbose=0)),\n",
       "                                       ('xgbr',\n",
       "                                        XGBRegressor(base_score=0.5,\n",
       "                                                     booster='gbtree',\n",
       "                                                     colsample_byle...\n",
       "                                                     missing=None,\n",
       "                                                     n_estimators=500, n_jobs=2,\n",
       "                                                     nthread=None,\n",
       "                                                     objective='reg:linear',\n",
       "                                                     random_state=0,\n",
       "                                                     reg_alpha=0, reg_lambda=1,\n",
       "                                                     scale_pos_weight=1,\n",
       "                                                     seed=None, silent=None,\n",
       "                                                     subsample=1,\n",
       "                                                     verbosity=1))],\n",
       "                                verbose=False),\n",
       "             iid='deprecated', n_jobs=2,\n",
       "             param_grid={'xgbr__min_child_weight': [6, 8, 10, 12]},\n",
       "             pre_dispatch='2*n_jobs', refit=True, return_train_score=False,\n",
       "             scoring='r2', verbose=0)"
      ]
     },
     "execution_count": 55,
     "metadata": {},
     "output_type": "execute_result"
    }
   ],
   "source": [
    "gsearch2 = GridSearchCV(xgb_pipe2, params2, scoring='r2', cv=5, n_jobs=2)\n",
    "gsearch2.fit(X_train, y_train, **fit_params)"
   ]
  },
  {
   "cell_type": "code",
   "execution_count": 56,
   "metadata": {},
   "outputs": [
    {
     "data": {
      "text/plain": [
       "({'xgbr__min_child_weight': 6}, nan)"
      ]
     },
     "execution_count": 56,
     "metadata": {},
     "output_type": "execute_result"
    }
   ],
   "source": [
    "gsearch2.best_params_, gsearch2.best_score_"
   ]
  },
  {
   "cell_type": "code",
   "execution_count": 62,
   "metadata": {},
   "outputs": [
    {
     "data": {
      "text/html": [
       "<div>\n",
       "<style scoped>\n",
       "    .dataframe tbody tr th:only-of-type {\n",
       "        vertical-align: middle;\n",
       "    }\n",
       "\n",
       "    .dataframe tbody tr th {\n",
       "        vertical-align: top;\n",
       "    }\n",
       "\n",
       "    .dataframe thead th {\n",
       "        text-align: right;\n",
       "    }\n",
       "</style>\n",
       "<table border=\"1\" class=\"dataframe\">\n",
       "  <thead>\n",
       "    <tr style=\"text-align: right;\">\n",
       "      <th></th>\n",
       "      <th>mean_fit_time</th>\n",
       "      <th>std_fit_time</th>\n",
       "      <th>mean_score_time</th>\n",
       "      <th>std_score_time</th>\n",
       "      <th>param_xgbr__min_child_weight</th>\n",
       "      <th>params</th>\n",
       "      <th>split0_test_score</th>\n",
       "      <th>split1_test_score</th>\n",
       "      <th>split2_test_score</th>\n",
       "      <th>split3_test_score</th>\n",
       "      <th>split4_test_score</th>\n",
       "      <th>mean_test_score</th>\n",
       "      <th>std_test_score</th>\n",
       "      <th>rank_test_score</th>\n",
       "    </tr>\n",
       "  </thead>\n",
       "  <tbody>\n",
       "    <tr>\n",
       "      <th>0</th>\n",
       "      <td>682.902726</td>\n",
       "      <td>470.636577</td>\n",
       "      <td>3.510287</td>\n",
       "      <td>1.894368</td>\n",
       "      <td>6</td>\n",
       "      <td>{'xgbr__min_child_weight': 6}</td>\n",
       "      <td>0.664597</td>\n",
       "      <td>0.695910</td>\n",
       "      <td>0.693959</td>\n",
       "      <td>NaN</td>\n",
       "      <td>0.691534</td>\n",
       "      <td>NaN</td>\n",
       "      <td>NaN</td>\n",
       "      <td>1</td>\n",
       "    </tr>\n",
       "    <tr>\n",
       "      <th>1</th>\n",
       "      <td>487.988546</td>\n",
       "      <td>311.657212</td>\n",
       "      <td>2.828714</td>\n",
       "      <td>1.431875</td>\n",
       "      <td>8</td>\n",
       "      <td>{'xgbr__min_child_weight': 8}</td>\n",
       "      <td>0.667805</td>\n",
       "      <td>0.694180</td>\n",
       "      <td>0.694920</td>\n",
       "      <td>NaN</td>\n",
       "      <td>0.691611</td>\n",
       "      <td>NaN</td>\n",
       "      <td>NaN</td>\n",
       "      <td>2</td>\n",
       "    </tr>\n",
       "    <tr>\n",
       "      <th>2</th>\n",
       "      <td>466.843230</td>\n",
       "      <td>321.222644</td>\n",
       "      <td>2.618231</td>\n",
       "      <td>1.347552</td>\n",
       "      <td>10</td>\n",
       "      <td>{'xgbr__min_child_weight': 10}</td>\n",
       "      <td>0.665619</td>\n",
       "      <td>0.695056</td>\n",
       "      <td>0.694206</td>\n",
       "      <td>NaN</td>\n",
       "      <td>0.691914</td>\n",
       "      <td>NaN</td>\n",
       "      <td>NaN</td>\n",
       "      <td>3</td>\n",
       "    </tr>\n",
       "    <tr>\n",
       "      <th>3</th>\n",
       "      <td>441.340802</td>\n",
       "      <td>300.694199</td>\n",
       "      <td>2.446822</td>\n",
       "      <td>1.242944</td>\n",
       "      <td>12</td>\n",
       "      <td>{'xgbr__min_child_weight': 12}</td>\n",
       "      <td>0.666888</td>\n",
       "      <td>0.694003</td>\n",
       "      <td>0.693229</td>\n",
       "      <td>NaN</td>\n",
       "      <td>0.690851</td>\n",
       "      <td>NaN</td>\n",
       "      <td>NaN</td>\n",
       "      <td>4</td>\n",
       "    </tr>\n",
       "  </tbody>\n",
       "</table>\n",
       "</div>"
      ],
      "text/plain": [
       "   mean_fit_time  std_fit_time  mean_score_time  std_score_time  \\\n",
       "0     682.902726    470.636577         3.510287        1.894368   \n",
       "1     487.988546    311.657212         2.828714        1.431875   \n",
       "2     466.843230    321.222644         2.618231        1.347552   \n",
       "3     441.340802    300.694199         2.446822        1.242944   \n",
       "\n",
       "  param_xgbr__min_child_weight                          params  \\\n",
       "0                            6   {'xgbr__min_child_weight': 6}   \n",
       "1                            8   {'xgbr__min_child_weight': 8}   \n",
       "2                           10  {'xgbr__min_child_weight': 10}   \n",
       "3                           12  {'xgbr__min_child_weight': 12}   \n",
       "\n",
       "   split0_test_score  split1_test_score  split2_test_score  split3_test_score  \\\n",
       "0           0.664597           0.695910           0.693959                NaN   \n",
       "1           0.667805           0.694180           0.694920                NaN   \n",
       "2           0.665619           0.695056           0.694206                NaN   \n",
       "3           0.666888           0.694003           0.693229                NaN   \n",
       "\n",
       "   split4_test_score  mean_test_score  std_test_score  rank_test_score  \n",
       "0           0.691534              NaN             NaN                1  \n",
       "1           0.691611              NaN             NaN                2  \n",
       "2           0.691914              NaN             NaN                3  \n",
       "3           0.690851              NaN             NaN                4  "
      ]
     },
     "execution_count": 62,
     "metadata": {},
     "output_type": "execute_result"
    }
   ],
   "source": [
    "pd.DataFrame(gsearch2.cv_results_)"
   ]
  },
  {
   "cell_type": "code",
   "execution_count": 57,
   "metadata": {},
   "outputs": [
    {
     "data": {
      "text/plain": [
       "XGBRegressor(base_score=0.5, booster='gbtree', colsample_bylevel=1,\n",
       "             colsample_bynode=1, colsample_bytree=1, gamma=0,\n",
       "             importance_type='gain', learning_rate=0.1, max_delta_step=0,\n",
       "             max_depth=5, min_child_weight=1, missing=None, n_estimators=500,\n",
       "             n_jobs=2, nthread=None, objective='reg:linear', random_state=0,\n",
       "             reg_alpha=0, reg_lambda=1, scale_pos_weight=1, seed=None,\n",
       "             silent=None, subsample=1, verbosity=1, xgbr__min_child_weight=6)"
      ]
     },
     "execution_count": 57,
     "metadata": {},
     "output_type": "execute_result"
    }
   ],
   "source": [
    "xgb_pipe2.steps[-1][1].set_params(**gsearch2.best_params_)"
   ]
  },
  {
   "cell_type": "code",
   "execution_count": 58,
   "metadata": {},
   "outputs": [
    {
     "name": "stdout",
     "output_type": "stream",
     "text": [
      "[09:43:36] WARNING: src/objective/regression_obj.cu:152: reg:linear is now deprecated in favor of reg:squarederror.\n"
     ]
    },
    {
     "data": {
      "text/plain": [
       "0.6989297069702233"
      ]
     },
     "execution_count": 58,
     "metadata": {},
     "output_type": "execute_result"
    }
   ],
   "source": [
    "xgb_pipe2.fit(X_train, y_train)\n",
    "xgb_pipe2.score(X_test, y_test)"
   ]
  },
  {
   "cell_type": "code",
   "execution_count": 59,
   "metadata": {},
   "outputs": [],
   "source": [
    "with open('xgbr_pctfnd4.pickle', 'wb') as f:\n",
    "    pickle.dump(xgb_pipe2, f)"
   ]
  },
  {
   "cell_type": "code",
   "execution_count": 65,
   "metadata": {},
   "outputs": [],
   "source": [
    "preds1 = xgb_pipe2.predict(X_test)"
   ]
  },
  {
   "cell_type": "code",
   "execution_count": 71,
   "metadata": {},
   "outputs": [
    {
     "data": {
      "image/png": "[encoded data removed]",
      "text/plain": [
       "<Figure size 432x288 with 1 Axes>"
      ]
     },
     "metadata": {
      "needs_background": "light"
     },
     "output_type": "display_data"
    }
   ],
   "source": [
    "plt.scatter(preds1, y_test, s=2)\n",
    "plt.xlabel('predictions of pct_funded')\n",
    "plt.ylabel('true pct_funded')\n",
    "plt.savefig('pct_funded preds_true.png')"
   ]
  },
  {
   "cell_type": "code",
   "execution_count": 72,
   "metadata": {},
   "outputs": [],
   "source": [
    "feat_pipe1 = pd.Series(xgb_pipe2.steps[-1][1].feature_importances_, index=xgb_pipe2.steps[0][1].get_feature_names()).sort_values(ascending=False)"
   ]
  },
  {
   "cell_type": "code",
   "execution_count": 93,
   "metadata": {},
   "outputs": [
    {
     "data": {
      "image/png": "[encoded data removed]",
      "text/plain": [
       "<Figure size 720x720 with 1 Axes>"
      ]
     },
     "metadata": {
      "needs_background": "light"
     },
     "output_type": "display_data"
    }
   ],
   "source": [
    "plt.figure(figsize=(10,10))\n",
    "feat_pipe1[:50].plot(kind='bar')\n",
    "plt.xticks(rotation=70, ha='right')\n",
    "plt.savefig('top50feats_pct_fund.png')"
   ]
  },
  {
   "cell_type": "code",
   "execution_count": null,
   "metadata": {},
   "outputs": [],
   "source": []
  },
  {
   "cell_type": "code",
   "execution_count": null,
   "metadata": {},
   "outputs": [],
   "source": []
  },
  {
   "cell_type": "code",
   "execution_count": null,
   "metadata": {},
   "outputs": [],
   "source": []
  }
 ],
 "metadata": {
  "kernelspec": {
   "display_name": "Python 3",
   "language": "python",
   "name": "python3"
  },
  "language_info": {
   "codemirror_mode": {
    "name": "ipython",
    "version": 3
   },
   "file_extension": ".py",
   "mimetype": "text/x-python",
   "name": "python",
   "nbconvert_exporter": "python",
   "pygments_lexer": "ipython3",
   "version": "3.7.6"
  }
 },
 "nbformat": 4,
 "nbformat_minor": 4
}
