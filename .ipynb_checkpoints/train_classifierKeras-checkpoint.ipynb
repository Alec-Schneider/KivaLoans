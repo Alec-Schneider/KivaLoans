{
 "cells": [
  {
   "cell_type": "code",
   "execution_count": 1,
   "metadata": {},
   "outputs": [
    {
     "name": "stderr",
     "output_type": "stream",
     "text": [
      "Using TensorFlow backend.\n",
      "C:\\Users\\Alec\\anaconda3\\lib\\site-packages\\tensorflow\\python\\framework\\dtypes.py:526: FutureWarning: Passing (type, 1) or '1type' as a synonym of type is deprecated; in a future version of numpy, it will be understood as (type, (1,)) / '(1,)type'.\n",
      "  _np_qint8 = np.dtype([(\"qint8\", np.int8, 1)])\n",
      "C:\\Users\\Alec\\anaconda3\\lib\\site-packages\\tensorflow\\python\\framework\\dtypes.py:527: FutureWarning: Passing (type, 1) or '1type' as a synonym of type is deprecated; in a future version of numpy, it will be understood as (type, (1,)) / '(1,)type'.\n",
      "  _np_quint8 = np.dtype([(\"quint8\", np.uint8, 1)])\n",
      "C:\\Users\\Alec\\anaconda3\\lib\\site-packages\\tensorflow\\python\\framework\\dtypes.py:528: FutureWarning: Passing (type, 1) or '1type' as a synonym of type is deprecated; in a future version of numpy, it will be understood as (type, (1,)) / '(1,)type'.\n",
      "  _np_qint16 = np.dtype([(\"qint16\", np.int16, 1)])\n",
      "C:\\Users\\Alec\\anaconda3\\lib\\site-packages\\tensorflow\\python\\framework\\dtypes.py:529: FutureWarning: Passing (type, 1) or '1type' as a synonym of type is deprecated; in a future version of numpy, it will be understood as (type, (1,)) / '(1,)type'.\n",
      "  _np_quint16 = np.dtype([(\"quint16\", np.uint16, 1)])\n",
      "C:\\Users\\Alec\\anaconda3\\lib\\site-packages\\tensorflow\\python\\framework\\dtypes.py:530: FutureWarning: Passing (type, 1) or '1type' as a synonym of type is deprecated; in a future version of numpy, it will be understood as (type, (1,)) / '(1,)type'.\n",
      "  _np_qint32 = np.dtype([(\"qint32\", np.int32, 1)])\n",
      "C:\\Users\\Alec\\anaconda3\\lib\\site-packages\\tensorflow\\python\\framework\\dtypes.py:535: FutureWarning: Passing (type, 1) or '1type' as a synonym of type is deprecated; in a future version of numpy, it will be understood as (type, (1,)) / '(1,)type'.\n",
      "  np_resource = np.dtype([(\"resource\", np.ubyte, 1)])\n"
     ]
    }
   ],
   "source": [
    "import pandas as pd\n",
    "import keras"
   ]
  },
  {
   "cell_type": "code",
   "execution_count": 2,
   "metadata": {},
   "outputs": [],
   "source": [
    "X = pd.read_csv('../KivaLoans_Data/X_matrix2.csv')"
   ]
  },
  {
   "cell_type": "code",
   "execution_count": 3,
   "metadata": {},
   "outputs": [
    {
     "data": {
      "text/plain": [
       "(671205, 14)"
      ]
     },
     "execution_count": 3,
     "metadata": {},
     "output_type": "execute_result"
    }
   ],
   "source": [
    "X.shape"
   ]
  },
  {
   "cell_type": "code",
   "execution_count": 4,
   "metadata": {},
   "outputs": [],
   "source": [
    "y = pd.read_csv('../KivaLoans_Data/y_matrix2.csv')"
   ]
  },
  {
   "cell_type": "code",
   "execution_count": 5,
   "metadata": {},
   "outputs": [],
   "source": [
    "y = y['loan_funded']"
   ]
  },
  {
   "cell_type": "code",
   "execution_count": 6,
   "metadata": {},
   "outputs": [],
   "source": [
    "from sklearn.model_selection import train_test_split"
   ]
  },
  {
   "cell_type": "code",
   "execution_count": 7,
   "metadata": {},
   "outputs": [],
   "source": [
    "X_train, X_test, y_train, y_test = train_test_split(X, y, test_size=0.3)"
   ]
  },
  {
   "cell_type": "code",
   "execution_count": 8,
   "metadata": {},
   "outputs": [],
   "source": [
    "import numpy as np"
   ]
  },
  {
   "cell_type": "code",
   "execution_count": 9,
   "metadata": {},
   "outputs": [],
   "source": [
    "from category_encoders import OneHotEncoder"
   ]
  },
  {
   "cell_type": "code",
   "execution_count": 10,
   "metadata": {},
   "outputs": [],
   "source": [
    "ohe = OneHotEncoder()\n",
    "X_train = ohe.fit_transform(X_train)\n",
    "X_test = ohe.transform(X_test)"
   ]
  },
  {
   "cell_type": "code",
   "execution_count": 11,
   "metadata": {},
   "outputs": [],
   "source": [
    "model = keras.Sequential()"
   ]
  },
  {
   "cell_type": "code",
   "execution_count": 12,
   "metadata": {},
   "outputs": [
    {
     "name": "stdout",
     "output_type": "stream",
     "text": [
      "WARNING:tensorflow:From C:\\Users\\Alec\\anaconda3\\lib\\site-packages\\tensorflow\\python\\ops\\resource_variable_ops.py:435: colocate_with (from tensorflow.python.framework.ops) is deprecated and will be removed in a future version.\n",
      "Instructions for updating:\n",
      "Colocations handled automatically by placer.\n"
     ]
    }
   ],
   "source": [
    "from keras.layers import Dense, Flatten\n",
    "# model.add(Flatten())\n",
    "model.add(Dense(64, input_dim=X_train.shape[1], activation='relu'))\n",
    "model.add(Dense(64, activation='relu'))\n",
    "model.add(Dense(1, activation='sigmoid'))"
   ]
  },
  {
   "cell_type": "code",
   "execution_count": 13,
   "metadata": {},
   "outputs": [],
   "source": [
    "model.compile('rmsprop', loss='binary_crossentropy', metrics=['accuracy'])"
   ]
  },
  {
   "cell_type": "code",
   "execution_count": 14,
   "metadata": {},
   "outputs": [
    {
     "name": "stdout",
     "output_type": "stream",
     "text": [
      "WARNING:tensorflow:From C:\\Users\\Alec\\anaconda3\\lib\\site-packages\\tensorflow\\python\\ops\\math_ops.py:3066: to_int32 (from tensorflow.python.ops.math_ops) is deprecated and will be removed in a future version.\n",
      "Instructions for updating:\n",
      "Use tf.cast instead.\n",
      "Epoch 1/10\n",
      "Epoch 2/10\n",
      "Epoch 3/10\n",
      "Epoch 4/10\n",
      "Epoch 5/10\n",
      "Epoch 6/10\n",
      "Epoch 7/10\n",
      "Epoch 8/10\n",
      "Epoch 9/10\n",
      "Epoch 10/10\n"
     ]
    },
    {
     "data": {
      "text/plain": [
       "<keras.callbacks.callbacks.History at 0x2178034d1c8>"
      ]
     },
     "execution_count": 14,
     "metadata": {},
     "output_type": "execute_result"
    }
   ],
   "source": [
    "model.fit(X_train, y_train, epochs=10, verbose=5)"
   ]
  },
  {
   "cell_type": "code",
   "execution_count": 15,
   "metadata": {},
   "outputs": [
    {
     "name": "stdout",
     "output_type": "stream",
     "text": [
      "201362/201362 [==============================] - 3s 13us/step\n"
     ]
    }
   ],
   "source": [
    "score1 = model.evaluate(X_test, y_test)"
   ]
  },
  {
   "cell_type": "code",
   "execution_count": 16,
   "metadata": {},
   "outputs": [
    {
     "data": {
      "text/plain": [
       "[0.1282525479386002, 0.9586763978004456]"
      ]
     },
     "execution_count": 16,
     "metadata": {},
     "output_type": "execute_result"
    }
   ],
   "source": [
    "score1"
   ]
  },
  {
   "cell_type": "code",
   "execution_count": 17,
   "metadata": {},
   "outputs": [
    {
     "name": "stdout",
     "output_type": "stream",
     "text": [
      "Epoch 1/20\n",
      "469843/469843 [==============================] - 8s 17us/step - loss: 0.1132 - accuracy: 0.9589\n",
      "Epoch 2/20\n",
      "469843/469843 [==============================] - 8s 17us/step - loss: 0.1127 - accuracy: 0.9589\n",
      "Epoch 3/20\n",
      "469843/469843 [==============================] - 8s 17us/step - loss: 0.1106 - accuracy: 0.9593\n",
      "Epoch 4/20\n",
      "469843/469843 [==============================] - 8s 16us/step - loss: 0.1113 - accuracy: 0.9592\n",
      "Epoch 5/20\n",
      "469843/469843 [==============================] - 8s 17us/step - loss: 0.1106 - accuracy: 0.9598\n",
      "Epoch 6/20\n",
      "469843/469843 [==============================] - 8s 17us/step - loss: 0.1109 - accuracy: 0.9603\n",
      "Epoch 7/20\n",
      "469843/469843 [==============================] - 8s 17us/step - loss: 0.1110 - accuracy: 0.9603\n",
      "Epoch 8/20\n",
      "469843/469843 [==============================] - 8s 16us/step - loss: 0.1094 - accuracy: 0.9603\n",
      "Epoch 9/20\n",
      "469843/469843 [==============================] - 8s 17us/step - loss: 0.1102 - accuracy: 0.9598\n",
      "Epoch 10/20\n",
      "469843/469843 [==============================] - 8s 17us/step - loss: 0.1101 - accuracy: 0.9602\n",
      "Epoch 11/20\n",
      "469843/469843 [==============================] - 8s 16us/step - loss: 0.1103 - accuracy: 0.9601\n",
      "Epoch 12/20\n",
      "469843/469843 [==============================] - 8s 16us/step - loss: 0.1105 - accuracy: 0.9604\n",
      "Epoch 13/20\n",
      "469843/469843 [==============================] - 8s 16us/step - loss: 0.1102 - accuracy: 0.9604\n",
      "Epoch 14/20\n",
      "469843/469843 [==============================] - 8s 17us/step - loss: 0.1143 - accuracy: 0.9600\n",
      "Epoch 15/20\n",
      "469843/469843 [==============================] - 8s 17us/step - loss: 0.1115 - accuracy: 0.9600\n",
      "Epoch 16/20\n",
      "469843/469843 [==============================] - 8s 17us/step - loss: 0.1101 - accuracy: 0.9602\n",
      "Epoch 17/20\n",
      "469843/469843 [==============================] - 8s 18us/step - loss: 0.1117 - accuracy: 0.9600\n",
      "Epoch 18/20\n",
      "469843/469843 [==============================] - 8s 18us/step - loss: 0.1130 - accuracy: 0.9602\n",
      "Epoch 19/20\n",
      "469843/469843 [==============================] - 8s 18us/step - loss: 0.1106 - accuracy: 0.9605\n",
      "Epoch 20/20\n",
      "469843/469843 [==============================] - 8s 18us/step - loss: 0.1119 - accuracy: 0.9601\n"
     ]
    },
    {
     "data": {
      "text/plain": [
       "<keras.callbacks.callbacks.History at 0x21780f43788>"
      ]
     },
     "execution_count": 17,
     "metadata": {},
     "output_type": "execute_result"
    }
   ],
   "source": [
    "model.fit(X_train, y_train, epochs=20, batch_size=128)"
   ]
  },
  {
   "cell_type": "code",
   "execution_count": 18,
   "metadata": {},
   "outputs": [
    {
     "name": "stdout",
     "output_type": "stream",
     "text": [
      "201362/201362 [==============================] - 2s 11us/step\n"
     ]
    }
   ],
   "source": [
    "score2 = model.evaluate(X_test, y_test)"
   ]
  },
  {
   "cell_type": "code",
   "execution_count": 19,
   "metadata": {},
   "outputs": [
    {
     "name": "stdout",
     "output_type": "stream",
     "text": [
      "loss score of binary_crossentropy: 0.12825\n",
      "accuracy: 0.95868\n",
      "loss score of binary_crossentropy: 0.11138\n",
      "accuracy: 0.96028\n"
     ]
    }
   ],
   "source": [
    "print('loss score of binary_crossentropy: %.5f\\naccuracy: %.5f' % (score1[0], score1[1]))\n",
    "print('loss score of binary_crossentropy: %.5f\\naccuracy: %.5f' % (score2[0], score2[1]))"
   ]
  },
  {
   "cell_type": "code",
   "execution_count": 20,
   "metadata": {},
   "outputs": [],
   "source": [
    "model2 = keras.Sequential()\n",
    "model2.add(Dense(64, input_dim=X_train.shape[1], activation='relu'))\n",
    "model2.add(Dense(64, activation='relu'))\n",
    "model2.add(Dense(32, activation='relu'))\n",
    "model2.add(Dense(1, activation='sigmoid'))"
   ]
  },
  {
   "cell_type": "code",
   "execution_count": 21,
   "metadata": {},
   "outputs": [],
   "source": [
    "model2.compile('rmsprop', loss='binary_crossentropy', metrics=['accuracy'])"
   ]
  },
  {
   "cell_type": "code",
   "execution_count": 22,
   "metadata": {},
   "outputs": [
    {
     "name": "stdout",
     "output_type": "stream",
     "text": [
      "Epoch 1/20\n",
      "469843/469843 [==============================] - 9s 18us/step - loss: 0.1838 - accuracy: 0.9407\n",
      "Epoch 2/20\n",
      "469843/469843 [==============================] - 9s 18us/step - loss: 0.1206 - accuracy: 0.9548\n",
      "Epoch 3/20\n",
      "469843/469843 [==============================] - 9s 18us/step - loss: 0.1154 - accuracy: 0.9565\n",
      "Epoch 4/20\n",
      "469843/469843 [==============================] - 9s 19us/step - loss: 0.1130 - accuracy: 0.9575\n",
      "Epoch 5/20\n",
      "469843/469843 [==============================] - 9s 19us/step - loss: 0.1116 - accuracy: 0.9581\n",
      "Epoch 6/20\n",
      "469843/469843 [==============================] - 9s 19us/step - loss: 0.1118 - accuracy: 0.9583\n",
      "Epoch 7/20\n",
      "469843/469843 [==============================] - 9s 19us/step - loss: 0.1109 - accuracy: 0.9584\n",
      "Epoch 8/20\n",
      "469843/469843 [==============================] - 9s 19us/step - loss: 0.1098 - accuracy: 0.9587\n",
      "Epoch 9/20\n",
      "469843/469843 [==============================] - 9s 19us/step - loss: 0.1103 - accuracy: 0.9587\n",
      "Epoch 10/20\n",
      "469843/469843 [==============================] - 9s 19us/step - loss: 0.1096 - accuracy: 0.9589\n",
      "Epoch 11/20\n",
      "469843/469843 [==============================] - 9s 19us/step - loss: 0.1091 - accuracy: 0.9591\n",
      "Epoch 12/20\n",
      "469843/469843 [==============================] - 9s 20us/step - loss: 0.1111 - accuracy: 0.9589\n",
      "Epoch 13/20\n",
      "469843/469843 [==============================] - 9s 19us/step - loss: 0.1110 - accuracy: 0.9589\n",
      "Epoch 14/20\n",
      "469843/469843 [==============================] - 9s 19us/step - loss: 0.1146 - accuracy: 0.9588\n",
      "Epoch 15/20\n",
      "469843/469843 [==============================] - 9s 19us/step - loss: 0.1131 - accuracy: 0.9588\n",
      "Epoch 16/20\n",
      "469843/469843 [==============================] - 9s 20us/step - loss: 0.1144 - accuracy: 0.9585\n",
      "Epoch 17/20\n",
      "469843/469843 [==============================] - 9s 20us/step - loss: 0.1132 - accuracy: 0.9584\n",
      "Epoch 18/20\n",
      "469843/469843 [==============================] - 9s 20us/step - loss: 0.1130 - accuracy: 0.9589\n",
      "Epoch 19/20\n",
      "469843/469843 [==============================] - 9s 20us/step - loss: 0.1112 - accuracy: 0.9595\n",
      "Epoch 20/20\n",
      "469843/469843 [==============================] - 9s 20us/step - loss: 0.1164 - accuracy: 0.9590\n"
     ]
    },
    {
     "data": {
      "text/plain": [
       "<keras.callbacks.callbacks.History at 0x21781052808>"
      ]
     },
     "execution_count": 22,
     "metadata": {},
     "output_type": "execute_result"
    }
   ],
   "source": [
    "model2.fit(X_train, y_train, epochs=20, batch_size=128)"
   ]
  },
  {
   "cell_type": "code",
   "execution_count": 23,
   "metadata": {},
   "outputs": [
    {
     "name": "stdout",
     "output_type": "stream",
     "text": [
      "201362/201362 [==============================] - 2s 12us/step\n"
     ]
    }
   ],
   "source": [
    "score_model2 = model2.evaluate(X_test, y_test)"
   ]
  },
  {
   "cell_type": "code",
   "execution_count": 24,
   "metadata": {},
   "outputs": [
    {
     "name": "stdout",
     "output_type": "stream",
     "text": [
      "[0.10868747867666403, 0.961412787437439]\n"
     ]
    }
   ],
   "source": [
    "print(score_model2)"
   ]
  },
  {
   "cell_type": "code",
   "execution_count": 25,
   "metadata": {},
   "outputs": [
    {
     "name": "stdout",
     "output_type": "stream",
     "text": [
      "loss score of binary_crossentropy: 0.10869\n",
      "accuracy: 0.96141\n"
     ]
    }
   ],
   "source": [
    "print('loss score of binary_crossentropy: %.5f\\naccuracy: %.5f' % (score_model2[0], score_model2[1]))"
   ]
  },
  {
   "cell_type": "code",
   "execution_count": 26,
   "metadata": {},
   "outputs": [],
   "source": [
    "model3 = keras.Sequential()\n",
    "model3.add(Dense(64, input_dim=X_train.shape[1], activation='relu'))\n",
    "model3.add(Dense(64, activation='relu'))\n",
    "model3.add(Dense(32, activation='relu'))\n",
    "model3.add(Dense(32, activation='relu'))\n",
    "model3.add(Dense(32, activation='relu'))\n",
    "model3.add(Dense(1, activation='sigmoid'))"
   ]
  },
  {
   "cell_type": "code",
   "execution_count": 27,
   "metadata": {},
   "outputs": [],
   "source": [
    "model3.compile('rmsprop', loss='binary_crossentropy', metrics=['accuracy'])"
   ]
  },
  {
   "cell_type": "code",
   "execution_count": 28,
   "metadata": {},
   "outputs": [
    {
     "name": "stdout",
     "output_type": "stream",
     "text": [
      "Epoch 1/20\n",
      "469843/469843 [==============================] - 10s 21us/step - loss: 0.1722 - accuracy: 0.9392\n",
      "Epoch 2/20\n",
      "469843/469843 [==============================] - 10s 21us/step - loss: 0.1214 - accuracy: 0.9548\n",
      "Epoch 3/20\n",
      "469843/469843 [==============================] - 10s 22us/step - loss: 0.1183 - accuracy: 0.9560\n",
      "Epoch 4/20\n",
      "469843/469843 [==============================] - 10s 21us/step - loss: 0.1186 - accuracy: 0.9564\n",
      "Epoch 5/20\n",
      "469843/469843 [==============================] - 10s 21us/step - loss: 0.1202 - accuracy: 0.9563\n",
      "Epoch 6/20\n",
      "469843/469843 [==============================] - 10s 21us/step - loss: 0.1277 - accuracy: 0.9564\n",
      "Epoch 7/20\n",
      "469843/469843 [==============================] - 10s 21us/step - loss: 0.1332 - accuracy: 0.9567\n",
      "Epoch 8/20\n",
      "469843/469843 [==============================] - 10s 21us/step - loss: 0.1617 - accuracy: 0.9570\n",
      "Epoch 9/20\n",
      "469843/469843 [==============================] - 10s 21us/step - loss: 0.1652 - accuracy: 0.9568\n",
      "Epoch 10/20\n",
      "469843/469843 [==============================] - 10s 22us/step - loss: 0.1679 - accuracy: 0.9573\n",
      "Epoch 11/20\n",
      "469843/469843 [==============================] - 11s 23us/step - loss: 0.1835 - accuracy: 0.9571\n",
      "Epoch 12/20\n",
      "469843/469843 [==============================] - 11s 23us/step - loss: 0.1969 - accuracy: 0.9573\n",
      "Epoch 13/20\n",
      "469843/469843 [==============================] - 10s 22us/step - loss: 0.1785 - accuracy: 0.9578\n",
      "Epoch 14/20\n",
      "469843/469843 [==============================] - 10s 22us/step - loss: 0.1640 - accuracy: 0.9570\n",
      "Epoch 15/20\n",
      "469843/469843 [==============================] - 10s 22us/step - loss: 0.1630 - accuracy: 0.9572\n",
      "Epoch 16/20\n",
      "469843/469843 [==============================] - 10s 22us/step - loss: 0.1910 - accuracy: 0.9579\n",
      "Epoch 17/20\n",
      "469843/469843 [==============================] - 10s 21us/step - loss: 0.1644 - accuracy: 0.9576\n",
      "Epoch 18/20\n",
      "469843/469843 [==============================] - 10s 22us/step - loss: 0.1810 - accuracy: 0.9580\n",
      "Epoch 19/20\n",
      "469843/469843 [==============================] - 10s 22us/step - loss: 0.2012 - accuracy: 0.9568\n",
      "Epoch 20/20\n",
      "469843/469843 [==============================] - 10s 22us/step - loss: 0.1836 - accuracy: 0.9580\n"
     ]
    },
    {
     "data": {
      "text/plain": [
       "<keras.callbacks.callbacks.History at 0x21780455448>"
      ]
     },
     "execution_count": 28,
     "metadata": {},
     "output_type": "execute_result"
    }
   ],
   "source": [
    "model3.fit(X_train, y_train, epochs=20, batch_size=128)"
   ]
  },
  {
   "cell_type": "code",
   "execution_count": 29,
   "metadata": {},
   "outputs": [
    {
     "name": "stdout",
     "output_type": "stream",
     "text": [
      "201362/201362 [==============================] - 3s 13us/step\n"
     ]
    }
   ],
   "source": [
    "score_model3 = model3.evaluate(X_test, y_test)"
   ]
  },
  {
   "cell_type": "code",
   "execution_count": 30,
   "metadata": {},
   "outputs": [
    {
     "name": "stdout",
     "output_type": "stream",
     "text": [
      "loss score of binary_crossentropy: 0.21155\n",
      "accuracy: 0.96032\n"
     ]
    }
   ],
   "source": [
    "print('loss score of binary_crossentropy: %.5f\\naccuracy: %.5f' % (score_model3[0], score_model3[1]))"
   ]
  },
  {
   "cell_type": "code",
   "execution_count": 31,
   "metadata": {},
   "outputs": [
    {
     "name": "stdout",
     "output_type": "stream",
     "text": [
      "Epoch 1/50\n",
      "469843/469843 [==============================] - 10s 20us/step - loss: 0.1838 - accuracy: 0.9578\n",
      "Epoch 2/50\n",
      "469843/469843 [==============================] - 10s 20us/step - loss: 0.1627 - accuracy: 0.9582\n",
      "Epoch 3/50\n",
      "469843/469843 [==============================] - 10s 21us/step - loss: 0.1967 - accuracy: 0.9582\n",
      "Epoch 4/50\n",
      "469843/469843 [==============================] - 10s 21us/step - loss: 0.1861 - accuracy: 0.9584\n",
      "Epoch 5/50\n",
      "469843/469843 [==============================] - 10s 21us/step - loss: 0.1921 - accuracy: 0.9582\n",
      "Epoch 6/50\n",
      "469843/469843 [==============================] - 10s 21us/step - loss: 0.1705 - accuracy: 0.9580\n",
      "Epoch 7/50\n",
      "469843/469843 [==============================] - 10s 21us/step - loss: 0.1658 - accuracy: 0.9580\n",
      "Epoch 8/50\n",
      "469843/469843 [==============================] - 10s 21us/step - loss: 0.1844 - accuracy: 0.9580\n",
      "Epoch 9/50\n",
      "469843/469843 [==============================] - 10s 21us/step - loss: 0.1840 - accuracy: 0.9583\n",
      "Epoch 10/50\n",
      "469843/469843 [==============================] - 10s 21us/step - loss: 0.2537 - accuracy: 0.9533\n",
      "Epoch 11/50\n",
      "469843/469843 [==============================] - 10s 21us/step - loss: 0.1881 - accuracy: 0.9580\n",
      "Epoch 12/50\n",
      "469843/469843 [==============================] - 10s 21us/step - loss: 0.1835 - accuracy: 0.9578\n",
      "Epoch 13/50\n",
      "469843/469843 [==============================] - 10s 21us/step - loss: 0.2152 - accuracy: 0.9584\n",
      "Epoch 14/50\n",
      "469843/469843 [==============================] - 10s 21us/step - loss: 0.2195 - accuracy: 0.9582\n",
      "Epoch 15/50\n",
      "469843/469843 [==============================] - 10s 21us/step - loss: 0.2270 - accuracy: 0.9581\n",
      "Epoch 16/50\n",
      "469843/469843 [==============================] - 10s 21us/step - loss: 0.2308 - accuracy: 0.9579\n",
      "Epoch 17/50\n",
      "469843/469843 [==============================] - 10s 21us/step - loss: 0.2305 - accuracy: 0.9585\n",
      "Epoch 18/50\n",
      "469843/469843 [==============================] - 10s 21us/step - loss: 0.2340 - accuracy: 0.9577\n",
      "Epoch 19/50\n",
      "469843/469843 [==============================] - 10s 21us/step - loss: 0.2391 - accuracy: 0.9576\n",
      "Epoch 20/50\n",
      "469843/469843 [==============================] - 10s 21us/step - loss: 0.2295 - accuracy: 0.9582\n",
      "Epoch 21/50\n",
      "469843/469843 [==============================] - 10s 21us/step - loss: 0.2704 - accuracy: 0.9579\n",
      "Epoch 22/50\n",
      "469843/469843 [==============================] - 10s 21us/step - loss: 0.3749 - accuracy: 0.9537\n",
      "Epoch 23/50\n",
      "469843/469843 [==============================] - 10s 21us/step - loss: 0.3232 - accuracy: 0.9569\n",
      "Epoch 24/50\n",
      "469843/469843 [==============================] - 10s 21us/step - loss: 0.2510 - accuracy: 0.9565\n",
      "Epoch 25/50\n",
      "469843/469843 [==============================] - 10s 21us/step - loss: 0.2440 - accuracy: 0.9560\n",
      "Epoch 26/50\n",
      "469843/469843 [==============================] - 10s 21us/step - loss: 0.2463 - accuracy: 0.9545\n",
      "Epoch 27/50\n",
      "469843/469843 [==============================] - 10s 21us/step - loss: 0.1995 - accuracy: 0.9566\n",
      "Epoch 28/50\n",
      "469843/469843 [==============================] - 10s 21us/step - loss: 0.2036 - accuracy: 0.9573\n",
      "Epoch 29/50\n",
      "469843/469843 [==============================] - 10s 21us/step - loss: 0.2464 - accuracy: 0.9577\n",
      "Epoch 30/50\n",
      "469843/469843 [==============================] - 10s 21us/step - loss: 0.2354 - accuracy: 0.9576\n",
      "Epoch 31/50\n",
      "469843/469843 [==============================] - 10s 21us/step - loss: 0.2474 - accuracy: 0.9578\n",
      "Epoch 32/50\n",
      "469843/469843 [==============================] - 10s 21us/step - loss: 0.2336 - accuracy: 0.9574\n",
      "Epoch 33/50\n",
      "469843/469843 [==============================] - 10s 21us/step - loss: 0.2322 - accuracy: 0.9577\n",
      "Epoch 34/50\n",
      "469843/469843 [==============================] - 10s 21us/step - loss: 0.2182 - accuracy: 0.9580\n",
      "Epoch 35/50\n",
      "469843/469843 [==============================] - 10s 21us/step - loss: 0.2382 - accuracy: 0.9575\n",
      "Epoch 36/50\n",
      "469843/469843 [==============================] - 10s 21us/step - loss: 0.2269 - accuracy: 0.9584\n",
      "Epoch 37/50\n",
      "469843/469843 [==============================] - 10s 21us/step - loss: 0.2473 - accuracy: 0.9587\n",
      "Epoch 38/50\n",
      "469843/469843 [==============================] - 10s 21us/step - loss: 0.2473 - accuracy: 0.9571\n",
      "Epoch 39/50\n",
      "469843/469843 [==============================] - 10s 21us/step - loss: 0.2650 - accuracy: 0.9579\n",
      "Epoch 40/50\n",
      "469843/469843 [==============================] - 10s 21us/step - loss: 0.2246 - accuracy: 0.9581\n",
      "Epoch 41/50\n",
      "469843/469843 [==============================] - 10s 21us/step - loss: 0.2071 - accuracy: 0.9585\n",
      "Epoch 42/50\n",
      "469843/469843 [==============================] - 10s 21us/step - loss: 0.2360 - accuracy: 0.95850s - loss: 0.233\n",
      "Epoch 43/50\n",
      "469843/469843 [==============================] - 10s 21us/step - loss: 0.2613 - accuracy: 0.9572\n",
      "Epoch 44/50\n",
      "469843/469843 [==============================] - 10s 21us/step - loss: 0.2438 - accuracy: 0.9587\n",
      "Epoch 45/50\n",
      "469843/469843 [==============================] - 10s 21us/step - loss: 0.2165 - accuracy: 0.9583\n",
      "Epoch 46/50\n",
      "469843/469843 [==============================] - 10s 21us/step - loss: 0.2171 - accuracy: 0.9589\n",
      "Epoch 47/50\n",
      "469843/469843 [==============================] - 10s 21us/step - loss: 0.2327 - accuracy: 0.9589\n",
      "Epoch 48/50\n",
      "469843/469843 [==============================] - 10s 21us/step - loss: 0.2278 - accuracy: 0.9590\n",
      "Epoch 49/50\n",
      "469843/469843 [==============================] - 10s 21us/step - loss: 0.2827 - accuracy: 0.9590\n",
      "Epoch 50/50\n",
      "469843/469843 [==============================] - 10s 21us/step - loss: 0.2194 - accuracy: 0.9590\n",
      "201362/201362 [==============================] - 3s 13us/step\n"
     ]
    }
   ],
   "source": [
    "model3.fit(X_train, y_train, epochs=50, batch_size=128)\n",
    "score2_model3 = model3.evaluate(X_test, y_test)"
   ]
  },
  {
   "cell_type": "code",
   "execution_count": 32,
   "metadata": {},
   "outputs": [
    {
     "name": "stdout",
     "output_type": "stream",
     "text": [
      "Model 1:\n",
      "loss score of binary_crossentropy: 0.12825\n",
      "accuracy: 0.95868\n",
      "This time with 20 epochs and batch_size of 128\n",
      "loss score of binary_crossentropy: 0.11138\n",
      "accuracy: 0.96028\n",
      "Model 2:\n",
      "loss score of binary_crossentropy: 0.10869\n",
      "accuracy: 0.96141\n",
      "Model 3:\n",
      "loss score of binary_crossentropy: 0.21155\n",
      "accuracy: 0.96032\n",
      "This time with 50 epochs\n",
      "loss score of binary_crossentropy: 0.24905\n",
      "accuracy: 0.95874\n"
     ]
    }
   ],
   "source": [
    "print('Model 1:')\n",
    "print('loss score of binary_crossentropy: %.5f\\naccuracy: %.5f' % (score1[0], score1[1]))\n",
    "print('This time with 20 epochs and batch_size of 128')\n",
    "print('loss score of binary_crossentropy: %.5f\\naccuracy: %.5f' % (score2[0], score2[1]))\n",
    "\n",
    "print('Model 2:')\n",
    "print('loss score of binary_crossentropy: %.5f\\naccuracy: %.5f' % (score_model2[0], score_model2[1]))\n",
    "\n",
    "print('Model 3:')\n",
    "print('loss score of binary_crossentropy: %.5f\\naccuracy: %.5f' % (score_model3[0], score_model3[1]))\n",
    "print('This time with 50 epochs')\n",
    "print('loss score of binary_crossentropy: %.5f\\naccuracy: %.5f' % (score2_model3[0], score2_model3[1]))"
   ]
  },
  {
   "cell_type": "code",
   "execution_count": 33,
   "metadata": {},
   "outputs": [],
   "source": [
    "model.save('keras_classifier.pickle')"
   ]
  },
  {
   "cell_type": "code",
   "execution_count": 34,
   "metadata": {},
   "outputs": [],
   "source": [
    "loaded_model = keras.models.load_model('keras_classifier.pickle')"
   ]
  },
  {
   "cell_type": "code",
   "execution_count": 35,
   "metadata": {},
   "outputs": [
    {
     "name": "stdout",
     "output_type": "stream",
     "text": [
      "Model: \"sequential_1\"\n",
      "_________________________________________________________________\n",
      "Layer (type)                 Output Shape              Param #   \n",
      "=================================================================\n",
      "dense_1 (Dense)              (None, 64)                18240     \n",
      "_________________________________________________________________\n",
      "dense_2 (Dense)              (None, 64)                4160      \n",
      "_________________________________________________________________\n",
      "dense_3 (Dense)              (None, 1)                 65        \n",
      "=================================================================\n",
      "Total params: 22,465\n",
      "Trainable params: 22,465\n",
      "Non-trainable params: 0\n",
      "_________________________________________________________________\n"
     ]
    }
   ],
   "source": [
    "loaded_model.summary()"
   ]
  },
  {
   "cell_type": "code",
   "execution_count": 36,
   "metadata": {},
   "outputs": [],
   "source": [
    "from sklearn.preprocessing import StandardScaler\n",
    "sc = StandardScaler()\n",
    "X_train = sc.fit_transform(X_train)\n",
    "X_test = sc.transform(X_test)"
   ]
  },
  {
   "cell_type": "code",
   "execution_count": 37,
   "metadata": {},
   "outputs": [
    {
     "name": "stdout",
     "output_type": "stream",
     "text": [
      "Epoch 1/20\n",
      "469843/469843 [==============================] - 9s 18us/step - loss: 0.8494 - accuracy: 0.9214\n",
      "Epoch 2/20\n",
      "469843/469843 [==============================] - 9s 18us/step - loss: 0.6502 - accuracy: 0.9367\n",
      "Epoch 3/20\n",
      "469843/469843 [==============================] - 9s 19us/step - loss: 0.5677 - accuracy: 0.9419\n",
      "Epoch 4/20\n",
      "469843/469843 [==============================] - 9s 19us/step - loss: 0.5154 - accuracy: 0.9447\n",
      "Epoch 5/20\n",
      "469843/469843 [==============================] - 9s 18us/step - loss: 0.4715 - accuracy: 0.9472\n",
      "Epoch 6/20\n",
      "469843/469843 [==============================] - 9s 18us/step - loss: 0.4327 - accuracy: 0.9488\n",
      "Epoch 7/20\n",
      "469843/469843 [==============================] - 9s 18us/step - loss: 0.4205 - accuracy: 0.9492\n",
      "Epoch 8/20\n",
      "469843/469843 [==============================] - 9s 18us/step - loss: 0.3847 - accuracy: 0.9507\n",
      "Epoch 9/20\n",
      "469843/469843 [==============================] - 9s 18us/step - loss: 0.3655 - accuracy: 0.9518\n",
      "Epoch 10/20\n",
      "469843/469843 [==============================] - 9s 18us/step - loss: 0.3588 - accuracy: 0.9519\n",
      "Epoch 11/20\n",
      "469843/469843 [==============================] - 9s 18us/step - loss: 0.3351 - accuracy: 0.9531\n",
      "Epoch 12/20\n",
      "469843/469843 [==============================] - 9s 18us/step - loss: 0.3240 - accuracy: 0.9536\n",
      "Epoch 13/20\n",
      "469843/469843 [==============================] - 9s 18us/step - loss: 0.3086 - accuracy: 0.9537\n",
      "Epoch 14/20\n",
      "469843/469843 [==============================] - 9s 18us/step - loss: 0.2928 - accuracy: 0.9542\n",
      "Epoch 15/20\n",
      "469843/469843 [==============================] - 9s 18us/step - loss: 0.2695 - accuracy: 0.9555\n",
      "Epoch 16/20\n",
      "469843/469843 [==============================] - 9s 18us/step - loss: 0.2491 - accuracy: 0.9560\n",
      "Epoch 17/20\n",
      "469843/469843 [==============================] - 9s 18us/step - loss: 0.2391 - accuracy: 0.9561\n",
      "Epoch 18/20\n",
      "469843/469843 [==============================] - 9s 19us/step - loss: 0.2283 - accuracy: 0.9562\n",
      "Epoch 19/20\n",
      "469843/469843 [==============================] - 9s 18us/step - loss: 0.2195 - accuracy: 0.9565\n",
      "Epoch 20/20\n",
      "469843/469843 [==============================] - 9s 18us/step - loss: 0.2116 - accuracy: 0.9567\n"
     ]
    },
    {
     "data": {
      "text/plain": [
       "<keras.callbacks.callbacks.History at 0x21781ce5a48>"
      ]
     },
     "execution_count": 37,
     "metadata": {},
     "output_type": "execute_result"
    }
   ],
   "source": [
    "model.fit(X_train, y_train, epochs=20, batch_size=128)"
   ]
  },
  {
   "cell_type": "code",
   "execution_count": 38,
   "metadata": {},
   "outputs": [
    {
     "name": "stdout",
     "output_type": "stream",
     "text": [
      "201362/201362 [==============================] - 2s 12us/step\n"
     ]
    }
   ],
   "source": [
    "score_model1_scaled = model.evaluate(X_test, y_test)"
   ]
  },
  {
   "cell_type": "code",
   "execution_count": 39,
   "metadata": {},
   "outputs": [
    {
     "name": "stdout",
     "output_type": "stream",
     "text": [
      "Model 1:\n",
      "loss score of binary_crossentropy: 0.12825\n",
      "accuracy: 0.95868\n",
      "This time with 20 epochs and batch_size of 128\n",
      "loss score of binary_crossentropy: 0.11138\n",
      "accuracy: 0.96028\n",
      "Model 2:\n",
      "loss score of binary_crossentropy: 0.10869\n",
      "accuracy: 0.96141\n",
      "Model 3:\n",
      "loss score of binary_crossentropy: 0.21155\n",
      "accuracy: 0.96032\n",
      "This time with 50 epochs\n",
      "loss score of binary_crossentropy: 0.24905\n",
      "accuracy: 0.95874\n",
      "Model 1 with 20 epochs, but with scaled data:\n",
      "loss score of binary_crossentropy: 0.19801\n",
      "accuracy: 0.95595\n"
     ]
    }
   ],
   "source": [
    "print('Model 1:')\n",
    "print('loss score of binary_crossentropy: %.5f\\naccuracy: %.5f' % (score1[0], score1[1]))\n",
    "print('This time with 20 epochs and batch_size of 128')\n",
    "print('loss score of binary_crossentropy: %.5f\\naccuracy: %.5f' % (score2[0], score2[1]))\n",
    "\n",
    "print('Model 2:')\n",
    "print('loss score of binary_crossentropy: %.5f\\naccuracy: %.5f' % (score_model2[0], score_model2[1]))\n",
    "\n",
    "print('Model 3:')\n",
    "print('loss score of binary_crossentropy: %.5f\\naccuracy: %.5f' % (score_model3[0], score_model3[1]))\n",
    "print('This time with 50 epochs')\n",
    "print('loss score of binary_crossentropy: %.5f\\naccuracy: %.5f' % (score2_model3[0], score2_model3[1]))\n",
    "\n",
    "print('Model 1 with 20 epochs, but with scaled data:')\n",
    "print('loss score of binary_crossentropy: %.5f\\naccuracy: %.5f' % (score_model1_scaled[0], score_model1_scaled[1]))"
   ]
  },
  {
   "cell_type": "code",
   "execution_count": 40,
   "metadata": {},
   "outputs": [
    {
     "name": "stdout",
     "output_type": "stream",
     "text": [
      "Epoch 1/20\n",
      "469843/469843 [==============================] - 9s 19us/step - loss: 1.1514 - accuracy: 0.9277\n",
      "Epoch 2/20\n",
      "469843/469843 [==============================] - 9s 19us/step - loss: 1.1446 - accuracy: 0.9282\n",
      "Epoch 3/20\n",
      "469843/469843 [==============================] - 9s 19us/step - loss: 1.1446 - accuracy: 0.9282\n",
      "Epoch 4/20\n",
      "469843/469843 [==============================] - 9s 19us/step - loss: 1.1445 - accuracy: 0.9282\n",
      "Epoch 5/20\n",
      "469843/469843 [==============================] - 9s 19us/step - loss: 1.1445 - accuracy: 0.9282\n",
      "Epoch 6/20\n",
      "469843/469843 [==============================] - 9s 19us/step - loss: 1.1445 - accuracy: 0.9282\n",
      "Epoch 7/20\n",
      "469843/469843 [==============================] - 9s 19us/step - loss: 1.1445 - accuracy: 0.9282\n",
      "Epoch 8/20\n",
      "469843/469843 [==============================] - 9s 19us/step - loss: 1.1444 - accuracy: 0.9282\n",
      "Epoch 9/20\n",
      "469843/469843 [==============================] - 9s 20us/step - loss: 1.1444 - accuracy: 0.9282\n",
      "Epoch 10/20\n",
      "469843/469843 [==============================] - 9s 20us/step - loss: 1.1443 - accuracy: 0.9282\n",
      "Epoch 11/20\n",
      "469843/469843 [==============================] - 9s 20us/step - loss: 1.1443 - accuracy: 0.9282\n",
      "Epoch 12/20\n",
      "469843/469843 [==============================] - 10s 21us/step - loss: 1.1442 - accuracy: 0.9282\n",
      "Epoch 13/20\n",
      "469843/469843 [==============================] - 10s 21us/step - loss: 1.1442 - accuracy: 0.9282\n",
      "Epoch 14/20\n",
      "469843/469843 [==============================] - 10s 21us/step - loss: 1.1442 - accuracy: 0.9282\n",
      "Epoch 15/20\n",
      "469843/469843 [==============================] - 10s 21us/step - loss: 1.1442 - accuracy: 0.9282\n",
      "Epoch 16/20\n",
      "469843/469843 [==============================] - 10s 20us/step - loss: 1.1442 - accuracy: 0.9282\n",
      "Epoch 17/20\n",
      "469843/469843 [==============================] - 10s 20us/step - loss: 1.1441 - accuracy: 0.9282\n",
      "Epoch 18/20\n",
      "469843/469843 [==============================] - 10s 20us/step - loss: 1.1441 - accuracy: 0.9282\n",
      "Epoch 19/20\n",
      "469843/469843 [==============================] - 10s 20us/step - loss: 1.1441 - accuracy: 0.9282\n",
      "Epoch 20/20\n",
      "469843/469843 [==============================] - 10s 20us/step - loss: 1.1441 - accuracy: 0.9282\n"
     ]
    },
    {
     "data": {
      "text/plain": [
       "<keras.callbacks.callbacks.History at 0x21781b317c8>"
      ]
     },
     "execution_count": 40,
     "metadata": {},
     "output_type": "execute_result"
    }
   ],
   "source": [
    "model2.fit(X_train, y_train, epochs=20, batch_size=128)"
   ]
  },
  {
   "cell_type": "code",
   "execution_count": 43,
   "metadata": {},
   "outputs": [
    {
     "name": "stdout",
     "output_type": "stream",
     "text": [
      "201362/201362 [==============================] - 2s 12us/step\n"
     ]
    }
   ],
   "source": [
    "score_model2_scaled = model2.evaluate(X_test, y_test)"
   ]
  },
  {
   "cell_type": "code",
   "execution_count": 45,
   "metadata": {},
   "outputs": [
    {
     "name": "stdout",
     "output_type": "stream",
     "text": [
      "Model 1:\n",
      "loss score of binary_crossentropy: 0.12825\n",
      "accuracy: 0.95868\n",
      "This time with 20 epochs and batch_size of 128\n",
      "loss score of binary_crossentropy: 0.11138\n",
      "accuracy: 0.96028\n",
      "Model 2:\n",
      "loss score of binary_crossentropy: 0.10869\n",
      "accuracy: 0.96141\n",
      "Model 3:\n",
      "loss score of binary_crossentropy: 0.21155\n",
      "accuracy: 0.96032\n",
      "This time with 50 epochs\n",
      "loss score of binary_crossentropy: 0.24905\n",
      "accuracy: 0.95874\n",
      "Model 1 with 20 epochs, but with scaled data:\n",
      "loss score of binary_crossentropy: 0.19801\n",
      "accuracy: 0.95595\n",
      "Model 2 with 20 epochs, but with scaled data:\n",
      "loss score of binary_crossentropy: 1.15535\n",
      "accuracy: 0.92752\n"
     ]
    }
   ],
   "source": [
    "print('Model 1:')\n",
    "print('loss score of binary_crossentropy: %.5f\\naccuracy: %.5f' % (score1[0], score1[1]))\n",
    "print('This time with 20 epochs and batch_size of 128')\n",
    "print('loss score of binary_crossentropy: %.5f\\naccuracy: %.5f' % (score2[0], score2[1]))\n",
    "\n",
    "print('Model 2:')\n",
    "print('loss score of binary_crossentropy: %.5f\\naccuracy: %.5f' % (score_model2[0], score_model2[1]))\n",
    "\n",
    "print('Model 3:')\n",
    "print('loss score of binary_crossentropy: %.5f\\naccuracy: %.5f' % (score_model3[0], score_model3[1]))\n",
    "print('This time with 50 epochs')\n",
    "print('loss score of binary_crossentropy: %.5f\\naccuracy: %.5f' % (score2_model3[0], score2_model3[1]))\n",
    "\n",
    "print('Model 1 with 20 epochs, but with scaled data:')\n",
    "print('loss score of binary_crossentropy: %.5f\\naccuracy: %.5f' % (score_model1_scaled[0], score_model1_scaled[1]))\n",
    "\n",
    "print('Model 2 with 20 epochs, but with scaled data:')\n",
    "print('loss score of binary_crossentropy: %.5f\\naccuracy: %.5f' % (score_model2_scaled[0], score_model2_scaled[1]))"
   ]
  },
  {
   "cell_type": "code",
   "execution_count": 46,
   "metadata": {},
   "outputs": [],
   "source": [
    "model2.save('keras_classifier2.pickle')"
   ]
  },
  {
   "cell_type": "code",
   "execution_count": null,
   "metadata": {},
   "outputs": [],
   "source": []
  }
 ],
 "metadata": {
  "kernelspec": {
   "display_name": "Python 3",
   "language": "python",
   "name": "python3"
  },
  "language_info": {
   "codemirror_mode": {
    "name": "ipython",
    "version": 3
   },
   "file_extension": ".py",
   "mimetype": "text/x-python",
   "name": "python",
   "nbconvert_exporter": "python",
   "pygments_lexer": "ipython3",
   "version": "3.7.6"
  }
 },
 "nbformat": 4,
 "nbformat_minor": 4
}
