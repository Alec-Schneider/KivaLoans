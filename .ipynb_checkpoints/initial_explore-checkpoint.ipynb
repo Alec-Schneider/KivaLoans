{
 "cells": [
  {
   "cell_type": "code",
   "execution_count": 1,
   "metadata": {},
   "outputs": [],
   "source": [
    "import pandas as pd\n",
    "import numpy as np\n",
    "import matplotlib.pyplot as plt\n",
    "import seaborn as sns\n",
    "%matplotlib inline"
   ]
  },
  {
   "cell_type": "code",
   "execution_count": 2,
   "metadata": {},
   "outputs": [],
   "source": [
    "loans = pd.read_csv('../KivaLoans_data/kiva_loans.csv')"
   ]
  },
  {
   "cell_type": "code",
   "execution_count": 3,
   "metadata": {},
   "outputs": [
    {
     "data": {
      "text/html": [
       "<div>\n",
       "<style scoped>\n",
       "    .dataframe tbody tr th:only-of-type {\n",
       "        vertical-align: middle;\n",
       "    }\n",
       "\n",
       "    .dataframe tbody tr th {\n",
       "        vertical-align: top;\n",
       "    }\n",
       "\n",
       "    .dataframe thead th {\n",
       "        text-align: right;\n",
       "    }\n",
       "</style>\n",
       "<table border=\"1\" class=\"dataframe\">\n",
       "  <thead>\n",
       "    <tr style=\"text-align: right;\">\n",
       "      <th></th>\n",
       "      <th>id</th>\n",
       "      <th>funded_amount</th>\n",
       "      <th>loan_amount</th>\n",
       "      <th>activity</th>\n",
       "      <th>sector</th>\n",
       "      <th>use</th>\n",
       "      <th>country_code</th>\n",
       "      <th>country</th>\n",
       "      <th>region</th>\n",
       "      <th>currency</th>\n",
       "      <th>partner_id</th>\n",
       "      <th>posted_time</th>\n",
       "      <th>disbursed_time</th>\n",
       "      <th>funded_time</th>\n",
       "      <th>term_in_months</th>\n",
       "      <th>lender_count</th>\n",
       "      <th>tags</th>\n",
       "      <th>borrower_genders</th>\n",
       "      <th>repayment_interval</th>\n",
       "      <th>date</th>\n",
       "    </tr>\n",
       "  </thead>\n",
       "  <tbody>\n",
       "    <tr>\n",
       "      <th>0</th>\n",
       "      <td>653051</td>\n",
       "      <td>300.0</td>\n",
       "      <td>300.0</td>\n",
       "      <td>Fruits &amp; Vegetables</td>\n",
       "      <td>Food</td>\n",
       "      <td>To buy seasonal, fresh fruits to sell.</td>\n",
       "      <td>PK</td>\n",
       "      <td>Pakistan</td>\n",
       "      <td>Lahore</td>\n",
       "      <td>PKR</td>\n",
       "      <td>247.0</td>\n",
       "      <td>2014-01-01 06:12:39+00:00</td>\n",
       "      <td>2013-12-17 08:00:00+00:00</td>\n",
       "      <td>2014-01-02 10:06:32+00:00</td>\n",
       "      <td>12.0</td>\n",
       "      <td>12</td>\n",
       "      <td>NaN</td>\n",
       "      <td>female</td>\n",
       "      <td>irregular</td>\n",
       "      <td>2014-01-01</td>\n",
       "    </tr>\n",
       "    <tr>\n",
       "      <th>1</th>\n",
       "      <td>653053</td>\n",
       "      <td>575.0</td>\n",
       "      <td>575.0</td>\n",
       "      <td>Rickshaw</td>\n",
       "      <td>Transportation</td>\n",
       "      <td>to repair and maintain the auto rickshaw used ...</td>\n",
       "      <td>PK</td>\n",
       "      <td>Pakistan</td>\n",
       "      <td>Lahore</td>\n",
       "      <td>PKR</td>\n",
       "      <td>247.0</td>\n",
       "      <td>2014-01-01 06:51:08+00:00</td>\n",
       "      <td>2013-12-17 08:00:00+00:00</td>\n",
       "      <td>2014-01-02 09:17:23+00:00</td>\n",
       "      <td>11.0</td>\n",
       "      <td>14</td>\n",
       "      <td>NaN</td>\n",
       "      <td>female, female</td>\n",
       "      <td>irregular</td>\n",
       "      <td>2014-01-01</td>\n",
       "    </tr>\n",
       "    <tr>\n",
       "      <th>2</th>\n",
       "      <td>653068</td>\n",
       "      <td>150.0</td>\n",
       "      <td>150.0</td>\n",
       "      <td>Transportation</td>\n",
       "      <td>Transportation</td>\n",
       "      <td>To repair their old cycle-van and buy another ...</td>\n",
       "      <td>IN</td>\n",
       "      <td>India</td>\n",
       "      <td>Maynaguri</td>\n",
       "      <td>INR</td>\n",
       "      <td>334.0</td>\n",
       "      <td>2014-01-01 09:58:07+00:00</td>\n",
       "      <td>2013-12-17 08:00:00+00:00</td>\n",
       "      <td>2014-01-01 16:01:36+00:00</td>\n",
       "      <td>43.0</td>\n",
       "      <td>6</td>\n",
       "      <td>user_favorite, user_favorite</td>\n",
       "      <td>female</td>\n",
       "      <td>bullet</td>\n",
       "      <td>2014-01-01</td>\n",
       "    </tr>\n",
       "    <tr>\n",
       "      <th>3</th>\n",
       "      <td>653063</td>\n",
       "      <td>200.0</td>\n",
       "      <td>200.0</td>\n",
       "      <td>Embroidery</td>\n",
       "      <td>Arts</td>\n",
       "      <td>to purchase an embroidery machine and a variet...</td>\n",
       "      <td>PK</td>\n",
       "      <td>Pakistan</td>\n",
       "      <td>Lahore</td>\n",
       "      <td>PKR</td>\n",
       "      <td>247.0</td>\n",
       "      <td>2014-01-01 08:03:11+00:00</td>\n",
       "      <td>2013-12-24 08:00:00+00:00</td>\n",
       "      <td>2014-01-01 13:00:00+00:00</td>\n",
       "      <td>11.0</td>\n",
       "      <td>8</td>\n",
       "      <td>NaN</td>\n",
       "      <td>female</td>\n",
       "      <td>irregular</td>\n",
       "      <td>2014-01-01</td>\n",
       "    </tr>\n",
       "    <tr>\n",
       "      <th>4</th>\n",
       "      <td>653084</td>\n",
       "      <td>400.0</td>\n",
       "      <td>400.0</td>\n",
       "      <td>Milk Sales</td>\n",
       "      <td>Food</td>\n",
       "      <td>to purchase one buffalo.</td>\n",
       "      <td>PK</td>\n",
       "      <td>Pakistan</td>\n",
       "      <td>Abdul Hakeem</td>\n",
       "      <td>PKR</td>\n",
       "      <td>245.0</td>\n",
       "      <td>2014-01-01 11:53:19+00:00</td>\n",
       "      <td>2013-12-17 08:00:00+00:00</td>\n",
       "      <td>2014-01-01 19:18:51+00:00</td>\n",
       "      <td>14.0</td>\n",
       "      <td>16</td>\n",
       "      <td>NaN</td>\n",
       "      <td>female</td>\n",
       "      <td>monthly</td>\n",
       "      <td>2014-01-01</td>\n",
       "    </tr>\n",
       "  </tbody>\n",
       "</table>\n",
       "</div>"
      ],
      "text/plain": [
       "       id  funded_amount  loan_amount             activity          sector  \\\n",
       "0  653051          300.0        300.0  Fruits & Vegetables            Food   \n",
       "1  653053          575.0        575.0             Rickshaw  Transportation   \n",
       "2  653068          150.0        150.0       Transportation  Transportation   \n",
       "3  653063          200.0        200.0           Embroidery            Arts   \n",
       "4  653084          400.0        400.0           Milk Sales            Food   \n",
       "\n",
       "                                                 use country_code   country  \\\n",
       "0            To buy seasonal, fresh fruits to sell.            PK  Pakistan   \n",
       "1  to repair and maintain the auto rickshaw used ...           PK  Pakistan   \n",
       "2  To repair their old cycle-van and buy another ...           IN     India   \n",
       "3  to purchase an embroidery machine and a variet...           PK  Pakistan   \n",
       "4                           to purchase one buffalo.           PK  Pakistan   \n",
       "\n",
       "         region currency  partner_id                posted_time  \\\n",
       "0        Lahore      PKR       247.0  2014-01-01 06:12:39+00:00   \n",
       "1        Lahore      PKR       247.0  2014-01-01 06:51:08+00:00   \n",
       "2     Maynaguri      INR       334.0  2014-01-01 09:58:07+00:00   \n",
       "3        Lahore      PKR       247.0  2014-01-01 08:03:11+00:00   \n",
       "4  Abdul Hakeem      PKR       245.0  2014-01-01 11:53:19+00:00   \n",
       "\n",
       "              disbursed_time                funded_time  term_in_months  \\\n",
       "0  2013-12-17 08:00:00+00:00  2014-01-02 10:06:32+00:00            12.0   \n",
       "1  2013-12-17 08:00:00+00:00  2014-01-02 09:17:23+00:00            11.0   \n",
       "2  2013-12-17 08:00:00+00:00  2014-01-01 16:01:36+00:00            43.0   \n",
       "3  2013-12-24 08:00:00+00:00  2014-01-01 13:00:00+00:00            11.0   \n",
       "4  2013-12-17 08:00:00+00:00  2014-01-01 19:18:51+00:00            14.0   \n",
       "\n",
       "   lender_count                          tags borrower_genders  \\\n",
       "0            12                           NaN           female   \n",
       "1            14                           NaN   female, female   \n",
       "2             6  user_favorite, user_favorite           female   \n",
       "3             8                           NaN           female   \n",
       "4            16                           NaN           female   \n",
       "\n",
       "  repayment_interval        date  \n",
       "0          irregular  2014-01-01  \n",
       "1          irregular  2014-01-01  \n",
       "2             bullet  2014-01-01  \n",
       "3          irregular  2014-01-01  \n",
       "4            monthly  2014-01-01  "
      ]
     },
     "execution_count": 3,
     "metadata": {},
     "output_type": "execute_result"
    }
   ],
   "source": [
    "loans.head()"
   ]
  },
  {
   "cell_type": "code",
   "execution_count": 3,
   "metadata": {},
   "outputs": [
    {
     "name": "stdout",
     "output_type": "stream",
     "text": [
      "<class 'pandas.core.frame.DataFrame'>\n",
      "RangeIndex: 671205 entries, 0 to 671204\n",
      "Data columns (total 20 columns):\n",
      " #   Column              Non-Null Count   Dtype  \n",
      "---  ------              --------------   -----  \n",
      " 0   id                  671205 non-null  int64  \n",
      " 1   funded_amount       671205 non-null  float64\n",
      " 2   loan_amount         671205 non-null  float64\n",
      " 3   activity            671205 non-null  object \n",
      " 4   sector              671205 non-null  object \n",
      " 5   use                 666973 non-null  object \n",
      " 6   country_code        671197 non-null  object \n",
      " 7   country             671205 non-null  object \n",
      " 8   region              614405 non-null  object \n",
      " 9   currency            671205 non-null  object \n",
      " 10  partner_id          657698 non-null  float64\n",
      " 11  posted_time         671205 non-null  object \n",
      " 12  disbursed_time      668809 non-null  object \n",
      " 13  funded_time         622874 non-null  object \n",
      " 14  term_in_months      671205 non-null  float64\n",
      " 15  lender_count        671205 non-null  int64  \n",
      " 16  tags                499789 non-null  object \n",
      " 17  borrower_genders    666984 non-null  object \n",
      " 18  repayment_interval  671205 non-null  object \n",
      " 19  date                671205 non-null  object \n",
      "dtypes: float64(4), int64(2), object(14)\n",
      "memory usage: 102.4+ MB\n"
     ]
    }
   ],
   "source": [
    "loans.info()"
   ]
  },
  {
   "cell_type": "code",
   "execution_count": 4,
   "metadata": {},
   "outputs": [
    {
     "data": {
      "text/html": [
       "<div>\n",
       "<style scoped>\n",
       "    .dataframe tbody tr th:only-of-type {\n",
       "        vertical-align: middle;\n",
       "    }\n",
       "\n",
       "    .dataframe tbody tr th {\n",
       "        vertical-align: top;\n",
       "    }\n",
       "\n",
       "    .dataframe thead th {\n",
       "        text-align: right;\n",
       "    }\n",
       "</style>\n",
       "<table border=\"1\" class=\"dataframe\">\n",
       "  <thead>\n",
       "    <tr style=\"text-align: right;\">\n",
       "      <th></th>\n",
       "      <th>id</th>\n",
       "      <th>funded_amount</th>\n",
       "      <th>loan_amount</th>\n",
       "      <th>activity</th>\n",
       "      <th>sector</th>\n",
       "      <th>use</th>\n",
       "      <th>country_code</th>\n",
       "      <th>country</th>\n",
       "      <th>region</th>\n",
       "      <th>currency</th>\n",
       "      <th>partner_id</th>\n",
       "      <th>posted_time</th>\n",
       "      <th>disbursed_time</th>\n",
       "      <th>funded_time</th>\n",
       "      <th>term_in_months</th>\n",
       "      <th>lender_count</th>\n",
       "      <th>tags</th>\n",
       "      <th>borrower_genders</th>\n",
       "      <th>repayment_interval</th>\n",
       "      <th>date</th>\n",
       "    </tr>\n",
       "  </thead>\n",
       "  <tbody>\n",
       "    <tr>\n",
       "      <th>277188</th>\n",
       "      <td>924149</td>\n",
       "      <td>425.0</td>\n",
       "      <td>400.0</td>\n",
       "      <td>General Store</td>\n",
       "      <td>Retail</td>\n",
       "      <td>to buy beverages, rice, laundry detergent, sug...</td>\n",
       "      <td>MZ</td>\n",
       "      <td>Mozambique</td>\n",
       "      <td>Boane, Maputo</td>\n",
       "      <td>MZN</td>\n",
       "      <td>23.0</td>\n",
       "      <td>2015-07-28 07:14:04+00:00</td>\n",
       "      <td>2015-07-22 07:00:00+00:00</td>\n",
       "      <td>NaN</td>\n",
       "      <td>17.0</td>\n",
       "      <td>11</td>\n",
       "      <td>#Parent, user_favorite</td>\n",
       "      <td>male</td>\n",
       "      <td>monthly</td>\n",
       "      <td>2015-07-28</td>\n",
       "    </tr>\n",
       "    <tr>\n",
       "      <th>338159</th>\n",
       "      <td>985199</td>\n",
       "      <td>3400.0</td>\n",
       "      <td>3000.0</td>\n",
       "      <td>Farm Supplies</td>\n",
       "      <td>Agriculture</td>\n",
       "      <td>to pay for wires for the grape orchard, cover ...</td>\n",
       "      <td>AM</td>\n",
       "      <td>Armenia</td>\n",
       "      <td>Hoktember village, Armavir region</td>\n",
       "      <td>USD</td>\n",
       "      <td>169.0</td>\n",
       "      <td>2015-11-25 10:53:00+00:00</td>\n",
       "      <td>2015-10-29 07:00:00+00:00</td>\n",
       "      <td>NaN</td>\n",
       "      <td>38.0</td>\n",
       "      <td>84</td>\n",
       "      <td>#Elderly, #Job Creator, #Trees, #Vegan, user_f...</td>\n",
       "      <td>male</td>\n",
       "      <td>monthly</td>\n",
       "      <td>2015-11-25</td>\n",
       "    </tr>\n",
       "  </tbody>\n",
       "</table>\n",
       "</div>"
      ],
      "text/plain": [
       "            id  funded_amount  loan_amount       activity       sector  \\\n",
       "277188  924149          425.0        400.0  General Store       Retail   \n",
       "338159  985199         3400.0       3000.0  Farm Supplies  Agriculture   \n",
       "\n",
       "                                                      use country_code  \\\n",
       "277188  to buy beverages, rice, laundry detergent, sug...           MZ   \n",
       "338159  to pay for wires for the grape orchard, cover ...           AM   \n",
       "\n",
       "           country                             region currency  partner_id  \\\n",
       "277188  Mozambique                      Boane, Maputo      MZN        23.0   \n",
       "338159     Armenia  Hoktember village, Armavir region      USD       169.0   \n",
       "\n",
       "                      posted_time             disbursed_time funded_time  \\\n",
       "277188  2015-07-28 07:14:04+00:00  2015-07-22 07:00:00+00:00         NaN   \n",
       "338159  2015-11-25 10:53:00+00:00  2015-10-29 07:00:00+00:00         NaN   \n",
       "\n",
       "        term_in_months  lender_count  \\\n",
       "277188            17.0            11   \n",
       "338159            38.0            84   \n",
       "\n",
       "                                                     tags borrower_genders  \\\n",
       "277188                             #Parent, user_favorite             male   \n",
       "338159  #Elderly, #Job Creator, #Trees, #Vegan, user_f...             male   \n",
       "\n",
       "       repayment_interval        date  \n",
       "277188            monthly  2015-07-28  \n",
       "338159            monthly  2015-11-25  "
      ]
     },
     "execution_count": 4,
     "metadata": {},
     "output_type": "execute_result"
    }
   ],
   "source": [
    "loans[loans['loan_amount'] < loans['funded_amount']]"
   ]
  },
  {
   "cell_type": "code",
   "execution_count": 19,
   "metadata": {},
   "outputs": [
    {
     "data": {
      "text/plain": [
       "id                         0\n",
       "funded_amount              0\n",
       "loan_amount                0\n",
       "activity                   0\n",
       "sector                     0\n",
       "use                     4232\n",
       "country_code               8\n",
       "country                    0\n",
       "region                 56800\n",
       "currency                   0\n",
       "partner_id             13507\n",
       "posted_time                0\n",
       "disbursed_time          2396\n",
       "funded_time            48331\n",
       "term_in_months             0\n",
       "lender_count               0\n",
       "tags                  171416\n",
       "borrower_genders        4221\n",
       "repayment_interval         0\n",
       "date                       0\n",
       "dtype: int64"
      ]
     },
     "execution_count": 19,
     "metadata": {},
     "output_type": "execute_result"
    }
   ],
   "source": [
    "# check how many null values are in each column\n",
    "loans.isnull().sum()"
   ]
  },
  {
   "cell_type": "code",
   "execution_count": 6,
   "metadata": {},
   "outputs": [
    {
     "data": {
      "text/html": [
       "<div>\n",
       "<style scoped>\n",
       "    .dataframe tbody tr th:only-of-type {\n",
       "        vertical-align: middle;\n",
       "    }\n",
       "\n",
       "    .dataframe tbody tr th {\n",
       "        vertical-align: top;\n",
       "    }\n",
       "\n",
       "    .dataframe thead th {\n",
       "        text-align: right;\n",
       "    }\n",
       "</style>\n",
       "<table border=\"1\" class=\"dataframe\">\n",
       "  <thead>\n",
       "    <tr style=\"text-align: right;\">\n",
       "      <th></th>\n",
       "      <th>id</th>\n",
       "      <th>funded_amount</th>\n",
       "      <th>loan_amount</th>\n",
       "      <th>partner_id</th>\n",
       "      <th>term_in_months</th>\n",
       "      <th>lender_count</th>\n",
       "    </tr>\n",
       "  </thead>\n",
       "  <tbody>\n",
       "    <tr>\n",
       "      <th>count</th>\n",
       "      <td>6.712050e+05</td>\n",
       "      <td>671205.000000</td>\n",
       "      <td>671205.000000</td>\n",
       "      <td>657698.000000</td>\n",
       "      <td>671205.000000</td>\n",
       "      <td>671205.000000</td>\n",
       "    </tr>\n",
       "    <tr>\n",
       "      <th>mean</th>\n",
       "      <td>9.932486e+05</td>\n",
       "      <td>785.995061</td>\n",
       "      <td>842.397107</td>\n",
       "      <td>178.199616</td>\n",
       "      <td>13.739022</td>\n",
       "      <td>20.590922</td>\n",
       "    </tr>\n",
       "    <tr>\n",
       "      <th>std</th>\n",
       "      <td>1.966113e+05</td>\n",
       "      <td>1130.398941</td>\n",
       "      <td>1198.660073</td>\n",
       "      <td>94.247581</td>\n",
       "      <td>8.598919</td>\n",
       "      <td>28.459551</td>\n",
       "    </tr>\n",
       "    <tr>\n",
       "      <th>min</th>\n",
       "      <td>6.530470e+05</td>\n",
       "      <td>0.000000</td>\n",
       "      <td>25.000000</td>\n",
       "      <td>9.000000</td>\n",
       "      <td>1.000000</td>\n",
       "      <td>0.000000</td>\n",
       "    </tr>\n",
       "    <tr>\n",
       "      <th>25%</th>\n",
       "      <td>8.230720e+05</td>\n",
       "      <td>250.000000</td>\n",
       "      <td>275.000000</td>\n",
       "      <td>126.000000</td>\n",
       "      <td>8.000000</td>\n",
       "      <td>7.000000</td>\n",
       "    </tr>\n",
       "    <tr>\n",
       "      <th>50%</th>\n",
       "      <td>9.927800e+05</td>\n",
       "      <td>450.000000</td>\n",
       "      <td>500.000000</td>\n",
       "      <td>145.000000</td>\n",
       "      <td>13.000000</td>\n",
       "      <td>13.000000</td>\n",
       "    </tr>\n",
       "    <tr>\n",
       "      <th>75%</th>\n",
       "      <td>1.163653e+06</td>\n",
       "      <td>900.000000</td>\n",
       "      <td>1000.000000</td>\n",
       "      <td>204.000000</td>\n",
       "      <td>14.000000</td>\n",
       "      <td>24.000000</td>\n",
       "    </tr>\n",
       "    <tr>\n",
       "      <th>max</th>\n",
       "      <td>1.340339e+06</td>\n",
       "      <td>100000.000000</td>\n",
       "      <td>100000.000000</td>\n",
       "      <td>536.000000</td>\n",
       "      <td>158.000000</td>\n",
       "      <td>2986.000000</td>\n",
       "    </tr>\n",
       "  </tbody>\n",
       "</table>\n",
       "</div>"
      ],
      "text/plain": [
       "                 id  funded_amount    loan_amount     partner_id  \\\n",
       "count  6.712050e+05  671205.000000  671205.000000  657698.000000   \n",
       "mean   9.932486e+05     785.995061     842.397107     178.199616   \n",
       "std    1.966113e+05    1130.398941    1198.660073      94.247581   \n",
       "min    6.530470e+05       0.000000      25.000000       9.000000   \n",
       "25%    8.230720e+05     250.000000     275.000000     126.000000   \n",
       "50%    9.927800e+05     450.000000     500.000000     145.000000   \n",
       "75%    1.163653e+06     900.000000    1000.000000     204.000000   \n",
       "max    1.340339e+06  100000.000000  100000.000000     536.000000   \n",
       "\n",
       "       term_in_months   lender_count  \n",
       "count   671205.000000  671205.000000  \n",
       "mean        13.739022      20.590922  \n",
       "std          8.598919      28.459551  \n",
       "min          1.000000       0.000000  \n",
       "25%          8.000000       7.000000  \n",
       "50%         13.000000      13.000000  \n",
       "75%         14.000000      24.000000  \n",
       "max        158.000000    2986.000000  "
      ]
     },
     "execution_count": 6,
     "metadata": {},
     "output_type": "execute_result"
    }
   ],
   "source": [
    "loans.describe()"
   ]
  },
  {
   "cell_type": "code",
   "execution_count": 7,
   "metadata": {},
   "outputs": [
    {
     "data": {
      "text/html": [
       "<div>\n",
       "<style scoped>\n",
       "    .dataframe tbody tr th:only-of-type {\n",
       "        vertical-align: middle;\n",
       "    }\n",
       "\n",
       "    .dataframe tbody tr th {\n",
       "        vertical-align: top;\n",
       "    }\n",
       "\n",
       "    .dataframe thead th {\n",
       "        text-align: right;\n",
       "    }\n",
       "</style>\n",
       "<table border=\"1\" class=\"dataframe\">\n",
       "  <thead>\n",
       "    <tr style=\"text-align: right;\">\n",
       "      <th></th>\n",
       "      <th>id</th>\n",
       "      <th>funded_amount</th>\n",
       "      <th>loan_amount</th>\n",
       "      <th>activity</th>\n",
       "      <th>sector</th>\n",
       "      <th>use</th>\n",
       "      <th>country_code</th>\n",
       "      <th>country</th>\n",
       "      <th>region</th>\n",
       "      <th>currency</th>\n",
       "      <th>partner_id</th>\n",
       "      <th>posted_time</th>\n",
       "      <th>disbursed_time</th>\n",
       "      <th>funded_time</th>\n",
       "      <th>term_in_months</th>\n",
       "      <th>lender_count</th>\n",
       "      <th>tags</th>\n",
       "      <th>borrower_genders</th>\n",
       "      <th>repayment_interval</th>\n",
       "      <th>date</th>\n",
       "    </tr>\n",
       "  </thead>\n",
       "  <tbody>\n",
       "    <tr>\n",
       "      <th>0</th>\n",
       "      <td>653051</td>\n",
       "      <td>300.0</td>\n",
       "      <td>300.0</td>\n",
       "      <td>Fruits &amp; Vegetables</td>\n",
       "      <td>Food</td>\n",
       "      <td>To buy seasonal, fresh fruits to sell.</td>\n",
       "      <td>PK</td>\n",
       "      <td>Pakistan</td>\n",
       "      <td>Lahore</td>\n",
       "      <td>PKR</td>\n",
       "      <td>247.0</td>\n",
       "      <td>2014-01-01 06:12:39+00:00</td>\n",
       "      <td>2013-12-17 08:00:00+00:00</td>\n",
       "      <td>2014-01-02 10:06:32+00:00</td>\n",
       "      <td>12.0</td>\n",
       "      <td>12</td>\n",
       "      <td>NaN</td>\n",
       "      <td>female</td>\n",
       "      <td>irregular</td>\n",
       "      <td>2014-01-01</td>\n",
       "    </tr>\n",
       "    <tr>\n",
       "      <th>1</th>\n",
       "      <td>653053</td>\n",
       "      <td>575.0</td>\n",
       "      <td>575.0</td>\n",
       "      <td>Rickshaw</td>\n",
       "      <td>Transportation</td>\n",
       "      <td>to repair and maintain the auto rickshaw used ...</td>\n",
       "      <td>PK</td>\n",
       "      <td>Pakistan</td>\n",
       "      <td>Lahore</td>\n",
       "      <td>PKR</td>\n",
       "      <td>247.0</td>\n",
       "      <td>2014-01-01 06:51:08+00:00</td>\n",
       "      <td>2013-12-17 08:00:00+00:00</td>\n",
       "      <td>2014-01-02 09:17:23+00:00</td>\n",
       "      <td>11.0</td>\n",
       "      <td>14</td>\n",
       "      <td>NaN</td>\n",
       "      <td>female, female</td>\n",
       "      <td>irregular</td>\n",
       "      <td>2014-01-01</td>\n",
       "    </tr>\n",
       "    <tr>\n",
       "      <th>2</th>\n",
       "      <td>653068</td>\n",
       "      <td>150.0</td>\n",
       "      <td>150.0</td>\n",
       "      <td>Transportation</td>\n",
       "      <td>Transportation</td>\n",
       "      <td>To repair their old cycle-van and buy another ...</td>\n",
       "      <td>IN</td>\n",
       "      <td>India</td>\n",
       "      <td>Maynaguri</td>\n",
       "      <td>INR</td>\n",
       "      <td>334.0</td>\n",
       "      <td>2014-01-01 09:58:07+00:00</td>\n",
       "      <td>2013-12-17 08:00:00+00:00</td>\n",
       "      <td>2014-01-01 16:01:36+00:00</td>\n",
       "      <td>43.0</td>\n",
       "      <td>6</td>\n",
       "      <td>user_favorite, user_favorite</td>\n",
       "      <td>female</td>\n",
       "      <td>bullet</td>\n",
       "      <td>2014-01-01</td>\n",
       "    </tr>\n",
       "    <tr>\n",
       "      <th>3</th>\n",
       "      <td>653063</td>\n",
       "      <td>200.0</td>\n",
       "      <td>200.0</td>\n",
       "      <td>Embroidery</td>\n",
       "      <td>Arts</td>\n",
       "      <td>to purchase an embroidery machine and a variet...</td>\n",
       "      <td>PK</td>\n",
       "      <td>Pakistan</td>\n",
       "      <td>Lahore</td>\n",
       "      <td>PKR</td>\n",
       "      <td>247.0</td>\n",
       "      <td>2014-01-01 08:03:11+00:00</td>\n",
       "      <td>2013-12-24 08:00:00+00:00</td>\n",
       "      <td>2014-01-01 13:00:00+00:00</td>\n",
       "      <td>11.0</td>\n",
       "      <td>8</td>\n",
       "      <td>NaN</td>\n",
       "      <td>female</td>\n",
       "      <td>irregular</td>\n",
       "      <td>2014-01-01</td>\n",
       "    </tr>\n",
       "    <tr>\n",
       "      <th>4</th>\n",
       "      <td>653084</td>\n",
       "      <td>400.0</td>\n",
       "      <td>400.0</td>\n",
       "      <td>Milk Sales</td>\n",
       "      <td>Food</td>\n",
       "      <td>to purchase one buffalo.</td>\n",
       "      <td>PK</td>\n",
       "      <td>Pakistan</td>\n",
       "      <td>Abdul Hakeem</td>\n",
       "      <td>PKR</td>\n",
       "      <td>245.0</td>\n",
       "      <td>2014-01-01 11:53:19+00:00</td>\n",
       "      <td>2013-12-17 08:00:00+00:00</td>\n",
       "      <td>2014-01-01 19:18:51+00:00</td>\n",
       "      <td>14.0</td>\n",
       "      <td>16</td>\n",
       "      <td>NaN</td>\n",
       "      <td>female</td>\n",
       "      <td>monthly</td>\n",
       "      <td>2014-01-01</td>\n",
       "    </tr>\n",
       "  </tbody>\n",
       "</table>\n",
       "</div>"
      ],
      "text/plain": [
       "       id  funded_amount  loan_amount             activity          sector  \\\n",
       "0  653051          300.0        300.0  Fruits & Vegetables            Food   \n",
       "1  653053          575.0        575.0             Rickshaw  Transportation   \n",
       "2  653068          150.0        150.0       Transportation  Transportation   \n",
       "3  653063          200.0        200.0           Embroidery            Arts   \n",
       "4  653084          400.0        400.0           Milk Sales            Food   \n",
       "\n",
       "                                                 use country_code   country  \\\n",
       "0            To buy seasonal, fresh fruits to sell.            PK  Pakistan   \n",
       "1  to repair and maintain the auto rickshaw used ...           PK  Pakistan   \n",
       "2  To repair their old cycle-van and buy another ...           IN     India   \n",
       "3  to purchase an embroidery machine and a variet...           PK  Pakistan   \n",
       "4                           to purchase one buffalo.           PK  Pakistan   \n",
       "\n",
       "         region currency  partner_id                posted_time  \\\n",
       "0        Lahore      PKR       247.0  2014-01-01 06:12:39+00:00   \n",
       "1        Lahore      PKR       247.0  2014-01-01 06:51:08+00:00   \n",
       "2     Maynaguri      INR       334.0  2014-01-01 09:58:07+00:00   \n",
       "3        Lahore      PKR       247.0  2014-01-01 08:03:11+00:00   \n",
       "4  Abdul Hakeem      PKR       245.0  2014-01-01 11:53:19+00:00   \n",
       "\n",
       "              disbursed_time                funded_time  term_in_months  \\\n",
       "0  2013-12-17 08:00:00+00:00  2014-01-02 10:06:32+00:00            12.0   \n",
       "1  2013-12-17 08:00:00+00:00  2014-01-02 09:17:23+00:00            11.0   \n",
       "2  2013-12-17 08:00:00+00:00  2014-01-01 16:01:36+00:00            43.0   \n",
       "3  2013-12-24 08:00:00+00:00  2014-01-01 13:00:00+00:00            11.0   \n",
       "4  2013-12-17 08:00:00+00:00  2014-01-01 19:18:51+00:00            14.0   \n",
       "\n",
       "   lender_count                          tags borrower_genders  \\\n",
       "0            12                           NaN           female   \n",
       "1            14                           NaN   female, female   \n",
       "2             6  user_favorite, user_favorite           female   \n",
       "3             8                           NaN           female   \n",
       "4            16                           NaN           female   \n",
       "\n",
       "  repayment_interval        date  \n",
       "0          irregular  2014-01-01  \n",
       "1          irregular  2014-01-01  \n",
       "2             bullet  2014-01-01  \n",
       "3          irregular  2014-01-01  \n",
       "4            monthly  2014-01-01  "
      ]
     },
     "execution_count": 7,
     "metadata": {},
     "output_type": "execute_result"
    }
   ],
   "source": [
    "loans.head()"
   ]
  },
  {
   "cell_type": "code",
   "execution_count": 8,
   "metadata": {},
   "outputs": [],
   "source": [
    "# loans['funded_time'].fillna(pd.Timestamp(1970, 1, 1, 0, 0, 0, 0, 0), inplace=True)\n",
    "# loans['funded_time']"
   ]
  },
  {
   "cell_type": "code",
   "execution_count": 9,
   "metadata": {},
   "outputs": [],
   "source": [
    "# Change dates to datetime types\n",
    "loans['posted_time'] = pd.to_datetime(loans['posted_time'], )\n",
    "loans['disbursed_time'] = pd.to_datetime(loans['disbursed_time'])\n",
    "loans['date'] = pd.to_datetime(loans['date'])"
   ]
  },
  {
   "cell_type": "code",
   "execution_count": 10,
   "metadata": {},
   "outputs": [
    {
     "data": {
      "text/plain": [
       "0         2014-01-02 10:06:32+00:00\n",
       "1         2014-01-02 09:17:23+00:00\n",
       "2         2014-01-01 16:01:36+00:00\n",
       "3         2014-01-01 13:00:00+00:00\n",
       "4         2014-01-01 19:18:51+00:00\n",
       "                    ...            \n",
       "671200                          NaN\n",
       "671201    2017-07-26 02:09:43+00:00\n",
       "671202                          NaN\n",
       "671203                          NaN\n",
       "671204                          NaN\n",
       "Name: funded_time, Length: 671205, dtype: object"
      ]
     },
     "execution_count": 10,
     "metadata": {},
     "output_type": "execute_result"
    }
   ],
   "source": [
    "loans['funded_time']"
   ]
  },
  {
   "cell_type": "code",
   "execution_count": 11,
   "metadata": {},
   "outputs": [],
   "source": [
    "# changed term of the loan in months to a float\n",
    "loans['term_in_months'] = loans['term_in_months'].astype('float')\n",
    "loans['lender_count'] = loans['lender_count'].astype('float')"
   ]
  },
  {
   "cell_type": "code",
   "execution_count": 12,
   "metadata": {},
   "outputs": [],
   "source": [
    "# get all column names that contain null values\n",
    "null_cols = loans.loc[:, loans.isnull().sum() > 0].columns.tolist()"
   ]
  },
  {
   "cell_type": "code",
   "execution_count": 13,
   "metadata": {},
   "outputs": [
    {
     "data": {
      "text/plain": [
       "<matplotlib.axes._subplots.AxesSubplot at 0x22bae19e5c0>"
      ]
     },
     "execution_count": 13,
     "metadata": {},
     "output_type": "execute_result"
    },
    {
     "data": {
      "image/png": "[encoded data removed]",
      "text/plain": [
       "<Figure size 576x576 with 2 Axes>"
      ]
     },
     "metadata": {
      "needs_background": "light"
     },
     "output_type": "display_data"
    }
   ],
   "source": [
    "# get the correlations of null values to see how often they appear in the same row\n",
    "nullval_corrs = loans.loc[:, loans.isnull().sum() > 0].isnull().astype(int).corr()\n",
    "plt.figure(figsize=(8, 8))\n",
    "sns.heatmap(nullval_corrs, cmap='viridis', annot=True)"
   ]
  },
  {
   "cell_type": "code",
   "execution_count": 14,
   "metadata": {},
   "outputs": [
    {
     "data": {
      "text/html": [
       "<div>\n",
       "<style scoped>\n",
       "    .dataframe tbody tr th:only-of-type {\n",
       "        vertical-align: middle;\n",
       "    }\n",
       "\n",
       "    .dataframe tbody tr th {\n",
       "        vertical-align: top;\n",
       "    }\n",
       "\n",
       "    .dataframe thead th {\n",
       "        text-align: right;\n",
       "    }\n",
       "</style>\n",
       "<table border=\"1\" class=\"dataframe\">\n",
       "  <thead>\n",
       "    <tr style=\"text-align: right;\">\n",
       "      <th></th>\n",
       "      <th>use</th>\n",
       "      <th>country_code</th>\n",
       "      <th>region</th>\n",
       "      <th>partner_id</th>\n",
       "      <th>disbursed_time</th>\n",
       "      <th>funded_time</th>\n",
       "      <th>tags</th>\n",
       "      <th>borrower_genders</th>\n",
       "    </tr>\n",
       "  </thead>\n",
       "  <tbody>\n",
       "    <tr>\n",
       "      <th>use</th>\n",
       "      <td>1.000000</td>\n",
       "      <td>-0.000275</td>\n",
       "      <td>0.261644</td>\n",
       "      <td>0.045418</td>\n",
       "      <td>0.127783</td>\n",
       "      <td>0.027907</td>\n",
       "      <td>0.010109</td>\n",
       "      <td>0.998691</td>\n",
       "    </tr>\n",
       "    <tr>\n",
       "      <th>country_code</th>\n",
       "      <td>-0.000275</td>\n",
       "      <td>1.000000</td>\n",
       "      <td>-0.001050</td>\n",
       "      <td>-0.000495</td>\n",
       "      <td>-0.000207</td>\n",
       "      <td>-0.000962</td>\n",
       "      <td>-0.001032</td>\n",
       "      <td>-0.000275</td>\n",
       "    </tr>\n",
       "    <tr>\n",
       "      <th>region</th>\n",
       "      <td>0.261644</td>\n",
       "      <td>-0.001050</td>\n",
       "      <td>1.000000</td>\n",
       "      <td>0.471324</td>\n",
       "      <td>0.196855</td>\n",
       "      <td>0.082067</td>\n",
       "      <td>0.057401</td>\n",
       "      <td>0.261639</td>\n",
       "    </tr>\n",
       "    <tr>\n",
       "      <th>partner_id</th>\n",
       "      <td>0.045418</td>\n",
       "      <td>-0.000495</td>\n",
       "      <td>0.471324</td>\n",
       "      <td>1.000000</td>\n",
       "      <td>0.417663</td>\n",
       "      <td>0.048531</td>\n",
       "      <td>0.198181</td>\n",
       "      <td>0.044835</td>\n",
       "    </tr>\n",
       "    <tr>\n",
       "      <th>disbursed_time</th>\n",
       "      <td>0.127783</td>\n",
       "      <td>-0.000207</td>\n",
       "      <td>0.196855</td>\n",
       "      <td>0.417663</td>\n",
       "      <td>1.000000</td>\n",
       "      <td>0.191582</td>\n",
       "      <td>0.080606</td>\n",
       "      <td>0.126381</td>\n",
       "    </tr>\n",
       "    <tr>\n",
       "      <th>funded_time</th>\n",
       "      <td>0.027907</td>\n",
       "      <td>-0.000962</td>\n",
       "      <td>0.082067</td>\n",
       "      <td>0.048531</td>\n",
       "      <td>0.191582</td>\n",
       "      <td>1.000000</td>\n",
       "      <td>-0.119731</td>\n",
       "      <td>0.027564</td>\n",
       "    </tr>\n",
       "    <tr>\n",
       "      <th>tags</th>\n",
       "      <td>0.010109</td>\n",
       "      <td>-0.001032</td>\n",
       "      <td>0.057401</td>\n",
       "      <td>0.198181</td>\n",
       "      <td>0.080606</td>\n",
       "      <td>-0.119731</td>\n",
       "      <td>1.000000</td>\n",
       "      <td>0.009984</td>\n",
       "    </tr>\n",
       "    <tr>\n",
       "      <th>borrower_genders</th>\n",
       "      <td>0.998691</td>\n",
       "      <td>-0.000275</td>\n",
       "      <td>0.261639</td>\n",
       "      <td>0.044835</td>\n",
       "      <td>0.126381</td>\n",
       "      <td>0.027564</td>\n",
       "      <td>0.009984</td>\n",
       "      <td>1.000000</td>\n",
       "    </tr>\n",
       "  </tbody>\n",
       "</table>\n",
       "</div>"
      ],
      "text/plain": [
       "                       use  country_code    region  partner_id  \\\n",
       "use               1.000000     -0.000275  0.261644    0.045418   \n",
       "country_code     -0.000275      1.000000 -0.001050   -0.000495   \n",
       "region            0.261644     -0.001050  1.000000    0.471324   \n",
       "partner_id        0.045418     -0.000495  0.471324    1.000000   \n",
       "disbursed_time    0.127783     -0.000207  0.196855    0.417663   \n",
       "funded_time       0.027907     -0.000962  0.082067    0.048531   \n",
       "tags              0.010109     -0.001032  0.057401    0.198181   \n",
       "borrower_genders  0.998691     -0.000275  0.261639    0.044835   \n",
       "\n",
       "                  disbursed_time  funded_time      tags  borrower_genders  \n",
       "use                     0.127783     0.027907  0.010109          0.998691  \n",
       "country_code           -0.000207    -0.000962 -0.001032         -0.000275  \n",
       "region                  0.196855     0.082067  0.057401          0.261639  \n",
       "partner_id              0.417663     0.048531  0.198181          0.044835  \n",
       "disbursed_time          1.000000     0.191582  0.080606          0.126381  \n",
       "funded_time             0.191582     1.000000 -0.119731          0.027564  \n",
       "tags                    0.080606    -0.119731  1.000000          0.009984  \n",
       "borrower_genders        0.126381     0.027564  0.009984          1.000000  "
      ]
     },
     "execution_count": 14,
     "metadata": {},
     "output_type": "execute_result"
    }
   ],
   "source": [
    "nullval_corrs"
   ]
  },
  {
   "cell_type": "code",
   "execution_count": 15,
   "metadata": {},
   "outputs": [
    {
     "name": "stdout",
     "output_type": "stream",
     "text": [
      "<class 'pandas.core.frame.DataFrame'>\n",
      "RangeIndex: 671205 entries, 0 to 671204\n",
      "Data columns (total 20 columns):\n",
      " #   Column              Non-Null Count   Dtype              \n",
      "---  ------              --------------   -----              \n",
      " 0   id                  671205 non-null  int64              \n",
      " 1   funded_amount       671205 non-null  float64            \n",
      " 2   loan_amount         671205 non-null  float64            \n",
      " 3   activity            671205 non-null  object             \n",
      " 4   sector              671205 non-null  object             \n",
      " 5   use                 666973 non-null  object             \n",
      " 6   country_code        671197 non-null  object             \n",
      " 7   country             671205 non-null  object             \n",
      " 8   region              614405 non-null  object             \n",
      " 9   currency            671205 non-null  object             \n",
      " 10  partner_id          657698 non-null  float64            \n",
      " 11  posted_time         671205 non-null  datetime64[ns, UTC]\n",
      " 12  disbursed_time      668809 non-null  datetime64[ns, UTC]\n",
      " 13  funded_time         622874 non-null  object             \n",
      " 14  term_in_months      671205 non-null  float64            \n",
      " 15  lender_count        671205 non-null  float64            \n",
      " 16  tags                499789 non-null  object             \n",
      " 17  borrower_genders    666984 non-null  object             \n",
      " 18  repayment_interval  671205 non-null  object             \n",
      " 19  date                671205 non-null  datetime64[ns]     \n",
      "dtypes: datetime64[ns, UTC](2), datetime64[ns](1), float64(5), int64(1), object(11)\n",
      "memory usage: 102.4+ MB\n"
     ]
    }
   ],
   "source": [
    "loans.info()"
   ]
  },
  {
   "cell_type": "code",
   "execution_count": 16,
   "metadata": {},
   "outputs": [],
   "source": [
    "# loans['time_til_funded'] = loans['funded_time'] - loans['posted_time']\n",
    "# # loans['time_til_funded']"
   ]
  },
  {
   "cell_type": "code",
   "execution_count": 17,
   "metadata": {},
   "outputs": [],
   "source": [
    "# loans[loans['time_til_funded'].isnull()][['funded_amount', 'loan_amount']]"
   ]
  },
  {
   "cell_type": "code",
   "execution_count": 18,
   "metadata": {},
   "outputs": [
    {
     "data": {
      "image/png": "[encoded data removed]",
      "text/plain": [
       "<Figure size 864x864 with 1 Axes>"
      ]
     },
     "metadata": {
      "needs_background": "light"
     },
     "output_type": "display_data"
    }
   ],
   "source": [
    "plt.figure(figsize=(12,12))\n",
    "g = sns.countplot(data=loans, x='sector')\n",
    "g.tick_params(axis='x', rotation=70, right=True)"
   ]
  },
  {
   "cell_type": "code",
   "execution_count": 79,
   "metadata": {},
   "outputs": [],
   "source": [
    "# plt.figure(figsize=(12,8))\n",
    "# g = sns.countplot(data=loans, x='country')\n",
    "# g.tick_params(axis='x', rotation=70, right=True)"
   ]
  },
  {
   "cell_type": "code",
   "execution_count": 80,
   "metadata": {},
   "outputs": [],
   "source": [
    "# let's get the # of unique values in each col\n",
    "uniques = pd.Series({col: loans[col].unique().shape[0] for col in loans.columns})\n",
    "uniques = uniques.sort_values(ascending=False)"
   ]
  },
  {
   "cell_type": "code",
   "execution_count": 81,
   "metadata": {},
   "outputs": [
    {
     "data": {
      "image/png": "[encoded data removed]",
      "text/plain": [
       "<Figure size 864x576 with 1 Axes>"
      ]
     },
     "metadata": {
      "needs_background": "light"
     },
     "output_type": "display_data"
    }
   ],
   "source": [
    "plt.figure(figsize=(12, 8))\n",
    "uns = sns.barplot(x=uniques.index, y=uniques.values)"
   ]
  },
  {
   "cell_type": "code",
   "execution_count": 82,
   "metadata": {},
   "outputs": [
    {
     "data": {
      "image/png": "[encoded data removed]",
      "text/plain": [
       "<Figure size 864x576 with 1 Axes>"
      ]
     },
     "metadata": {
      "needs_background": "light"
     },
     "output_type": "display_data"
    }
   ],
   "source": [
    "plt.figure(figsize=(12, 8))\n",
    "uns = sns.barplot(x=uniques.index, y=np.log(uniques.values))\n",
    "for index, val in enumerate(uniques.values):\n",
    "    uns.text(index,np.log(val),val, color='black', ha=\"center\")    \n",
    "uns.tick_params(axis='x', rotation=70, left=True)\n",
    "\n",
    "plt.savefig('unique_vals_per_col.png')"
   ]
  },
  {
   "cell_type": "code",
   "execution_count": 83,
   "metadata": {},
   "outputs": [
    {
     "data": {
      "text/html": [
       "<div>\n",
       "<style scoped>\n",
       "    .dataframe tbody tr th:only-of-type {\n",
       "        vertical-align: middle;\n",
       "    }\n",
       "\n",
       "    .dataframe tbody tr th {\n",
       "        vertical-align: top;\n",
       "    }\n",
       "\n",
       "    .dataframe thead th {\n",
       "        text-align: right;\n",
       "    }\n",
       "</style>\n",
       "<table border=\"1\" class=\"dataframe\">\n",
       "  <thead>\n",
       "    <tr style=\"text-align: right;\">\n",
       "      <th></th>\n",
       "      <th>id</th>\n",
       "      <th>funded_amount</th>\n",
       "      <th>loan_amount</th>\n",
       "      <th>activity</th>\n",
       "      <th>sector</th>\n",
       "      <th>use</th>\n",
       "      <th>country_code</th>\n",
       "      <th>country</th>\n",
       "      <th>region</th>\n",
       "      <th>currency</th>\n",
       "      <th>partner_id</th>\n",
       "      <th>posted_time</th>\n",
       "      <th>disbursed_time</th>\n",
       "      <th>funded_time</th>\n",
       "      <th>term_in_months</th>\n",
       "      <th>lender_count</th>\n",
       "      <th>tags</th>\n",
       "      <th>borrower_genders</th>\n",
       "      <th>repayment_interval</th>\n",
       "      <th>date</th>\n",
       "    </tr>\n",
       "  </thead>\n",
       "  <tbody>\n",
       "  </tbody>\n",
       "</table>\n",
       "</div>"
      ],
      "text/plain": [
       "Empty DataFrame\n",
       "Columns: [id, funded_amount, loan_amount, activity, sector, use, country_code, country, region, currency, partner_id, posted_time, disbursed_time, funded_time, term_in_months, lender_count, tags, borrower_genders, repayment_interval, date]\n",
       "Index: []"
      ]
     },
     "execution_count": 83,
     "metadata": {},
     "output_type": "execute_result"
    }
   ],
   "source": [
    "loans[loans['use'].isin([''])]"
   ]
  },
  {
   "cell_type": "code",
   "execution_count": 84,
   "metadata": {},
   "outputs": [],
   "source": [
    "# fill use in with '' since it has not been filled out\n",
    "#loans['use'] = loans['use'].fillna('')"
   ]
  },
  {
   "cell_type": "code",
   "execution_count": 85,
   "metadata": {},
   "outputs": [
    {
     "data": {
      "text/html": [
       "<div>\n",
       "<style scoped>\n",
       "    .dataframe tbody tr th:only-of-type {\n",
       "        vertical-align: middle;\n",
       "    }\n",
       "\n",
       "    .dataframe tbody tr th {\n",
       "        vertical-align: top;\n",
       "    }\n",
       "\n",
       "    .dataframe thead th {\n",
       "        text-align: right;\n",
       "    }\n",
       "</style>\n",
       "<table border=\"1\" class=\"dataframe\">\n",
       "  <thead>\n",
       "    <tr style=\"text-align: right;\">\n",
       "      <th></th>\n",
       "      <th>id</th>\n",
       "      <th>funded_amount</th>\n",
       "      <th>loan_amount</th>\n",
       "      <th>activity</th>\n",
       "      <th>sector</th>\n",
       "      <th>use</th>\n",
       "      <th>country_code</th>\n",
       "      <th>country</th>\n",
       "      <th>region</th>\n",
       "      <th>currency</th>\n",
       "      <th>partner_id</th>\n",
       "      <th>posted_time</th>\n",
       "      <th>disbursed_time</th>\n",
       "      <th>funded_time</th>\n",
       "      <th>term_in_months</th>\n",
       "      <th>lender_count</th>\n",
       "      <th>tags</th>\n",
       "      <th>borrower_genders</th>\n",
       "      <th>repayment_interval</th>\n",
       "      <th>date</th>\n",
       "    </tr>\n",
       "  </thead>\n",
       "  <tbody>\n",
       "    <tr>\n",
       "      <th>140</th>\n",
       "      <td>653375</td>\n",
       "      <td>2975.0</td>\n",
       "      <td>2975.0</td>\n",
       "      <td>Food Production/Sales</td>\n",
       "      <td>Food</td>\n",
       "      <td>NaN</td>\n",
       "      <td>TZ</td>\n",
       "      <td>Tanzania</td>\n",
       "      <td>NaN</td>\n",
       "      <td>TZS</td>\n",
       "      <td>87.0</td>\n",
       "      <td>2014-01-02 15:31:52+00:00</td>\n",
       "      <td>2013-12-24 08:00:00+00:00</td>\n",
       "      <td>2014-01-22 13:42:40+00:00</td>\n",
       "      <td>10.0</td>\n",
       "      <td>110.0</td>\n",
       "      <td>user_favorite</td>\n",
       "      <td>NaN</td>\n",
       "      <td>monthly</td>\n",
       "      <td>2014-01-02</td>\n",
       "    </tr>\n",
       "    <tr>\n",
       "      <th>145</th>\n",
       "      <td>653427</td>\n",
       "      <td>1200.0</td>\n",
       "      <td>1200.0</td>\n",
       "      <td>Personal Expenses</td>\n",
       "      <td>Personal Use</td>\n",
       "      <td>NaN</td>\n",
       "      <td>PE</td>\n",
       "      <td>Peru</td>\n",
       "      <td>NaN</td>\n",
       "      <td>PEN</td>\n",
       "      <td>139.0</td>\n",
       "      <td>2014-01-02 22:43:24+00:00</td>\n",
       "      <td>2013-12-17 08:00:00+00:00</td>\n",
       "      <td>2014-02-01 23:49:27+00:00</td>\n",
       "      <td>20.0</td>\n",
       "      <td>44.0</td>\n",
       "      <td>#Single, user_favorite, user_favorite</td>\n",
       "      <td>NaN</td>\n",
       "      <td>monthly</td>\n",
       "      <td>2014-01-02</td>\n",
       "    </tr>\n",
       "    <tr>\n",
       "      <th>170</th>\n",
       "      <td>653177</td>\n",
       "      <td>4250.0</td>\n",
       "      <td>4250.0</td>\n",
       "      <td>Catering</td>\n",
       "      <td>Food</td>\n",
       "      <td>NaN</td>\n",
       "      <td>TZ</td>\n",
       "      <td>Tanzania</td>\n",
       "      <td>NaN</td>\n",
       "      <td>TZS</td>\n",
       "      <td>87.0</td>\n",
       "      <td>2014-01-02 06:46:10+00:00</td>\n",
       "      <td>2013-12-26 08:00:00+00:00</td>\n",
       "      <td>2014-01-23 16:52:15+00:00</td>\n",
       "      <td>10.0</td>\n",
       "      <td>116.0</td>\n",
       "      <td>#Schooling, #Repeat Borrower, #Woman Owned Biz...</td>\n",
       "      <td>NaN</td>\n",
       "      <td>monthly</td>\n",
       "      <td>2014-01-02</td>\n",
       "    </tr>\n",
       "    <tr>\n",
       "      <th>412</th>\n",
       "      <td>653513</td>\n",
       "      <td>2350.0</td>\n",
       "      <td>2350.0</td>\n",
       "      <td>Beauty Salon</td>\n",
       "      <td>Services</td>\n",
       "      <td>NaN</td>\n",
       "      <td>TZ</td>\n",
       "      <td>Tanzania</td>\n",
       "      <td>NaN</td>\n",
       "      <td>TZS</td>\n",
       "      <td>87.0</td>\n",
       "      <td>2014-01-03 05:08:11+00:00</td>\n",
       "      <td>2013-12-31 08:00:00+00:00</td>\n",
       "      <td>2014-01-21 15:33:01+00:00</td>\n",
       "      <td>10.0</td>\n",
       "      <td>75.0</td>\n",
       "      <td>user_favorite, #Parent, #Woman Owned Biz, user...</td>\n",
       "      <td>NaN</td>\n",
       "      <td>monthly</td>\n",
       "      <td>2014-01-03</td>\n",
       "    </tr>\n",
       "    <tr>\n",
       "      <th>414</th>\n",
       "      <td>653775</td>\n",
       "      <td>725.0</td>\n",
       "      <td>725.0</td>\n",
       "      <td>Agriculture</td>\n",
       "      <td>Agriculture</td>\n",
       "      <td>NaN</td>\n",
       "      <td>SV</td>\n",
       "      <td>El Salvador</td>\n",
       "      <td>NaN</td>\n",
       "      <td>USD</td>\n",
       "      <td>199.0</td>\n",
       "      <td>2014-01-03 21:41:23+00:00</td>\n",
       "      <td>2013-12-16 08:00:00+00:00</td>\n",
       "      <td>2014-01-28 17:28:43+00:00</td>\n",
       "      <td>20.0</td>\n",
       "      <td>19.0</td>\n",
       "      <td>#Animals, #Repeat Borrower, #Schooling, user_f...</td>\n",
       "      <td>NaN</td>\n",
       "      <td>monthly</td>\n",
       "      <td>2014-01-03</td>\n",
       "    </tr>\n",
       "    <tr>\n",
       "      <th>...</th>\n",
       "      <td>...</td>\n",
       "      <td>...</td>\n",
       "      <td>...</td>\n",
       "      <td>...</td>\n",
       "      <td>...</td>\n",
       "      <td>...</td>\n",
       "      <td>...</td>\n",
       "      <td>...</td>\n",
       "      <td>...</td>\n",
       "      <td>...</td>\n",
       "      <td>...</td>\n",
       "      <td>...</td>\n",
       "      <td>...</td>\n",
       "      <td>...</td>\n",
       "      <td>...</td>\n",
       "      <td>...</td>\n",
       "      <td>...</td>\n",
       "      <td>...</td>\n",
       "      <td>...</td>\n",
       "      <td>...</td>\n",
       "    </tr>\n",
       "    <tr>\n",
       "      <th>671151</th>\n",
       "      <td>1340245</td>\n",
       "      <td>0.0</td>\n",
       "      <td>25.0</td>\n",
       "      <td>Livestock</td>\n",
       "      <td>Agriculture</td>\n",
       "      <td>NaN</td>\n",
       "      <td>KE</td>\n",
       "      <td>Kenya</td>\n",
       "      <td>NaN</td>\n",
       "      <td>KES</td>\n",
       "      <td>138.0</td>\n",
       "      <td>2017-07-20 23:13:01+00:00</td>\n",
       "      <td>2017-07-20 07:00:00+00:00</td>\n",
       "      <td>NaN</td>\n",
       "      <td>13.0</td>\n",
       "      <td>0.0</td>\n",
       "      <td>NaN</td>\n",
       "      <td>NaN</td>\n",
       "      <td>monthly</td>\n",
       "      <td>2017-07-20</td>\n",
       "    </tr>\n",
       "    <tr>\n",
       "      <th>671174</th>\n",
       "      <td>1340275</td>\n",
       "      <td>0.0</td>\n",
       "      <td>25.0</td>\n",
       "      <td>Games</td>\n",
       "      <td>Entertainment</td>\n",
       "      <td>NaN</td>\n",
       "      <td>KE</td>\n",
       "      <td>Kenya</td>\n",
       "      <td>NaN</td>\n",
       "      <td>KES</td>\n",
       "      <td>138.0</td>\n",
       "      <td>2017-07-21 23:51:18+00:00</td>\n",
       "      <td>2017-07-21 07:00:00+00:00</td>\n",
       "      <td>NaN</td>\n",
       "      <td>13.0</td>\n",
       "      <td>0.0</td>\n",
       "      <td>NaN</td>\n",
       "      <td>NaN</td>\n",
       "      <td>monthly</td>\n",
       "      <td>2017-07-21</td>\n",
       "    </tr>\n",
       "    <tr>\n",
       "      <th>671178</th>\n",
       "      <td>1340280</td>\n",
       "      <td>0.0</td>\n",
       "      <td>25.0</td>\n",
       "      <td>Livestock</td>\n",
       "      <td>Agriculture</td>\n",
       "      <td>NaN</td>\n",
       "      <td>KE</td>\n",
       "      <td>Kenya</td>\n",
       "      <td>NaN</td>\n",
       "      <td>KES</td>\n",
       "      <td>138.0</td>\n",
       "      <td>2017-07-22 06:16:55+00:00</td>\n",
       "      <td>2017-07-21 07:00:00+00:00</td>\n",
       "      <td>NaN</td>\n",
       "      <td>13.0</td>\n",
       "      <td>0.0</td>\n",
       "      <td>NaN</td>\n",
       "      <td>NaN</td>\n",
       "      <td>monthly</td>\n",
       "      <td>2017-07-22</td>\n",
       "    </tr>\n",
       "    <tr>\n",
       "      <th>671185</th>\n",
       "      <td>1340298</td>\n",
       "      <td>0.0</td>\n",
       "      <td>25.0</td>\n",
       "      <td>Livestock</td>\n",
       "      <td>Agriculture</td>\n",
       "      <td>NaN</td>\n",
       "      <td>KE</td>\n",
       "      <td>Kenya</td>\n",
       "      <td>NaN</td>\n",
       "      <td>KES</td>\n",
       "      <td>138.0</td>\n",
       "      <td>2017-07-24 07:34:50+00:00</td>\n",
       "      <td>2017-07-17 07:00:00+00:00</td>\n",
       "      <td>NaN</td>\n",
       "      <td>13.0</td>\n",
       "      <td>0.0</td>\n",
       "      <td>NaN</td>\n",
       "      <td>NaN</td>\n",
       "      <td>monthly</td>\n",
       "      <td>2017-07-24</td>\n",
       "    </tr>\n",
       "    <tr>\n",
       "      <th>671202</th>\n",
       "      <td>1340334</td>\n",
       "      <td>0.0</td>\n",
       "      <td>25.0</td>\n",
       "      <td>Games</td>\n",
       "      <td>Entertainment</td>\n",
       "      <td>NaN</td>\n",
       "      <td>KE</td>\n",
       "      <td>Kenya</td>\n",
       "      <td>NaN</td>\n",
       "      <td>KES</td>\n",
       "      <td>138.0</td>\n",
       "      <td>2017-07-26 00:02:07+00:00</td>\n",
       "      <td>2017-07-25 07:00:00+00:00</td>\n",
       "      <td>NaN</td>\n",
       "      <td>13.0</td>\n",
       "      <td>0.0</td>\n",
       "      <td>NaN</td>\n",
       "      <td>NaN</td>\n",
       "      <td>monthly</td>\n",
       "      <td>2017-07-26</td>\n",
       "    </tr>\n",
       "  </tbody>\n",
       "</table>\n",
       "<p>4232 rows × 20 columns</p>\n",
       "</div>"
      ],
      "text/plain": [
       "             id  funded_amount  loan_amount               activity  \\\n",
       "140      653375         2975.0       2975.0  Food Production/Sales   \n",
       "145      653427         1200.0       1200.0      Personal Expenses   \n",
       "170      653177         4250.0       4250.0               Catering   \n",
       "412      653513         2350.0       2350.0           Beauty Salon   \n",
       "414      653775          725.0        725.0            Agriculture   \n",
       "...         ...            ...          ...                    ...   \n",
       "671151  1340245            0.0         25.0              Livestock   \n",
       "671174  1340275            0.0         25.0                  Games   \n",
       "671178  1340280            0.0         25.0              Livestock   \n",
       "671185  1340298            0.0         25.0              Livestock   \n",
       "671202  1340334            0.0         25.0                  Games   \n",
       "\n",
       "               sector  use country_code      country region currency  \\\n",
       "140              Food  NaN           TZ     Tanzania    NaN      TZS   \n",
       "145      Personal Use  NaN           PE         Peru    NaN      PEN   \n",
       "170              Food  NaN           TZ     Tanzania    NaN      TZS   \n",
       "412          Services  NaN           TZ     Tanzania    NaN      TZS   \n",
       "414       Agriculture  NaN           SV  El Salvador    NaN      USD   \n",
       "...               ...  ...          ...          ...    ...      ...   \n",
       "671151    Agriculture  NaN           KE        Kenya    NaN      KES   \n",
       "671174  Entertainment  NaN           KE        Kenya    NaN      KES   \n",
       "671178    Agriculture  NaN           KE        Kenya    NaN      KES   \n",
       "671185    Agriculture  NaN           KE        Kenya    NaN      KES   \n",
       "671202  Entertainment  NaN           KE        Kenya    NaN      KES   \n",
       "\n",
       "        partner_id               posted_time            disbursed_time  \\\n",
       "140           87.0 2014-01-02 15:31:52+00:00 2013-12-24 08:00:00+00:00   \n",
       "145          139.0 2014-01-02 22:43:24+00:00 2013-12-17 08:00:00+00:00   \n",
       "170           87.0 2014-01-02 06:46:10+00:00 2013-12-26 08:00:00+00:00   \n",
       "412           87.0 2014-01-03 05:08:11+00:00 2013-12-31 08:00:00+00:00   \n",
       "414          199.0 2014-01-03 21:41:23+00:00 2013-12-16 08:00:00+00:00   \n",
       "...            ...                       ...                       ...   \n",
       "671151       138.0 2017-07-20 23:13:01+00:00 2017-07-20 07:00:00+00:00   \n",
       "671174       138.0 2017-07-21 23:51:18+00:00 2017-07-21 07:00:00+00:00   \n",
       "671178       138.0 2017-07-22 06:16:55+00:00 2017-07-21 07:00:00+00:00   \n",
       "671185       138.0 2017-07-24 07:34:50+00:00 2017-07-17 07:00:00+00:00   \n",
       "671202       138.0 2017-07-26 00:02:07+00:00 2017-07-25 07:00:00+00:00   \n",
       "\n",
       "                      funded_time  term_in_months  lender_count  \\\n",
       "140     2014-01-22 13:42:40+00:00            10.0         110.0   \n",
       "145     2014-02-01 23:49:27+00:00            20.0          44.0   \n",
       "170     2014-01-23 16:52:15+00:00            10.0         116.0   \n",
       "412     2014-01-21 15:33:01+00:00            10.0          75.0   \n",
       "414     2014-01-28 17:28:43+00:00            20.0          19.0   \n",
       "...                           ...             ...           ...   \n",
       "671151                        NaN            13.0           0.0   \n",
       "671174                        NaN            13.0           0.0   \n",
       "671178                        NaN            13.0           0.0   \n",
       "671185                        NaN            13.0           0.0   \n",
       "671202                        NaN            13.0           0.0   \n",
       "\n",
       "                                                     tags borrower_genders  \\\n",
       "140                                         user_favorite              NaN   \n",
       "145                 #Single, user_favorite, user_favorite              NaN   \n",
       "170     #Schooling, #Repeat Borrower, #Woman Owned Biz...              NaN   \n",
       "412     user_favorite, #Parent, #Woman Owned Biz, user...              NaN   \n",
       "414     #Animals, #Repeat Borrower, #Schooling, user_f...              NaN   \n",
       "...                                                   ...              ...   \n",
       "671151                                                NaN              NaN   \n",
       "671174                                                NaN              NaN   \n",
       "671178                                                NaN              NaN   \n",
       "671185                                                NaN              NaN   \n",
       "671202                                                NaN              NaN   \n",
       "\n",
       "       repayment_interval       date  \n",
       "140               monthly 2014-01-02  \n",
       "145               monthly 2014-01-02  \n",
       "170               monthly 2014-01-02  \n",
       "412               monthly 2014-01-03  \n",
       "414               monthly 2014-01-03  \n",
       "...                   ...        ...  \n",
       "671151            monthly 2017-07-20  \n",
       "671174            monthly 2017-07-21  \n",
       "671178            monthly 2017-07-22  \n",
       "671185            monthly 2017-07-24  \n",
       "671202            monthly 2017-07-26  \n",
       "\n",
       "[4232 rows x 20 columns]"
      ]
     },
     "execution_count": 85,
     "metadata": {},
     "output_type": "execute_result"
    }
   ],
   "source": [
    "loans[loans['use'].isnull()]"
   ]
  },
  {
   "cell_type": "code",
   "execution_count": 47,
   "metadata": {},
   "outputs": [],
   "source": [
    "loans['funded_time'].fillna(pd.Timestamp(1970, 1, 1, 0, 0, 0, 0, 0), inplace=True)\n",
    "loans['funded_time'] = pd.to_datetime(loans['funded_time'])"
   ]
  },
  {
   "cell_type": "code",
   "execution_count": 48,
   "metadata": {},
   "outputs": [
    {
     "data": {
      "text/plain": [
       "0        2014-01-02 10:06:32+00:00\n",
       "1        2014-01-02 09:17:23+00:00\n",
       "2        2014-01-01 16:01:36+00:00\n",
       "3        2014-01-01 13:00:00+00:00\n",
       "4        2014-01-01 19:18:51+00:00\n",
       "                    ...           \n",
       "671200   1970-01-01 00:00:00+00:00\n",
       "671201   2017-07-26 02:09:43+00:00\n",
       "671202   1970-01-01 00:00:00+00:00\n",
       "671203   1970-01-01 00:00:00+00:00\n",
       "671204   1970-01-01 00:00:00+00:00\n",
       "Name: funded_time, Length: 671205, dtype: datetime64[ns, UTC]"
      ]
     },
     "execution_count": 48,
     "metadata": {},
     "output_type": "execute_result"
    }
   ],
   "source": [
    "loans['funded_time']"
   ]
  },
  {
   "cell_type": "code",
   "execution_count": 88,
   "metadata": {},
   "outputs": [
    {
     "name": "stdout",
     "output_type": "stream",
     "text": [
      "\n",
      "column id: \n",
      "dtype.str:  <i8\n",
      "dtype:      int64\n",
      "timestamp?  False\n",
      "\n",
      "column funded_amount: \n",
      "dtype.str:  <f8\n",
      "dtype:      float64\n",
      "timestamp?  False\n",
      "\n",
      "column loan_amount: \n",
      "dtype.str:  <f8\n",
      "dtype:      float64\n",
      "timestamp?  False\n",
      "\n",
      "column activity: \n",
      "dtype.str:  |O\n",
      "dtype:      object\n",
      "timestamp?  False\n",
      "\n",
      "column sector: \n",
      "dtype.str:  |O\n",
      "dtype:      object\n",
      "timestamp?  False\n",
      "\n",
      "column use: \n",
      "dtype.str:  |O\n",
      "dtype:      object\n",
      "timestamp?  False\n",
      "\n",
      "column country_code: \n",
      "dtype.str:  |O\n",
      "dtype:      object\n",
      "timestamp?  False\n",
      "\n",
      "column country: \n",
      "dtype.str:  |O\n",
      "dtype:      object\n",
      "timestamp?  False\n",
      "\n",
      "column region: \n",
      "dtype.str:  |O\n",
      "dtype:      object\n",
      "timestamp?  False\n",
      "\n",
      "column currency: \n",
      "dtype.str:  |O\n",
      "dtype:      object\n",
      "timestamp?  False\n",
      "\n",
      "column partner_id: \n",
      "dtype.str:  <f8\n",
      "dtype:      float64\n",
      "timestamp?  False\n",
      "\n",
      "column posted_time: \n",
      "dtype.str:  |M8[ns]\n",
      "dtype:      datetime64[ns, UTC]\n",
      "timestamp?  True\n",
      "\n",
      "column disbursed_time: \n",
      "dtype.str:  |M8[ns]\n",
      "dtype:      datetime64[ns, UTC]\n",
      "timestamp?  True\n",
      "\n",
      "column funded_time: \n",
      "dtype.str:  |M8[ns]\n",
      "dtype:      datetime64[ns, UTC]\n",
      "timestamp?  True\n",
      "\n",
      "column term_in_months: \n",
      "dtype.str:  <f8\n",
      "dtype:      float64\n",
      "timestamp?  False\n",
      "\n",
      "column lender_count: \n",
      "dtype.str:  <f8\n",
      "dtype:      float64\n",
      "timestamp?  False\n",
      "\n",
      "column tags: \n",
      "dtype.str:  |O\n",
      "dtype:      object\n",
      "timestamp?  False\n",
      "\n",
      "column borrower_genders: \n",
      "dtype.str:  |O\n",
      "dtype:      object\n",
      "timestamp?  False\n",
      "\n",
      "column repayment_interval: \n",
      "dtype.str:  |O\n",
      "dtype:      object\n",
      "timestamp?  False\n",
      "\n",
      "column date: \n",
      "dtype.str:  <M8[ns]\n",
      "dtype:      datetime64[ns]\n",
      "timestamp?  True\n"
     ]
    }
   ],
   "source": [
    " for v in loans.columns:  \n",
    "        print( '\\ncolumn ' + v + ': ')\n",
    "        print( 'dtype.str: ', loans[v].dtype.str )\n",
    "        print( 'dtype:     ', loans[v].dtype )\n",
    "        print( 'timestamp? ', loans[v].dtype.str[1] == 'M' )"
   ]
  },
  {
   "cell_type": "code",
   "execution_count": 20,
   "metadata": {},
   "outputs": [],
   "source": [
    "# loans['time_til_funded'] = loans['funded_time'] - loans['posted_time']\n",
    "# loans['time_til_funded']"
   ]
  },
  {
   "cell_type": "code",
   "execution_count": 21,
   "metadata": {},
   "outputs": [],
   "source": [
    "# fill in region with most popular region in country?"
   ]
  },
  {
   "cell_type": "code",
   "execution_count": 22,
   "metadata": {},
   "outputs": [
    {
     "data": {
      "text/plain": [
       "['use',\n",
       " 'country_code',\n",
       " 'region',\n",
       " 'partner_id',\n",
       " 'disbursed_time',\n",
       " 'funded_time',\n",
       " 'tags',\n",
       " 'borrower_genders']"
      ]
     },
     "execution_count": 22,
     "metadata": {},
     "output_type": "execute_result"
    }
   ],
   "source": [
    "null_cols"
   ]
  },
  {
   "cell_type": "code",
   "execution_count": 23,
   "metadata": {},
   "outputs": [],
   "source": [
    "# fill tags in with '' since there were no tags filled out?"
   ]
  },
  {
   "cell_type": "code",
   "execution_count": 24,
   "metadata": {},
   "outputs": [
    {
     "data": {
      "text/plain": [
       "female    10661\n",
       "male       2427\n",
       "Name: borrower_genders, dtype: int64"
      ]
     },
     "execution_count": 24,
     "metadata": {},
     "output_type": "execute_result"
    }
   ],
   "source": [
    "loans[loans['partner_id'].isnull()]['borrower_genders'].value_counts()"
   ]
  },
  {
   "cell_type": "code",
   "execution_count": 25,
   "metadata": {},
   "outputs": [
    {
     "data": {
      "text/plain": [
       "9.0"
      ]
     },
     "execution_count": 25,
     "metadata": {},
     "output_type": "execute_result"
    }
   ],
   "source": [
    "loans['partner_id'].min()"
   ]
  },
  {
   "cell_type": "code",
   "execution_count": 26,
   "metadata": {},
   "outputs": [],
   "source": [
    "# if there is no partner associated with this loan, partner id is null\n",
    "# should fill in with 0?"
   ]
  },
  {
   "cell_type": "code",
   "execution_count": 27,
   "metadata": {},
   "outputs": [
    {
     "data": {
      "text/plain": [
       "50.0"
      ]
     },
     "execution_count": 27,
     "metadata": {},
     "output_type": "execute_result"
    }
   ],
   "source": [
    "# there can be up to 50 borrowers on a loan!\n",
    "max(loans.borrower_genders.str.split(',').str.len())"
   ]
  },
  {
   "cell_type": "code",
   "execution_count": 28,
   "metadata": {},
   "outputs": [
    {
     "data": {
      "text/plain": [
       "18624     female, female, female, female, female, female...\n",
       "30497     female, female, male, female, female, female, ...\n",
       "39822     male, male, female, female, male, female, fema...\n",
       "58278     male, male, female, male, male, male, male, ma...\n",
       "83976     female, female, male, male, female, female, fe...\n",
       "89014     female, female, female, female, female, female...\n",
       "112265    female, female, male, female, female, female, ...\n",
       "161589    female, male, male, male, female, female, male...\n",
       "170236    female, female, female, female, female, male, ...\n",
       "176800    female, female, female, female, female, female...\n",
       "190772    female, female, female, female, female, female...\n",
       "195240    male, female, female, male, female, female, ma...\n",
       "195664    male, male, female, female, male, male, female...\n",
       "198185    female, male, female, female, female, female, ...\n",
       "233512    female, male, male, female, male, female, fema...\n",
       "236604    female, female, female, female, female, female...\n",
       "297604    female, female, female, female, female, female...\n",
       "311143    female, female, female, female, female, female...\n",
       "325403    female, female, female, female, female, female...\n",
       "Name: borrower_genders, dtype: object"
      ]
     },
     "execution_count": 28,
     "metadata": {},
     "output_type": "execute_result"
    }
   ],
   "source": [
    "loans[(loans.borrower_genders.str.split(',').str.len()).isin([47.0, 49.0, 45.0])].borrower_genders"
   ]
  },
  {
   "cell_type": "code",
   "execution_count": 29,
   "metadata": {},
   "outputs": [
    {
     "data": {
      "text/html": [
       "<div>\n",
       "<style scoped>\n",
       "    .dataframe tbody tr th:only-of-type {\n",
       "        vertical-align: middle;\n",
       "    }\n",
       "\n",
       "    .dataframe tbody tr th {\n",
       "        vertical-align: top;\n",
       "    }\n",
       "\n",
       "    .dataframe thead th {\n",
       "        text-align: right;\n",
       "    }\n",
       "</style>\n",
       "<table border=\"1\" class=\"dataframe\">\n",
       "  <thead>\n",
       "    <tr style=\"text-align: right;\">\n",
       "      <th></th>\n",
       "      <th>id</th>\n",
       "      <th>funded_amount</th>\n",
       "      <th>loan_amount</th>\n",
       "      <th>activity</th>\n",
       "      <th>sector</th>\n",
       "      <th>use</th>\n",
       "      <th>country_code</th>\n",
       "      <th>country</th>\n",
       "      <th>region</th>\n",
       "      <th>currency</th>\n",
       "      <th>partner_id</th>\n",
       "      <th>posted_time</th>\n",
       "      <th>disbursed_time</th>\n",
       "      <th>funded_time</th>\n",
       "      <th>term_in_months</th>\n",
       "      <th>lender_count</th>\n",
       "      <th>tags</th>\n",
       "      <th>borrower_genders</th>\n",
       "      <th>repayment_interval</th>\n",
       "      <th>date</th>\n",
       "    </tr>\n",
       "  </thead>\n",
       "  <tbody>\n",
       "    <tr>\n",
       "      <th>2221</th>\n",
       "      <td>1080194</td>\n",
       "      <td>30.0</td>\n",
       "      <td>4500.0</td>\n",
       "      <td>Clothing</td>\n",
       "      <td>Clothing</td>\n",
       "      <td>increase the inventory of my online clothing b...</td>\n",
       "      <td>US</td>\n",
       "      <td>United States</td>\n",
       "      <td>NaN</td>\n",
       "      <td>USD</td>\n",
       "      <td>NaN</td>\n",
       "      <td>2014-01-08 22:40:15+00:00</td>\n",
       "      <td>NaT</td>\n",
       "      <td>NaN</td>\n",
       "      <td>24.0</td>\n",
       "      <td>2.0</td>\n",
       "      <td>NaN</td>\n",
       "      <td>female</td>\n",
       "      <td>bullet</td>\n",
       "      <td>2014-01-08</td>\n",
       "    </tr>\n",
       "    <tr>\n",
       "      <th>2514</th>\n",
       "      <td>1080215</td>\n",
       "      <td>50.0</td>\n",
       "      <td>2500.0</td>\n",
       "      <td>Crafts</td>\n",
       "      <td>Arts</td>\n",
       "      <td>start a new photography business by providing ...</td>\n",
       "      <td>US</td>\n",
       "      <td>United States</td>\n",
       "      <td>NaN</td>\n",
       "      <td>USD</td>\n",
       "      <td>NaN</td>\n",
       "      <td>2014-01-09 23:55:12+00:00</td>\n",
       "      <td>NaT</td>\n",
       "      <td>NaN</td>\n",
       "      <td>13.0</td>\n",
       "      <td>2.0</td>\n",
       "      <td>NaN</td>\n",
       "      <td>male</td>\n",
       "      <td>bullet</td>\n",
       "      <td>2014-01-09</td>\n",
       "    </tr>\n",
       "    <tr>\n",
       "      <th>3065</th>\n",
       "      <td>1080225</td>\n",
       "      <td>10.0</td>\n",
       "      <td>5000.0</td>\n",
       "      <td>Services</td>\n",
       "      <td>Services</td>\n",
       "      <td>help my partner and I couch women in the fashi...</td>\n",
       "      <td>US</td>\n",
       "      <td>United States</td>\n",
       "      <td>NaN</td>\n",
       "      <td>USD</td>\n",
       "      <td>NaN</td>\n",
       "      <td>2014-01-10 17:22:31+00:00</td>\n",
       "      <td>NaT</td>\n",
       "      <td>NaN</td>\n",
       "      <td>30.0</td>\n",
       "      <td>1.0</td>\n",
       "      <td>NaN</td>\n",
       "      <td>female</td>\n",
       "      <td>bullet</td>\n",
       "      <td>2014-01-10</td>\n",
       "    </tr>\n",
       "    <tr>\n",
       "      <th>3072</th>\n",
       "      <td>1080216</td>\n",
       "      <td>755.0</td>\n",
       "      <td>10000.0</td>\n",
       "      <td>Services</td>\n",
       "      <td>Services</td>\n",
       "      <td>NaN</td>\n",
       "      <td>US</td>\n",
       "      <td>United States</td>\n",
       "      <td>NaN</td>\n",
       "      <td>USD</td>\n",
       "      <td>NaN</td>\n",
       "      <td>2014-01-10 00:18:32+00:00</td>\n",
       "      <td>NaT</td>\n",
       "      <td>NaN</td>\n",
       "      <td>24.0</td>\n",
       "      <td>55.0</td>\n",
       "      <td>NaN</td>\n",
       "      <td>NaN</td>\n",
       "      <td>bullet</td>\n",
       "      <td>2014-01-10</td>\n",
       "    </tr>\n",
       "    <tr>\n",
       "      <th>3847</th>\n",
       "      <td>1080244</td>\n",
       "      <td>125.0</td>\n",
       "      <td>125.0</td>\n",
       "      <td>Services</td>\n",
       "      <td>Services</td>\n",
       "      <td>NaN</td>\n",
       "      <td>KE</td>\n",
       "      <td>Kenya</td>\n",
       "      <td>NaN</td>\n",
       "      <td>KES</td>\n",
       "      <td>NaN</td>\n",
       "      <td>2014-01-14 08:13:48+00:00</td>\n",
       "      <td>NaT</td>\n",
       "      <td>2014-01-23 13:38:53+00:00</td>\n",
       "      <td>2.0</td>\n",
       "      <td>6.0</td>\n",
       "      <td>NaN</td>\n",
       "      <td>NaN</td>\n",
       "      <td>bullet</td>\n",
       "      <td>2014-01-14</td>\n",
       "    </tr>\n",
       "    <tr>\n",
       "      <th>...</th>\n",
       "      <td>...</td>\n",
       "      <td>...</td>\n",
       "      <td>...</td>\n",
       "      <td>...</td>\n",
       "      <td>...</td>\n",
       "      <td>...</td>\n",
       "      <td>...</td>\n",
       "      <td>...</td>\n",
       "      <td>...</td>\n",
       "      <td>...</td>\n",
       "      <td>...</td>\n",
       "      <td>...</td>\n",
       "      <td>...</td>\n",
       "      <td>...</td>\n",
       "      <td>...</td>\n",
       "      <td>...</td>\n",
       "      <td>...</td>\n",
       "      <td>...</td>\n",
       "      <td>...</td>\n",
       "      <td>...</td>\n",
       "    </tr>\n",
       "    <tr>\n",
       "      <th>670825</th>\n",
       "      <td>1337741</td>\n",
       "      <td>0.0</td>\n",
       "      <td>2000.0</td>\n",
       "      <td>Cleaning Services</td>\n",
       "      <td>Services</td>\n",
       "      <td>me purchase a new commercial vacuum cleaner an...</td>\n",
       "      <td>US</td>\n",
       "      <td>United States</td>\n",
       "      <td>NaN</td>\n",
       "      <td>USD</td>\n",
       "      <td>NaN</td>\n",
       "      <td>2017-07-11 00:00:00+00:00</td>\n",
       "      <td>NaT</td>\n",
       "      <td>NaN</td>\n",
       "      <td>18.0</td>\n",
       "      <td>0.0</td>\n",
       "      <td>NaN</td>\n",
       "      <td>female</td>\n",
       "      <td>bullet</td>\n",
       "      <td>2017-07-11</td>\n",
       "    </tr>\n",
       "    <tr>\n",
       "      <th>670833</th>\n",
       "      <td>1337927</td>\n",
       "      <td>500.0</td>\n",
       "      <td>10000.0</td>\n",
       "      <td>Retail</td>\n",
       "      <td>Retail</td>\n",
       "      <td>me remodel and expand my new storefront.</td>\n",
       "      <td>US</td>\n",
       "      <td>United States</td>\n",
       "      <td>NaN</td>\n",
       "      <td>USD</td>\n",
       "      <td>NaN</td>\n",
       "      <td>2017-07-11 00:00:00+00:00</td>\n",
       "      <td>NaT</td>\n",
       "      <td>NaN</td>\n",
       "      <td>36.0</td>\n",
       "      <td>9.0</td>\n",
       "      <td>NaN</td>\n",
       "      <td>female</td>\n",
       "      <td>bullet</td>\n",
       "      <td>2017-07-11</td>\n",
       "    </tr>\n",
       "    <tr>\n",
       "      <th>670883</th>\n",
       "      <td>1337787</td>\n",
       "      <td>1350.0</td>\n",
       "      <td>2000.0</td>\n",
       "      <td>Grocery Store</td>\n",
       "      <td>Food</td>\n",
       "      <td>me to to buy more fruit, prep materials and pu...</td>\n",
       "      <td>US</td>\n",
       "      <td>United States</td>\n",
       "      <td>NaN</td>\n",
       "      <td>USD</td>\n",
       "      <td>NaN</td>\n",
       "      <td>2017-07-11 00:00:00+00:00</td>\n",
       "      <td>NaT</td>\n",
       "      <td>NaN</td>\n",
       "      <td>18.0</td>\n",
       "      <td>21.0</td>\n",
       "      <td>user_favorite, user_favorite, user_favorite, #...</td>\n",
       "      <td>male</td>\n",
       "      <td>bullet</td>\n",
       "      <td>2017-07-11</td>\n",
       "    </tr>\n",
       "    <tr>\n",
       "      <th>670914</th>\n",
       "      <td>1337780</td>\n",
       "      <td>1000.0</td>\n",
       "      <td>7000.0</td>\n",
       "      <td>Arts</td>\n",
       "      <td>Arts</td>\n",
       "      <td>us get a U.S. patent, and update our website &amp;...</td>\n",
       "      <td>US</td>\n",
       "      <td>United States</td>\n",
       "      <td>NaN</td>\n",
       "      <td>USD</td>\n",
       "      <td>NaN</td>\n",
       "      <td>2017-07-11 00:00:00+00:00</td>\n",
       "      <td>NaT</td>\n",
       "      <td>NaN</td>\n",
       "      <td>36.0</td>\n",
       "      <td>7.0</td>\n",
       "      <td>NaN</td>\n",
       "      <td>female</td>\n",
       "      <td>bullet</td>\n",
       "      <td>2017-07-11</td>\n",
       "    </tr>\n",
       "    <tr>\n",
       "      <th>670915</th>\n",
       "      <td>1337785</td>\n",
       "      <td>500.0</td>\n",
       "      <td>2000.0</td>\n",
       "      <td>Restaurant</td>\n",
       "      <td>Food</td>\n",
       "      <td>me to build out my food truck!</td>\n",
       "      <td>US</td>\n",
       "      <td>United States</td>\n",
       "      <td>NaN</td>\n",
       "      <td>USD</td>\n",
       "      <td>NaN</td>\n",
       "      <td>2017-07-11 00:00:00+00:00</td>\n",
       "      <td>NaT</td>\n",
       "      <td>NaN</td>\n",
       "      <td>18.0</td>\n",
       "      <td>10.0</td>\n",
       "      <td>user_favorite, user_favorite, user_favorite, u...</td>\n",
       "      <td>female</td>\n",
       "      <td>bullet</td>\n",
       "      <td>2017-07-11</td>\n",
       "    </tr>\n",
       "  </tbody>\n",
       "</table>\n",
       "<p>2396 rows × 20 columns</p>\n",
       "</div>"
      ],
      "text/plain": [
       "             id  funded_amount  loan_amount           activity    sector  \\\n",
       "2221    1080194           30.0       4500.0           Clothing  Clothing   \n",
       "2514    1080215           50.0       2500.0             Crafts      Arts   \n",
       "3065    1080225           10.0       5000.0           Services  Services   \n",
       "3072    1080216          755.0      10000.0           Services  Services   \n",
       "3847    1080244          125.0        125.0           Services  Services   \n",
       "...         ...            ...          ...                ...       ...   \n",
       "670825  1337741            0.0       2000.0  Cleaning Services  Services   \n",
       "670833  1337927          500.0      10000.0             Retail    Retail   \n",
       "670883  1337787         1350.0       2000.0      Grocery Store      Food   \n",
       "670914  1337780         1000.0       7000.0               Arts      Arts   \n",
       "670915  1337785          500.0       2000.0         Restaurant      Food   \n",
       "\n",
       "                                                      use country_code  \\\n",
       "2221    increase the inventory of my online clothing b...           US   \n",
       "2514    start a new photography business by providing ...           US   \n",
       "3065    help my partner and I couch women in the fashi...           US   \n",
       "3072                                                  NaN           US   \n",
       "3847                                                  NaN           KE   \n",
       "...                                                   ...          ...   \n",
       "670825  me purchase a new commercial vacuum cleaner an...           US   \n",
       "670833          me remodel and expand my new storefront.            US   \n",
       "670883  me to to buy more fruit, prep materials and pu...           US   \n",
       "670914  us get a U.S. patent, and update our website &...           US   \n",
       "670915                     me to build out my food truck!           US   \n",
       "\n",
       "              country region currency  partner_id               posted_time  \\\n",
       "2221    United States    NaN      USD         NaN 2014-01-08 22:40:15+00:00   \n",
       "2514    United States    NaN      USD         NaN 2014-01-09 23:55:12+00:00   \n",
       "3065    United States    NaN      USD         NaN 2014-01-10 17:22:31+00:00   \n",
       "3072    United States    NaN      USD         NaN 2014-01-10 00:18:32+00:00   \n",
       "3847            Kenya    NaN      KES         NaN 2014-01-14 08:13:48+00:00   \n",
       "...               ...    ...      ...         ...                       ...   \n",
       "670825  United States    NaN      USD         NaN 2017-07-11 00:00:00+00:00   \n",
       "670833  United States    NaN      USD         NaN 2017-07-11 00:00:00+00:00   \n",
       "670883  United States    NaN      USD         NaN 2017-07-11 00:00:00+00:00   \n",
       "670914  United States    NaN      USD         NaN 2017-07-11 00:00:00+00:00   \n",
       "670915  United States    NaN      USD         NaN 2017-07-11 00:00:00+00:00   \n",
       "\n",
       "       disbursed_time                funded_time  term_in_months  \\\n",
       "2221              NaT                        NaN            24.0   \n",
       "2514              NaT                        NaN            13.0   \n",
       "3065              NaT                        NaN            30.0   \n",
       "3072              NaT                        NaN            24.0   \n",
       "3847              NaT  2014-01-23 13:38:53+00:00             2.0   \n",
       "...               ...                        ...             ...   \n",
       "670825            NaT                        NaN            18.0   \n",
       "670833            NaT                        NaN            36.0   \n",
       "670883            NaT                        NaN            18.0   \n",
       "670914            NaT                        NaN            36.0   \n",
       "670915            NaT                        NaN            18.0   \n",
       "\n",
       "        lender_count                                               tags  \\\n",
       "2221             2.0                                                NaN   \n",
       "2514             2.0                                                NaN   \n",
       "3065             1.0                                                NaN   \n",
       "3072            55.0                                                NaN   \n",
       "3847             6.0                                                NaN   \n",
       "...              ...                                                ...   \n",
       "670825           0.0                                                NaN   \n",
       "670833           9.0                                                NaN   \n",
       "670883          21.0  user_favorite, user_favorite, user_favorite, #...   \n",
       "670914           7.0                                                NaN   \n",
       "670915          10.0  user_favorite, user_favorite, user_favorite, u...   \n",
       "\n",
       "       borrower_genders repayment_interval       date  \n",
       "2221             female             bullet 2014-01-08  \n",
       "2514               male             bullet 2014-01-09  \n",
       "3065             female             bullet 2014-01-10  \n",
       "3072                NaN             bullet 2014-01-10  \n",
       "3847                NaN             bullet 2014-01-14  \n",
       "...                 ...                ...        ...  \n",
       "670825           female             bullet 2017-07-11  \n",
       "670833           female             bullet 2017-07-11  \n",
       "670883             male             bullet 2017-07-11  \n",
       "670914           female             bullet 2017-07-11  \n",
       "670915           female             bullet 2017-07-11  \n",
       "\n",
       "[2396 rows x 20 columns]"
      ]
     },
     "execution_count": 29,
     "metadata": {},
     "output_type": "execute_result"
    }
   ],
   "source": [
    "loans[loans['disbursed_time'].isnull()]"
   ]
  },
  {
   "cell_type": "code",
   "execution_count": 30,
   "metadata": {},
   "outputs": [
    {
     "data": {
      "text/plain": [
       "202537    Namibia\n",
       "202823    Namibia\n",
       "344929    Namibia\n",
       "351177    Namibia\n",
       "420953    Namibia\n",
       "421218    Namibia\n",
       "487207    Namibia\n",
       "487653    Namibia\n",
       "Name: country, dtype: object"
      ]
     },
     "execution_count": 30,
     "metadata": {},
     "output_type": "execute_result"
    }
   ],
   "source": [
    "loans[loans['country_code'].isnull()]['country']"
   ]
  },
  {
   "cell_type": "code",
   "execution_count": 31,
   "metadata": {},
   "outputs": [
    {
     "data": {
      "text/html": [
       "<div>\n",
       "<style scoped>\n",
       "    .dataframe tbody tr th:only-of-type {\n",
       "        vertical-align: middle;\n",
       "    }\n",
       "\n",
       "    .dataframe tbody tr th {\n",
       "        vertical-align: top;\n",
       "    }\n",
       "\n",
       "    .dataframe thead th {\n",
       "        text-align: right;\n",
       "    }\n",
       "</style>\n",
       "<table border=\"1\" class=\"dataframe\">\n",
       "  <thead>\n",
       "    <tr style=\"text-align: right;\">\n",
       "      <th></th>\n",
       "      <th>id</th>\n",
       "      <th>funded_amount</th>\n",
       "      <th>loan_amount</th>\n",
       "      <th>activity</th>\n",
       "      <th>sector</th>\n",
       "      <th>use</th>\n",
       "      <th>country_code</th>\n",
       "      <th>country</th>\n",
       "      <th>region</th>\n",
       "      <th>currency</th>\n",
       "      <th>partner_id</th>\n",
       "      <th>posted_time</th>\n",
       "      <th>disbursed_time</th>\n",
       "      <th>funded_time</th>\n",
       "      <th>term_in_months</th>\n",
       "      <th>lender_count</th>\n",
       "      <th>tags</th>\n",
       "      <th>borrower_genders</th>\n",
       "      <th>repayment_interval</th>\n",
       "      <th>date</th>\n",
       "    </tr>\n",
       "  </thead>\n",
       "  <tbody>\n",
       "  </tbody>\n",
       "</table>\n",
       "</div>"
      ],
      "text/plain": [
       "Empty DataFrame\n",
       "Columns: [id, funded_amount, loan_amount, activity, sector, use, country_code, country, region, currency, partner_id, posted_time, disbursed_time, funded_time, term_in_months, lender_count, tags, borrower_genders, repayment_interval, date]\n",
       "Index: []"
      ]
     },
     "execution_count": 31,
     "metadata": {},
     "output_type": "execute_result"
    }
   ],
   "source": [
    "loans[loans['country_code'].isin(['NB'])]"
   ]
  },
  {
   "cell_type": "code",
   "execution_count": 32,
   "metadata": {},
   "outputs": [
    {
     "data": {
      "text/plain": [
       "array(['PK', 'IN', 'KE', 'NI', 'SV', 'TZ', 'PH', 'PE', 'SN', 'KH', 'LR',\n",
       "       'VN', 'IQ', 'HN', 'PS', 'MN', 'US', 'ML', 'CO', 'TJ', 'GT', 'EC',\n",
       "       'BO', 'YE', 'GH', 'SL', 'HT', 'CL', 'JO', 'UG', 'BI', 'BF', 'TL',\n",
       "       'ID', 'GE', 'UA', 'XK', 'AL', 'CD', 'CR', 'SO', 'ZW', 'CM', 'TR',\n",
       "       'AZ', 'DO', 'BR', 'MX', 'KG', 'AM', 'PY', 'LB', 'WS', 'IL', 'RW',\n",
       "       'ZM', 'NP', 'CG', 'MZ', 'ZA', 'TG', 'BJ', 'BZ', 'SR', 'TH', 'NG',\n",
       "       'MR', 'VU', 'PA', 'VI', 'VC', 'LA', 'MW', 'MM', 'MD', 'SS', 'SB',\n",
       "       'CN', 'EG', 'GU', 'AF', 'MG', nan, 'PR', 'LS', 'CI', 'BT'],\n",
       "      dtype=object)"
      ]
     },
     "execution_count": 32,
     "metadata": {},
     "output_type": "execute_result"
    }
   ],
   "source": [
    "loans['country_code'].unique()"
   ]
  },
  {
   "cell_type": "code",
   "execution_count": 33,
   "metadata": {},
   "outputs": [],
   "source": [
    "def get_lens(x):\n",
    "    \"\"\"\n",
    "    make lens 0 if we replaced it to ''.\n",
    "    \"\"\"\n",
    "    if x == '':\n",
    "        return 0\n",
    "    else:\n",
    "        return len(x.split(','))"
   ]
  },
  {
   "cell_type": "code",
   "execution_count": 34,
   "metadata": {},
   "outputs": [
    {
     "data": {
      "text/plain": [
       "140       NaN\n",
       "145       NaN\n",
       "170       NaN\n",
       "412       NaN\n",
       "414       NaN\n",
       "         ... \n",
       "671151    NaN\n",
       "671174    NaN\n",
       "671178    NaN\n",
       "671185    NaN\n",
       "671202    NaN\n",
       "Name: borrower_genders, Length: 4221, dtype: object"
      ]
     },
     "execution_count": 34,
     "metadata": {},
     "output_type": "execute_result"
    }
   ],
   "source": [
    "loans[loans['borrower_genders'].fillna('').apply(get_lens) != loans.borrower_genders.str.split(',').str.len()]['borrower_genders']"
   ]
  },
  {
   "cell_type": "code",
   "execution_count": 35,
   "metadata": {},
   "outputs": [
    {
     "data": {
      "text/plain": [
       "171416"
      ]
     },
     "execution_count": 35,
     "metadata": {},
     "output_type": "execute_result"
    }
   ],
   "source": [
    "loans[loans['tags'].fillna('').apply(get_lens) == 0].shape[0]"
   ]
  },
  {
   "cell_type": "code",
   "execution_count": 36,
   "metadata": {},
   "outputs": [
    {
     "data": {
      "text/plain": [
       "0         2\n",
       "1         1\n",
       "2         1\n",
       "3         1\n",
       "4         1\n",
       "         ..\n",
       "671200    3\n",
       "671201    2\n",
       "671202    0\n",
       "671203    2\n",
       "671204    2\n",
       "Name: use, Length: 671205, dtype: int64"
      ]
     },
     "execution_count": 36,
     "metadata": {},
     "output_type": "execute_result"
    }
   ],
   "source": [
    "loans['use'].fillna('').apply(get_lens) "
   ]
  },
  {
   "cell_type": "code",
   "execution_count": 37,
   "metadata": {},
   "outputs": [
    {
     "data": {
      "text/plain": [
       "id                         0\n",
       "funded_amount              0\n",
       "loan_amount                0\n",
       "activity                   0\n",
       "sector                     0\n",
       "use                     4232\n",
       "country_code               8\n",
       "country                    0\n",
       "region                 56800\n",
       "currency                   0\n",
       "partner_id             13507\n",
       "posted_time                0\n",
       "disbursed_time          2396\n",
       "funded_time            48331\n",
       "term_in_months             0\n",
       "lender_count               0\n",
       "tags                  171416\n",
       "borrower_genders        4221\n",
       "repayment_interval         0\n",
       "date                       0\n",
       "dtype: int64"
      ]
     },
     "execution_count": 37,
     "metadata": {},
     "output_type": "execute_result"
    }
   ],
   "source": [
    "loans.isnull().sum()"
   ]
  },
  {
   "cell_type": "code",
   "execution_count": null,
   "metadata": {},
   "outputs": [],
   "source": []
  },
  {
   "cell_type": "code",
   "execution_count": 38,
   "metadata": {},
   "outputs": [],
   "source": [
    "# fill in tags with blank if null\n",
    "loans['tags'] = loans['tags'].fillna('')"
   ]
  },
  {
   "cell_type": "code",
   "execution_count": 39,
   "metadata": {},
   "outputs": [],
   "source": [
    "# fill use in with blank if null\n",
    "loans['use'] = loans['use'].fillna('')"
   ]
  },
  {
   "cell_type": "code",
   "execution_count": 40,
   "metadata": {},
   "outputs": [
    {
     "data": {
      "text/plain": [
       "9.0"
      ]
     },
     "execution_count": 40,
     "metadata": {},
     "output_type": "execute_result"
    }
   ],
   "source": [
    "loans['partner_id'].min()"
   ]
  },
  {
   "cell_type": "code",
   "execution_count": 41,
   "metadata": {},
   "outputs": [],
   "source": [
    "loans['partner_id'] = loans['partner_id'].fillna(0)"
   ]
  },
  {
   "cell_type": "code",
   "execution_count": 42,
   "metadata": {},
   "outputs": [],
   "source": [
    "loans['country_code'] = loans['country_code'].fillna('NB')"
   ]
  },
  {
   "cell_type": "code",
   "execution_count": 43,
   "metadata": {},
   "outputs": [
    {
     "data": {
      "text/html": [
       "<div>\n",
       "<style scoped>\n",
       "    .dataframe tbody tr th:only-of-type {\n",
       "        vertical-align: middle;\n",
       "    }\n",
       "\n",
       "    .dataframe tbody tr th {\n",
       "        vertical-align: top;\n",
       "    }\n",
       "\n",
       "    .dataframe thead th {\n",
       "        text-align: right;\n",
       "    }\n",
       "</style>\n",
       "<table border=\"1\" class=\"dataframe\">\n",
       "  <thead>\n",
       "    <tr style=\"text-align: right;\">\n",
       "      <th></th>\n",
       "      <th>id</th>\n",
       "      <th>funded_amount</th>\n",
       "      <th>loan_amount</th>\n",
       "      <th>activity</th>\n",
       "      <th>sector</th>\n",
       "      <th>use</th>\n",
       "      <th>country_code</th>\n",
       "      <th>country</th>\n",
       "      <th>region</th>\n",
       "      <th>currency</th>\n",
       "      <th>partner_id</th>\n",
       "      <th>posted_time</th>\n",
       "      <th>disbursed_time</th>\n",
       "      <th>funded_time</th>\n",
       "      <th>term_in_months</th>\n",
       "      <th>lender_count</th>\n",
       "      <th>tags</th>\n",
       "      <th>borrower_genders</th>\n",
       "      <th>repayment_interval</th>\n",
       "      <th>date</th>\n",
       "    </tr>\n",
       "  </thead>\n",
       "  <tbody>\n",
       "    <tr>\n",
       "      <th>140</th>\n",
       "      <td>653375</td>\n",
       "      <td>2975.0</td>\n",
       "      <td>2975.0</td>\n",
       "      <td>Food Production/Sales</td>\n",
       "      <td>Food</td>\n",
       "      <td></td>\n",
       "      <td>TZ</td>\n",
       "      <td>Tanzania</td>\n",
       "      <td>NaN</td>\n",
       "      <td>TZS</td>\n",
       "      <td>87.0</td>\n",
       "      <td>2014-01-02 15:31:52+00:00</td>\n",
       "      <td>2013-12-24 08:00:00+00:00</td>\n",
       "      <td>2014-01-22 13:42:40+00:00</td>\n",
       "      <td>10.0</td>\n",
       "      <td>110.0</td>\n",
       "      <td>user_favorite</td>\n",
       "      <td>NaN</td>\n",
       "      <td>monthly</td>\n",
       "      <td>2014-01-02</td>\n",
       "    </tr>\n",
       "    <tr>\n",
       "      <th>145</th>\n",
       "      <td>653427</td>\n",
       "      <td>1200.0</td>\n",
       "      <td>1200.0</td>\n",
       "      <td>Personal Expenses</td>\n",
       "      <td>Personal Use</td>\n",
       "      <td></td>\n",
       "      <td>PE</td>\n",
       "      <td>Peru</td>\n",
       "      <td>NaN</td>\n",
       "      <td>PEN</td>\n",
       "      <td>139.0</td>\n",
       "      <td>2014-01-02 22:43:24+00:00</td>\n",
       "      <td>2013-12-17 08:00:00+00:00</td>\n",
       "      <td>2014-02-01 23:49:27+00:00</td>\n",
       "      <td>20.0</td>\n",
       "      <td>44.0</td>\n",
       "      <td>#Single, user_favorite, user_favorite</td>\n",
       "      <td>NaN</td>\n",
       "      <td>monthly</td>\n",
       "      <td>2014-01-02</td>\n",
       "    </tr>\n",
       "    <tr>\n",
       "      <th>170</th>\n",
       "      <td>653177</td>\n",
       "      <td>4250.0</td>\n",
       "      <td>4250.0</td>\n",
       "      <td>Catering</td>\n",
       "      <td>Food</td>\n",
       "      <td></td>\n",
       "      <td>TZ</td>\n",
       "      <td>Tanzania</td>\n",
       "      <td>NaN</td>\n",
       "      <td>TZS</td>\n",
       "      <td>87.0</td>\n",
       "      <td>2014-01-02 06:46:10+00:00</td>\n",
       "      <td>2013-12-26 08:00:00+00:00</td>\n",
       "      <td>2014-01-23 16:52:15+00:00</td>\n",
       "      <td>10.0</td>\n",
       "      <td>116.0</td>\n",
       "      <td>#Schooling, #Repeat Borrower, #Woman Owned Biz...</td>\n",
       "      <td>NaN</td>\n",
       "      <td>monthly</td>\n",
       "      <td>2014-01-02</td>\n",
       "    </tr>\n",
       "    <tr>\n",
       "      <th>412</th>\n",
       "      <td>653513</td>\n",
       "      <td>2350.0</td>\n",
       "      <td>2350.0</td>\n",
       "      <td>Beauty Salon</td>\n",
       "      <td>Services</td>\n",
       "      <td></td>\n",
       "      <td>TZ</td>\n",
       "      <td>Tanzania</td>\n",
       "      <td>NaN</td>\n",
       "      <td>TZS</td>\n",
       "      <td>87.0</td>\n",
       "      <td>2014-01-03 05:08:11+00:00</td>\n",
       "      <td>2013-12-31 08:00:00+00:00</td>\n",
       "      <td>2014-01-21 15:33:01+00:00</td>\n",
       "      <td>10.0</td>\n",
       "      <td>75.0</td>\n",
       "      <td>user_favorite, #Parent, #Woman Owned Biz, user...</td>\n",
       "      <td>NaN</td>\n",
       "      <td>monthly</td>\n",
       "      <td>2014-01-03</td>\n",
       "    </tr>\n",
       "    <tr>\n",
       "      <th>414</th>\n",
       "      <td>653775</td>\n",
       "      <td>725.0</td>\n",
       "      <td>725.0</td>\n",
       "      <td>Agriculture</td>\n",
       "      <td>Agriculture</td>\n",
       "      <td></td>\n",
       "      <td>SV</td>\n",
       "      <td>El Salvador</td>\n",
       "      <td>NaN</td>\n",
       "      <td>USD</td>\n",
       "      <td>199.0</td>\n",
       "      <td>2014-01-03 21:41:23+00:00</td>\n",
       "      <td>2013-12-16 08:00:00+00:00</td>\n",
       "      <td>2014-01-28 17:28:43+00:00</td>\n",
       "      <td>20.0</td>\n",
       "      <td>19.0</td>\n",
       "      <td>#Animals, #Repeat Borrower, #Schooling, user_f...</td>\n",
       "      <td>NaN</td>\n",
       "      <td>monthly</td>\n",
       "      <td>2014-01-03</td>\n",
       "    </tr>\n",
       "    <tr>\n",
       "      <th>...</th>\n",
       "      <td>...</td>\n",
       "      <td>...</td>\n",
       "      <td>...</td>\n",
       "      <td>...</td>\n",
       "      <td>...</td>\n",
       "      <td>...</td>\n",
       "      <td>...</td>\n",
       "      <td>...</td>\n",
       "      <td>...</td>\n",
       "      <td>...</td>\n",
       "      <td>...</td>\n",
       "      <td>...</td>\n",
       "      <td>...</td>\n",
       "      <td>...</td>\n",
       "      <td>...</td>\n",
       "      <td>...</td>\n",
       "      <td>...</td>\n",
       "      <td>...</td>\n",
       "      <td>...</td>\n",
       "      <td>...</td>\n",
       "    </tr>\n",
       "    <tr>\n",
       "      <th>671151</th>\n",
       "      <td>1340245</td>\n",
       "      <td>0.0</td>\n",
       "      <td>25.0</td>\n",
       "      <td>Livestock</td>\n",
       "      <td>Agriculture</td>\n",
       "      <td></td>\n",
       "      <td>KE</td>\n",
       "      <td>Kenya</td>\n",
       "      <td>NaN</td>\n",
       "      <td>KES</td>\n",
       "      <td>138.0</td>\n",
       "      <td>2017-07-20 23:13:01+00:00</td>\n",
       "      <td>2017-07-20 07:00:00+00:00</td>\n",
       "      <td>NaN</td>\n",
       "      <td>13.0</td>\n",
       "      <td>0.0</td>\n",
       "      <td></td>\n",
       "      <td>NaN</td>\n",
       "      <td>monthly</td>\n",
       "      <td>2017-07-20</td>\n",
       "    </tr>\n",
       "    <tr>\n",
       "      <th>671174</th>\n",
       "      <td>1340275</td>\n",
       "      <td>0.0</td>\n",
       "      <td>25.0</td>\n",
       "      <td>Games</td>\n",
       "      <td>Entertainment</td>\n",
       "      <td></td>\n",
       "      <td>KE</td>\n",
       "      <td>Kenya</td>\n",
       "      <td>NaN</td>\n",
       "      <td>KES</td>\n",
       "      <td>138.0</td>\n",
       "      <td>2017-07-21 23:51:18+00:00</td>\n",
       "      <td>2017-07-21 07:00:00+00:00</td>\n",
       "      <td>NaN</td>\n",
       "      <td>13.0</td>\n",
       "      <td>0.0</td>\n",
       "      <td></td>\n",
       "      <td>NaN</td>\n",
       "      <td>monthly</td>\n",
       "      <td>2017-07-21</td>\n",
       "    </tr>\n",
       "    <tr>\n",
       "      <th>671178</th>\n",
       "      <td>1340280</td>\n",
       "      <td>0.0</td>\n",
       "      <td>25.0</td>\n",
       "      <td>Livestock</td>\n",
       "      <td>Agriculture</td>\n",
       "      <td></td>\n",
       "      <td>KE</td>\n",
       "      <td>Kenya</td>\n",
       "      <td>NaN</td>\n",
       "      <td>KES</td>\n",
       "      <td>138.0</td>\n",
       "      <td>2017-07-22 06:16:55+00:00</td>\n",
       "      <td>2017-07-21 07:00:00+00:00</td>\n",
       "      <td>NaN</td>\n",
       "      <td>13.0</td>\n",
       "      <td>0.0</td>\n",
       "      <td></td>\n",
       "      <td>NaN</td>\n",
       "      <td>monthly</td>\n",
       "      <td>2017-07-22</td>\n",
       "    </tr>\n",
       "    <tr>\n",
       "      <th>671185</th>\n",
       "      <td>1340298</td>\n",
       "      <td>0.0</td>\n",
       "      <td>25.0</td>\n",
       "      <td>Livestock</td>\n",
       "      <td>Agriculture</td>\n",
       "      <td></td>\n",
       "      <td>KE</td>\n",
       "      <td>Kenya</td>\n",
       "      <td>NaN</td>\n",
       "      <td>KES</td>\n",
       "      <td>138.0</td>\n",
       "      <td>2017-07-24 07:34:50+00:00</td>\n",
       "      <td>2017-07-17 07:00:00+00:00</td>\n",
       "      <td>NaN</td>\n",
       "      <td>13.0</td>\n",
       "      <td>0.0</td>\n",
       "      <td></td>\n",
       "      <td>NaN</td>\n",
       "      <td>monthly</td>\n",
       "      <td>2017-07-24</td>\n",
       "    </tr>\n",
       "    <tr>\n",
       "      <th>671202</th>\n",
       "      <td>1340334</td>\n",
       "      <td>0.0</td>\n",
       "      <td>25.0</td>\n",
       "      <td>Games</td>\n",
       "      <td>Entertainment</td>\n",
       "      <td></td>\n",
       "      <td>KE</td>\n",
       "      <td>Kenya</td>\n",
       "      <td>NaN</td>\n",
       "      <td>KES</td>\n",
       "      <td>138.0</td>\n",
       "      <td>2017-07-26 00:02:07+00:00</td>\n",
       "      <td>2017-07-25 07:00:00+00:00</td>\n",
       "      <td>NaN</td>\n",
       "      <td>13.0</td>\n",
       "      <td>0.0</td>\n",
       "      <td></td>\n",
       "      <td>NaN</td>\n",
       "      <td>monthly</td>\n",
       "      <td>2017-07-26</td>\n",
       "    </tr>\n",
       "  </tbody>\n",
       "</table>\n",
       "<p>4221 rows × 20 columns</p>\n",
       "</div>"
      ],
      "text/plain": [
       "             id  funded_amount  loan_amount               activity  \\\n",
       "140      653375         2975.0       2975.0  Food Production/Sales   \n",
       "145      653427         1200.0       1200.0      Personal Expenses   \n",
       "170      653177         4250.0       4250.0               Catering   \n",
       "412      653513         2350.0       2350.0           Beauty Salon   \n",
       "414      653775          725.0        725.0            Agriculture   \n",
       "...         ...            ...          ...                    ...   \n",
       "671151  1340245            0.0         25.0              Livestock   \n",
       "671174  1340275            0.0         25.0                  Games   \n",
       "671178  1340280            0.0         25.0              Livestock   \n",
       "671185  1340298            0.0         25.0              Livestock   \n",
       "671202  1340334            0.0         25.0                  Games   \n",
       "\n",
       "               sector use country_code      country region currency  \\\n",
       "140              Food               TZ     Tanzania    NaN      TZS   \n",
       "145      Personal Use               PE         Peru    NaN      PEN   \n",
       "170              Food               TZ     Tanzania    NaN      TZS   \n",
       "412          Services               TZ     Tanzania    NaN      TZS   \n",
       "414       Agriculture               SV  El Salvador    NaN      USD   \n",
       "...               ...  ..          ...          ...    ...      ...   \n",
       "671151    Agriculture               KE        Kenya    NaN      KES   \n",
       "671174  Entertainment               KE        Kenya    NaN      KES   \n",
       "671178    Agriculture               KE        Kenya    NaN      KES   \n",
       "671185    Agriculture               KE        Kenya    NaN      KES   \n",
       "671202  Entertainment               KE        Kenya    NaN      KES   \n",
       "\n",
       "        partner_id               posted_time            disbursed_time  \\\n",
       "140           87.0 2014-01-02 15:31:52+00:00 2013-12-24 08:00:00+00:00   \n",
       "145          139.0 2014-01-02 22:43:24+00:00 2013-12-17 08:00:00+00:00   \n",
       "170           87.0 2014-01-02 06:46:10+00:00 2013-12-26 08:00:00+00:00   \n",
       "412           87.0 2014-01-03 05:08:11+00:00 2013-12-31 08:00:00+00:00   \n",
       "414          199.0 2014-01-03 21:41:23+00:00 2013-12-16 08:00:00+00:00   \n",
       "...            ...                       ...                       ...   \n",
       "671151       138.0 2017-07-20 23:13:01+00:00 2017-07-20 07:00:00+00:00   \n",
       "671174       138.0 2017-07-21 23:51:18+00:00 2017-07-21 07:00:00+00:00   \n",
       "671178       138.0 2017-07-22 06:16:55+00:00 2017-07-21 07:00:00+00:00   \n",
       "671185       138.0 2017-07-24 07:34:50+00:00 2017-07-17 07:00:00+00:00   \n",
       "671202       138.0 2017-07-26 00:02:07+00:00 2017-07-25 07:00:00+00:00   \n",
       "\n",
       "                      funded_time  term_in_months  lender_count  \\\n",
       "140     2014-01-22 13:42:40+00:00            10.0         110.0   \n",
       "145     2014-02-01 23:49:27+00:00            20.0          44.0   \n",
       "170     2014-01-23 16:52:15+00:00            10.0         116.0   \n",
       "412     2014-01-21 15:33:01+00:00            10.0          75.0   \n",
       "414     2014-01-28 17:28:43+00:00            20.0          19.0   \n",
       "...                           ...             ...           ...   \n",
       "671151                        NaN            13.0           0.0   \n",
       "671174                        NaN            13.0           0.0   \n",
       "671178                        NaN            13.0           0.0   \n",
       "671185                        NaN            13.0           0.0   \n",
       "671202                        NaN            13.0           0.0   \n",
       "\n",
       "                                                     tags borrower_genders  \\\n",
       "140                                         user_favorite              NaN   \n",
       "145                 #Single, user_favorite, user_favorite              NaN   \n",
       "170     #Schooling, #Repeat Borrower, #Woman Owned Biz...              NaN   \n",
       "412     user_favorite, #Parent, #Woman Owned Biz, user...              NaN   \n",
       "414     #Animals, #Repeat Borrower, #Schooling, user_f...              NaN   \n",
       "...                                                   ...              ...   \n",
       "671151                                                                 NaN   \n",
       "671174                                                                 NaN   \n",
       "671178                                                                 NaN   \n",
       "671185                                                                 NaN   \n",
       "671202                                                                 NaN   \n",
       "\n",
       "       repayment_interval       date  \n",
       "140               monthly 2014-01-02  \n",
       "145               monthly 2014-01-02  \n",
       "170               monthly 2014-01-02  \n",
       "412               monthly 2014-01-03  \n",
       "414               monthly 2014-01-03  \n",
       "...                   ...        ...  \n",
       "671151            monthly 2017-07-20  \n",
       "671174            monthly 2017-07-21  \n",
       "671178            monthly 2017-07-22  \n",
       "671185            monthly 2017-07-24  \n",
       "671202            monthly 2017-07-26  \n",
       "\n",
       "[4221 rows x 20 columns]"
      ]
     },
     "execution_count": 43,
     "metadata": {},
     "output_type": "execute_result"
    }
   ],
   "source": [
    "loans[loans['borrower_genders'].isnull()]"
   ]
  },
  {
   "cell_type": "code",
   "execution_count": 56,
   "metadata": {},
   "outputs": [
    {
     "data": {
      "text/plain": [
       "0         14033\n",
       "1          8775\n",
       "2         21809\n",
       "3         17809\n",
       "4         26732\n",
       "          ...  \n",
       "671200    25466\n",
       "671201    71735\n",
       "671202    86273\n",
       "671203    64025\n",
       "671204    62894\n",
       "Length: 671205, dtype: int64"
      ]
     },
     "execution_count": 56,
     "metadata": {},
     "output_type": "execute_result"
    }
   ],
   "source": [
    "(loans['funded_time'] - loans['posted_time']).dt.seconds"
   ]
  },
  {
   "cell_type": "code",
   "execution_count": 57,
   "metadata": {},
   "outputs": [
    {
     "data": {
      "text/plain": [
       "0              1 days 03:53:53\n",
       "1              1 days 02:26:15\n",
       "2              0 days 06:03:29\n",
       "3              0 days 04:56:49\n",
       "4              0 days 07:25:32\n",
       "                  ...         \n",
       "671200   -17373 days +07:04:26\n",
       "671201         0 days 19:55:35\n",
       "671202   -17374 days +23:57:53\n",
       "671203   -17374 days +17:47:05\n",
       "671204   -17374 days +17:28:14\n",
       "Length: 671205, dtype: timedelta64[ns]"
      ]
     },
     "execution_count": 57,
     "metadata": {},
     "output_type": "execute_result"
    }
   ],
   "source": [
    "(loans['funded_time'] - loans['posted_time'])"
   ]
  },
  {
   "cell_type": "code",
   "execution_count": 59,
   "metadata": {},
   "outputs": [],
   "source": [
    "loans['time_til_funded'] = loans['funded_time'] - loans['posted_time']"
   ]
  },
  {
   "cell_type": "code",
   "execution_count": 62,
   "metadata": {},
   "outputs": [
    {
     "data": {
      "text/plain": [
       "(0             1440\n",
       " 1             1440\n",
       " 2                0\n",
       " 3                0\n",
       " 4                0\n",
       "             ...   \n",
       " 671200   -25017120\n",
       " 671201           0\n",
       " 671202   -25018560\n",
       " 671203   -25018560\n",
       " 671204   -25018560\n",
       " Name: time_til_funded, Length: 671205, dtype: int64,\n",
       " 0         14033\n",
       " 1          8775\n",
       " 2         21809\n",
       " 3         17809\n",
       " 4         26732\n",
       "           ...  \n",
       " 671200    25466\n",
       " 671201    71735\n",
       " 671202    86273\n",
       " 671203    64025\n",
       " 671204    62894\n",
       " Name: time_til_funded, Length: 671205, dtype: int64)"
      ]
     },
     "execution_count": 62,
     "metadata": {},
     "output_type": "execute_result"
    }
   ],
   "source": [
    "loans['time_til_funded'].dt.days * 1440, loans['time_til_funded'].dt.seconds"
   ]
  },
  {
   "cell_type": "code",
   "execution_count": null,
   "metadata": {},
   "outputs": [],
   "source": [
    "loans['borrow_genders'] = loans['borrower_genders'].fillna('')"
   ]
  },
  {
   "cell_type": "code",
   "execution_count": 58,
   "metadata": {},
   "outputs": [
    {
     "data": {
      "text/plain": [
       "1440"
      ]
     },
     "execution_count": 58,
     "metadata": {},
     "output_type": "execute_result"
    }
   ],
   "source": []
  },
  {
   "cell_type": "code",
   "execution_count": 67,
   "metadata": {},
   "outputs": [
    {
     "data": {
      "text/plain": [
       "233.88333333333333"
      ]
     },
     "execution_count": 67,
     "metadata": {},
     "output_type": "execute_result"
    }
   ],
   "source": [
    "loans['time_til_funded'][0].seconds / 60"
   ]
  },
  {
   "cell_type": "code",
   "execution_count": 74,
   "metadata": {},
   "outputs": [],
   "source": [
    "mins_per_day = 24 * 60\n",
    "secs_per_min = 60\n",
    "loans['time_til_funded_mins'] = (loans['time_til_funded'].dt.days * mins_per_day) +  (loans['time_til_funded'].dt.seconds // secs_per_min)"
   ]
  },
  {
   "cell_type": "code",
   "execution_count": 75,
   "metadata": {},
   "outputs": [
    {
     "data": {
      "text/plain": [
       "0             1673\n",
       "1             1586\n",
       "2              363\n",
       "3              296\n",
       "4              445\n",
       "            ...   \n",
       "671200   -25016696\n",
       "671201        1195\n",
       "671202   -25017123\n",
       "671203   -25017493\n",
       "671204   -25017512\n",
       "Name: time_til_funded_mins, Length: 671205, dtype: int64"
      ]
     },
     "execution_count": 75,
     "metadata": {},
     "output_type": "execute_result"
    }
   ],
   "source": [
    "loans['time_til_funded_mins']"
   ]
  },
  {
   "cell_type": "code",
   "execution_count": 76,
   "metadata": {},
   "outputs": [],
   "source": [
    "def is_loan_funded(x):\n",
    "    if x >= 0:\n",
    "        return 1\n",
    "    else:\n",
    "        return 0"
   ]
  },
  {
   "cell_type": "code",
   "execution_count": 79,
   "metadata": {},
   "outputs": [
    {
     "data": {
      "text/plain": [
       "622873"
      ]
     },
     "execution_count": 79,
     "metadata": {},
     "output_type": "execute_result"
    }
   ],
   "source": [
    "loans['time_til_funded_mins'].apply(is_loan_funded).sum()"
   ]
  },
  {
   "cell_type": "code",
   "execution_count": 80,
   "metadata": {},
   "outputs": [],
   "source": [
    "loans['loan_funded'] = loans['time_til_funded_mins'].apply(is_loan_funded)"
   ]
  },
  {
   "cell_type": "code",
   "execution_count": 81,
   "metadata": {},
   "outputs": [
    {
     "data": {
      "text/plain": [
       "0         1\n",
       "1         1\n",
       "2         1\n",
       "3         1\n",
       "4         1\n",
       "         ..\n",
       "671200    0\n",
       "671201    1\n",
       "671202    0\n",
       "671203    0\n",
       "671204    0\n",
       "Name: loan_funded, Length: 671205, dtype: int64"
      ]
     },
     "execution_count": 81,
     "metadata": {},
     "output_type": "execute_result"
    }
   ],
   "source": [
    "# target variable of the classification algorithim\n",
    "loans['loan_funded']"
   ]
  },
  {
   "cell_type": "code",
   "execution_count": 82,
   "metadata": {},
   "outputs": [
    {
     "data": {
      "text/plain": [
       "id                          0\n",
       "funded_amount               0\n",
       "loan_amount                 0\n",
       "activity                    0\n",
       "sector                      0\n",
       "use                         0\n",
       "country_code                0\n",
       "country                     0\n",
       "region                  56800\n",
       "currency                    0\n",
       "partner_id                  0\n",
       "posted_time                 0\n",
       "disbursed_time           2396\n",
       "funded_time                 0\n",
       "term_in_months              0\n",
       "lender_count                0\n",
       "tags                        0\n",
       "borrower_genders         4221\n",
       "repayment_interval          0\n",
       "date                        0\n",
       "time_til_funded             0\n",
       "time_til_funded_mins        0\n",
       "loan_funded                 0\n",
       "dtype: int64"
      ]
     },
     "execution_count": 82,
     "metadata": {},
     "output_type": "execute_result"
    }
   ],
   "source": [
    "loans.isnull().sum()"
   ]
  },
  {
   "cell_type": "code",
   "execution_count": 84,
   "metadata": {},
   "outputs": [],
   "source": [
    "def partner(x):\n",
    "    if x > 0:\n",
    "        return 1\n",
    "    else:\n",
    "        return 0"
   ]
  },
  {
   "cell_type": "code",
   "execution_count": 86,
   "metadata": {},
   "outputs": [],
   "source": [
    "loans['partner_on_loan'] = loans['partner_id'].apply(partner)"
   ]
  },
  {
   "cell_type": "code",
   "execution_count": 89,
   "metadata": {},
   "outputs": [
    {
     "data": {
      "text/plain": [
       "13507"
      ]
     },
     "execution_count": 89,
     "metadata": {},
     "output_type": "execute_result"
    }
   ],
   "source": [
    "(loans['partner_on_loan'] == 0).sum()"
   ]
  },
  {
   "cell_type": "code",
   "execution_count": 93,
   "metadata": {},
   "outputs": [],
   "source": [
    "loans['posted_hour'] = loans['posted_time'].dt.hour"
   ]
  },
  {
   "cell_type": "code",
   "execution_count": 100,
   "metadata": {},
   "outputs": [],
   "source": [
    "loans['posted_day'] = loans['posted_time'].dt.dayofweek"
   ]
  },
  {
   "cell_type": "code",
   "execution_count": 97,
   "metadata": {},
   "outputs": [
    {
     "data": {
      "text/plain": [
       "'hi'"
      ]
     },
     "execution_count": 97,
     "metadata": {},
     "output_type": "execute_result"
    }
   ],
   "source": [
    "{0: 'hi'}[0]"
   ]
  },
  {
   "cell_type": "code",
   "execution_count": 98,
   "metadata": {},
   "outputs": [],
   "source": [
    "day_map = {\n",
    "    0: 'Monday',\n",
    "    1: 'Tuesday',\n",
    "    2: 'Wednesday',\n",
    "    3: 'Thursday',\n",
    "    4: 'Friday',\n",
    "    5: 'Saturday',\n",
    "    6: 'Sunday'\n",
    "}"
   ]
  },
  {
   "cell_type": "code",
   "execution_count": 99,
   "metadata": {},
   "outputs": [
    {
     "data": {
      "text/plain": [
       "{0: 'Monday',\n",
       " 1: 'Tuesday',\n",
       " 2: 'Wednesday',\n",
       " 3: 'Thursday',\n",
       " 4: 'Friday',\n",
       " 5: 'Saturday',\n",
       " 6: 'Sunday'}"
      ]
     },
     "execution_count": 99,
     "metadata": {},
     "output_type": "execute_result"
    }
   ],
   "source": [
    "day_map"
   ]
  },
  {
   "cell_type": "code",
   "execution_count": 106,
   "metadata": {},
   "outputs": [],
   "source": [
    "loans['posted_day'] = loans['posted_day'].map(day_map)"
   ]
  },
  {
   "cell_type": "code",
   "execution_count": 107,
   "metadata": {},
   "outputs": [
    {
     "data": {
      "text/plain": [
       "0         Wednesday\n",
       "1         Wednesday\n",
       "2         Wednesday\n",
       "3         Wednesday\n",
       "4         Wednesday\n",
       "            ...    \n",
       "671200      Tuesday\n",
       "671201      Tuesday\n",
       "671202    Wednesday\n",
       "671203    Wednesday\n",
       "671204    Wednesday\n",
       "Name: posted_day, Length: 671205, dtype: object"
      ]
     },
     "execution_count": 107,
     "metadata": {},
     "output_type": "execute_result"
    }
   ],
   "source": [
    "loans['posted_day']"
   ]
  },
  {
   "cell_type": "code",
   "execution_count": 108,
   "metadata": {},
   "outputs": [],
   "source": [
    "def borrower_lens(x):\n",
    "    if x == '':\n",
    "        return 1\n",
    "    else:\n",
    "        return len(x.split(','))\n",
    "    "
   ]
  },
  {
   "cell_type": "code",
   "execution_count": 110,
   "metadata": {},
   "outputs": [],
   "source": [
    "loans['borrower_genders'] = loans['borrower_genders'].fillna('')\n",
    "loans['num_of_borrowers'] = loans['borrower_genders'].apply(borrower_lens)"
   ]
  },
  {
   "cell_type": "code",
   "execution_count": 111,
   "metadata": {},
   "outputs": [
    {
     "data": {
      "text/plain": [
       "0         1\n",
       "1         2\n",
       "2         1\n",
       "3         1\n",
       "4         1\n",
       "         ..\n",
       "671200    1\n",
       "671201    1\n",
       "671202    1\n",
       "671203    1\n",
       "671204    1\n",
       "Name: num_of_borrowers, Length: 671205, dtype: int64"
      ]
     },
     "execution_count": 111,
     "metadata": {},
     "output_type": "execute_result"
    }
   ],
   "source": [
    "loans['num_of_borrowers']"
   ]
  },
  {
   "cell_type": "code",
   "execution_count": 112,
   "metadata": {},
   "outputs": [
    {
     "data": {
      "text/plain": [
       "0                  [female]\n",
       "1         [female,  female]\n",
       "2                  [female]\n",
       "3                  [female]\n",
       "4                  [female]\n",
       "                ...        \n",
       "671200             [female]\n",
       "671201             [female]\n",
       "671202                   []\n",
       "671203             [female]\n",
       "671204             [female]\n",
       "Name: borrower_genders, Length: 671205, dtype: object"
      ]
     },
     "execution_count": 112,
     "metadata": {},
     "output_type": "execute_result"
    }
   ],
   "source": [
    "loans['borrower_genders'].str.split(',')"
   ]
  },
  {
   "cell_type": "code",
   "execution_count": 113,
   "metadata": {},
   "outputs": [
    {
     "data": {
      "text/plain": [
       "0                 female\n",
       "1         female, female\n",
       "2                 female\n",
       "3                 female\n",
       "4                 female\n",
       "               ...      \n",
       "671200            female\n",
       "671201            female\n",
       "671202                  \n",
       "671203            female\n",
       "671204            female\n",
       "Name: borrower_genders, Length: 671205, dtype: object"
      ]
     },
     "execution_count": 113,
     "metadata": {},
     "output_type": "execute_result"
    }
   ],
   "source": [
    "loans['borrower_genders']"
   ]
  },
  {
   "cell_type": "code",
   "execution_count": 127,
   "metadata": {},
   "outputs": [
    {
     "data": {
      "text/plain": [
       "'female'"
      ]
     },
     "execution_count": 127,
     "metadata": {},
     "output_type": "execute_result"
    }
   ],
   "source": [
    "loans['borrower_genders'][1].split(',')[1].strip()"
   ]
  },
  {
   "cell_type": "code",
   "execution_count": 130,
   "metadata": {},
   "outputs": [
    {
     "data": {
      "text/plain": [
       "2"
      ]
     },
     "execution_count": 130,
     "metadata": {},
     "output_type": "execute_result"
    }
   ],
   "source": [
    "np.sum([1 for i in loans['borrower_genders'][1].split(',') if i.strip() == 'female'])"
   ]
  },
  {
   "cell_type": "code",
   "execution_count": 133,
   "metadata": {},
   "outputs": [],
   "source": [
    "def get_num_females(x):\n",
    "    gens = x.split(',')\n",
    "    return np.sum([1 for i in gens if i.strip() == 'female'])\n",
    "\n",
    "def get_num_males(x):\n",
    "    gens = x.split(',')\n",
    "    return np.sum([1 for i in gens if i.strip() == 'male'])"
   ]
  },
  {
   "cell_type": "code",
   "execution_count": 134,
   "metadata": {},
   "outputs": [],
   "source": [
    "loans['num_of_females'] = loans['borrower_genders'].apply(get_num_females)"
   ]
  },
  {
   "cell_type": "code",
   "execution_count": 135,
   "metadata": {},
   "outputs": [],
   "source": [
    "loans['num_of_males'] = loans['borrower_genders'].apply(get_num_males)"
   ]
  },
  {
   "cell_type": "code",
   "execution_count": 136,
   "metadata": {},
   "outputs": [],
   "source": [
    "loans['female_pct'] = loans['num_of_females'] / loans['num_of_borrowers']"
   ]
  },
  {
   "cell_type": "code",
   "execution_count": 145,
   "metadata": {},
   "outputs": [
    {
     "data": {
      "text/html": [
       "<div>\n",
       "<style scoped>\n",
       "    .dataframe tbody tr th:only-of-type {\n",
       "        vertical-align: middle;\n",
       "    }\n",
       "\n",
       "    .dataframe tbody tr th {\n",
       "        vertical-align: top;\n",
       "    }\n",
       "\n",
       "    .dataframe thead th {\n",
       "        text-align: right;\n",
       "    }\n",
       "</style>\n",
       "<table border=\"1\" class=\"dataframe\">\n",
       "  <thead>\n",
       "    <tr style=\"text-align: right;\">\n",
       "      <th></th>\n",
       "      <th>posted_day</th>\n",
       "      <th>num_of_borrowers</th>\n",
       "      <th>num_of_females</th>\n",
       "      <th>num_of_males</th>\n",
       "      <th>female_pct</th>\n",
       "    </tr>\n",
       "  </thead>\n",
       "  <tbody>\n",
       "    <tr>\n",
       "      <th>59</th>\n",
       "      <td>Thursday</td>\n",
       "      <td>4</td>\n",
       "      <td>3.0</td>\n",
       "      <td>1.0</td>\n",
       "      <td>0.750000</td>\n",
       "    </tr>\n",
       "    <tr>\n",
       "      <th>88</th>\n",
       "      <td>Thursday</td>\n",
       "      <td>13</td>\n",
       "      <td>12.0</td>\n",
       "      <td>1.0</td>\n",
       "      <td>0.923077</td>\n",
       "    </tr>\n",
       "    <tr>\n",
       "      <th>93</th>\n",
       "      <td>Thursday</td>\n",
       "      <td>12</td>\n",
       "      <td>7.0</td>\n",
       "      <td>5.0</td>\n",
       "      <td>0.583333</td>\n",
       "    </tr>\n",
       "    <tr>\n",
       "      <th>97</th>\n",
       "      <td>Thursday</td>\n",
       "      <td>4</td>\n",
       "      <td>1.0</td>\n",
       "      <td>3.0</td>\n",
       "      <td>0.250000</td>\n",
       "    </tr>\n",
       "    <tr>\n",
       "      <th>157</th>\n",
       "      <td>Thursday</td>\n",
       "      <td>6</td>\n",
       "      <td>5.0</td>\n",
       "      <td>1.0</td>\n",
       "      <td>0.833333</td>\n",
       "    </tr>\n",
       "    <tr>\n",
       "      <th>194</th>\n",
       "      <td>Thursday</td>\n",
       "      <td>7</td>\n",
       "      <td>2.0</td>\n",
       "      <td>5.0</td>\n",
       "      <td>0.285714</td>\n",
       "    </tr>\n",
       "    <tr>\n",
       "      <th>208</th>\n",
       "      <td>Thursday</td>\n",
       "      <td>10</td>\n",
       "      <td>2.0</td>\n",
       "      <td>8.0</td>\n",
       "      <td>0.200000</td>\n",
       "    </tr>\n",
       "    <tr>\n",
       "      <th>216</th>\n",
       "      <td>Thursday</td>\n",
       "      <td>4</td>\n",
       "      <td>3.0</td>\n",
       "      <td>1.0</td>\n",
       "      <td>0.750000</td>\n",
       "    </tr>\n",
       "    <tr>\n",
       "      <th>230</th>\n",
       "      <td>Thursday</td>\n",
       "      <td>9</td>\n",
       "      <td>6.0</td>\n",
       "      <td>3.0</td>\n",
       "      <td>0.666667</td>\n",
       "    </tr>\n",
       "    <tr>\n",
       "      <th>237</th>\n",
       "      <td>Thursday</td>\n",
       "      <td>9</td>\n",
       "      <td>8.0</td>\n",
       "      <td>1.0</td>\n",
       "      <td>0.888889</td>\n",
       "    </tr>\n",
       "  </tbody>\n",
       "</table>\n",
       "</div>"
      ],
      "text/plain": [
       "    posted_day  num_of_borrowers  num_of_females  num_of_males  female_pct\n",
       "59    Thursday                 4             3.0           1.0    0.750000\n",
       "88    Thursday                13            12.0           1.0    0.923077\n",
       "93    Thursday                12             7.0           5.0    0.583333\n",
       "97    Thursday                 4             1.0           3.0    0.250000\n",
       "157   Thursday                 6             5.0           1.0    0.833333\n",
       "194   Thursday                 7             2.0           5.0    0.285714\n",
       "208   Thursday                10             2.0           8.0    0.200000\n",
       "216   Thursday                 4             3.0           1.0    0.750000\n",
       "230   Thursday                 9             6.0           3.0    0.666667\n",
       "237   Thursday                 9             8.0           1.0    0.888889"
      ]
     },
     "execution_count": 145,
     "metadata": {},
     "output_type": "execute_result"
    }
   ],
   "source": [
    "loans[(loans['female_pct'] < 1.0) & (loans['female_pct'] > 0.0)].iloc[:, -5:].head(10)"
   ]
  },
  {
   "cell_type": "code",
   "execution_count": 159,
   "metadata": {},
   "outputs": [],
   "source": [
    "loans['words_in_use'] = loans['use'].str.split(' ').str.len()"
   ]
  },
  {
   "cell_type": "code",
   "execution_count": 155,
   "metadata": {},
   "outputs": [
    {
     "data": {
      "text/plain": [
       "['To', 'buy', 'seasonal,', 'fresh', 'fruits', 'to', 'sell.', '']"
      ]
     },
     "execution_count": 155,
     "metadata": {},
     "output_type": "execute_result"
    }
   ],
   "source": [
    "loans['use'][0].split(' ')"
   ]
  },
  {
   "cell_type": "code",
   "execution_count": 195,
   "metadata": {},
   "outputs": [
    {
     "data": {
      "text/plain": [
       "0                                      []\n",
       "1                                      []\n",
       "2         [user_favorite,  user_favorite]\n",
       "3                                      []\n",
       "4                                      []\n",
       "                       ...               \n",
       "671200                                 []\n",
       "671201                                 []\n",
       "671202                                 []\n",
       "671203                                 []\n",
       "671204                                 []\n",
       "Name: tags, Length: 671205, dtype: object"
      ]
     },
     "execution_count": 195,
     "metadata": {},
     "output_type": "execute_result"
    }
   ],
   "source": [
    "loans['tags'].str.split(',')"
   ]
  },
  {
   "cell_type": "code",
   "execution_count": 198,
   "metadata": {},
   "outputs": [
    {
     "data": {
      "text/plain": [
       "2                           [user_favorite,  user_favorite]\n",
       "6                           [user_favorite,  user_favorite]\n",
       "7                             [#Elderly,  #Woman Owned Biz]\n",
       "8                                           [user_favorite]\n",
       "12                    [#Repeat Borrower,  #Woman Owned Biz]\n",
       "                                ...                        \n",
       "671145    [user_favorite,  #Parent,  #Biz Durable Asset,...\n",
       "671146                                           [#Animals]\n",
       "671147                                           [#Elderly]\n",
       "671148                             [#Health and Sanitation]\n",
       "671149                    [#Parent,  #Repair Renew Replace]\n",
       "Name: tags, Length: 499789, dtype: object"
      ]
     },
     "execution_count": 198,
     "metadata": {},
     "output_type": "execute_result"
    }
   ],
   "source": [
    "#loans['tags'].str.split(',')\n",
    "loans[loans['tags'] != '']['tags'].str.split(',')"
   ]
  },
  {
   "cell_type": "code",
   "execution_count": 199,
   "metadata": {},
   "outputs": [
    {
     "data": {
      "text/plain": [
       "0                                      []\n",
       "1                                      []\n",
       "2         [user_favorite,  user_favorite]\n",
       "3                                      []\n",
       "4                                      []\n",
       "                       ...               \n",
       "671200                                 []\n",
       "671201                                 []\n",
       "671202                                 []\n",
       "671203                                 []\n",
       "671204                                 []\n",
       "Name: tags, Length: 671205, dtype: object"
      ]
     },
     "execution_count": 199,
     "metadata": {},
     "output_type": "execute_result"
    }
   ],
   "source": [
    "loans['tags'].str.split(',')"
   ]
  },
  {
   "cell_type": "code",
   "execution_count": 200,
   "metadata": {},
   "outputs": [],
   "source": [
    "loans['tag_list'] = loans['tags'].str.split(',')"
   ]
  },
  {
   "cell_type": "code",
   "execution_count": 204,
   "metadata": {},
   "outputs": [
    {
     "data": {
      "text/plain": [
       "0                                      []\n",
       "1                                      []\n",
       "2         [user_favorite,  user_favorite]\n",
       "3                                      []\n",
       "4                                      []\n",
       "                       ...               \n",
       "671200                                 []\n",
       "671201                                 []\n",
       "671202                                 []\n",
       "671203                                 []\n",
       "671204                                 []\n",
       "Name: tag_list, Length: 671205, dtype: object"
      ]
     },
     "execution_count": 204,
     "metadata": {},
     "output_type": "execute_result"
    }
   ],
   "source": [
    "loans['tag_list']"
   ]
  },
  {
   "cell_type": "code",
   "execution_count": 219,
   "metadata": {},
   "outputs": [
    {
     "name": "stdout",
     "output_type": "stream",
     "text": [
      "123\n"
     ]
    }
   ],
   "source": [
    "if loans['tag_list'][2][0]:\n",
    "    print(123)\n",
    "else:\n",
    "    print(False)\n",
    "    "
   ]
  },
  {
   "cell_type": "code",
   "execution_count": 216,
   "metadata": {},
   "outputs": [
    {
     "data": {
      "text/plain": [
       "['']"
      ]
     },
     "execution_count": 216,
     "metadata": {},
     "output_type": "execute_result"
    }
   ],
   "source": [
    "loans['tag_list'][0]"
   ]
  },
  {
   "cell_type": "code",
   "execution_count": 220,
   "metadata": {},
   "outputs": [],
   "source": [
    "def tag_len(x):\n",
    "    if x[0]:\n",
    "        return len(x)\n",
    "    else:\n",
    "        return 0\n",
    "    "
   ]
  },
  {
   "cell_type": "code",
   "execution_count": 222,
   "metadata": {},
   "outputs": [],
   "source": [
    "loans['num_of_tags'] = loans['tag_list'].apply(tag_len)"
   ]
  },
  {
   "cell_type": "code",
   "execution_count": 224,
   "metadata": {},
   "outputs": [
    {
     "data": {
      "text/plain": [
       "2                              user_favorite, user_favorite\n",
       "6                              user_favorite, user_favorite\n",
       "7                                #Elderly, #Woman Owned Biz\n",
       "8                                             user_favorite\n",
       "12                       #Repeat Borrower, #Woman Owned Biz\n",
       "                                ...                        \n",
       "671145    user_favorite, #Parent, #Biz Durable Asset, #V...\n",
       "671146                                             #Animals\n",
       "671147                                             #Elderly\n",
       "671148                               #Health and Sanitation\n",
       "671149                       #Parent, #Repair Renew Replace\n",
       "Name: tags, Length: 499789, dtype: object"
      ]
     },
     "execution_count": 224,
     "metadata": {},
     "output_type": "execute_result"
    }
   ],
   "source": [
    "loans[loans['num_of_tags'] != 0]['tags']"
   ]
  },
  {
   "cell_type": "code",
   "execution_count": 225,
   "metadata": {},
   "outputs": [
    {
     "name": "stdout",
     "output_type": "stream",
     "text": [
      "<class 'pandas.core.frame.DataFrame'>\n",
      "RangeIndex: 671205 entries, 0 to 671204\n",
      "Data columns (total 33 columns):\n",
      " #   Column                Non-Null Count   Dtype              \n",
      "---  ------                --------------   -----              \n",
      " 0   id                    671205 non-null  int64              \n",
      " 1   funded_amount         671205 non-null  float64            \n",
      " 2   loan_amount           671205 non-null  float64            \n",
      " 3   activity              671205 non-null  object             \n",
      " 4   sector                671205 non-null  object             \n",
      " 5   use                   671205 non-null  object             \n",
      " 6   country_code          671205 non-null  object             \n",
      " 7   country               671205 non-null  object             \n",
      " 8   region                614405 non-null  object             \n",
      " 9   currency              671205 non-null  object             \n",
      " 10  partner_id            671205 non-null  float64            \n",
      " 11  posted_time           671205 non-null  datetime64[ns, UTC]\n",
      " 12  disbursed_time        668809 non-null  datetime64[ns, UTC]\n",
      " 13  funded_time           671205 non-null  datetime64[ns, UTC]\n",
      " 14  term_in_months        671205 non-null  float64            \n",
      " 15  lender_count          671205 non-null  float64            \n",
      " 16  tags                  671205 non-null  object             \n",
      " 17  borrower_genders      671205 non-null  object             \n",
      " 18  repayment_interval    671205 non-null  object             \n",
      " 19  date                  671205 non-null  datetime64[ns]     \n",
      " 20  time_til_funded       671205 non-null  timedelta64[ns]    \n",
      " 21  time_til_funded_mins  671205 non-null  int64              \n",
      " 22  loan_funded           671205 non-null  int64              \n",
      " 23  partner_on_loan       671205 non-null  int64              \n",
      " 24  posted_hour           671205 non-null  int64              \n",
      " 25  posted_day            671205 non-null  object             \n",
      " 26  num_of_borrowers      671205 non-null  int64              \n",
      " 27  num_of_females        671205 non-null  float64            \n",
      " 28  num_of_males          671205 non-null  float64            \n",
      " 29  female_pct            671205 non-null  float64            \n",
      " 30  words_in_use          671205 non-null  int64              \n",
      " 31  tag_list              671205 non-null  object             \n",
      " 32  num_of_tags           671205 non-null  int64              \n",
      "dtypes: datetime64[ns, UTC](3), datetime64[ns](1), float64(8), int64(8), object(12), timedelta64[ns](1)\n",
      "memory usage: 169.0+ MB\n"
     ]
    }
   ],
   "source": [
    "loans.info()"
   ]
  },
  {
   "cell_type": "code",
   "execution_count": 226,
   "metadata": {},
   "outputs": [
    {
     "data": {
      "text/plain": [
       "id                          0\n",
       "funded_amount               0\n",
       "loan_amount                 0\n",
       "activity                    0\n",
       "sector                      0\n",
       "use                         0\n",
       "country_code                0\n",
       "country                     0\n",
       "region                  56800\n",
       "currency                    0\n",
       "partner_id                  0\n",
       "posted_time                 0\n",
       "disbursed_time           2396\n",
       "funded_time                 0\n",
       "term_in_months              0\n",
       "lender_count                0\n",
       "tags                        0\n",
       "borrower_genders            0\n",
       "repayment_interval          0\n",
       "date                        0\n",
       "time_til_funded             0\n",
       "time_til_funded_mins        0\n",
       "loan_funded                 0\n",
       "partner_on_loan             0\n",
       "posted_hour                 0\n",
       "posted_day                  0\n",
       "num_of_borrowers            0\n",
       "num_of_females              0\n",
       "num_of_males                0\n",
       "female_pct                  0\n",
       "words_in_use                0\n",
       "tag_list                    0\n",
       "num_of_tags                 0\n",
       "dtype: int64"
      ]
     },
     "execution_count": 226,
     "metadata": {},
     "output_type": "execute_result"
    }
   ],
   "source": [
    "loans.isnull().sum()"
   ]
  },
  {
   "cell_type": "code",
   "execution_count": 230,
   "metadata": {},
   "outputs": [
    {
     "data": {
      "text/plain": [
       "0    1.0\n",
       "1    1.0\n",
       "2    1.0\n",
       "3    1.0\n",
       "4    1.0\n",
       "5    1.0\n",
       "6    1.0\n",
       "7    1.0\n",
       "8    1.0\n",
       "9    1.0\n",
       "Name: pct_funded, dtype: float64"
      ]
     },
     "execution_count": 230,
     "metadata": {},
     "output_type": "execute_result"
    }
   ],
   "source": [
    "loans['pct_funded'] = loans['funded_amount'] / loans['loan_amount']\n",
    "loans['pct_funded'][:10]"
   ]
  },
  {
   "cell_type": "code",
   "execution_count": 231,
   "metadata": {},
   "outputs": [
    {
     "data": {
      "text/plain": [
       "Index(['id', 'funded_amount', 'loan_amount', 'activity', 'sector', 'use',\n",
       "       'country_code', 'country', 'region', 'currency', 'partner_id',\n",
       "       'posted_time', 'disbursed_time', 'funded_time', 'term_in_months',\n",
       "       'lender_count', 'tags', 'borrower_genders', 'repayment_interval',\n",
       "       'date', 'time_til_funded', 'time_til_funded_mins', 'loan_funded',\n",
       "       'partner_on_loan', 'posted_hour', 'posted_day', 'num_of_borrowers',\n",
       "       'num_of_females', 'num_of_males', 'female_pct', 'words_in_use',\n",
       "       'tag_list', 'num_of_tags', 'pct_funded'],\n",
       "      dtype='object')"
      ]
     },
     "execution_count": 231,
     "metadata": {},
     "output_type": "execute_result"
    }
   ],
   "source": [
    "loans.columns"
   ]
  },
  {
   "cell_type": "code",
   "execution_count": 233,
   "metadata": {},
   "outputs": [],
   "source": [
    "model_data = loans[['loan_amount', 'activity', 'sector','country', 'currency',\n",
    "       'term_in_months', 'lender_count', 'repayment_interval', \n",
    "       'time_til_funded_mins', 'loan_funded', 'partner_on_loan', \n",
    "       'posted_hour', 'posted_day', 'num_of_borrowers', 'female_pct', \n",
    "       'words_in_use', 'num_of_tags', 'pct_funded']]"
   ]
  },
  {
   "cell_type": "code",
   "execution_count": 234,
   "metadata": {},
   "outputs": [
    {
     "name": "stdout",
     "output_type": "stream",
     "text": [
      "<class 'pandas.core.frame.DataFrame'>\n",
      "RangeIndex: 671205 entries, 0 to 671204\n",
      "Data columns (total 18 columns):\n",
      " #   Column                Non-Null Count   Dtype  \n",
      "---  ------                --------------   -----  \n",
      " 0   loan_amount           671205 non-null  float64\n",
      " 1   activity              671205 non-null  object \n",
      " 2   sector                671205 non-null  object \n",
      " 3   country               671205 non-null  object \n",
      " 4   currency              671205 non-null  object \n",
      " 5   term_in_months        671205 non-null  float64\n",
      " 6   lender_count          671205 non-null  float64\n",
      " 7   repayment_interval    671205 non-null  object \n",
      " 8   time_til_funded_mins  671205 non-null  int64  \n",
      " 9   loan_funded           671205 non-null  int64  \n",
      " 10  partner_on_loan       671205 non-null  int64  \n",
      " 11  posted_hour           671205 non-null  int64  \n",
      " 12  posted_day            671205 non-null  object \n",
      " 13  num_of_borrowers      671205 non-null  int64  \n",
      " 14  female_pct            671205 non-null  float64\n",
      " 15  words_in_use          671205 non-null  int64  \n",
      " 16  num_of_tags           671205 non-null  int64  \n",
      " 17  pct_funded            671205 non-null  float64\n",
      "dtypes: float64(5), int64(7), object(6)\n",
      "memory usage: 92.2+ MB\n"
     ]
    }
   ],
   "source": [
    "model_data.info()"
   ]
  },
  {
   "cell_type": "code",
   "execution_count": 235,
   "metadata": {},
   "outputs": [
    {
     "data": {
      "text/html": [
       "<div>\n",
       "<style scoped>\n",
       "    .dataframe tbody tr th:only-of-type {\n",
       "        vertical-align: middle;\n",
       "    }\n",
       "\n",
       "    .dataframe tbody tr th {\n",
       "        vertical-align: top;\n",
       "    }\n",
       "\n",
       "    .dataframe thead th {\n",
       "        text-align: right;\n",
       "    }\n",
       "</style>\n",
       "<table border=\"1\" class=\"dataframe\">\n",
       "  <thead>\n",
       "    <tr style=\"text-align: right;\">\n",
       "      <th></th>\n",
       "      <th>loan_amount</th>\n",
       "      <th>term_in_months</th>\n",
       "      <th>lender_count</th>\n",
       "      <th>time_til_funded_mins</th>\n",
       "      <th>loan_funded</th>\n",
       "      <th>partner_on_loan</th>\n",
       "      <th>posted_hour</th>\n",
       "      <th>num_of_borrowers</th>\n",
       "      <th>female_pct</th>\n",
       "      <th>words_in_use</th>\n",
       "      <th>num_of_tags</th>\n",
       "      <th>pct_funded</th>\n",
       "    </tr>\n",
       "  </thead>\n",
       "  <tbody>\n",
       "    <tr>\n",
       "      <th>count</th>\n",
       "      <td>671205.000000</td>\n",
       "      <td>671205.000000</td>\n",
       "      <td>671205.000000</td>\n",
       "      <td>6.712050e+05</td>\n",
       "      <td>671205.000000</td>\n",
       "      <td>671205.000000</td>\n",
       "      <td>671205.000000</td>\n",
       "      <td>671205.000000</td>\n",
       "      <td>671205.000000</td>\n",
       "      <td>671205.000000</td>\n",
       "      <td>671205.000000</td>\n",
       "      <td>671205.000000</td>\n",
       "    </tr>\n",
       "    <tr>\n",
       "      <th>mean</th>\n",
       "      <td>842.397107</td>\n",
       "      <td>13.739022</td>\n",
       "      <td>20.590922</td>\n",
       "      <td>-1.724792e+06</td>\n",
       "      <td>0.927992</td>\n",
       "      <td>0.979876</td>\n",
       "      <td>10.170580</td>\n",
       "      <td>2.011953</td>\n",
       "      <td>0.764947</td>\n",
       "      <td>10.550008</td>\n",
       "      <td>2.374951</td>\n",
       "      <td>0.960563</td>\n",
       "    </tr>\n",
       "    <tr>\n",
       "      <th>std</th>\n",
       "      <td>1198.660073</td>\n",
       "      <td>8.598919</td>\n",
       "      <td>28.459551</td>\n",
       "      <td>6.269220e+06</td>\n",
       "      <td>0.258501</td>\n",
       "      <td>0.140423</td>\n",
       "      <td>5.939073</td>\n",
       "      <td>3.403832</td>\n",
       "      <td>0.410038</td>\n",
       "      <td>5.018179</td>\n",
       "      <td>2.213472</td>\n",
       "      <td>0.158867</td>\n",
       "    </tr>\n",
       "    <tr>\n",
       "      <th>min</th>\n",
       "      <td>25.000000</td>\n",
       "      <td>1.000000</td>\n",
       "      <td>0.000000</td>\n",
       "      <td>-2.501751e+07</td>\n",
       "      <td>0.000000</td>\n",
       "      <td>0.000000</td>\n",
       "      <td>0.000000</td>\n",
       "      <td>1.000000</td>\n",
       "      <td>0.000000</td>\n",
       "      <td>1.000000</td>\n",
       "      <td>0.000000</td>\n",
       "      <td>0.000000</td>\n",
       "    </tr>\n",
       "    <tr>\n",
       "      <th>25%</th>\n",
       "      <td>275.000000</td>\n",
       "      <td>8.000000</td>\n",
       "      <td>7.000000</td>\n",
       "      <td>6.190000e+03</td>\n",
       "      <td>1.000000</td>\n",
       "      <td>1.000000</td>\n",
       "      <td>6.000000</td>\n",
       "      <td>1.000000</td>\n",
       "      <td>0.750000</td>\n",
       "      <td>7.000000</td>\n",
       "      <td>0.000000</td>\n",
       "      <td>1.000000</td>\n",
       "    </tr>\n",
       "    <tr>\n",
       "      <th>50%</th>\n",
       "      <td>500.000000</td>\n",
       "      <td>13.000000</td>\n",
       "      <td>13.000000</td>\n",
       "      <td>1.249900e+04</td>\n",
       "      <td>1.000000</td>\n",
       "      <td>1.000000</td>\n",
       "      <td>9.000000</td>\n",
       "      <td>1.000000</td>\n",
       "      <td>1.000000</td>\n",
       "      <td>10.000000</td>\n",
       "      <td>2.000000</td>\n",
       "      <td>1.000000</td>\n",
       "    </tr>\n",
       "    <tr>\n",
       "      <th>75%</th>\n",
       "      <td>1000.000000</td>\n",
       "      <td>14.000000</td>\n",
       "      <td>24.000000</td>\n",
       "      <td>3.034900e+04</td>\n",
       "      <td>1.000000</td>\n",
       "      <td>1.000000</td>\n",
       "      <td>14.000000</td>\n",
       "      <td>1.000000</td>\n",
       "      <td>1.000000</td>\n",
       "      <td>13.000000</td>\n",
       "      <td>4.000000</td>\n",
       "      <td>1.000000</td>\n",
       "    </tr>\n",
       "    <tr>\n",
       "      <th>max</th>\n",
       "      <td>100000.000000</td>\n",
       "      <td>158.000000</td>\n",
       "      <td>2986.000000</td>\n",
       "      <td>6.056250e+05</td>\n",
       "      <td>1.000000</td>\n",
       "      <td>1.000000</td>\n",
       "      <td>23.000000</td>\n",
       "      <td>50.000000</td>\n",
       "      <td>1.000000</td>\n",
       "      <td>436.000000</td>\n",
       "      <td>94.000000</td>\n",
       "      <td>1.133333</td>\n",
       "    </tr>\n",
       "  </tbody>\n",
       "</table>\n",
       "</div>"
      ],
      "text/plain": [
       "         loan_amount  term_in_months   lender_count  time_til_funded_mins  \\\n",
       "count  671205.000000   671205.000000  671205.000000          6.712050e+05   \n",
       "mean      842.397107       13.739022      20.590922         -1.724792e+06   \n",
       "std      1198.660073        8.598919      28.459551          6.269220e+06   \n",
       "min        25.000000        1.000000       0.000000         -2.501751e+07   \n",
       "25%       275.000000        8.000000       7.000000          6.190000e+03   \n",
       "50%       500.000000       13.000000      13.000000          1.249900e+04   \n",
       "75%      1000.000000       14.000000      24.000000          3.034900e+04   \n",
       "max    100000.000000      158.000000    2986.000000          6.056250e+05   \n",
       "\n",
       "         loan_funded  partner_on_loan    posted_hour  num_of_borrowers  \\\n",
       "count  671205.000000    671205.000000  671205.000000     671205.000000   \n",
       "mean        0.927992         0.979876      10.170580          2.011953   \n",
       "std         0.258501         0.140423       5.939073          3.403832   \n",
       "min         0.000000         0.000000       0.000000          1.000000   \n",
       "25%         1.000000         1.000000       6.000000          1.000000   \n",
       "50%         1.000000         1.000000       9.000000          1.000000   \n",
       "75%         1.000000         1.000000      14.000000          1.000000   \n",
       "max         1.000000         1.000000      23.000000         50.000000   \n",
       "\n",
       "          female_pct   words_in_use    num_of_tags     pct_funded  \n",
       "count  671205.000000  671205.000000  671205.000000  671205.000000  \n",
       "mean        0.764947      10.550008       2.374951       0.960563  \n",
       "std         0.410038       5.018179       2.213472       0.158867  \n",
       "min         0.000000       1.000000       0.000000       0.000000  \n",
       "25%         0.750000       7.000000       0.000000       1.000000  \n",
       "50%         1.000000      10.000000       2.000000       1.000000  \n",
       "75%         1.000000      13.000000       4.000000       1.000000  \n",
       "max         1.000000     436.000000      94.000000       1.133333  "
      ]
     },
     "execution_count": 235,
     "metadata": {},
     "output_type": "execute_result"
    }
   ],
   "source": [
    "model_data.describe()"
   ]
  },
  {
   "cell_type": "code",
   "execution_count": 236,
   "metadata": {},
   "outputs": [
    {
     "data": {
      "text/plain": [
       "'C:\\\\Users\\\\afs95\\\\MyPython\\\\KivaLoans'"
      ]
     },
     "execution_count": 236,
     "metadata": {},
     "output_type": "execute_result"
    }
   ],
   "source": [
    "pwd"
   ]
  },
  {
   "cell_type": "code",
   "execution_count": 237,
   "metadata": {},
   "outputs": [],
   "source": [
    "model_data.to_csv('../KivaLoans_data/model_data.csv')"
   ]
  }
 ],
 "metadata": {
  "kernelspec": {
   "display_name": "Python 3",
   "language": "python",
   "name": "python3"
  },
  "language_info": {
   "codemirror_mode": {
    "name": "ipython",
    "version": 3
   },
   "file_extension": ".py",
   "mimetype": "text/x-python",
   "name": "python",
   "nbconvert_exporter": "python",
   "pygments_lexer": "ipython3",
   "version": "3.7.6"
  }
 },
 "nbformat": 4,
 "nbformat_minor": 4
}
