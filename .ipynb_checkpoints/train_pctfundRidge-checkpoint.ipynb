{
 "cells": [
  {
   "cell_type": "code",
   "execution_count": 1,
   "metadata": {},
   "outputs": [],
   "source": [
    "import pandas as pd\n",
    "import numpy as np\n",
    "import matplotlib.pyplot as plt\n",
    "import seaborn as sns\n",
    "%matplotlib inline"
   ]
  },
  {
   "cell_type": "code",
   "execution_count": 2,
   "metadata": {},
   "outputs": [],
   "source": [
    "X = pd.read_csv('../KivaLoans_data/X_matrix2.csv')"
   ]
  },
  {
   "cell_type": "code",
   "execution_count": 3,
   "metadata": {},
   "outputs": [],
   "source": [
    "y = pd.read_csv('../KivaLoans_data/y_matrix2.csv')"
   ]
  },
  {
   "cell_type": "code",
   "execution_count": 4,
   "metadata": {},
   "outputs": [
    {
     "data": {
      "text/plain": [
       "Index(['loan_funded', 'PercentFunded', 'TimetoFundMinutes'], dtype='object')"
      ]
     },
     "execution_count": 4,
     "metadata": {},
     "output_type": "execute_result"
    }
   ],
   "source": [
    "y.columns"
   ]
  },
  {
   "cell_type": "code",
   "execution_count": 5,
   "metadata": {},
   "outputs": [],
   "source": [
    "y = y['PercentFunded']"
   ]
  },
  {
   "cell_type": "code",
   "execution_count": 6,
   "metadata": {},
   "outputs": [],
   "source": [
    "from sklearn.model_selection import train_test_split\n",
    "\n",
    "X_train, X_test, y_train, y_test = train_test_split(X, y, test_size=0.3)"
   ]
  },
  {
   "cell_type": "code",
   "execution_count": 7,
   "metadata": {},
   "outputs": [],
   "source": [
    "from category_encoders import OneHotEncoder\n",
    "from sklearn.preprocessing import StandardScaler\n",
    "from sklearn.pipeline import Pipeline\n",
    "from sklearn.linear_model import Ridge"
   ]
  },
  {
   "cell_type": "code",
   "execution_count": 8,
   "metadata": {},
   "outputs": [],
   "source": [
    "sc = StandardScaler()\n",
    "ohe = OneHotEncoder()\n",
    "ridge = Ridge()"
   ]
  },
  {
   "cell_type": "code",
   "execution_count": 9,
   "metadata": {},
   "outputs": [],
   "source": [
    "ridge_pipe1 = Pipeline([('ohe', ohe), ('sc', sc), ('ridge', ridge)])"
   ]
  },
  {
   "cell_type": "code",
   "execution_count": 18,
   "metadata": {},
   "outputs": [
    {
     "data": {
      "text/plain": [
       "Pipeline(memory=None,\n",
       "         steps=[('ohe',\n",
       "                 OneHotEncoder(cols=['activity', 'sector', 'country',\n",
       "                                     'repayment_interval', 'PostedDayofWeek'],\n",
       "                               drop_invariant=False, handle_missing='value',\n",
       "                               handle_unknown='value', return_df=True,\n",
       "                               use_cat_names=False, verbose=0)),\n",
       "                ('sc',\n",
       "                 StandardScaler(copy=True, with_mean=True, with_std=True)),\n",
       "                ('ridge',\n",
       "                 Ridge(alpha=1.0, copy_X=True, fit_intercept=True,\n",
       "                       max_iter=None, normalize=False, random_state=None,\n",
       "                       solver='auto', tol=0.001))],\n",
       "         verbose=False)"
      ]
     },
     "execution_count": 18,
     "metadata": {},
     "output_type": "execute_result"
    }
   ],
   "source": [
    "ridge_pipe1.fit(X_train, y_train)"
   ]
  },
  {
   "cell_type": "code",
   "execution_count": 19,
   "metadata": {},
   "outputs": [],
   "source": [
    "predicts1 = ridge_pipe1.predict(X_test)"
   ]
  },
  {
   "cell_type": "code",
   "execution_count": 20,
   "metadata": {},
   "outputs": [
    {
     "data": {
      "text/plain": [
       "0.1996005706923204"
      ]
     },
     "execution_count": 20,
     "metadata": {},
     "output_type": "execute_result"
    }
   ],
   "source": [
    "ridge_pipe1.score(X_test, y_test)"
   ]
  },
  {
   "cell_type": "code",
   "execution_count": 12,
   "metadata": {},
   "outputs": [
    {
     "name": "stdout",
     "output_type": "stream",
     "text": [
      "0.001\n",
      "{'alpha': 0.001, 'copy_X': True, 'fit_intercept': True, 'max_iter': None, 'normalize': False, 'random_state': None, 'solver': 'auto', 'tol': 0.001}\n",
      "0.005\n",
      "{'alpha': 0.005, 'copy_X': True, 'fit_intercept': True, 'max_iter': None, 'normalize': False, 'random_state': None, 'solver': 'auto', 'tol': 0.001}\n",
      "0.01\n",
      "{'alpha': 0.01, 'copy_X': True, 'fit_intercept': True, 'max_iter': None, 'normalize': False, 'random_state': None, 'solver': 'auto', 'tol': 0.001}\n",
      "0.05\n",
      "{'alpha': 0.05, 'copy_X': True, 'fit_intercept': True, 'max_iter': None, 'normalize': False, 'random_state': None, 'solver': 'auto', 'tol': 0.001}\n",
      "0.1\n",
      "{'alpha': 0.1, 'copy_X': True, 'fit_intercept': True, 'max_iter': None, 'normalize': False, 'random_state': None, 'solver': 'auto', 'tol': 0.001}\n",
      "0.5\n",
      "{'alpha': 0.5, 'copy_X': True, 'fit_intercept': True, 'max_iter': None, 'normalize': False, 'random_state': None, 'solver': 'auto', 'tol': 0.001}\n",
      "1.0\n",
      "{'alpha': 1.0, 'copy_X': True, 'fit_intercept': True, 'max_iter': None, 'normalize': False, 'random_state': None, 'solver': 'auto', 'tol': 0.001}\n"
     ]
    }
   ],
   "source": [
    "# from sklearn.model_selection import cross_val_score\n",
    "# alphas = [0.001, 0.005, 0.01, 0.05, 0.1, 0.5, 1.0]\n",
    "# cross_scores = []\n",
    "# for a in alphas:\n",
    "#     print(a)\n",
    "#     ridge_pipe1.steps[-1][1].set_params(alpha=a)\n",
    "#     print(ridge_pipe1.steps[-1][1].get_params())\n",
    "#     scores = cross_val_score(ridge_pipe1, X_train, y_train, cv=10, n_jobs=3)\n",
    "#     cross_scores.append((np.mean(scores), np.median(scores), np.std(scores), a))"
   ]
  },
  {
   "cell_type": "code",
   "execution_count": 23,
   "metadata": {},
   "outputs": [
    {
     "data": {
      "text/plain": [
       "[(0.19479582610963148, 0.19320724202369682, 0.006018019179656179, 0.001),\n",
       " (0.19479582506008777, 0.19320724281739438, 0.00601801727325005, 0.005),\n",
       " (0.19479582507848553, 0.19320724380951476, 0.0060180163221709194, 0.01),\n",
       " (0.19479582628749106, 0.19320725174641773, 0.006018009855730759, 0.05),\n",
       " (0.19479582793154812, 0.19320726166739527, 0.006018001915781916, 0.1),\n",
       " (0.19479584118494353, 0.19320734102916326, 0.006017938511670251, 0.5),\n",
       " (0.1947958577516772, 0.19320744021624459, 0.006017859273536571, 1.0)]"
      ]
     },
     "execution_count": 23,
     "metadata": {},
     "output_type": "execute_result"
    }
   ],
   "source": [
    "cross_scores"
   ]
  },
  {
   "cell_type": "code",
   "execution_count": 24,
   "metadata": {},
   "outputs": [
    {
     "data": {
      "text/plain": [
       "Pipeline(memory=None,\n",
       "         steps=[('ohe',\n",
       "                 OneHotEncoder(cols=['activity', 'sector', 'country',\n",
       "                                     'repayment_interval', 'PostedDayofWeek'],\n",
       "                               drop_invariant=False, handle_missing='value',\n",
       "                               handle_unknown='value', return_df=True,\n",
       "                               use_cat_names=False, verbose=0)),\n",
       "                ('sc',\n",
       "                 StandardScaler(copy=True, with_mean=True, with_std=True)),\n",
       "                ('ridge',\n",
       "                 Ridge(alpha=1.0, copy_X=True, fit_intercept=True,\n",
       "                       max_iter=None, normalize=False, random_state=None,\n",
       "                       solver='auto', tol=0.001))],\n",
       "         verbose=False)"
      ]
     },
     "execution_count": 24,
     "metadata": {},
     "output_type": "execute_result"
    }
   ],
   "source": [
    "ridge_pipe1"
   ]
  },
  {
   "cell_type": "code",
   "execution_count": 26,
   "metadata": {},
   "outputs": [
    {
     "data": {
      "text/plain": [
       "Ridge(alpha=0.001, copy_X=True, fit_intercept=True, max_iter=None,\n",
       "      normalize=False, random_state=None, solver='auto', tol=0.001)"
      ]
     },
     "execution_count": 26,
     "metadata": {},
     "output_type": "execute_result"
    }
   ],
   "source": [
    "ridge_pipe1.steps[-1][1].set_params(alpha=alphas[0])"
   ]
  },
  {
   "cell_type": "code",
   "execution_count": 10,
   "metadata": {},
   "outputs": [],
   "source": [
    "from sklearn.model_selection import GridSearchCV"
   ]
  },
  {
   "cell_type": "code",
   "execution_count": 11,
   "metadata": {},
   "outputs": [],
   "source": [
    "params1 = {\n",
    "    'ridge__alpha': [0.001, 0.005, 0.01, 0.05, 0.1, 0.5, 1.0]\n",
    "} "
   ]
  },
  {
   "cell_type": "code",
   "execution_count": 15,
   "metadata": {},
   "outputs": [],
   "source": [
    "from sklearn.metrics import SCORERS\n",
    "\n",
    "SCORERS.keys()"
   ]
  },
  {
   "cell_type": "code",
   "execution_count": 16,
   "metadata": {},
   "outputs": [
    {
     "name": "stdout",
     "output_type": "stream",
     "text": [
      "Fitting 5 folds for each of 7 candidates, totalling 35 fits\n"
     ]
    },
    {
     "name": "stderr",
     "output_type": "stream",
     "text": [
      "[Parallel(n_jobs=3)]: Using backend LokyBackend with 3 concurrent workers.\n",
      "[Parallel(n_jobs=3)]: Done  35 out of  35 | elapsed:  5.7min finished\n"
     ]
    },
    {
     "data": {
      "text/plain": [
       "GridSearchCV(cv=5, error_score=nan,\n",
       "             estimator=Pipeline(memory=None,\n",
       "                                steps=[('ohe',\n",
       "                                        OneHotEncoder(cols=None,\n",
       "                                                      drop_invariant=False,\n",
       "                                                      handle_missing='value',\n",
       "                                                      handle_unknown='value',\n",
       "                                                      return_df=True,\n",
       "                                                      use_cat_names=False,\n",
       "                                                      verbose=0)),\n",
       "                                       ('sc',\n",
       "                                        StandardScaler(copy=True,\n",
       "                                                       with_mean=True,\n",
       "                                                       with_std=True)),\n",
       "                                       ('ridge',\n",
       "                                        Ridge(alpha=1.0, copy_X=True,\n",
       "                                              fit_intercept=True, max_iter=None,\n",
       "                                              normalize=False,\n",
       "                                              random_state=None, solver='auto',\n",
       "                                              tol=0.001))],\n",
       "                                verbose=False),\n",
       "             iid='deprecated', n_jobs=3,\n",
       "             param_grid={'ridge__alpha': [0.001, 0.005, 0.01, 0.05, 0.1, 0.5,\n",
       "                                          1.0]},\n",
       "             pre_dispatch='2*n_jobs', refit=True, return_train_score=False,\n",
       "             scoring='r2', verbose=1)"
      ]
     },
     "execution_count": 16,
     "metadata": {},
     "output_type": "execute_result"
    }
   ],
   "source": [
    "gsearch1  = GridSearchCV(ridge_pipe1, params1, scoring='r2', cv=5, verbose=1, n_jobs=3)\n",
    "\n",
    "gsearch1.fit(X_train, y_train)"
   ]
  },
  {
   "cell_type": "code",
   "execution_count": 24,
   "metadata": {},
   "outputs": [
    {
     "data": {
      "text/plain": [
       "({'ridge__alpha': 1.0}, 0.19552823844916384)"
      ]
     },
     "execution_count": 24,
     "metadata": {},
     "output_type": "execute_result"
    }
   ],
   "source": [
    "gsearch1.best_params_, gsearch1.best_score_"
   ]
  },
  {
   "cell_type": "code",
   "execution_count": 26,
   "metadata": {},
   "outputs": [
    {
     "data": {
      "text/plain": [
       "0.19745480034247553"
      ]
     },
     "execution_count": 26,
     "metadata": {},
     "output_type": "execute_result"
    }
   ],
   "source": [
    "gsearch1.score(X_test, y_test)"
   ]
  },
  {
   "cell_type": "code",
   "execution_count": 21,
   "metadata": {},
   "outputs": [
    {
     "data": {
      "text/html": [
       "<div>\n",
       "<style scoped>\n",
       "    .dataframe tbody tr th:only-of-type {\n",
       "        vertical-align: middle;\n",
       "    }\n",
       "\n",
       "    .dataframe tbody tr th {\n",
       "        vertical-align: top;\n",
       "    }\n",
       "\n",
       "    .dataframe thead th {\n",
       "        text-align: right;\n",
       "    }\n",
       "</style>\n",
       "<table border=\"1\" class=\"dataframe\">\n",
       "  <thead>\n",
       "    <tr style=\"text-align: right;\">\n",
       "      <th></th>\n",
       "      <th>mean_fit_time</th>\n",
       "      <th>std_fit_time</th>\n",
       "      <th>mean_score_time</th>\n",
       "      <th>std_score_time</th>\n",
       "      <th>param_ridge__alpha</th>\n",
       "      <th>params</th>\n",
       "      <th>split0_test_score</th>\n",
       "      <th>split1_test_score</th>\n",
       "      <th>split2_test_score</th>\n",
       "      <th>split3_test_score</th>\n",
       "      <th>split4_test_score</th>\n",
       "      <th>mean_test_score</th>\n",
       "      <th>std_test_score</th>\n",
       "      <th>rank_test_score</th>\n",
       "    </tr>\n",
       "  </thead>\n",
       "  <tbody>\n",
       "    <tr>\n",
       "      <th>0</th>\n",
       "      <td>24.904868</td>\n",
       "      <td>0.329699</td>\n",
       "      <td>3.148364</td>\n",
       "      <td>0.107722</td>\n",
       "      <td>0.001</td>\n",
       "      <td>{'ridge__alpha': 0.001}</td>\n",
       "      <td>0.194390</td>\n",
       "      <td>0.198085</td>\n",
       "      <td>0.193140</td>\n",
       "      <td>0.197786</td>\n",
       "      <td>0.194239</td>\n",
       "      <td>0.195528</td>\n",
       "      <td>0.002015</td>\n",
       "      <td>5</td>\n",
       "    </tr>\n",
       "    <tr>\n",
       "      <th>1</th>\n",
       "      <td>26.803931</td>\n",
       "      <td>1.140672</td>\n",
       "      <td>3.038581</td>\n",
       "      <td>0.168099</td>\n",
       "      <td>0.005</td>\n",
       "      <td>{'ridge__alpha': 0.005}</td>\n",
       "      <td>0.194390</td>\n",
       "      <td>0.198085</td>\n",
       "      <td>0.193140</td>\n",
       "      <td>0.197786</td>\n",
       "      <td>0.194239</td>\n",
       "      <td>0.195528</td>\n",
       "      <td>0.002015</td>\n",
       "      <td>7</td>\n",
       "    </tr>\n",
       "    <tr>\n",
       "      <th>2</th>\n",
       "      <td>25.813001</td>\n",
       "      <td>0.102798</td>\n",
       "      <td>3.047199</td>\n",
       "      <td>0.135150</td>\n",
       "      <td>0.01</td>\n",
       "      <td>{'ridge__alpha': 0.01}</td>\n",
       "      <td>0.194390</td>\n",
       "      <td>0.198085</td>\n",
       "      <td>0.193140</td>\n",
       "      <td>0.197786</td>\n",
       "      <td>0.194239</td>\n",
       "      <td>0.195528</td>\n",
       "      <td>0.002015</td>\n",
       "      <td>6</td>\n",
       "    </tr>\n",
       "    <tr>\n",
       "      <th>3</th>\n",
       "      <td>25.672676</td>\n",
       "      <td>0.678932</td>\n",
       "      <td>3.003443</td>\n",
       "      <td>0.062036</td>\n",
       "      <td>0.05</td>\n",
       "      <td>{'ridge__alpha': 0.05}</td>\n",
       "      <td>0.194390</td>\n",
       "      <td>0.198085</td>\n",
       "      <td>0.193140</td>\n",
       "      <td>0.197786</td>\n",
       "      <td>0.194239</td>\n",
       "      <td>0.195528</td>\n",
       "      <td>0.002015</td>\n",
       "      <td>4</td>\n",
       "    </tr>\n",
       "    <tr>\n",
       "      <th>4</th>\n",
       "      <td>24.719353</td>\n",
       "      <td>0.434770</td>\n",
       "      <td>3.079887</td>\n",
       "      <td>0.238288</td>\n",
       "      <td>0.1</td>\n",
       "      <td>{'ridge__alpha': 0.1}</td>\n",
       "      <td>0.194390</td>\n",
       "      <td>0.198085</td>\n",
       "      <td>0.193140</td>\n",
       "      <td>0.197786</td>\n",
       "      <td>0.194239</td>\n",
       "      <td>0.195528</td>\n",
       "      <td>0.002014</td>\n",
       "      <td>3</td>\n",
       "    </tr>\n",
       "    <tr>\n",
       "      <th>5</th>\n",
       "      <td>24.677048</td>\n",
       "      <td>0.132561</td>\n",
       "      <td>2.915933</td>\n",
       "      <td>0.126550</td>\n",
       "      <td>0.5</td>\n",
       "      <td>{'ridge__alpha': 0.5}</td>\n",
       "      <td>0.194391</td>\n",
       "      <td>0.198085</td>\n",
       "      <td>0.193140</td>\n",
       "      <td>0.197786</td>\n",
       "      <td>0.194239</td>\n",
       "      <td>0.195528</td>\n",
       "      <td>0.002014</td>\n",
       "      <td>2</td>\n",
       "    </tr>\n",
       "    <tr>\n",
       "      <th>6</th>\n",
       "      <td>23.603696</td>\n",
       "      <td>1.567773</td>\n",
       "      <td>2.848712</td>\n",
       "      <td>0.299635</td>\n",
       "      <td>1</td>\n",
       "      <td>{'ridge__alpha': 1.0}</td>\n",
       "      <td>0.194391</td>\n",
       "      <td>0.198085</td>\n",
       "      <td>0.193141</td>\n",
       "      <td>0.197786</td>\n",
       "      <td>0.194239</td>\n",
       "      <td>0.195528</td>\n",
       "      <td>0.002014</td>\n",
       "      <td>1</td>\n",
       "    </tr>\n",
       "  </tbody>\n",
       "</table>\n",
       "</div>"
      ],
      "text/plain": [
       "   mean_fit_time  std_fit_time  mean_score_time  std_score_time  \\\n",
       "0      24.904868      0.329699         3.148364        0.107722   \n",
       "1      26.803931      1.140672         3.038581        0.168099   \n",
       "2      25.813001      0.102798         3.047199        0.135150   \n",
       "3      25.672676      0.678932         3.003443        0.062036   \n",
       "4      24.719353      0.434770         3.079887        0.238288   \n",
       "5      24.677048      0.132561         2.915933        0.126550   \n",
       "6      23.603696      1.567773         2.848712        0.299635   \n",
       "\n",
       "  param_ridge__alpha                   params  split0_test_score  \\\n",
       "0              0.001  {'ridge__alpha': 0.001}           0.194390   \n",
       "1              0.005  {'ridge__alpha': 0.005}           0.194390   \n",
       "2               0.01   {'ridge__alpha': 0.01}           0.194390   \n",
       "3               0.05   {'ridge__alpha': 0.05}           0.194390   \n",
       "4                0.1    {'ridge__alpha': 0.1}           0.194390   \n",
       "5                0.5    {'ridge__alpha': 0.5}           0.194391   \n",
       "6                  1    {'ridge__alpha': 1.0}           0.194391   \n",
       "\n",
       "   split1_test_score  split2_test_score  split3_test_score  split4_test_score  \\\n",
       "0           0.198085           0.193140           0.197786           0.194239   \n",
       "1           0.198085           0.193140           0.197786           0.194239   \n",
       "2           0.198085           0.193140           0.197786           0.194239   \n",
       "3           0.198085           0.193140           0.197786           0.194239   \n",
       "4           0.198085           0.193140           0.197786           0.194239   \n",
       "5           0.198085           0.193140           0.197786           0.194239   \n",
       "6           0.198085           0.193141           0.197786           0.194239   \n",
       "\n",
       "   mean_test_score  std_test_score  rank_test_score  \n",
       "0         0.195528        0.002015                5  \n",
       "1         0.195528        0.002015                7  \n",
       "2         0.195528        0.002015                6  \n",
       "3         0.195528        0.002015                4  \n",
       "4         0.195528        0.002014                3  \n",
       "5         0.195528        0.002014                2  \n",
       "6         0.195528        0.002014                1  "
      ]
     },
     "execution_count": 21,
     "metadata": {},
     "output_type": "execute_result"
    }
   ],
   "source": [
    "pd.DataFrame(gsearch1.cv_results_)"
   ]
  },
  {
   "cell_type": "code",
   "execution_count": 22,
   "metadata": {},
   "outputs": [],
   "source": [
    "params2 = {\n",
    "    'ridge__alpha': [1.0, 1.5, 2.0, 2.5, 3.0]\n",
    "} "
   ]
  },
  {
   "cell_type": "code",
   "execution_count": 23,
   "metadata": {},
   "outputs": [
    {
     "name": "stdout",
     "output_type": "stream",
     "text": [
      "Fitting 5 folds for each of 5 candidates, totalling 25 fits\n"
     ]
    },
    {
     "name": "stderr",
     "output_type": "stream",
     "text": [
      "[Parallel(n_jobs=3)]: Using backend LokyBackend with 3 concurrent workers.\n",
      "[Parallel(n_jobs=3)]: Done  25 out of  25 | elapsed:  4.2min finished\n"
     ]
    },
    {
     "data": {
      "text/plain": [
       "GridSearchCV(cv=5, error_score=nan,\n",
       "             estimator=Pipeline(memory=None,\n",
       "                                steps=[('ohe',\n",
       "                                        OneHotEncoder(cols=None,\n",
       "                                                      drop_invariant=False,\n",
       "                                                      handle_missing='value',\n",
       "                                                      handle_unknown='value',\n",
       "                                                      return_df=True,\n",
       "                                                      use_cat_names=False,\n",
       "                                                      verbose=0)),\n",
       "                                       ('sc',\n",
       "                                        StandardScaler(copy=True,\n",
       "                                                       with_mean=True,\n",
       "                                                       with_std=True)),\n",
       "                                       ('ridge',\n",
       "                                        Ridge(alpha=1.0, copy_X=True,\n",
       "                                              fit_intercept=True, max_iter=None,\n",
       "                                              normalize=False,\n",
       "                                              random_state=None, solver='auto',\n",
       "                                              tol=0.001))],\n",
       "                                verbose=False),\n",
       "             iid='deprecated', n_jobs=3,\n",
       "             param_grid={'ridge__alpha': [1.0, 1.5, 2.0, 2.5, 3.0]},\n",
       "             pre_dispatch='2*n_jobs', refit=True, return_train_score=False,\n",
       "             scoring='r2', verbose=1)"
      ]
     },
     "execution_count": 23,
     "metadata": {},
     "output_type": "execute_result"
    }
   ],
   "source": [
    "gsearch2  = GridSearchCV(ridge_pipe1, params2, scoring='r2', cv=5, verbose=1, n_jobs=3)\n",
    "\n",
    "gsearch2.fit(X_train, y_train)"
   ]
  },
  {
   "cell_type": "code",
   "execution_count": 27,
   "metadata": {},
   "outputs": [
    {
     "data": {
      "text/plain": [
       "({'ridge__alpha': 3.0}, 0.1955283062034211)"
      ]
     },
     "execution_count": 27,
     "metadata": {},
     "output_type": "execute_result"
    }
   ],
   "source": [
    "gsearch2.best_params_, gsearch2.best_score_"
   ]
  },
  {
   "cell_type": "code",
   "execution_count": 29,
   "metadata": {},
   "outputs": [
    {
     "data": {
      "text/plain": [
       "0.19745447087802337"
      ]
     },
     "execution_count": 29,
     "metadata": {},
     "output_type": "execute_result"
    }
   ],
   "source": [
    "gsearch2.best_estimator_.score(X_test, y_test)"
   ]
  },
  {
   "cell_type": "code",
   "execution_count": 34,
   "metadata": {},
   "outputs": [
    {
     "data": {
      "text/plain": [
       "Ridge(alpha=3.0, copy_X=True, fit_intercept=True, max_iter=None,\n",
       "      normalize=False, random_state=None, solver='auto', tol=0.001)"
      ]
     },
     "execution_count": 34,
     "metadata": {},
     "output_type": "execute_result"
    }
   ],
   "source": [
    "ridge_pipe1.steps[-1][1].set_params(alpha=3.0)"
   ]
  },
  {
   "cell_type": "code",
   "execution_count": 36,
   "metadata": {},
   "outputs": [
    {
     "data": {
      "text/plain": [
       "Pipeline(memory=None,\n",
       "         steps=[('ohe',\n",
       "                 OneHotEncoder(cols=['activity', 'sector', 'country',\n",
       "                                     'repayment_interval', 'PostedDayofWeek'],\n",
       "                               drop_invariant=False, handle_missing='value',\n",
       "                               handle_unknown='value', return_df=True,\n",
       "                               use_cat_names=False, verbose=0)),\n",
       "                ('sc',\n",
       "                 StandardScaler(copy=True, with_mean=True, with_std=True)),\n",
       "                ('ridge',\n",
       "                 Ridge(alpha=3.0, copy_X=True, fit_intercept=True,\n",
       "                       max_iter=None, normalize=False, random_state=None,\n",
       "                       solver='auto', tol=0.001))],\n",
       "         verbose=False)"
      ]
     },
     "execution_count": 36,
     "metadata": {},
     "output_type": "execute_result"
    }
   ],
   "source": [
    "ridge_pipe1.fit(X_train, y_train)"
   ]
  },
  {
   "cell_type": "code",
   "execution_count": 38,
   "metadata": {},
   "outputs": [
    {
     "data": {
      "text/plain": [
       "0.19745447087802337"
      ]
     },
     "execution_count": 38,
     "metadata": {},
     "output_type": "execute_result"
    }
   ],
   "source": [
    "ridge_pipe1.score(X_test, y_test)"
   ]
  },
  {
   "cell_type": "code",
   "execution_count": 39,
   "metadata": {},
   "outputs": [],
   "source": [
    "import pickle\n",
    "\n",
    "with open('ridge_pct.pickle', 'wb') as f:\n",
    "    pickle.dump(ridge_pipe1, f)"
   ]
  },
  {
   "cell_type": "code",
   "execution_count": null,
   "metadata": {},
   "outputs": [],
   "source": []
  }
 ],
 "metadata": {
  "kernelspec": {
   "display_name": "Python 3",
   "language": "python",
   "name": "python3"
  },
  "language_info": {
   "codemirror_mode": {
    "name": "ipython",
    "version": 3
   },
   "file_extension": ".py",
   "mimetype": "text/x-python",
   "name": "python",
   "nbconvert_exporter": "python",
   "pygments_lexer": "ipython3",
   "version": "3.7.6"
  }
 },
 "nbformat": 4,
 "nbformat_minor": 4
}
