{
 "cells": [
  {
   "cell_type": "code",
   "execution_count": 1,
   "metadata": {},
   "outputs": [],
   "source": [
    "import pandas as pd\n",
    "import numpy as np\n",
    "import matplotlib.pyplot as plt\n",
    "import seaborn as sns\n",
    "from utils import plot_confusion_matrix\n",
    "%matplotlib inline"
   ]
  },
  {
   "cell_type": "code",
   "execution_count": 22,
   "metadata": {},
   "outputs": [],
   "source": [
    "X = pd.read_csv('../KivaLoans_data/X_matrix.csv')\n",
    "\n",
    "X.drop('Unnamed: 0', axis=1, inplace=True)"
   ]
  },
  {
   "cell_type": "code",
   "execution_count": 23,
   "metadata": {},
   "outputs": [],
   "source": [
    "y = pd.read_csv('../KivaLoans_data/y_matrix.csv')"
   ]
  },
  {
   "cell_type": "code",
   "execution_count": 24,
   "metadata": {},
   "outputs": [
    {
     "data": {
      "text/plain": [
       "Index(['Unnamed: 0', 'loan_funded', 'pct_funded', 'time_til_funded_mins'], dtype='object')"
      ]
     },
     "execution_count": 24,
     "metadata": {},
     "output_type": "execute_result"
    }
   ],
   "source": [
    "y.columns"
   ]
  },
  {
   "cell_type": "code",
   "execution_count": 25,
   "metadata": {},
   "outputs": [],
   "source": [
    "not_funded = y['loan_funded']"
   ]
  },
  {
   "cell_type": "code",
   "execution_count": 26,
   "metadata": {},
   "outputs": [],
   "source": [
    "y = y['pct_funded']"
   ]
  },
  {
   "cell_type": "code",
   "execution_count": 27,
   "metadata": {},
   "outputs": [
    {
     "data": {
      "text/plain": [
       "RangeIndex(start=0, stop=671205, step=1)"
      ]
     },
     "execution_count": 27,
     "metadata": {},
     "output_type": "execute_result"
    }
   ],
   "source": [
    "X.index"
   ]
  },
  {
   "cell_type": "code",
   "execution_count": 28,
   "metadata": {},
   "outputs": [
    {
     "data": {
      "text/plain": [
       "RangeIndex(start=0, stop=671205, step=1)"
      ]
     },
     "execution_count": 28,
     "metadata": {},
     "output_type": "execute_result"
    }
   ],
   "source": [
    "y.index"
   ]
  },
  {
   "cell_type": "code",
   "execution_count": 29,
   "metadata": {},
   "outputs": [
    {
     "data": {
      "text/plain": [
       "(48332,)"
      ]
     },
     "execution_count": 29,
     "metadata": {},
     "output_type": "execute_result"
    }
   ],
   "source": [
    "not_funded_index = not_funded[not_funded == 0].index\n",
    "not_funded_index.shape"
   ]
  },
  {
   "cell_type": "code",
   "execution_count": 30,
   "metadata": {},
   "outputs": [],
   "source": [
    "X = X.iloc[not_funded_index]\n",
    "y = y[not_funded_index]"
   ]
  },
  {
   "cell_type": "code",
   "execution_count": 31,
   "metadata": {},
   "outputs": [
    {
     "data": {
      "text/plain": [
       "(48332, 15)"
      ]
     },
     "execution_count": 31,
     "metadata": {},
     "output_type": "execute_result"
    }
   ],
   "source": [
    "X.shape"
   ]
  },
  {
   "cell_type": "code",
   "execution_count": 32,
   "metadata": {},
   "outputs": [],
   "source": [
    "from sklearn.model_selection import train_test_split\n",
    "\n",
    "X_train, X_test, y_train, y_test = train_test_split(X, y, test_size=0.3)"
   ]
  },
  {
   "cell_type": "code",
   "execution_count": 33,
   "metadata": {},
   "outputs": [
    {
     "data": {
      "text/plain": [
       "(33832, 15)"
      ]
     },
     "execution_count": 33,
     "metadata": {},
     "output_type": "execute_result"
    }
   ],
   "source": [
    "X_train.shape"
   ]
  },
  {
   "cell_type": "code",
   "execution_count": 36,
   "metadata": {},
   "outputs": [],
   "source": [
    "from category_encoders import OneHotEncoder\n",
    "from sklearn.preprocessing import StandardScaler\n",
    "from sklearn.pipeline import Pipeline\n",
    "from sklearn.linear_model import Ridge, Lasso"
   ]
  },
  {
   "cell_type": "code",
   "execution_count": 37,
   "metadata": {},
   "outputs": [],
   "source": [
    "sc = StandardScaler()\n",
    "ohe = OneHotEncoder()\n",
    "lasso = Lasso()\n",
    "ridge = Ridge()"
   ]
  },
  {
   "cell_type": "code",
   "execution_count": 39,
   "metadata": {},
   "outputs": [],
   "source": [
    "lasso_pipe1 = Pipeline([('ohe', ohe), ('sc', sc), ('lasso', lasso)])\n",
    "ridge_pipe1 = Pipeline([('ohe', ohe), ('sc', sc), ('ridge', ridge)])"
   ]
  },
  {
   "cell_type": "code",
   "execution_count": 40,
   "metadata": {},
   "outputs": [
    {
     "data": {
      "text/plain": [
       "Pipeline(memory=None,\n",
       "         steps=[('ohe',\n",
       "                 OneHotEncoder(cols=['activity', 'sector', 'country',\n",
       "                                     'currency', 'repayment_interval',\n",
       "                                     'posted_day'],\n",
       "                               drop_invariant=False, handle_missing='value',\n",
       "                               handle_unknown='value', return_df=True,\n",
       "                               use_cat_names=False, verbose=0)),\n",
       "                ('sc',\n",
       "                 StandardScaler(copy=True, with_mean=True, with_std=True)),\n",
       "                ('lasso',\n",
       "                 Lasso(alpha=1.0, copy_X=True, fit_intercept=True,\n",
       "                       max_iter=1000, normalize=False, positive=False,\n",
       "                       precompute=False, random_state=None, selection='cyclic',\n",
       "                       tol=0.0001, warm_start=False))],\n",
       "         verbose=False)"
      ]
     },
     "execution_count": 40,
     "metadata": {},
     "output_type": "execute_result"
    }
   ],
   "source": [
    "lasso_pipe1.fit(X_train, y_train)"
   ]
  },
  {
   "cell_type": "code",
   "execution_count": 41,
   "metadata": {},
   "outputs": [],
   "source": [
    "lass_preds1 = lasso_pipe1.predict(X_test)"
   ]
  },
  {
   "cell_type": "code",
   "execution_count": 42,
   "metadata": {},
   "outputs": [
    {
     "data": {
      "text/plain": [
       "-7.378318352158075e-05"
      ]
     },
     "execution_count": 42,
     "metadata": {},
     "output_type": "execute_result"
    }
   ],
   "source": [
    "lasso_pipe1.score(X_test, y_test)"
   ]
  },
  {
   "cell_type": "code",
   "execution_count": 44,
   "metadata": {},
   "outputs": [
    {
     "data": {
      "text/plain": [
       "array([-0., -0.,  0., -0., -0.,  0.,  0., -0.,  0., -0.,  0.,  0.,  0.,\n",
       "        0.,  0., -0., -0.,  0.,  0., -0.,  0.,  0., -0., -0.,  0.,  0.,\n",
       "        0., -0.,  0.,  0.,  0.,  0., -0.,  0.,  0.,  0., -0.,  0.,  0.,\n",
       "        0., -0., -0., -0.,  0., -0.,  0.,  0.,  0.,  0.,  0., -0.,  0.,\n",
       "        0.,  0.,  0.,  0., -0., -0., -0.,  0., -0.,  0.,  0.,  0.,  0.,\n",
       "        0.,  0., -0., -0.,  0., -0., -0.,  0., -0., -0.,  0., -0.,  0.,\n",
       "       -0.,  0.,  0.,  0.,  0., -0., -0.,  0., -0.,  0., -0.,  0., -0.,\n",
       "       -0., -0.,  0., -0., -0., -0.,  0.,  0.,  0.,  0., -0.,  0., -0.,\n",
       "       -0.,  0.,  0., -0.,  0., -0., -0., -0., -0., -0.,  0., -0.,  0.,\n",
       "        0., -0., -0.,  0.,  0.,  0., -0.,  0., -0.,  0., -0., -0., -0.,\n",
       "       -0.,  0., -0., -0.,  0.,  0.,  0.,  0., -0., -0., -0.,  0.,  0.,\n",
       "       -0.,  0., -0., -0.,  0.,  0.,  0.,  0., -0., -0., -0., -0., -0.,\n",
       "       -0.,  0.,  0.,  0., -0., -0.,  0., -0.,  0.,  0.,  0.,  0.,  0.,\n",
       "        0.,  0.,  0.,  0.,  0., -0., -0.,  0.,  0., -0., -0., -0.,  0.,\n",
       "       -0., -0.,  0.,  0.,  0., -0.,  0.,  0.,  0., -0., -0., -0.,  0.,\n",
       "        0.,  0., -0., -0., -0., -0.,  0.,  0.,  0.,  0.,  0.,  0.,  0.,\n",
       "       -0.,  0.,  0.,  0., -0., -0., -0., -0.,  0., -0., -0., -0.,  0.,\n",
       "       -0., -0.,  0.,  0., -0., -0., -0., -0.,  0.,  0., -0., -0., -0.,\n",
       "       -0.,  0.,  0.,  0.,  0., -0., -0.,  0.,  0., -0.,  0., -0.,  0.,\n",
       "       -0., -0.,  0., -0., -0.,  0.,  0., -0.,  0.,  0.,  0., -0., -0.,\n",
       "       -0.,  0.,  0., -0., -0.,  0.,  0.,  0.,  0.,  0., -0.,  0., -0.,\n",
       "       -0., -0.,  0.,  0., -0., -0.,  0., -0.,  0., -0., -0.,  0., -0.,\n",
       "       -0.,  0.,  0.,  0., -0., -0., -0.,  0.,  0.,  0.,  0.,  0., -0.,\n",
       "       -0.,  0.])"
      ]
     },
     "execution_count": 44,
     "metadata": {},
     "output_type": "execute_result"
    }
   ],
   "source": [
    "lasso_pipe1.steps[-1][1].coef_"
   ]
  },
  {
   "cell_type": "code",
   "execution_count": 45,
   "metadata": {},
   "outputs": [
    {
     "data": {
      "text/plain": [
       "Lasso(alpha=0.1, copy_X=True, fit_intercept=True, max_iter=1000,\n",
       "      normalize=False, positive=False, precompute=False, random_state=None,\n",
       "      selection='cyclic', tol=0.0001, warm_start=False)"
      ]
     },
     "execution_count": 45,
     "metadata": {},
     "output_type": "execute_result"
    }
   ],
   "source": [
    "lasso_pipe1.steps[-1][1].set_params(alpha=0.1)"
   ]
  },
  {
   "cell_type": "code",
   "execution_count": 46,
   "metadata": {},
   "outputs": [
    {
     "data": {
      "text/plain": [
       "Pipeline(memory=None,\n",
       "         steps=[('ohe',\n",
       "                 OneHotEncoder(cols=['activity', 'sector', 'country',\n",
       "                                     'currency', 'repayment_interval',\n",
       "                                     'posted_day'],\n",
       "                               drop_invariant=False, handle_missing='value',\n",
       "                               handle_unknown='value', return_df=True,\n",
       "                               use_cat_names=False, verbose=0)),\n",
       "                ('sc',\n",
       "                 StandardScaler(copy=True, with_mean=True, with_std=True)),\n",
       "                ('lasso',\n",
       "                 Lasso(alpha=0.1, copy_X=True, fit_intercept=True,\n",
       "                       max_iter=1000, normalize=False, positive=False,\n",
       "                       precompute=False, random_state=None, selection='cyclic',\n",
       "                       tol=0.0001, warm_start=False))],\n",
       "         verbose=False)"
      ]
     },
     "execution_count": 46,
     "metadata": {},
     "output_type": "execute_result"
    }
   ],
   "source": [
    "lasso_pipe1.fit(X_train, y_train)"
   ]
  },
  {
   "cell_type": "code",
   "execution_count": 47,
   "metadata": {},
   "outputs": [],
   "source": [
    "lass_preds2 = lasso_pipe1.predict(X_test)"
   ]
  },
  {
   "cell_type": "code",
   "execution_count": 48,
   "metadata": {},
   "outputs": [
    {
     "data": {
      "text/plain": [
       "0.07043585359927007"
      ]
     },
     "execution_count": 48,
     "metadata": {},
     "output_type": "execute_result"
    }
   ],
   "source": [
    "lasso_pipe1.score(X_test, y_test)"
   ]
  },
  {
   "cell_type": "code",
   "execution_count": 51,
   "metadata": {},
   "outputs": [
    {
     "data": {
      "text/plain": [
       "Lasso(alpha=0.1, copy_X=True, fit_intercept=True, max_iter=5000,\n",
       "      normalize=False, positive=False, precompute=False, random_state=None,\n",
       "      selection='cyclic', tol=0.0001, warm_start=False)"
      ]
     },
     "execution_count": 51,
     "metadata": {},
     "output_type": "execute_result"
    }
   ],
   "source": [
    "lasso_pipe1.steps[-1][1].set_params(max_iter=5000)"
   ]
  },
  {
   "cell_type": "code",
   "execution_count": 52,
   "metadata": {},
   "outputs": [
    {
     "data": {
      "text/plain": [
       "Pipeline(memory=None,\n",
       "         steps=[('ohe',\n",
       "                 OneHotEncoder(cols=['activity', 'sector', 'country',\n",
       "                                     'currency', 'repayment_interval',\n",
       "                                     'posted_day'],\n",
       "                               drop_invariant=False, handle_missing='value',\n",
       "                               handle_unknown='value', return_df=True,\n",
       "                               use_cat_names=False, verbose=0)),\n",
       "                ('sc',\n",
       "                 StandardScaler(copy=True, with_mean=True, with_std=True)),\n",
       "                ('lasso',\n",
       "                 Lasso(alpha=0.1, copy_X=True, fit_intercept=True,\n",
       "                       max_iter=5000, normalize=False, positive=False,\n",
       "                       precompute=False, random_state=None, selection='cyclic',\n",
       "                       tol=0.0001, warm_start=False))],\n",
       "         verbose=False)"
      ]
     },
     "execution_count": 52,
     "metadata": {},
     "output_type": "execute_result"
    }
   ],
   "source": [
    "lasso_pipe1.fit(X_train, y_train)"
   ]
  },
  {
   "cell_type": "code",
   "execution_count": 53,
   "metadata": {},
   "outputs": [
    {
     "data": {
      "text/plain": [
       "0.07043585359927007"
      ]
     },
     "execution_count": 53,
     "metadata": {},
     "output_type": "execute_result"
    }
   ],
   "source": [
    "lasso_pipe1.score(X_test, y_test)"
   ]
  },
  {
   "cell_type": "code",
   "execution_count": 56,
   "metadata": {},
   "outputs": [
    {
     "data": {
      "text/plain": [
       "Lasso(alpha=0.01, copy_X=True, fit_intercept=True, max_iter=5000,\n",
       "      normalize=False, positive=False, precompute=False, random_state=None,\n",
       "      selection='cyclic', tol=0.0001, warm_start=False)"
      ]
     },
     "execution_count": 56,
     "metadata": {},
     "output_type": "execute_result"
    }
   ],
   "source": [
    "lasso_pipe1.steps[-1][1].set_params(alpha=0.01)"
   ]
  },
  {
   "cell_type": "code",
   "execution_count": 57,
   "metadata": {},
   "outputs": [
    {
     "data": {
      "text/plain": [
       "Pipeline(memory=None,\n",
       "         steps=[('ohe',\n",
       "                 OneHotEncoder(cols=['activity', 'sector', 'country',\n",
       "                                     'currency', 'repayment_interval',\n",
       "                                     'posted_day'],\n",
       "                               drop_invariant=False, handle_missing='value',\n",
       "                               handle_unknown='value', return_df=True,\n",
       "                               use_cat_names=False, verbose=0)),\n",
       "                ('sc',\n",
       "                 StandardScaler(copy=True, with_mean=True, with_std=True)),\n",
       "                ('lasso',\n",
       "                 Lasso(alpha=0.01, copy_X=True, fit_intercept=True,\n",
       "                       max_iter=5000, normalize=False, positive=False,\n",
       "                       precompute=False, random_state=None, selection='cyclic',\n",
       "                       tol=0.0001, warm_start=False))],\n",
       "         verbose=False)"
      ]
     },
     "execution_count": 57,
     "metadata": {},
     "output_type": "execute_result"
    }
   ],
   "source": [
    "lasso_pipe1.fit(X_train, y_train)"
   ]
  },
  {
   "cell_type": "code",
   "execution_count": 58,
   "metadata": {},
   "outputs": [
    {
     "data": {
      "text/plain": [
       "0.36121524895345924"
      ]
     },
     "execution_count": 58,
     "metadata": {},
     "output_type": "execute_result"
    }
   ],
   "source": [
    "lasso_pipe1.score(X_test, y_test)"
   ]
  },
  {
   "cell_type": "code",
   "execution_count": 59,
   "metadata": {},
   "outputs": [
    {
     "data": {
      "text/plain": [
       "array([-7.17699323e-02, -0.00000000e+00,  0.00000000e+00, -6.65170021e-04,\n",
       "       -0.00000000e+00, -0.00000000e+00,  0.00000000e+00, -0.00000000e+00,\n",
       "        0.00000000e+00,  0.00000000e+00,  0.00000000e+00,  0.00000000e+00,\n",
       "        0.00000000e+00, -0.00000000e+00,  0.00000000e+00, -0.00000000e+00,\n",
       "        0.00000000e+00,  0.00000000e+00,  0.00000000e+00, -0.00000000e+00,\n",
       "       -0.00000000e+00,  0.00000000e+00, -0.00000000e+00, -0.00000000e+00,\n",
       "        0.00000000e+00,  0.00000000e+00,  0.00000000e+00, -0.00000000e+00,\n",
       "        0.00000000e+00,  0.00000000e+00, -0.00000000e+00,  0.00000000e+00,\n",
       "       -0.00000000e+00, -0.00000000e+00,  0.00000000e+00,  0.00000000e+00,\n",
       "       -0.00000000e+00, -0.00000000e+00, -0.00000000e+00, -0.00000000e+00,\n",
       "       -0.00000000e+00, -0.00000000e+00, -1.23545632e-03,  0.00000000e+00,\n",
       "       -0.00000000e+00, -0.00000000e+00,  0.00000000e+00,  0.00000000e+00,\n",
       "       -0.00000000e+00,  0.00000000e+00, -0.00000000e+00,  0.00000000e+00,\n",
       "        0.00000000e+00,  0.00000000e+00,  0.00000000e+00,  0.00000000e+00,\n",
       "       -0.00000000e+00, -0.00000000e+00, -0.00000000e+00,  0.00000000e+00,\n",
       "       -0.00000000e+00, -0.00000000e+00, -0.00000000e+00,  0.00000000e+00,\n",
       "       -0.00000000e+00,  0.00000000e+00,  0.00000000e+00, -0.00000000e+00,\n",
       "       -0.00000000e+00,  0.00000000e+00, -0.00000000e+00, -0.00000000e+00,\n",
       "       -0.00000000e+00, -0.00000000e+00, -0.00000000e+00,  0.00000000e+00,\n",
       "       -0.00000000e+00,  0.00000000e+00, -0.00000000e+00,  0.00000000e+00,\n",
       "       -0.00000000e+00,  0.00000000e+00, -0.00000000e+00, -0.00000000e+00,\n",
       "       -0.00000000e+00,  0.00000000e+00, -0.00000000e+00,  0.00000000e+00,\n",
       "       -0.00000000e+00,  0.00000000e+00, -0.00000000e+00, -0.00000000e+00,\n",
       "       -0.00000000e+00, -0.00000000e+00, -0.00000000e+00, -0.00000000e+00,\n",
       "       -0.00000000e+00,  0.00000000e+00,  0.00000000e+00, -0.00000000e+00,\n",
       "        0.00000000e+00, -0.00000000e+00, -0.00000000e+00, -0.00000000e+00,\n",
       "        0.00000000e+00, -0.00000000e+00,  0.00000000e+00, -0.00000000e+00,\n",
       "       -0.00000000e+00, -0.00000000e+00, -0.00000000e+00, -0.00000000e+00,\n",
       "       -0.00000000e+00, -0.00000000e+00, -0.00000000e+00, -0.00000000e+00,\n",
       "        0.00000000e+00, -0.00000000e+00, -0.00000000e+00, -0.00000000e+00,\n",
       "       -0.00000000e+00, -0.00000000e+00,  0.00000000e+00, -0.00000000e+00,\n",
       "       -0.00000000e+00, -0.00000000e+00, -0.00000000e+00, -0.00000000e+00,\n",
       "       -0.00000000e+00, -0.00000000e+00, -0.00000000e+00,  0.00000000e+00,\n",
       "        0.00000000e+00, -0.00000000e+00,  0.00000000e+00,  0.00000000e+00,\n",
       "        0.00000000e+00, -0.00000000e+00, -0.00000000e+00, -0.00000000e+00,\n",
       "        0.00000000e+00, -0.00000000e+00,  0.00000000e+00, -0.00000000e+00,\n",
       "        0.00000000e+00, -0.00000000e+00, -0.00000000e+00,  0.00000000e+00,\n",
       "        0.00000000e+00,  0.00000000e+00,  0.00000000e+00, -0.00000000e+00,\n",
       "       -0.00000000e+00, -0.00000000e+00, -0.00000000e+00, -2.95222858e-04,\n",
       "       -0.00000000e+00,  0.00000000e+00,  0.00000000e+00,  2.59111884e-03,\n",
       "       -0.00000000e+00, -0.00000000e+00,  7.85240080e-03, -0.00000000e+00,\n",
       "        0.00000000e+00,  0.00000000e+00,  0.00000000e+00, -0.00000000e+00,\n",
       "       -0.00000000e+00,  0.00000000e+00,  0.00000000e+00, -0.00000000e+00,\n",
       "        0.00000000e+00,  0.00000000e+00, -0.00000000e+00, -0.00000000e+00,\n",
       "        0.00000000e+00, -0.00000000e+00, -0.00000000e+00, -8.83458445e-03,\n",
       "       -0.00000000e+00,  0.00000000e+00, -6.15107922e-04, -0.00000000e+00,\n",
       "        0.00000000e+00, -0.00000000e+00,  8.15689871e-04, -3.88365273e-03,\n",
       "       -0.00000000e+00,  0.00000000e+00,  5.33663540e-04, -0.00000000e+00,\n",
       "       -0.00000000e+00, -0.00000000e+00,  0.00000000e+00,  0.00000000e+00,\n",
       "       -0.00000000e+00, -2.96417673e-03, -3.10682497e-03, -0.00000000e+00,\n",
       "       -0.00000000e+00,  0.00000000e+00,  0.00000000e+00,  0.00000000e+00,\n",
       "       -0.00000000e+00,  0.00000000e+00,  0.00000000e+00, -0.00000000e+00,\n",
       "       -0.00000000e+00, -0.00000000e+00, -0.00000000e+00, -0.00000000e+00,\n",
       "       -0.00000000e+00, -0.00000000e+00, -0.00000000e+00, -0.00000000e+00,\n",
       "       -0.00000000e+00, -0.00000000e+00, -0.00000000e+00, -0.00000000e+00,\n",
       "       -0.00000000e+00, -0.00000000e+00, -0.00000000e+00, -0.00000000e+00,\n",
       "       -0.00000000e+00, -0.00000000e+00,  0.00000000e+00,  0.00000000e+00,\n",
       "       -0.00000000e+00,  0.00000000e+00,  3.24439916e-03, -0.00000000e+00,\n",
       "       -0.00000000e+00,  0.00000000e+00, -0.00000000e+00,  0.00000000e+00,\n",
       "        3.80821740e-03,  0.00000000e+00, -0.00000000e+00, -0.00000000e+00,\n",
       "       -0.00000000e+00,  0.00000000e+00,  0.00000000e+00, -0.00000000e+00,\n",
       "        0.00000000e+00, -0.00000000e+00, -0.00000000e+00, -0.00000000e+00,\n",
       "       -0.00000000e+00,  0.00000000e+00, -8.12436890e-03, -0.00000000e+00,\n",
       "        0.00000000e+00,  0.00000000e+00, -4.31511550e-05, -0.00000000e+00,\n",
       "        0.00000000e+00,  0.00000000e+00, -0.00000000e+00, -0.00000000e+00,\n",
       "       -0.00000000e+00,  0.00000000e+00, -0.00000000e+00, -1.47471915e-05,\n",
       "       -0.00000000e+00,  0.00000000e+00,  0.00000000e+00,  0.00000000e+00,\n",
       "        0.00000000e+00, -0.00000000e+00, -0.00000000e+00, -0.00000000e+00,\n",
       "       -0.00000000e+00, -0.00000000e+00, -0.00000000e+00,  0.00000000e+00,\n",
       "       -0.00000000e+00, -0.00000000e+00, -0.00000000e+00, -0.00000000e+00,\n",
       "       -0.00000000e+00, -0.00000000e+00,  0.00000000e+00, -0.00000000e+00,\n",
       "        1.53963686e-01,  0.00000000e+00, -0.00000000e+00,  0.00000000e+00,\n",
       "        2.03806067e-02,  0.00000000e+00,  0.00000000e+00, -0.00000000e+00,\n",
       "       -3.74715044e-04,  0.00000000e+00,  0.00000000e+00,  0.00000000e+00,\n",
       "        0.00000000e+00, -0.00000000e+00, -0.00000000e+00,  0.00000000e+00,\n",
       "        0.00000000e+00])"
      ]
     },
     "execution_count": 59,
     "metadata": {},
     "output_type": "execute_result"
    }
   ],
   "source": [
    "lasso_pipe1.steps[-1][1].coef_"
   ]
  },
  {
   "cell_type": "code",
   "execution_count": 61,
   "metadata": {},
   "outputs": [],
   "source": [
    "from sklearn.decomposition import PCA"
   ]
  },
  {
   "cell_type": "code",
   "execution_count": 62,
   "metadata": {},
   "outputs": [],
   "source": [
    "pca = PCA()"
   ]
  },
  {
   "cell_type": "code",
   "execution_count": 63,
   "metadata": {},
   "outputs": [],
   "source": [
    "preprocesser = Pipeline([('ohe', ohe), ('sc', sc)])"
   ]
  },
  {
   "cell_type": "code",
   "execution_count": 64,
   "metadata": {},
   "outputs": [],
   "source": [
    "pca_pipe = Pipeline([('prep', preprocesser), ('pca', pca)])"
   ]
  },
  {
   "cell_type": "code",
   "execution_count": 65,
   "metadata": {},
   "outputs": [
    {
     "data": {
      "text/plain": [
       "array([[ 2.41759470e+00, -1.69400667e+00,  2.97373733e-01, ...,\n",
       "         4.68170137e-17,  2.01669183e-16,  7.24998865e-17],\n",
       "       [-3.19237401e+00, -2.72365262e+00,  3.42913331e+00, ...,\n",
       "         1.81142904e-16, -1.71945746e-16, -9.07998177e-18],\n",
       "       [-5.80923739e-01, -3.10430488e+00, -3.10916406e+00, ...,\n",
       "        -3.44027912e-17,  2.30588690e-16,  2.17521658e-17],\n",
       "       ...,\n",
       "       [-1.76785638e+00, -1.15756449e+00, -2.53944446e+00, ...,\n",
       "        -2.18283638e-18,  6.00897762e-18,  1.75623417e-18],\n",
       "       [ 4.80272421e-01,  1.25001535e+00, -2.24165572e+00, ...,\n",
       "        -5.16254482e-18, -3.13365813e-18, -6.48487648e-19],\n",
       "       [-1.64185495e+00, -1.50073971e+00, -1.19074004e+00, ...,\n",
       "        -2.26733573e-17,  2.38395577e-18, -3.36378256e-18]])"
      ]
     },
     "execution_count": 65,
     "metadata": {},
     "output_type": "execute_result"
    }
   ],
   "source": [
    "pca_pipe.fit_transform(X_train)"
   ]
  },
  {
   "cell_type": "code",
   "execution_count": 70,
   "metadata": {},
   "outputs": [
    {
     "data": {
      "text/plain": [
       "array([0.0133, 0.0125, 0.0119, 0.0107, 0.01  , 0.01  , 0.0097, 0.0096,\n",
       "       0.0089, 0.0089, 0.0086, 0.0086, 0.0084, 0.0081, 0.0078, 0.0078,\n",
       "       0.0078, 0.0076, 0.0075, 0.0074, 0.0073, 0.0072, 0.0071, 0.0071,\n",
       "       0.0071, 0.007 , 0.007 , 0.007 , 0.0069, 0.0069, 0.0068, 0.0068,\n",
       "       0.0068, 0.0068, 0.0068, 0.0067, 0.0067, 0.0067, 0.0067, 0.0067,\n",
       "       0.0067, 0.0067, 0.0067, 0.0067, 0.0067, 0.0067, 0.0067, 0.0067,\n",
       "       0.0067, 0.0066, 0.0066, 0.0065, 0.0065, 0.0064, 0.0064, 0.0063,\n",
       "       0.0062, 0.0062, 0.0061, 0.0061, 0.0061, 0.0058, 0.0056, 0.0054,\n",
       "       0.0052, 0.0051, 0.0048, 0.0046, 0.0044, 0.0042, 0.0041, 0.0041,\n",
       "       0.0041, 0.004 , 0.004 , 0.0039, 0.0038, 0.0038, 0.0037, 0.0037,\n",
       "       0.0036, 0.0036, 0.0036, 0.0036, 0.0035, 0.0035, 0.0035, 0.0035,\n",
       "       0.0035, 0.0034, 0.0034, 0.0034, 0.0034, 0.0034, 0.0034, 0.0034,\n",
       "       0.0034, 0.0034, 0.0034, 0.0034, 0.0034, 0.0033, 0.0033, 0.0033,\n",
       "       0.0033, 0.0033, 0.0033, 0.0033, 0.0033, 0.0033, 0.0033, 0.0033,\n",
       "       0.0033, 0.0033, 0.0033, 0.0033, 0.0033, 0.0033, 0.0033, 0.0033,\n",
       "       0.0033, 0.0033, 0.0033, 0.0033, 0.0033, 0.0033, 0.0033, 0.0033,\n",
       "       0.0033, 0.0033, 0.0033, 0.0033, 0.0033, 0.0033, 0.0033, 0.0033,\n",
       "       0.0033, 0.0033, 0.0033, 0.0033, 0.0033, 0.0033, 0.0033, 0.0033,\n",
       "       0.0033, 0.0033, 0.0033, 0.0033, 0.0033, 0.0033, 0.0033, 0.0033,\n",
       "       0.0033, 0.0033, 0.0033, 0.0033, 0.0033, 0.0033, 0.0033, 0.0033,\n",
       "       0.0033, 0.0033, 0.0033, 0.0033, 0.0033, 0.0033, 0.0033, 0.0033,\n",
       "       0.0033, 0.0033, 0.0033, 0.0033, 0.0033, 0.0033, 0.0033, 0.0033,\n",
       "       0.0033, 0.0033, 0.0032, 0.0032, 0.0032, 0.0032, 0.0032, 0.0032,\n",
       "       0.0032, 0.0032, 0.0032, 0.0032, 0.0031, 0.0031, 0.0031, 0.0031,\n",
       "       0.0031, 0.0031, 0.0031, 0.0031, 0.003 , 0.003 , 0.003 , 0.003 ,\n",
       "       0.003 , 0.0029, 0.0029, 0.0028, 0.0028, 0.0027, 0.0027, 0.0026,\n",
       "       0.0026, 0.0024, 0.0023, 0.0023, 0.0022, 0.0021, 0.0021, 0.0019,\n",
       "       0.0019, 0.0018, 0.0017, 0.0016, 0.0015, 0.0014, 0.0014, 0.0012,\n",
       "       0.0011, 0.0009, 0.0008, 0.0007, 0.0006, 0.0006, 0.0005, 0.0004,\n",
       "       0.0003, 0.0003, 0.0002, 0.0002, 0.0001, 0.    , 0.    , 0.    ,\n",
       "       0.    , 0.    , 0.    , 0.    , 0.    , 0.    , 0.    , 0.    ,\n",
       "       0.    , 0.    , 0.    , 0.    , 0.    , 0.    , 0.    , 0.    ,\n",
       "       0.    , 0.    , 0.    , 0.    , 0.    , 0.    , 0.    , 0.    ,\n",
       "       0.    , 0.    , 0.    , 0.    , 0.    , 0.    , 0.    , 0.    ,\n",
       "       0.    , 0.    , 0.    , 0.    , 0.    , 0.    , 0.    , 0.    ,\n",
       "       0.    , 0.    , 0.    , 0.    , 0.    , 0.    , 0.    , 0.    ,\n",
       "       0.    , 0.    , 0.    , 0.    , 0.    , 0.    , 0.    , 0.    ,\n",
       "       0.    , 0.    , 0.    , 0.    , 0.    ])"
      ]
     },
     "execution_count": 70,
     "metadata": {},
     "output_type": "execute_result"
    }
   ],
   "source": [
    "np.round(pca_pipe.steps[-1][1].explained_variance_ratio_, 4)"
   ]
  },
  {
   "cell_type": "code",
   "execution_count": 72,
   "metadata": {},
   "outputs": [
    {
     "data": {
      "text/plain": [
       "array([0.01332292, 0.02580163, 0.03768126, 0.04840932, 0.05845158,\n",
       "       0.0684549 , 0.07817971, 0.0877684 , 0.09671581, 0.10560072,\n",
       "       0.11418759, 0.12274049, 0.13115894, 0.13921053, 0.14705735,\n",
       "       0.15487406, 0.16264801, 0.17024922, 0.17773981, 0.18511024,\n",
       "       0.19238691, 0.19958247, 0.20671534, 0.21381431, 0.22087781,\n",
       "       0.22791883, 0.23491967, 0.24187824, 0.24880629, 0.2557243 ,\n",
       "       0.26256894, 0.26939658, 0.27620987, 0.28299103, 0.28975793,\n",
       "       0.29650517, 0.30324626, 0.30998108, 0.31669846, 0.32340441,\n",
       "       0.33010903, 0.33681311, 0.34350475, 0.35018231, 0.3568528 ,\n",
       "       0.36351747, 0.37017978, 0.37684011, 0.38349914, 0.39014307,\n",
       "       0.39672878, 0.40325363, 0.40971112, 0.41615204, 0.42257007,\n",
       "       0.4288224 , 0.43507237, 0.4412778 , 0.44739164, 0.45346431,\n",
       "       0.459518  , 0.46532955, 0.47093179, 0.47630046, 0.48148036,\n",
       "       0.48653118, 0.49129614, 0.49587709, 0.50032044, 0.50451177,\n",
       "       0.50864833, 0.51274039, 0.51679975, 0.52079096, 0.52475801,\n",
       "       0.52867257, 0.53247081, 0.53623727, 0.53995885, 0.54361254,\n",
       "       0.54723481, 0.55081829, 0.55439596, 0.55795323, 0.56146385,\n",
       "       0.56497199, 0.56846713, 0.57192751, 0.57538098, 0.57881735,\n",
       "       0.5822302 , 0.58562593, 0.58901345, 0.59239289, 0.59576602,\n",
       "       0.59913062, 0.60249185, 0.60584884, 0.60920529, 0.61255837,\n",
       "       0.6159088 , 0.61925782, 0.62260518, 0.62595003, 0.62929233,\n",
       "       0.63263359, 0.635972  , 0.63930961, 0.64264612, 0.64598151,\n",
       "       0.64931564, 0.6526495 , 0.65598262, 0.65931462, 0.66264558,\n",
       "       0.66597612, 0.66930559, 0.6726348 , 0.67596339, 0.67929107,\n",
       "       0.68261862, 0.68594582, 0.68927288, 0.69259959, 0.69592586,\n",
       "       0.69925193, 0.70257796, 0.7059039 , 0.70922931, 0.71255438,\n",
       "       0.71587937, 0.71920403, 0.72252858, 0.725853  , 0.72917725,\n",
       "       0.73250132, 0.73582519, 0.73914888, 0.74247245, 0.74579592,\n",
       "       0.74911925, 0.75244236, 0.75576538, 0.75908831, 0.76241117,\n",
       "       0.76573391, 0.76905658, 0.7723792 , 0.77570172, 0.77902409,\n",
       "       0.78234606, 0.7856678 , 0.7889886 , 0.79230856, 0.79562721,\n",
       "       0.79894518, 0.80226272, 0.80557856, 0.80889266, 0.81220519,\n",
       "       0.81551717, 0.81882736, 0.82213667, 0.82544454, 0.8287491 ,\n",
       "       0.83205168, 0.83535258, 0.83865102, 0.8419461 , 0.84524031,\n",
       "       0.84852782, 0.85180777, 0.85508378, 0.85835695, 0.86162927,\n",
       "       0.86489153, 0.86815277, 0.8714084 , 0.87465321, 0.87788846,\n",
       "       0.88112228, 0.88433843, 0.88755103, 0.89075275, 0.8939528 ,\n",
       "       0.89714647, 0.90032796, 0.90349916, 0.90664629, 0.90978121,\n",
       "       0.91290309, 0.91601454, 0.91911913, 0.92220308, 0.92526753,\n",
       "       0.92832406, 0.93136697, 0.9343951 , 0.93739796, 0.94035854,\n",
       "       0.94331096, 0.94623948, 0.94910925, 0.9519424 , 0.95474382,\n",
       "       0.95744421, 0.96011363, 0.96275794, 0.96533912, 0.96775922,\n",
       "       0.97010921, 0.97237899, 0.97457314, 0.97670403, 0.97876073,\n",
       "       0.98064215, 0.98250094, 0.98429132, 0.98600332, 0.98759921,\n",
       "       0.98910571, 0.99055136, 0.99191984, 0.9931052 , 0.99420822,\n",
       "       0.99511981, 0.99590545, 0.99665427, 0.997298  , 0.99787924,\n",
       "       0.99837702, 0.99878858, 0.9990967 , 0.99938551, 0.99959999,\n",
       "       0.99977658, 0.99987621, 0.99991326, 0.99994454, 0.99995894,\n",
       "       0.99996747, 0.99997548, 0.99998324, 0.9999905 , 0.99999538,\n",
       "       0.99999745, 0.99999909, 1.        , 1.        , 1.        ,\n",
       "       1.        , 1.        , 1.        , 1.        , 1.        ,\n",
       "       1.        , 1.        , 1.        , 1.        , 1.        ,\n",
       "       1.        , 1.        , 1.        , 1.        , 1.        ,\n",
       "       1.        , 1.        , 1.        , 1.        , 1.        ,\n",
       "       1.        , 1.        , 1.        , 1.        , 1.        ,\n",
       "       1.        , 1.        , 1.        , 1.        , 1.        ,\n",
       "       1.        , 1.        , 1.        , 1.        , 1.        ,\n",
       "       1.        , 1.        , 1.        , 1.        , 1.        ,\n",
       "       1.        , 1.        , 1.        , 1.        , 1.        ,\n",
       "       1.        , 1.        , 1.        , 1.        , 1.        ,\n",
       "       1.        ])"
      ]
     },
     "execution_count": 72,
     "metadata": {},
     "output_type": "execute_result"
    }
   ],
   "source": [
    "pca_pipe.steps[-1][1].explained_variance_ratio_.cumsum()"
   ]
  },
  {
   "cell_type": "code",
   "execution_count": 74,
   "metadata": {},
   "outputs": [],
   "source": [
    "pca2 = PCA(n_components=.9)\n",
    "pca_pipe2 = Pipeline([('prep', preprocesser), ('pca', pca2)])"
   ]
  },
  {
   "cell_type": "code",
   "execution_count": 89,
   "metadata": {},
   "outputs": [
    {
     "data": {
      "text/plain": [
       "array([[ 2.41759470e+00, -1.69400667e+00,  2.97373733e-01, ...,\n",
       "         3.24875909e-01, -1.33543594e+00,  9.88866669e-02],\n",
       "       [-3.19237401e+00, -2.72365262e+00,  3.42913331e+00, ...,\n",
       "         2.15784320e-01,  1.58143835e-01, -2.41991779e-01],\n",
       "       [-5.80923739e-01, -3.10430488e+00, -3.10916406e+00, ...,\n",
       "         2.57035929e-01, -3.03534871e-01, -3.77848082e-01],\n",
       "       ...,\n",
       "       [-1.76785638e+00, -1.15756449e+00, -2.53944446e+00, ...,\n",
       "         3.58706083e-02, -2.44136975e-01, -3.12140811e-03],\n",
       "       [ 4.80272421e-01,  1.25001535e+00, -2.24165572e+00, ...,\n",
       "         2.63318334e-01,  1.50234186e-01, -2.73506275e-01],\n",
       "       [-1.64185495e+00, -1.50073971e+00, -1.19074004e+00, ...,\n",
       "         3.38518497e-01, -5.95043979e-01, -4.57856300e-01]])"
      ]
     },
     "execution_count": 89,
     "metadata": {},
     "output_type": "execute_result"
    }
   ],
   "source": [
    "pca_pipe2.fit_transform(X_train)"
   ]
  },
  {
   "cell_type": "code",
   "execution_count": 90,
   "metadata": {},
   "outputs": [],
   "source": [
    "lasso_pipe2 = Pipeline([('pca_pipe', pca_pipe2), ('lasso', lasso)])"
   ]
  },
  {
   "cell_type": "code",
   "execution_count": 91,
   "metadata": {},
   "outputs": [
    {
     "data": {
      "text/plain": [
       "Pipeline(memory=None,\n",
       "         steps=[('pca_pipe',\n",
       "                 Pipeline(memory=None,\n",
       "                          steps=[('prep',\n",
       "                                  Pipeline(memory=None,\n",
       "                                           steps=[('ohe',\n",
       "                                                   OneHotEncoder(cols=['activity',\n",
       "                                                                       'sector',\n",
       "                                                                       'country',\n",
       "                                                                       'currency',\n",
       "                                                                       'repayment_interval',\n",
       "                                                                       'posted_day'],\n",
       "                                                                 drop_invariant=False,\n",
       "                                                                 handle_missing='value',\n",
       "                                                                 handle_unknown='value',\n",
       "                                                                 return_df=True,\n",
       "                                                                 use_cat_names=False,\n",
       "                                                                 verbose=0)),\n",
       "                                                  ('sc',\n",
       "                                                   StandardScaler(copy=Tru...\n",
       "                                           verbose=False)),\n",
       "                                 ('pca',\n",
       "                                  PCA(copy=True, iterated_power='auto',\n",
       "                                      n_components=0.9, random_state=None,\n",
       "                                      svd_solver='auto', tol=0.0,\n",
       "                                      whiten=False))],\n",
       "                          verbose=False)),\n",
       "                ('lasso',\n",
       "                 Lasso(alpha=0.01, copy_X=True, fit_intercept=True,\n",
       "                       max_iter=5000, normalize=False, positive=False,\n",
       "                       precompute=False, random_state=None, selection='cyclic',\n",
       "                       tol=0.0001, warm_start=False))],\n",
       "         verbose=False)"
      ]
     },
     "execution_count": 91,
     "metadata": {},
     "output_type": "execute_result"
    }
   ],
   "source": [
    "lasso_pipe2.fit(X_train, y_train)"
   ]
  },
  {
   "cell_type": "code",
   "execution_count": 94,
   "metadata": {},
   "outputs": [
    {
     "data": {
      "text/plain": [
       "0.16078183303776838"
      ]
     },
     "execution_count": 94,
     "metadata": {},
     "output_type": "execute_result"
    }
   ],
   "source": [
    "lasso_pipe2.score(X_test, y_test)"
   ]
  },
  {
   "cell_type": "code",
   "execution_count": 95,
   "metadata": {},
   "outputs": [
    {
     "data": {
      "text/plain": [
       "(187, 301)"
      ]
     },
     "execution_count": 95,
     "metadata": {},
     "output_type": "execute_result"
    }
   ],
   "source": [
    "lasso_pipe2.steps[0][1][1].components_.shape"
   ]
  },
  {
   "cell_type": "code",
   "execution_count": 97,
   "metadata": {},
   "outputs": [],
   "source": [
    "from sklearn.model_selection import cross_val_score\n",
    "alphas = [0.001, 0.005, 0.01, 0.05, 0.1, 0.5, 1.0]\n",
    "cross_scores = []\n",
    "for a in alphas:\n",
    "    lasso_pipe2.steps[-1][1].set_params(alpha=a)\n",
    "    scores = cross_val_score(lasso_pipe2, X_train, y_train, cv=5)\n",
    "    cross_scores.append((np.mean(scores), np.std(scores), a))"
   ]
  },
  {
   "cell_type": "code",
   "execution_count": 98,
   "metadata": {},
   "outputs": [
    {
     "data": {
      "text/plain": [
       "[(0.1972138476466983, 0.008640982422930434, 0.001),\n",
       " (0.18369829745549082, 0.006368745738769723, 0.005),\n",
       " (0.15656694132076593, 0.0054414632411474585, 0.01),\n",
       " (0.013112846354642627, 0.000790394785417564, 0.05),\n",
       " (-0.00021212605464175914, 0.00014625205805035094, 0.1),\n",
       " (-0.00021212605464175914, 0.00014625205805035094, 0.5),\n",
       " (-0.00021212605464175914, 0.00014625205805035094, 1.0)]"
      ]
     },
     "execution_count": 98,
     "metadata": {},
     "output_type": "execute_result"
    }
   ],
   "source": [
    "cross_scores"
   ]
  },
  {
   "cell_type": "code",
   "execution_count": null,
   "metadata": {},
   "outputs": [],
   "source": []
  },
  {
   "cell_type": "code",
   "execution_count": null,
   "metadata": {},
   "outputs": [],
   "source": []
  },
  {
   "cell_type": "code",
   "execution_count": 99,
   "metadata": {},
   "outputs": [
    {
     "data": {
      "text/plain": [
       "Pipeline(memory=None,\n",
       "         steps=[('ohe',\n",
       "                 OneHotEncoder(cols=['activity', 'sector', 'country',\n",
       "                                     'currency', 'repayment_interval',\n",
       "                                     'posted_day'],\n",
       "                               drop_invariant=False, handle_missing='value',\n",
       "                               handle_unknown='value', return_df=True,\n",
       "                               use_cat_names=False, verbose=0)),\n",
       "                ('sc',\n",
       "                 StandardScaler(copy=True, with_mean=True, with_std=True)),\n",
       "                ('ridge',\n",
       "                 Ridge(alpha=1.0, copy_X=True, fit_intercept=True,\n",
       "                       max_iter=None, normalize=False, random_state=None,\n",
       "                       solver='auto', tol=0.001))],\n",
       "         verbose=False)"
      ]
     },
     "execution_count": 99,
     "metadata": {},
     "output_type": "execute_result"
    }
   ],
   "source": [
    "ridge_pipe1.fit(X_train, y_train)"
   ]
  },
  {
   "cell_type": "code",
   "execution_count": 100,
   "metadata": {},
   "outputs": [
    {
     "data": {
      "text/plain": [
       "0.3834612376018035"
      ]
     },
     "execution_count": 100,
     "metadata": {},
     "output_type": "execute_result"
    }
   ],
   "source": [
    "ridge_pipe1.score(X_test, y_test)"
   ]
  },
  {
   "cell_type": "code",
   "execution_count": null,
   "metadata": {},
   "outputs": [],
   "source": []
  }
 ],
 "metadata": {
  "kernelspec": {
   "display_name": "Python 3",
   "language": "python",
   "name": "python3"
  },
  "language_info": {
   "codemirror_mode": {
    "name": "ipython",
    "version": 3
   },
   "file_extension": ".py",
   "mimetype": "text/x-python",
   "name": "python",
   "nbconvert_exporter": "python",
   "pygments_lexer": "ipython3",
   "version": "3.6.5"
  }
 },
 "nbformat": 4,
 "nbformat_minor": 4
}
