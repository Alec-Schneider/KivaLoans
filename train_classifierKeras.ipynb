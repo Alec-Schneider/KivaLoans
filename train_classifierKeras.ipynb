{
 "cells": [
  {
   "cell_type": "code",
   "execution_count": 1,
   "metadata": {},
   "outputs": [
    {
     "name": "stderr",
     "output_type": "stream",
     "text": [
      "Using TensorFlow backend.\n",
      "C:\\Users\\Alec\\anaconda3\\lib\\site-packages\\tensorflow\\python\\framework\\dtypes.py:526: FutureWarning: Passing (type, 1) or '1type' as a synonym of type is deprecated; in a future version of numpy, it will be understood as (type, (1,)) / '(1,)type'.\n",
      "  _np_qint8 = np.dtype([(\"qint8\", np.int8, 1)])\n",
      "C:\\Users\\Alec\\anaconda3\\lib\\site-packages\\tensorflow\\python\\framework\\dtypes.py:527: FutureWarning: Passing (type, 1) or '1type' as a synonym of type is deprecated; in a future version of numpy, it will be understood as (type, (1,)) / '(1,)type'.\n",
      "  _np_quint8 = np.dtype([(\"quint8\", np.uint8, 1)])\n",
      "C:\\Users\\Alec\\anaconda3\\lib\\site-packages\\tensorflow\\python\\framework\\dtypes.py:528: FutureWarning: Passing (type, 1) or '1type' as a synonym of type is deprecated; in a future version of numpy, it will be understood as (type, (1,)) / '(1,)type'.\n",
      "  _np_qint16 = np.dtype([(\"qint16\", np.int16, 1)])\n",
      "C:\\Users\\Alec\\anaconda3\\lib\\site-packages\\tensorflow\\python\\framework\\dtypes.py:529: FutureWarning: Passing (type, 1) or '1type' as a synonym of type is deprecated; in a future version of numpy, it will be understood as (type, (1,)) / '(1,)type'.\n",
      "  _np_quint16 = np.dtype([(\"quint16\", np.uint16, 1)])\n",
      "C:\\Users\\Alec\\anaconda3\\lib\\site-packages\\tensorflow\\python\\framework\\dtypes.py:530: FutureWarning: Passing (type, 1) or '1type' as a synonym of type is deprecated; in a future version of numpy, it will be understood as (type, (1,)) / '(1,)type'.\n",
      "  _np_qint32 = np.dtype([(\"qint32\", np.int32, 1)])\n",
      "C:\\Users\\Alec\\anaconda3\\lib\\site-packages\\tensorflow\\python\\framework\\dtypes.py:535: FutureWarning: Passing (type, 1) or '1type' as a synonym of type is deprecated; in a future version of numpy, it will be understood as (type, (1,)) / '(1,)type'.\n",
      "  np_resource = np.dtype([(\"resource\", np.ubyte, 1)])\n"
     ]
    }
   ],
   "source": [
    "import pandas as pd\n",
    "import keras"
   ]
  },
  {
   "cell_type": "code",
   "execution_count": 2,
   "metadata": {},
   "outputs": [],
   "source": [
    "X = pd.read_csv('../KivaLoans_Data/X_matrix2.csv')"
   ]
  },
  {
   "cell_type": "code",
   "execution_count": 3,
   "metadata": {},
   "outputs": [
    {
     "data": {
      "text/plain": [
       "(671205, 14)"
      ]
     },
     "execution_count": 3,
     "metadata": {},
     "output_type": "execute_result"
    }
   ],
   "source": [
    "X.shape"
   ]
  },
  {
   "cell_type": "code",
   "execution_count": 4,
   "metadata": {},
   "outputs": [],
   "source": [
    "y = pd.read_csv('../KivaLoans_Data/y_matrix2.csv')"
   ]
  },
  {
   "cell_type": "code",
   "execution_count": 5,
   "metadata": {},
   "outputs": [],
   "source": [
    "y = y['loan_funded']"
   ]
  },
  {
   "cell_type": "code",
   "execution_count": 6,
   "metadata": {},
   "outputs": [],
   "source": [
    "from sklearn.model_selection import train_test_split"
   ]
  },
  {
   "cell_type": "code",
   "execution_count": 7,
   "metadata": {},
   "outputs": [],
   "source": [
    "X_train, X_test, y_train, y_test = train_test_split(X, y, test_size=0.3)"
   ]
  },
  {
   "cell_type": "code",
   "execution_count": 8,
   "metadata": {},
   "outputs": [],
   "source": [
    "import numpy as np"
   ]
  },
  {
   "cell_type": "code",
   "execution_count": 9,
   "metadata": {},
   "outputs": [],
   "source": [
    "from category_encoders import OneHotEncoder"
   ]
  },
  {
   "cell_type": "code",
   "execution_count": 10,
   "metadata": {},
   "outputs": [],
   "source": [
    "ohe = OneHotEncoder()\n",
    "X_train = ohe.fit_transform(X_train)\n",
    "X_test = ohe.transform(X_test)"
   ]
  },
  {
   "cell_type": "code",
   "execution_count": 13,
   "metadata": {},
   "outputs": [],
   "source": [
    "model = keras.Sequential()"
   ]
  },
  {
   "cell_type": "code",
   "execution_count": 14,
   "metadata": {},
   "outputs": [
    {
     "name": "stdout",
     "output_type": "stream",
     "text": [
      "WARNING:tensorflow:From C:\\Users\\Alec\\anaconda3\\lib\\site-packages\\tensorflow\\python\\ops\\resource_variable_ops.py:435: colocate_with (from tensorflow.python.framework.ops) is deprecated and will be removed in a future version.\n",
      "Instructions for updating:\n",
      "Colocations handled automatically by placer.\n"
     ]
    }
   ],
   "source": [
    "from keras.layers import Dense, Flatten\n",
    "# model.add(Flatten())\n",
    "model.add(Dense(64, input_dim=X_train.shape[1], activation='relu'))\n",
    "model.add(Dense(64, activation='relu'))\n",
    "model.add(Dense(1, activation='sigmoid'))"
   ]
  },
  {
   "cell_type": "code",
   "execution_count": 16,
   "metadata": {},
   "outputs": [],
   "source": [
    "model.compile('rmsprop', loss='binary_crossentropy', metrics=['accuracy'])"
   ]
  },
  {
   "cell_type": "code",
   "execution_count": 17,
   "metadata": {},
   "outputs": [
    {
     "name": "stdout",
     "output_type": "stream",
     "text": [
      "WARNING:tensorflow:From C:\\Users\\Alec\\anaconda3\\lib\\site-packages\\tensorflow\\python\\ops\\math_ops.py:3066: to_int32 (from tensorflow.python.ops.math_ops) is deprecated and will be removed in a future version.\n",
      "Instructions for updating:\n",
      "Use tf.cast instead.\n",
      "Epoch 1/10\n",
      "Epoch 2/10\n",
      "Epoch 3/10\n",
      "Epoch 4/10\n",
      "Epoch 5/10\n",
      "Epoch 6/10\n",
      "Epoch 7/10\n",
      "Epoch 8/10\n",
      "Epoch 9/10\n",
      "Epoch 10/10\n"
     ]
    },
    {
     "data": {
      "text/plain": [
       "<keras.callbacks.callbacks.History at 0x20d8d453708>"
      ]
     },
     "execution_count": 17,
     "metadata": {},
     "output_type": "execute_result"
    }
   ],
   "source": [
    "model.fit(X_train, y_train, epochs=10, verbose=5)"
   ]
  },
  {
   "cell_type": "code",
   "execution_count": 22,
   "metadata": {},
   "outputs": [
    {
     "name": "stdout",
     "output_type": "stream",
     "text": [
      "201362/201362 [==============================] - 4s 19us/step\n"
     ]
    }
   ],
   "source": [
    "score1 = model.evaluate(X_test, y_test)"
   ]
  },
  {
   "cell_type": "code",
   "execution_count": 23,
   "metadata": {},
   "outputs": [
    {
     "data": {
      "text/plain": [
       "[0.11200310817663191, 0.9586118459701538]"
      ]
     },
     "execution_count": 23,
     "metadata": {},
     "output_type": "execute_result"
    }
   ],
   "source": [
    "score1"
   ]
  },
  {
   "cell_type": "code",
   "execution_count": 24,
   "metadata": {},
   "outputs": [
    {
     "name": "stdout",
     "output_type": "stream",
     "text": [
      "Epoch 1/20\n",
      "469843/469843 [==============================] - 11s 23us/step - loss: 0.1136 - accuracy: 0.9586\n",
      "Epoch 2/20\n",
      "469843/469843 [==============================] - 11s 23us/step - loss: 0.1146 - accuracy: 0.9585\n",
      "Epoch 3/20\n",
      "469843/469843 [==============================] - 11s 23us/step - loss: 0.1129 - accuracy: 0.9590\n",
      "Epoch 4/20\n",
      "469843/469843 [==============================] - 11s 23us/step - loss: 0.1126 - accuracy: 0.9590\n",
      "Epoch 5/20\n",
      "469843/469843 [==============================] - 11s 23us/step - loss: 0.1114 - accuracy: 0.9596\n",
      "Epoch 6/20\n",
      "469843/469843 [==============================] - 11s 23us/step - loss: 0.1135 - accuracy: 0.9592\n",
      "Epoch 7/20\n",
      "469843/469843 [==============================] - 11s 23us/step - loss: 0.1114 - accuracy: 0.9597\n",
      "Epoch 8/20\n",
      "469843/469843 [==============================] - 11s 23us/step - loss: 0.1132 - accuracy: 0.9601\n",
      "Epoch 9/20\n",
      "469843/469843 [==============================] - 11s 23us/step - loss: 0.1121 - accuracy: 0.9602\n",
      "Epoch 10/20\n",
      "469843/469843 [==============================] - 11s 23us/step - loss: 0.1130 - accuracy: 0.9604\n",
      "Epoch 11/20\n",
      "469843/469843 [==============================] - 11s 23us/step - loss: 0.1106 - accuracy: 0.9604\n",
      "Epoch 12/20\n",
      "469843/469843 [==============================] - 11s 23us/step - loss: 0.1142 - accuracy: 0.9603\n",
      "Epoch 13/20\n",
      "469843/469843 [==============================] - 11s 23us/step - loss: 0.1144 - accuracy: 0.9603\n",
      "Epoch 14/20\n",
      "469843/469843 [==============================] - 11s 23us/step - loss: 0.1174 - accuracy: 0.9603\n",
      "Epoch 15/20\n",
      "469843/469843 [==============================] - 11s 23us/step - loss: 0.1154 - accuracy: 0.9603\n",
      "Epoch 16/20\n",
      "469843/469843 [==============================] - 11s 23us/step - loss: 0.1130 - accuracy: 0.9600\n",
      "Epoch 17/20\n",
      "469843/469843 [==============================] - 11s 23us/step - loss: 0.1109 - accuracy: 0.9604\n",
      "Epoch 18/20\n",
      "469843/469843 [==============================] - 11s 24us/step - loss: 0.1133 - accuracy: 0.9602\n",
      "Epoch 19/20\n",
      "469843/469843 [==============================] - 11s 23us/step - loss: 0.1107 - accuracy: 0.9603\n",
      "Epoch 20/20\n",
      "469843/469843 [==============================] - 11s 23us/step - loss: 0.1120 - accuracy: 0.9604\n"
     ]
    },
    {
     "data": {
      "text/plain": [
       "<keras.callbacks.callbacks.History at 0x20d8df5cec8>"
      ]
     },
     "execution_count": 24,
     "metadata": {},
     "output_type": "execute_result"
    }
   ],
   "source": [
    "model.fit(X_train, y_train, epochs=20, batch_size=128)"
   ]
  },
  {
   "cell_type": "code",
   "execution_count": 25,
   "metadata": {},
   "outputs": [
    {
     "name": "stdout",
     "output_type": "stream",
     "text": [
      "201362/201362 [==============================] - 4s 19us/step\n"
     ]
    }
   ],
   "source": [
    "score2 = model.evaluate(X_test, y_test)"
   ]
  },
  {
   "cell_type": "code",
   "execution_count": 38,
   "metadata": {},
   "outputs": [
    {
     "name": "stdout",
     "output_type": "stream",
     "text": [
      "loss score of binary_crossentropy: 0.11200\n",
      "accuracy: 0.95861\n",
      "loss score of binary_crossentropy: 0.10852\n",
      "accuracy: 0.96067\n"
     ]
    }
   ],
   "source": [
    "print('loss score of binary_crossentropy: %.5f\\naccuracy: %.5f' % (score1[0], score1[1]))\n",
    "print('loss score of binary_crossentropy: %.5f\\naccuracy: %.5f' % (score2[0], score2[1]))"
   ]
  },
  {
   "cell_type": "code",
   "execution_count": 29,
   "metadata": {},
   "outputs": [],
   "source": [
    "model2 = keras.Sequential()\n",
    "model2.add(Dense(64, input_dim=X_train.shape[1], activation='relu'))\n",
    "model2.add(Dense(64, activation='relu'))\n",
    "model2.add(Dense(32, activation='relu'))\n",
    "model2.add(Dense(1, activation='sigmoid'))"
   ]
  },
  {
   "cell_type": "code",
   "execution_count": 30,
   "metadata": {},
   "outputs": [],
   "source": [
    "model2.compile('rmsprop', loss='binary_crossentropy', metrics=['accuracy'])"
   ]
  },
  {
   "cell_type": "code",
   "execution_count": 31,
   "metadata": {},
   "outputs": [
    {
     "name": "stdout",
     "output_type": "stream",
     "text": [
      "Epoch 1/20\n",
      "469843/469843 [==============================] - 9s 19us/step - loss: 0.2063 - accuracy: 0.9391\n",
      "Epoch 2/20\n",
      "469843/469843 [==============================] - 9s 18us/step - loss: 0.1248 - accuracy: 0.9537\n",
      "Epoch 3/20\n",
      "469843/469843 [==============================] - 9s 19us/step - loss: 0.1181 - accuracy: 0.9556\n",
      "Epoch 4/20\n",
      "469843/469843 [==============================] - 9s 19us/step - loss: 0.1157 - accuracy: 0.9568\n",
      "Epoch 5/20\n",
      "469843/469843 [==============================] - 9s 19us/step - loss: 0.1139 - accuracy: 0.9574\n",
      "Epoch 6/20\n",
      "469843/469843 [==============================] - 9s 19us/step - loss: 0.1124 - accuracy: 0.9581\n",
      "Epoch 7/20\n",
      "469843/469843 [==============================] - 9s 19us/step - loss: 0.1116 - accuracy: 0.9584\n",
      "Epoch 8/20\n",
      "469843/469843 [==============================] - 10s 22us/step - loss: 0.1117 - accuracy: 0.9583\n",
      "Epoch 9/20\n",
      "469843/469843 [==============================] - 9s 20us/step - loss: 0.1110 - accuracy: 0.9585\n",
      "Epoch 10/20\n",
      "469843/469843 [==============================] - 10s 21us/step - loss: 0.1103 - accuracy: 0.9588\n",
      "Epoch 11/20\n",
      "469843/469843 [==============================] - 10s 22us/step - loss: 0.1123 - accuracy: 0.9582\n",
      "Epoch 12/20\n",
      "469843/469843 [==============================] - 9s 19us/step - loss: 0.1127 - accuracy: 0.9585\n",
      "Epoch 13/20\n",
      "469843/469843 [==============================] - 9s 20us/step - loss: 0.1191 - accuracy: 0.9578\n",
      "Epoch 14/20\n",
      "469843/469843 [==============================] - 10s 20us/step - loss: 0.1155 - accuracy: 0.9583\n",
      "Epoch 15/20\n",
      "469843/469843 [==============================] - 10s 21us/step - loss: 0.1185 - accuracy: 0.9580\n",
      "Epoch 16/20\n",
      "469843/469843 [==============================] - 9s 19us/step - loss: 0.1141 - accuracy: 0.9586\n",
      "Epoch 17/20\n",
      "469843/469843 [==============================] - 9s 19us/step - loss: 0.1226 - accuracy: 0.9572\n",
      "Epoch 18/20\n",
      "469843/469843 [==============================] - 10s 20us/step - loss: 0.1161 - accuracy: 0.9581\n",
      "Epoch 19/20\n",
      "469843/469843 [==============================] - 9s 20us/step - loss: 0.1294 - accuracy: 0.9566\n",
      "Epoch 20/20\n",
      "469843/469843 [==============================] - 10s 21us/step - loss: 0.1190 - accuracy: 0.9587\n"
     ]
    },
    {
     "data": {
      "text/plain": [
       "<keras.callbacks.callbacks.History at 0x20d8e051a08>"
      ]
     },
     "execution_count": 31,
     "metadata": {},
     "output_type": "execute_result"
    }
   ],
   "source": [
    "model2.fit(X_train, y_train, epochs=20, batch_size=128)"
   ]
  },
  {
   "cell_type": "code",
   "execution_count": 32,
   "metadata": {},
   "outputs": [
    {
     "name": "stdout",
     "output_type": "stream",
     "text": [
      "201362/201362 [==============================] - 3s 13us/step\n"
     ]
    }
   ],
   "source": [
    "score_model2 = model2.evaluate(X_test, y_test)"
   ]
  },
  {
   "cell_type": "code",
   "execution_count": 33,
   "metadata": {},
   "outputs": [
    {
     "name": "stdout",
     "output_type": "stream",
     "text": [
      "[0.1151478320366733, 0.9609707593917847]\n"
     ]
    }
   ],
   "source": [
    "print(score_model2)"
   ]
  },
  {
   "cell_type": "code",
   "execution_count": 39,
   "metadata": {},
   "outputs": [
    {
     "name": "stdout",
     "output_type": "stream",
     "text": [
      "loss score of binary_crossentropy: 0.11515\n",
      "accuracy: 0.96097\n"
     ]
    }
   ],
   "source": [
    "print('loss score of binary_crossentropy: %.5f\\naccuracy: %.5f' % (score_model2[0], score_model2[1]))"
   ]
  },
  {
   "cell_type": "code",
   "execution_count": 40,
   "metadata": {},
   "outputs": [],
   "source": [
    "model3 = keras.Sequential()\n",
    "model3.add(Dense(64, input_dim=X_train.shape[1], activation='relu'))\n",
    "model3.add(Dense(64, activation='relu'))\n",
    "model3.add(Dense(32, activation='relu'))\n",
    "model3.add(Dense(32, activation='relu'))\n",
    "model3.add(Dense(32, activation='relu'))\n",
    "model3.add(Dense(1, activation='sigmoid'))"
   ]
  },
  {
   "cell_type": "code",
   "execution_count": 41,
   "metadata": {},
   "outputs": [],
   "source": [
    "model3.compile('rmsprop', loss='binary_crossentropy', metrics=['accuracy'])"
   ]
  },
  {
   "cell_type": "code",
   "execution_count": 42,
   "metadata": {},
   "outputs": [
    {
     "name": "stdout",
     "output_type": "stream",
     "text": [
      "Epoch 1/20\n",
      "469843/469843 [==============================] - 13s 27us/step - loss: 0.1645 - accuracy: 0.9408\n",
      "Epoch 2/20\n",
      "469843/469843 [==============================] - 12s 26us/step - loss: 0.1227 - accuracy: 0.9547\n",
      "Epoch 3/20\n",
      "469843/469843 [==============================] - 12s 27us/step - loss: 0.1204 - accuracy: 0.9559\n",
      "Epoch 4/20\n",
      "469843/469843 [==============================] - 12s 27us/step - loss: 0.1215 - accuracy: 0.9563\n",
      "Epoch 5/20\n",
      "469843/469843 [==============================] - 12s 26us/step - loss: 0.1232 - accuracy: 0.9565\n",
      "Epoch 6/20\n",
      "469843/469843 [==============================] - 12s 26us/step - loss: 0.1279 - accuracy: 0.9566\n",
      "Epoch 7/20\n",
      "469843/469843 [==============================] - 12s 26us/step - loss: 0.1243 - accuracy: 0.9572\n",
      "Epoch 8/20\n",
      "469843/469843 [==============================] - 12s 26us/step - loss: 0.1307 - accuracy: 0.9577\n",
      "Epoch 9/20\n",
      "469843/469843 [==============================] - 13s 27us/step - loss: 0.1440 - accuracy: 0.9579\n",
      "Epoch 10/20\n",
      "469843/469843 [==============================] - 13s 27us/step - loss: 0.1502 - accuracy: 0.9583\n",
      "Epoch 11/20\n",
      "469843/469843 [==============================] - 12s 26us/step - loss: 0.1421 - accuracy: 0.9580\n",
      "Epoch 12/20\n",
      "469843/469843 [==============================] - 12s 27us/step - loss: 0.1248 - accuracy: 0.9580\n",
      "Epoch 13/20\n",
      "469843/469843 [==============================] - 13s 27us/step - loss: 0.1329 - accuracy: 0.9572\n",
      "Epoch 14/20\n",
      "469843/469843 [==============================] - 13s 27us/step - loss: 0.1261 - accuracy: 0.9583\n",
      "Epoch 15/20\n",
      "469843/469843 [==============================] - 12s 27us/step - loss: 0.1274 - accuracy: 0.9577\n",
      "Epoch 16/20\n",
      "469843/469843 [==============================] - 12s 26us/step - loss: 0.1432 - accuracy: 0.9579\n",
      "Epoch 17/20\n",
      "469843/469843 [==============================] - 12s 26us/step - loss: 0.1790 - accuracy: 0.9584\n",
      "Epoch 18/20\n",
      "469843/469843 [==============================] - 12s 26us/step - loss: 0.1636 - accuracy: 0.9581\n",
      "Epoch 19/20\n",
      "469843/469843 [==============================] - 13s 27us/step - loss: 0.1804 - accuracy: 0.9582\n",
      "Epoch 20/20\n",
      "469843/469843 [==============================] - 12s 26us/step - loss: 0.1619 - accuracy: 0.9583\n"
     ]
    },
    {
     "data": {
      "text/plain": [
       "<keras.callbacks.callbacks.History at 0x20d8d5acb48>"
      ]
     },
     "execution_count": 42,
     "metadata": {},
     "output_type": "execute_result"
    }
   ],
   "source": [
    "model3.fit(X_train, y_train, epochs=20, batch_size=128)"
   ]
  },
  {
   "cell_type": "code",
   "execution_count": 43,
   "metadata": {},
   "outputs": [
    {
     "name": "stdout",
     "output_type": "stream",
     "text": [
      "201362/201362 [==============================] - 5s 22us/step\n"
     ]
    }
   ],
   "source": [
    "score_model3 = model3.evaluate(X_test, y_test)"
   ]
  },
  {
   "cell_type": "code",
   "execution_count": 44,
   "metadata": {},
   "outputs": [
    {
     "name": "stdout",
     "output_type": "stream",
     "text": [
      "loss score of binary_crossentropy: 0.14952\n",
      "accuracy: 0.95829\n"
     ]
    }
   ],
   "source": [
    "print('loss score of binary_crossentropy: %.5f\\naccuracy: %.5f' % (score_model3[0], score_model3[1]))"
   ]
  },
  {
   "cell_type": "code",
   "execution_count": 46,
   "metadata": {},
   "outputs": [
    {
     "name": "stdout",
     "output_type": "stream",
     "text": [
      "Epoch 1/50\n",
      "469843/469843 [==============================] - 13s 27us/step - loss: 0.1592 - accuracy: 0.9585\n",
      "Epoch 2/50\n",
      "469843/469843 [==============================] - 12s 27us/step - loss: 0.1639 - accuracy: 0.9587\n",
      "Epoch 3/50\n",
      "469843/469843 [==============================] - 13s 27us/step - loss: 0.1748 - accuracy: 0.9581\n",
      "Epoch 4/50\n",
      "469843/469843 [==============================] - 12s 26us/step - loss: 0.1662 - accuracy: 0.9584\n",
      "Epoch 5/50\n",
      "469843/469843 [==============================] - 12s 26us/step - loss: 0.1809 - accuracy: 0.9589\n",
      "Epoch 6/50\n",
      "469843/469843 [==============================] - 12s 26us/step - loss: 0.1825 - accuracy: 0.9586\n",
      "Epoch 7/50\n",
      "469843/469843 [==============================] - 12s 26us/step - loss: 0.1914 - accuracy: 0.9591\n",
      "Epoch 8/50\n",
      "469843/469843 [==============================] - 12s 26us/step - loss: 0.2180 - accuracy: 0.9586\n",
      "Epoch 9/50\n",
      "469843/469843 [==============================] - 12s 26us/step - loss: 0.2437 - accuracy: 0.9573\n",
      "Epoch 10/50\n",
      "469843/469843 [==============================] - 12s 26us/step - loss: 0.2592 - accuracy: 0.9577\n",
      "Epoch 11/50\n",
      "469843/469843 [==============================] - 12s 26us/step - loss: 0.3011 - accuracy: 0.9579\n",
      "Epoch 12/50\n",
      "469843/469843 [==============================] - 12s 26us/step - loss: 0.2387 - accuracy: 0.9581\n",
      "Epoch 13/50\n",
      "469843/469843 [==============================] - 12s 26us/step - loss: 0.2599 - accuracy: 0.9585\n",
      "Epoch 14/50\n",
      "469843/469843 [==============================] - 12s 26us/step - loss: 0.2141 - accuracy: 0.9591\n",
      "Epoch 15/50\n",
      "469843/469843 [==============================] - 12s 27us/step - loss: 0.2112 - accuracy: 0.9587\n",
      "Epoch 16/50\n",
      "469843/469843 [==============================] - 12s 26us/step - loss: 0.2537 - accuracy: 0.9591\n",
      "Epoch 17/50\n",
      "469843/469843 [==============================] - 13s 27us/step - loss: 0.3027 - accuracy: 0.9549\n",
      "Epoch 18/50\n",
      "469843/469843 [==============================] - 13s 28us/step - loss: 0.2521 - accuracy: 0.9581\n",
      "Epoch 19/50\n",
      "469843/469843 [==============================] - 13s 28us/step - loss: 0.1859 - accuracy: 0.9585\n",
      "Epoch 20/50\n",
      "469843/469843 [==============================] - 13s 27us/step - loss: 0.1601 - accuracy: 0.9593\n",
      "Epoch 21/50\n",
      "469843/469843 [==============================] - 12s 26us/step - loss: 0.1508 - accuracy: 0.9595\n",
      "Epoch 22/50\n",
      "469843/469843 [==============================] - 13s 27us/step - loss: 0.1789 - accuracy: 0.9592\n",
      "Epoch 23/50\n",
      "469843/469843 [==============================] - 12s 26us/step - loss: 0.2154 - accuracy: 0.9573\n",
      "Epoch 24/50\n",
      "469843/469843 [==============================] - 13s 27us/step - loss: 0.1985 - accuracy: 0.9596\n",
      "Epoch 25/50\n",
      "469843/469843 [==============================] - 12s 27us/step - loss: 0.2216 - accuracy: 0.9583\n",
      "Epoch 26/50\n",
      "469843/469843 [==============================] - 12s 26us/step - loss: 0.2080 - accuracy: 0.9567\n",
      "Epoch 27/50\n",
      "469843/469843 [==============================] - 12s 26us/step - loss: 0.2238 - accuracy: 0.9541\n",
      "Epoch 28/50\n",
      "469843/469843 [==============================] - 12s 26us/step - loss: 0.1722 - accuracy: 0.9569\n",
      "Epoch 29/50\n",
      "469843/469843 [==============================] - 12s 26us/step - loss: 0.2035 - accuracy: 0.9556\n",
      "Epoch 30/50\n",
      "469843/469843 [==============================] - 12s 26us/step - loss: 0.1708 - accuracy: 0.9571\n",
      "Epoch 31/50\n",
      "469843/469843 [==============================] - 12s 26us/step - loss: 0.1674 - accuracy: 0.9574\n",
      "Epoch 32/50\n",
      "469843/469843 [==============================] - 12s 26us/step - loss: 0.1789 - accuracy: 0.9575\n",
      "Epoch 33/50\n",
      "469843/469843 [==============================] - 12s 27us/step - loss: 0.2145 - accuracy: 0.9538\n",
      "Epoch 34/50\n",
      "469843/469843 [==============================] - 12s 26us/step - loss: 0.1931 - accuracy: 0.9562\n",
      "Epoch 35/50\n",
      "469843/469843 [==============================] - 13s 27us/step - loss: 0.1538 - accuracy: 0.9537\n",
      "Epoch 36/50\n",
      "469843/469843 [==============================] - 12s 26us/step - loss: 0.1538 - accuracy: 0.9535\n",
      "Epoch 37/50\n",
      "469843/469843 [==============================] - 12s 26us/step - loss: 0.1706 - accuracy: 0.9492\n",
      "Epoch 38/50\n",
      "469843/469843 [==============================] - 12s 26us/step - loss: 0.1512 - accuracy: 0.9557\n",
      "Epoch 39/50\n",
      "469843/469843 [==============================] - 12s 26us/step - loss: 0.1612 - accuracy: 0.9520\n",
      "Epoch 40/50\n",
      "469843/469843 [==============================] - 12s 26us/step - loss: 0.1435 - accuracy: 0.9560\n",
      "Epoch 41/50\n",
      "469843/469843 [==============================] - 12s 26us/step - loss: 0.1441 - accuracy: 0.9560\n",
      "Epoch 42/50\n",
      "469843/469843 [==============================] - 12s 26us/step - loss: 0.1318 - accuracy: 0.9563\n",
      "Epoch 43/50\n",
      "469843/469843 [==============================] - 12s 26us/step - loss: 0.1316 - accuracy: 0.9565\n",
      "Epoch 44/50\n",
      "469843/469843 [==============================] - 12s 26us/step - loss: 0.1344 - accuracy: 0.9572\n",
      "Epoch 45/50\n",
      "469843/469843 [==============================] - 12s 26us/step - loss: 0.1334 - accuracy: 0.9567\n",
      "Epoch 46/50\n",
      "469843/469843 [==============================] - 12s 26us/step - loss: 0.1266 - accuracy: 0.9558\n",
      "Epoch 47/50\n",
      "469843/469843 [==============================] - 12s 26us/step - loss: 0.1310 - accuracy: 0.9554\n",
      "Epoch 48/50\n",
      "469843/469843 [==============================] - 13s 27us/step - loss: 0.1378 - accuracy: 0.9561\n",
      "Epoch 49/50\n",
      "469843/469843 [==============================] - 12s 27us/step - loss: 0.1299 - accuracy: 0.9555\n",
      "Epoch 50/50\n",
      "469843/469843 [==============================] - 12s 26us/step - loss: 0.1282 - accuracy: 0.9566\n",
      "201362/201362 [==============================] - 4s 22us/step\n"
     ]
    }
   ],
   "source": [
    "model3.fit(X_train, y_train, epochs=50, batch_size=128)\n",
    "score2_model3 = model3.evaluate(X_test, y_test)"
   ]
  },
  {
   "cell_type": "code",
   "execution_count": 48,
   "metadata": {},
   "outputs": [
    {
     "name": "stdout",
     "output_type": "stream",
     "text": [
      "Model 1:\n",
      "loss score of binary_crossentropy: 0.11200\n",
      "accuracy: 0.95861\n",
      "This time with 20 epochs and batch_size of 128\n",
      "loss score of binary_crossentropy: 0.10852\n",
      "accuracy: 0.96067\n",
      "Model 2:\n",
      "loss score of binary_crossentropy: 0.11515\n",
      "accuracy: 0.96097\n",
      "Model 3:\n",
      "loss score of binary_crossentropy: 0.14952\n",
      "accuracy: 0.95829\n",
      "This time with 50 epochs\n",
      "loss score of binary_crossentropy: 0.11613\n",
      "accuracy: 0.95970\n"
     ]
    }
   ],
   "source": [
    "print('Model 1:')\n",
    "print('loss score of binary_crossentropy: %.5f\\naccuracy: %.5f' % (score1[0], score1[1]))\n",
    "print('This time with 20 epochs and batch_size of 128')\n",
    "print('loss score of binary_crossentropy: %.5f\\naccuracy: %.5f' % (score2[0], score2[1]))\n",
    "\n",
    "print('Model 2:')\n",
    "print('loss score of binary_crossentropy: %.5f\\naccuracy: %.5f' % (score_model2[0], score_model2[1]))\n",
    "\n",
    "print('Model 3:')\n",
    "print('loss score of binary_crossentropy: %.5f\\naccuracy: %.5f' % (score_model3[0], score_model3[1]))\n",
    "print('This time with 50 epochs')\n",
    "print('loss score of binary_crossentropy: %.5f\\naccuracy: %.5f' % (score2_model3[0], score2_model3[1]))"
   ]
  },
  {
   "cell_type": "code",
   "execution_count": 52,
   "metadata": {},
   "outputs": [],
   "source": [
    "model.save('keras_classifier.pickle')"
   ]
  },
  {
   "cell_type": "code",
   "execution_count": 53,
   "metadata": {},
   "outputs": [],
   "source": [
    "loaded_model = keras.models.load_model('keras_classifier.pickle')"
   ]
  },
  {
   "cell_type": "code",
   "execution_count": 55,
   "metadata": {},
   "outputs": [
    {
     "name": "stdout",
     "output_type": "stream",
     "text": [
      "Model: \"sequential_2\"\n",
      "_________________________________________________________________\n",
      "Layer (type)                 Output Shape              Param #   \n",
      "=================================================================\n",
      "dense_1 (Dense)              (None, 64)                18240     \n",
      "_________________________________________________________________\n",
      "dense_2 (Dense)              (None, 64)                4160      \n",
      "_________________________________________________________________\n",
      "dense_3 (Dense)              (None, 1)                 65        \n",
      "=================================================================\n",
      "Total params: 22,465\n",
      "Trainable params: 22,465\n",
      "Non-trainable params: 0\n",
      "_________________________________________________________________\n"
     ]
    }
   ],
   "source": [
    "loaded_model.summary()"
   ]
  },
  {
   "cell_type": "code",
   "execution_count": null,
   "metadata": {},
   "outputs": [],
   "source": []
  }
 ],
 "metadata": {
  "kernelspec": {
   "display_name": "Python 3",
   "language": "python",
   "name": "python3"
  },
  "language_info": {
   "codemirror_mode": {
    "name": "ipython",
    "version": 3
   },
   "file_extension": ".py",
   "mimetype": "text/x-python",
   "name": "python",
   "nbconvert_exporter": "python",
   "pygments_lexer": "ipython3",
   "version": "3.7.6"
  }
 },
 "nbformat": 4,
 "nbformat_minor": 4
}
